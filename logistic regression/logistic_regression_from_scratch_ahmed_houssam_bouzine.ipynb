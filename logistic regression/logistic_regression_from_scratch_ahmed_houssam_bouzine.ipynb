{
 "cells": [
  {
   "cell_type": "code",
   "execution_count": 26,
   "id": "00961034",
   "metadata": {
    "ExecuteTime": {
     "end_time": "2024-04-24T10:47:53.200742057Z",
     "start_time": "2024-04-24T10:47:52.944085484Z"
    }
   },
   "outputs": [],
   "source": [
    "import numpy as np\n",
    "import matplotlib.pyplot as plt\n",
    "import pandas as pd\n",
    "import seaborn as sns\n",
    "from sklearn.datasets import make_classification\n",
    "from sklearn.model_selection import train_test_split\n",
    "from sklearn.linear_model import LinearRegression\n",
    "from sklearn.preprocessing import PolynomialFeatures\n",
    "from sklearn.metrics import accuracy_score, mean_squared_error\n",
    "\n",
    "%config InlineBackend.figure_format = 'svg' \n",
    "plt.style.use('bmh')\n",
    "plt.rcParams['image.cmap'] = 'Paired_r'\n",
    "%matplotlib inline"
   ]
  },
  {
   "cell_type": "markdown",
   "id": "1eea030e",
   "metadata": {},
   "source": [
    "### 1. Dataset"
   ]
  },
  {
   "cell_type": "code",
   "execution_count": 27,
   "id": "a3a91f62",
   "metadata": {
    "ExecuteTime": {
     "end_time": "2024-04-24T10:47:56.237694703Z",
     "start_time": "2024-04-24T10:47:54.831654839Z"
    }
   },
   "outputs": [
    {
     "data": {
      "text/plain": "<Figure size 500x500 with 1 Axes>",
      "image/svg+xml": "<?xml version=\"1.0\" encoding=\"utf-8\" standalone=\"no\"?>\n<!DOCTYPE svg PUBLIC \"-//W3C//DTD SVG 1.1//EN\"\n  \"http://www.w3.org/Graphics/SVG/1.1/DTD/svg11.dtd\">\n<svg xmlns:xlink=\"http://www.w3.org/1999/xlink\" width=\"308.301562pt\" height=\"304.245313pt\" viewBox=\"0 0 308.301562 304.245313\" xmlns=\"http://www.w3.org/2000/svg\" version=\"1.1\">\n <metadata>\n  <rdf:RDF xmlns:dc=\"http://purl.org/dc/elements/1.1/\" xmlns:cc=\"http://creativecommons.org/ns#\" xmlns:rdf=\"http://www.w3.org/1999/02/22-rdf-syntax-ns#\">\n   <cc:Work>\n    <dc:type rdf:resource=\"http://purl.org/dc/dcmitype/StillImage\"/>\n    <dc:date>2024-04-24T11:47:55.815648</dc:date>\n    <dc:format>image/svg+xml</dc:format>\n    <dc:creator>\n     <cc:Agent>\n      <dc:title>Matplotlib v3.8.3, https://matplotlib.org/</dc:title>\n     </cc:Agent>\n    </dc:creator>\n   </cc:Work>\n  </rdf:RDF>\n </metadata>\n <defs>\n  <style type=\"text/css\">*{stroke-linejoin: round; stroke-linecap: butt}</style>\n </defs>\n <g id=\"figure_1\">\n  <g id=\"patch_1\">\n   <path d=\"M 0 304.245313 \nL 308.301562 304.245313 \nL 308.301562 0 \nL 0 0 \nz\n\" style=\"fill: #ffffff\"/>\n  </g>\n  <g id=\"axes_1\">\n   <g id=\"patch_2\">\n    <path d=\"M 22.101563 284.4 \nL 301.101562 284.4 \nL 301.101562 7.2 \nL 22.101563 7.2 \nz\n\" style=\"fill: #eeeeee\"/>\n   </g>\n   <g id=\"matplotlib.axis_1\">\n    <g id=\"xtick_1\">\n     <g id=\"line2d_1\">\n      <path d=\"M 45.98697 284.4 \nL 45.98697 7.2 \n\" clip-path=\"url(#pbf34e6745c)\" style=\"fill: none; stroke-dasharray: 1.85,0.8; stroke-dashoffset: 0; stroke: #b2b2b2; stroke-width: 0.5\"/>\n     </g>\n     <g id=\"text_1\">\n      <!-- −3 -->\n      <g style=\"fill: #262626\" transform=\"translate(40.286189 295.057813) scale(0.1 -0.1)\">\n       <defs>\n        <path id=\"ArialMT-2212\" d=\"M 3381 1997 \nL 356 1997 \nL 356 2522 \nL 3381 2522 \nL 3381 1997 \nz\n\" transform=\"scale(0.015625)\"/>\n        <path id=\"ArialMT-33\" d=\"M 269 1209 \nL 831 1284 \nQ 928 806 1161 595 \nQ 1394 384 1728 384 \nQ 2125 384 2398 659 \nQ 2672 934 2672 1341 \nQ 2672 1728 2419 1979 \nQ 2166 2231 1775 2231 \nQ 1616 2231 1378 2169 \nL 1441 2663 \nQ 1497 2656 1531 2656 \nQ 1891 2656 2178 2843 \nQ 2466 3031 2466 3422 \nQ 2466 3731 2256 3934 \nQ 2047 4138 1716 4138 \nQ 1388 4138 1169 3931 \nQ 950 3725 888 3313 \nL 325 3413 \nQ 428 3978 793 4289 \nQ 1159 4600 1703 4600 \nQ 2078 4600 2393 4439 \nQ 2709 4278 2876 4000 \nQ 3044 3722 3044 3409 \nQ 3044 3113 2884 2869 \nQ 2725 2625 2413 2481 \nQ 2819 2388 3044 2092 \nQ 3269 1797 3269 1353 \nQ 3269 753 2831 336 \nQ 2394 -81 1725 -81 \nQ 1122 -81 723 278 \nQ 325 638 269 1209 \nz\n\" transform=\"scale(0.015625)\"/>\n       </defs>\n       <use xlink:href=\"#ArialMT-2212\"/>\n       <use xlink:href=\"#ArialMT-33\" x=\"58.398438\"/>\n      </g>\n     </g>\n    </g>\n    <g id=\"xtick_2\">\n     <g id=\"line2d_2\">\n      <path d=\"M 89.764766 284.4 \nL 89.764766 7.2 \n\" clip-path=\"url(#pbf34e6745c)\" style=\"fill: none; stroke-dasharray: 1.85,0.8; stroke-dashoffset: 0; stroke: #b2b2b2; stroke-width: 0.5\"/>\n     </g>\n     <g id=\"text_2\">\n      <!-- −2 -->\n      <g style=\"fill: #262626\" transform=\"translate(84.063984 295.057813) scale(0.1 -0.1)\">\n       <defs>\n        <path id=\"ArialMT-32\" d=\"M 3222 541 \nL 3222 0 \nL 194 0 \nQ 188 203 259 391 \nQ 375 700 629 1000 \nQ 884 1300 1366 1694 \nQ 2113 2306 2375 2664 \nQ 2638 3022 2638 3341 \nQ 2638 3675 2398 3904 \nQ 2159 4134 1775 4134 \nQ 1369 4134 1125 3890 \nQ 881 3647 878 3216 \nL 300 3275 \nQ 359 3922 746 4261 \nQ 1134 4600 1788 4600 \nQ 2447 4600 2831 4234 \nQ 3216 3869 3216 3328 \nQ 3216 3053 3103 2787 \nQ 2991 2522 2730 2228 \nQ 2469 1934 1863 1422 \nQ 1356 997 1212 845 \nQ 1069 694 975 541 \nL 3222 541 \nz\n\" transform=\"scale(0.015625)\"/>\n       </defs>\n       <use xlink:href=\"#ArialMT-2212\"/>\n       <use xlink:href=\"#ArialMT-32\" x=\"58.398438\"/>\n      </g>\n     </g>\n    </g>\n    <g id=\"xtick_3\">\n     <g id=\"line2d_3\">\n      <path d=\"M 133.542561 284.4 \nL 133.542561 7.2 \n\" clip-path=\"url(#pbf34e6745c)\" style=\"fill: none; stroke-dasharray: 1.85,0.8; stroke-dashoffset: 0; stroke: #b2b2b2; stroke-width: 0.5\"/>\n     </g>\n     <g id=\"text_3\">\n      <!-- −1 -->\n      <g style=\"fill: #262626\" transform=\"translate(127.84178 295.057813) scale(0.1 -0.1)\">\n       <defs>\n        <path id=\"ArialMT-31\" d=\"M 2384 0 \nL 1822 0 \nL 1822 3584 \nQ 1619 3391 1289 3197 \nQ 959 3003 697 2906 \nL 697 3450 \nQ 1169 3672 1522 3987 \nQ 1875 4303 2022 4600 \nL 2384 4600 \nL 2384 0 \nz\n\" transform=\"scale(0.015625)\"/>\n       </defs>\n       <use xlink:href=\"#ArialMT-2212\"/>\n       <use xlink:href=\"#ArialMT-31\" x=\"58.398438\"/>\n      </g>\n     </g>\n    </g>\n    <g id=\"xtick_4\">\n     <g id=\"line2d_4\">\n      <path d=\"M 177.320357 284.4 \nL 177.320357 7.2 \n\" clip-path=\"url(#pbf34e6745c)\" style=\"fill: none; stroke-dasharray: 1.85,0.8; stroke-dashoffset: 0; stroke: #b2b2b2; stroke-width: 0.5\"/>\n     </g>\n     <g id=\"text_4\">\n      <!-- 0 -->\n      <g style=\"fill: #262626\" transform=\"translate(174.539888 295.057813) scale(0.1 -0.1)\">\n       <defs>\n        <path id=\"ArialMT-30\" d=\"M 266 2259 \nQ 266 3072 433 3567 \nQ 600 4063 929 4331 \nQ 1259 4600 1759 4600 \nQ 2128 4600 2406 4451 \nQ 2684 4303 2865 4023 \nQ 3047 3744 3150 3342 \nQ 3253 2941 3253 2259 \nQ 3253 1453 3087 958 \nQ 2922 463 2592 192 \nQ 2263 -78 1759 -78 \nQ 1097 -78 719 397 \nQ 266 969 266 2259 \nz\nM 844 2259 \nQ 844 1131 1108 757 \nQ 1372 384 1759 384 \nQ 2147 384 2411 759 \nQ 2675 1134 2675 2259 \nQ 2675 3391 2411 3762 \nQ 2147 4134 1753 4134 \nQ 1366 4134 1134 3806 \nQ 844 3388 844 2259 \nz\n\" transform=\"scale(0.015625)\"/>\n       </defs>\n       <use xlink:href=\"#ArialMT-30\"/>\n      </g>\n     </g>\n    </g>\n    <g id=\"xtick_5\">\n     <g id=\"line2d_5\">\n      <path d=\"M 221.098153 284.4 \nL 221.098153 7.2 \n\" clip-path=\"url(#pbf34e6745c)\" style=\"fill: none; stroke-dasharray: 1.85,0.8; stroke-dashoffset: 0; stroke: #b2b2b2; stroke-width: 0.5\"/>\n     </g>\n     <g id=\"text_5\">\n      <!-- 1 -->\n      <g style=\"fill: #262626\" transform=\"translate(218.317684 295.057813) scale(0.1 -0.1)\">\n       <use xlink:href=\"#ArialMT-31\"/>\n      </g>\n     </g>\n    </g>\n    <g id=\"xtick_6\">\n     <g id=\"line2d_6\">\n      <path d=\"M 264.875949 284.4 \nL 264.875949 7.2 \n\" clip-path=\"url(#pbf34e6745c)\" style=\"fill: none; stroke-dasharray: 1.85,0.8; stroke-dashoffset: 0; stroke: #b2b2b2; stroke-width: 0.5\"/>\n     </g>\n     <g id=\"text_6\">\n      <!-- 2 -->\n      <g style=\"fill: #262626\" transform=\"translate(262.09548 295.057813) scale(0.1 -0.1)\">\n       <use xlink:href=\"#ArialMT-32\"/>\n      </g>\n     </g>\n    </g>\n   </g>\n   <g id=\"matplotlib.axis_2\">\n    <g id=\"ytick_1\">\n     <g id=\"line2d_7\">\n      <path d=\"M 22.101563 258.879971 \nL 301.101562 258.879971 \n\" clip-path=\"url(#pbf34e6745c)\" style=\"fill: none; stroke-dasharray: 1.85,0.8; stroke-dashoffset: 0; stroke: #b2b2b2; stroke-width: 0.5\"/>\n     </g>\n     <g id=\"text_7\">\n      <!-- −2 -->\n      <g style=\"fill: #262626\" transform=\"translate(7.2 262.458878) scale(0.1 -0.1)\">\n       <use xlink:href=\"#ArialMT-2212\"/>\n       <use xlink:href=\"#ArialMT-32\" x=\"58.398438\"/>\n      </g>\n     </g>\n    </g>\n    <g id=\"ytick_2\">\n     <g id=\"line2d_8\">\n      <path d=\"M 22.101563 210.278919 \nL 301.101562 210.278919 \n\" clip-path=\"url(#pbf34e6745c)\" style=\"fill: none; stroke-dasharray: 1.85,0.8; stroke-dashoffset: 0; stroke: #b2b2b2; stroke-width: 0.5\"/>\n     </g>\n     <g id=\"text_8\">\n      <!-- −1 -->\n      <g style=\"fill: #262626\" transform=\"translate(7.2 213.857825) scale(0.1 -0.1)\">\n       <use xlink:href=\"#ArialMT-2212\"/>\n       <use xlink:href=\"#ArialMT-31\" x=\"58.398438\"/>\n      </g>\n     </g>\n    </g>\n    <g id=\"ytick_3\">\n     <g id=\"line2d_9\">\n      <path d=\"M 22.101563 161.677866 \nL 301.101562 161.677866 \n\" clip-path=\"url(#pbf34e6745c)\" style=\"fill: none; stroke-dasharray: 1.85,0.8; stroke-dashoffset: 0; stroke: #b2b2b2; stroke-width: 0.5\"/>\n     </g>\n     <g id=\"text_9\">\n      <!-- 0 -->\n      <g style=\"fill: #262626\" transform=\"translate(13.040625 165.256773) scale(0.1 -0.1)\">\n       <use xlink:href=\"#ArialMT-30\"/>\n      </g>\n     </g>\n    </g>\n    <g id=\"ytick_4\">\n     <g id=\"line2d_10\">\n      <path d=\"M 22.101563 113.076814 \nL 301.101562 113.076814 \n\" clip-path=\"url(#pbf34e6745c)\" style=\"fill: none; stroke-dasharray: 1.85,0.8; stroke-dashoffset: 0; stroke: #b2b2b2; stroke-width: 0.5\"/>\n     </g>\n     <g id=\"text_10\">\n      <!-- 1 -->\n      <g style=\"fill: #262626\" transform=\"translate(13.040625 116.65572) scale(0.1 -0.1)\">\n       <use xlink:href=\"#ArialMT-31\"/>\n      </g>\n     </g>\n    </g>\n    <g id=\"ytick_5\">\n     <g id=\"line2d_11\">\n      <path d=\"M 22.101563 64.475761 \nL 301.101562 64.475761 \n\" clip-path=\"url(#pbf34e6745c)\" style=\"fill: none; stroke-dasharray: 1.85,0.8; stroke-dashoffset: 0; stroke: #b2b2b2; stroke-width: 0.5\"/>\n     </g>\n     <g id=\"text_11\">\n      <!-- 2 -->\n      <g style=\"fill: #262626\" transform=\"translate(13.040625 68.054668) scale(0.1 -0.1)\">\n       <use xlink:href=\"#ArialMT-32\"/>\n      </g>\n     </g>\n    </g>\n    <g id=\"ytick_6\">\n     <g id=\"line2d_12\">\n      <path d=\"M 22.101563 15.874709 \nL 301.101562 15.874709 \n\" clip-path=\"url(#pbf34e6745c)\" style=\"fill: none; stroke-dasharray: 1.85,0.8; stroke-dashoffset: 0; stroke: #b2b2b2; stroke-width: 0.5\"/>\n     </g>\n     <g id=\"text_12\">\n      <!-- 3 -->\n      <g style=\"fill: #262626\" transform=\"translate(13.040625 19.453615) scale(0.1 -0.1)\">\n       <use xlink:href=\"#ArialMT-33\"/>\n      </g>\n     </g>\n    </g>\n   </g>\n   <g id=\"PathCollection_1\">\n    <defs>\n     <path id=\"C0_0_c7224d0c2d\" d=\"M 0 3 \nC 0.795609 3 1.55874 2.683901 2.12132 2.12132 \nC 2.683901 1.55874 3 0.795609 3 -0 \nC 3 -0.795609 2.683901 -1.55874 2.12132 -2.12132 \nC 1.55874 -2.683901 0.795609 -3 0 -3 \nC -0.795609 -3 -1.55874 -2.683901 -2.12132 -2.12132 \nC -2.683901 -1.55874 -3 -0.795609 -3 0 \nC -3 0.795609 -2.683901 1.55874 -2.12132 2.12132 \nC -1.55874 2.683901 -0.795609 3 0 3 \nz\n\"/>\n    </defs>\n    <g clip-path=\"url(#pbf34e6745c)\">\n     <use xlink:href=\"#C0_0_c7224d0c2d\" x=\"188.781764\" y=\"171.608412\" style=\"fill: #a6cee3; stroke: #000000; stroke-width: 0.5\"/>\n    </g>\n    <g clip-path=\"url(#pbf34e6745c)\">\n     <use xlink:href=\"#C0_0_c7224d0c2d\" x=\"288.419744\" y=\"178.53867\" style=\"fill: #b15928; stroke: #000000; stroke-width: 0.5\"/>\n    </g>\n    <g clip-path=\"url(#pbf34e6745c)\">\n     <use xlink:href=\"#C0_0_c7224d0c2d\" x=\"188.116269\" y=\"88.278502\" style=\"fill: #b15928; stroke: #000000; stroke-width: 0.5\"/>\n    </g>\n    <g clip-path=\"url(#pbf34e6745c)\">\n     <use xlink:href=\"#C0_0_c7224d0c2d\" x=\"132.460445\" y=\"202.433861\" style=\"fill: #b15928; stroke: #000000; stroke-width: 0.5\"/>\n    </g>\n    <g clip-path=\"url(#pbf34e6745c)\">\n     <use xlink:href=\"#C0_0_c7224d0c2d\" x=\"188.908305\" y=\"181.881711\" style=\"fill: #a6cee3; stroke: #000000; stroke-width: 0.5\"/>\n    </g>\n    <g clip-path=\"url(#pbf34e6745c)\">\n     <use xlink:href=\"#C0_0_c7224d0c2d\" x=\"120.21004\" y=\"182.803602\" style=\"fill: #b15928; stroke: #000000; stroke-width: 0.5\"/>\n    </g>\n    <g clip-path=\"url(#pbf34e6745c)\">\n     <use xlink:href=\"#C0_0_c7224d0c2d\" x=\"149.658915\" y=\"140.020081\" style=\"fill: #b15928; stroke: #000000; stroke-width: 0.5\"/>\n    </g>\n    <g clip-path=\"url(#pbf34e6745c)\">\n     <use xlink:href=\"#C0_0_c7224d0c2d\" x=\"110.830791\" y=\"203.618408\" style=\"fill: #b15928; stroke: #000000; stroke-width: 0.5\"/>\n    </g>\n    <g clip-path=\"url(#pbf34e6745c)\">\n     <use xlink:href=\"#C0_0_c7224d0c2d\" x=\"240.37627\" y=\"67.441257\" style=\"fill: #b15928; stroke: #000000; stroke-width: 0.5\"/>\n    </g>\n    <g clip-path=\"url(#pbf34e6745c)\">\n     <use xlink:href=\"#C0_0_c7224d0c2d\" x=\"112.548196\" y=\"142.033351\" style=\"fill: #b15928; stroke: #000000; stroke-width: 0.5\"/>\n    </g>\n    <g clip-path=\"url(#pbf34e6745c)\">\n     <use xlink:href=\"#C0_0_c7224d0c2d\" x=\"151.496267\" y=\"217.325092\" style=\"fill: #b15928; stroke: #000000; stroke-width: 0.5\"/>\n    </g>\n    <g clip-path=\"url(#pbf34e6745c)\">\n     <use xlink:href=\"#C0_0_c7224d0c2d\" x=\"143.827535\" y=\"165.742969\" style=\"fill: #b15928; stroke: #000000; stroke-width: 0.5\"/>\n    </g>\n    <g clip-path=\"url(#pbf34e6745c)\">\n     <use xlink:href=\"#C0_0_c7224d0c2d\" x=\"219.200402\" y=\"133.697456\" style=\"fill: #a6cee3; stroke: #000000; stroke-width: 0.5\"/>\n    </g>\n    <g clip-path=\"url(#pbf34e6745c)\">\n     <use xlink:href=\"#C0_0_c7224d0c2d\" x=\"179.743223\" y=\"170.434724\" style=\"fill: #a6cee3; stroke: #000000; stroke-width: 0.5\"/>\n    </g>\n    <g clip-path=\"url(#pbf34e6745c)\">\n     <use xlink:href=\"#C0_0_c7224d0c2d\" x=\"189.360577\" y=\"160.950936\" style=\"fill: #a6cee3; stroke: #000000; stroke-width: 0.5\"/>\n    </g>\n    <g clip-path=\"url(#pbf34e6745c)\">\n     <use xlink:href=\"#C0_0_c7224d0c2d\" x=\"202.675152\" y=\"198.926179\" style=\"fill: #a6cee3; stroke: #000000; stroke-width: 0.5\"/>\n    </g>\n    <g clip-path=\"url(#pbf34e6745c)\">\n     <use xlink:href=\"#C0_0_c7224d0c2d\" x=\"178.830109\" y=\"178.994453\" style=\"fill: #a6cee3; stroke: #000000; stroke-width: 0.5\"/>\n    </g>\n    <g clip-path=\"url(#pbf34e6745c)\">\n     <use xlink:href=\"#C0_0_c7224d0c2d\" x=\"172.926432\" y=\"127.783085\" style=\"fill: #a6cee3; stroke: #000000; stroke-width: 0.5\"/>\n    </g>\n    <g clip-path=\"url(#pbf34e6745c)\">\n     <use xlink:href=\"#C0_0_c7224d0c2d\" x=\"176.71481\" y=\"85.521943\" style=\"fill: #b15928; stroke: #000000; stroke-width: 0.5\"/>\n    </g>\n    <g clip-path=\"url(#pbf34e6745c)\">\n     <use xlink:href=\"#C0_0_c7224d0c2d\" x=\"165.348334\" y=\"89.097661\" style=\"fill: #b15928; stroke: #000000; stroke-width: 0.5\"/>\n    </g>\n    <g clip-path=\"url(#pbf34e6745c)\">\n     <use xlink:href=\"#C0_0_c7224d0c2d\" x=\"163.316749\" y=\"199.530118\" style=\"fill: #a6cee3; stroke: #000000; stroke-width: 0.5\"/>\n    </g>\n    <g clip-path=\"url(#pbf34e6745c)\">\n     <use xlink:href=\"#C0_0_c7224d0c2d\" x=\"180.81042\" y=\"131.797811\" style=\"fill: #a6cee3; stroke: #000000; stroke-width: 0.5\"/>\n    </g>\n    <g clip-path=\"url(#pbf34e6745c)\">\n     <use xlink:href=\"#C0_0_c7224d0c2d\" x=\"195.402815\" y=\"92.104604\" style=\"fill: #b15928; stroke: #000000; stroke-width: 0.5\"/>\n    </g>\n    <g clip-path=\"url(#pbf34e6745c)\">\n     <use xlink:href=\"#C0_0_c7224d0c2d\" x=\"220.154453\" y=\"139.057477\" style=\"fill: #a6cee3; stroke: #000000; stroke-width: 0.5\"/>\n    </g>\n    <g clip-path=\"url(#pbf34e6745c)\">\n     <use xlink:href=\"#C0_0_c7224d0c2d\" x=\"164.367747\" y=\"159.970727\" style=\"fill: #b15928; stroke: #000000; stroke-width: 0.5\"/>\n    </g>\n    <g clip-path=\"url(#pbf34e6745c)\">\n     <use xlink:href=\"#C0_0_c7224d0c2d\" x=\"250.950249\" y=\"160.638388\" style=\"fill: #b15928; stroke: #000000; stroke-width: 0.5\"/>\n    </g>\n    <g clip-path=\"url(#pbf34e6745c)\">\n     <use xlink:href=\"#C0_0_c7224d0c2d\" x=\"134.818093\" y=\"197.973545\" style=\"fill: #b15928; stroke: #000000; stroke-width: 0.5\"/>\n    </g>\n    <g clip-path=\"url(#pbf34e6745c)\">\n     <use xlink:href=\"#C0_0_c7224d0c2d\" x=\"149.834879\" y=\"117.42586\" style=\"fill: #b15928; stroke: #000000; stroke-width: 0.5\"/>\n    </g>\n    <g clip-path=\"url(#pbf34e6745c)\">\n     <use xlink:href=\"#C0_0_c7224d0c2d\" x=\"172.03537\" y=\"54.052314\" style=\"fill: #b15928; stroke: #000000; stroke-width: 0.5\"/>\n    </g>\n    <g clip-path=\"url(#pbf34e6745c)\">\n     <use xlink:href=\"#C0_0_c7224d0c2d\" x=\"195.256935\" y=\"158.444435\" style=\"fill: #a6cee3; stroke: #000000; stroke-width: 0.5\"/>\n    </g>\n    <g clip-path=\"url(#pbf34e6745c)\">\n     <use xlink:href=\"#C0_0_c7224d0c2d\" x=\"159.30875\" y=\"118.428152\" style=\"fill: #b15928; stroke: #000000; stroke-width: 0.5\"/>\n    </g>\n    <g clip-path=\"url(#pbf34e6745c)\">\n     <use xlink:href=\"#C0_0_c7224d0c2d\" x=\"173.605414\" y=\"211.691284\" style=\"fill: #a6cee3; stroke: #000000; stroke-width: 0.5\"/>\n    </g>\n    <g clip-path=\"url(#pbf34e6745c)\">\n     <use xlink:href=\"#C0_0_c7224d0c2d\" x=\"209.983371\" y=\"162.865588\" style=\"fill: #a6cee3; stroke: #000000; stroke-width: 0.5\"/>\n    </g>\n    <g clip-path=\"url(#pbf34e6745c)\">\n     <use xlink:href=\"#C0_0_c7224d0c2d\" x=\"232.634245\" y=\"183.190167\" style=\"fill: #b15928; stroke: #000000; stroke-width: 0.5\"/>\n    </g>\n    <g clip-path=\"url(#pbf34e6745c)\">\n     <use xlink:href=\"#C0_0_c7224d0c2d\" x=\"53.260266\" y=\"123.915512\" style=\"fill: #b15928; stroke: #000000; stroke-width: 0.5\"/>\n    </g>\n    <g clip-path=\"url(#pbf34e6745c)\">\n     <use xlink:href=\"#C0_0_c7224d0c2d\" x=\"103.309646\" y=\"98.361605\" style=\"fill: #b15928; stroke: #000000; stroke-width: 0.5\"/>\n    </g>\n    <g clip-path=\"url(#pbf34e6745c)\">\n     <use xlink:href=\"#C0_0_c7224d0c2d\" x=\"268.998637\" y=\"192.955444\" style=\"fill: #b15928; stroke: #000000; stroke-width: 0.5\"/>\n    </g>\n    <g clip-path=\"url(#pbf34e6745c)\">\n     <use xlink:href=\"#C0_0_c7224d0c2d\" x=\"137.860669\" y=\"223.956951\" style=\"fill: #b15928; stroke: #000000; stroke-width: 0.5\"/>\n    </g>\n    <g clip-path=\"url(#pbf34e6745c)\">\n     <use xlink:href=\"#C0_0_c7224d0c2d\" x=\"208.917522\" y=\"150.410483\" style=\"fill: #a6cee3; stroke: #000000; stroke-width: 0.5\"/>\n    </g>\n    <g clip-path=\"url(#pbf34e6745c)\">\n     <use xlink:href=\"#C0_0_c7224d0c2d\" x=\"140.657119\" y=\"175.179946\" style=\"fill: #b15928; stroke: #000000; stroke-width: 0.5\"/>\n    </g>\n    <g clip-path=\"url(#pbf34e6745c)\">\n     <use xlink:href=\"#C0_0_c7224d0c2d\" x=\"270.563914\" y=\"139.745374\" style=\"fill: #b15928; stroke: #000000; stroke-width: 0.5\"/>\n    </g>\n    <g clip-path=\"url(#pbf34e6745c)\">\n     <use xlink:href=\"#C0_0_c7224d0c2d\" x=\"211.948804\" y=\"116.151625\" style=\"fill: #a6cee3; stroke: #000000; stroke-width: 0.5\"/>\n    </g>\n    <g clip-path=\"url(#pbf34e6745c)\">\n     <use xlink:href=\"#C0_0_c7224d0c2d\" x=\"225.925543\" y=\"109.777222\" style=\"fill: #a6cee3; stroke: #000000; stroke-width: 0.5\"/>\n    </g>\n    <g clip-path=\"url(#pbf34e6745c)\">\n     <use xlink:href=\"#C0_0_c7224d0c2d\" x=\"138.078859\" y=\"175.490052\" style=\"fill: #b15928; stroke: #000000; stroke-width: 0.5\"/>\n    </g>\n    <g clip-path=\"url(#pbf34e6745c)\">\n     <use xlink:href=\"#C0_0_c7224d0c2d\" x=\"151.917661\" y=\"207.579767\" style=\"fill: #b15928; stroke: #000000; stroke-width: 0.5\"/>\n    </g>\n    <g clip-path=\"url(#pbf34e6745c)\">\n     <use xlink:href=\"#C0_0_c7224d0c2d\" x=\"228.264845\" y=\"205.97456\" style=\"fill: #b15928; stroke: #000000; stroke-width: 0.5\"/>\n    </g>\n    <g clip-path=\"url(#pbf34e6745c)\">\n     <use xlink:href=\"#C0_0_c7224d0c2d\" x=\"167.764822\" y=\"211.127418\" style=\"fill: #a6cee3; stroke: #000000; stroke-width: 0.5\"/>\n    </g>\n    <g clip-path=\"url(#pbf34e6745c)\">\n     <use xlink:href=\"#C0_0_c7224d0c2d\" x=\"162.239142\" y=\"141.086179\" style=\"fill: #b15928; stroke: #000000; stroke-width: 0.5\"/>\n    </g>\n    <g clip-path=\"url(#pbf34e6745c)\">\n     <use xlink:href=\"#C0_0_c7224d0c2d\" x=\"155.722526\" y=\"178.028795\" style=\"fill: #b15928; stroke: #000000; stroke-width: 0.5\"/>\n    </g>\n    <g clip-path=\"url(#pbf34e6745c)\">\n     <use xlink:href=\"#C0_0_c7224d0c2d\" x=\"204.258346\" y=\"129.838137\" style=\"fill: #a6cee3; stroke: #000000; stroke-width: 0.5\"/>\n    </g>\n    <g clip-path=\"url(#pbf34e6745c)\">\n     <use xlink:href=\"#C0_0_c7224d0c2d\" x=\"221.312374\" y=\"148.775966\" style=\"fill: #a6cee3; stroke: #000000; stroke-width: 0.5\"/>\n    </g>\n    <g clip-path=\"url(#pbf34e6745c)\">\n     <use xlink:href=\"#C0_0_c7224d0c2d\" x=\"107.852819\" y=\"131.571059\" style=\"fill: #b15928; stroke: #000000; stroke-width: 0.5\"/>\n    </g>\n    <g clip-path=\"url(#pbf34e6745c)\">\n     <use xlink:href=\"#C0_0_c7224d0c2d\" x=\"198.911622\" y=\"129.306772\" style=\"fill: #a6cee3; stroke: #000000; stroke-width: 0.5\"/>\n    </g>\n    <g clip-path=\"url(#pbf34e6745c)\">\n     <use xlink:href=\"#C0_0_c7224d0c2d\" x=\"141.740935\" y=\"26.845765\" style=\"fill: #b15928; stroke: #000000; stroke-width: 0.5\"/>\n    </g>\n    <g clip-path=\"url(#pbf34e6745c)\">\n     <use xlink:href=\"#C0_0_c7224d0c2d\" x=\"116.820502\" y=\"137.717361\" style=\"fill: #b15928; stroke: #000000; stroke-width: 0.5\"/>\n    </g>\n    <g clip-path=\"url(#pbf34e6745c)\">\n     <use xlink:href=\"#C0_0_c7224d0c2d\" x=\"180.130984\" y=\"174.326234\" style=\"fill: #a6cee3; stroke: #000000; stroke-width: 0.5\"/>\n    </g>\n    <g clip-path=\"url(#pbf34e6745c)\">\n     <use xlink:href=\"#C0_0_c7224d0c2d\" x=\"223.613066\" y=\"189.940505\" style=\"fill: #a6cee3; stroke: #000000; stroke-width: 0.5\"/>\n    </g>\n    <g clip-path=\"url(#pbf34e6745c)\">\n     <use xlink:href=\"#C0_0_c7224d0c2d\" x=\"79.012165\" y=\"224.787709\" style=\"fill: #b15928; stroke: #000000; stroke-width: 0.5\"/>\n    </g>\n    <g clip-path=\"url(#pbf34e6745c)\">\n     <use xlink:href=\"#C0_0_c7224d0c2d\" x=\"199.785032\" y=\"74.855729\" style=\"fill: #b15928; stroke: #000000; stroke-width: 0.5\"/>\n    </g>\n    <g clip-path=\"url(#pbf34e6745c)\">\n     <use xlink:href=\"#C0_0_c7224d0c2d\" x=\"120.544861\" y=\"166.34666\" style=\"fill: #b15928; stroke: #000000; stroke-width: 0.5\"/>\n    </g>\n    <g clip-path=\"url(#pbf34e6745c)\">\n     <use xlink:href=\"#C0_0_c7224d0c2d\" x=\"242.625248\" y=\"133.929576\" style=\"fill: #b15928; stroke: #000000; stroke-width: 0.5\"/>\n    </g>\n    <g clip-path=\"url(#pbf34e6745c)\">\n     <use xlink:href=\"#C0_0_c7224d0c2d\" x=\"151.823554\" y=\"225.676561\" style=\"fill: #b15928; stroke: #000000; stroke-width: 0.5\"/>\n    </g>\n    <g clip-path=\"url(#pbf34e6745c)\">\n     <use xlink:href=\"#C0_0_c7224d0c2d\" x=\"95.128185\" y=\"204.718425\" style=\"fill: #b15928; stroke: #000000; stroke-width: 0.5\"/>\n    </g>\n    <g clip-path=\"url(#pbf34e6745c)\">\n     <use xlink:href=\"#C0_0_c7224d0c2d\" x=\"166.963804\" y=\"271.8\" style=\"fill: #b15928; stroke: #000000; stroke-width: 0.5\"/>\n    </g>\n    <g clip-path=\"url(#pbf34e6745c)\">\n     <use xlink:href=\"#C0_0_c7224d0c2d\" x=\"97.050367\" y=\"137.790153\" style=\"fill: #b15928; stroke: #000000; stroke-width: 0.5\"/>\n    </g>\n    <g clip-path=\"url(#pbf34e6745c)\">\n     <use xlink:href=\"#C0_0_c7224d0c2d\" x=\"154.24614\" y=\"198.668166\" style=\"fill: #b15928; stroke: #000000; stroke-width: 0.5\"/>\n    </g>\n    <g clip-path=\"url(#pbf34e6745c)\">\n     <use xlink:href=\"#C0_0_c7224d0c2d\" x=\"165.908597\" y=\"191.999229\" style=\"fill: #b15928; stroke: #000000; stroke-width: 0.5\"/>\n    </g>\n    <g clip-path=\"url(#pbf34e6745c)\">\n     <use xlink:href=\"#C0_0_c7224d0c2d\" x=\"228.433046\" y=\"65.870473\" style=\"fill: #b15928; stroke: #000000; stroke-width: 0.5\"/>\n    </g>\n    <g clip-path=\"url(#pbf34e6745c)\">\n     <use xlink:href=\"#C0_0_c7224d0c2d\" x=\"268.492527\" y=\"134.939386\" style=\"fill: #b15928; stroke: #000000; stroke-width: 0.5\"/>\n    </g>\n    <g clip-path=\"url(#pbf34e6745c)\">\n     <use xlink:href=\"#C0_0_c7224d0c2d\" x=\"224.45851\" y=\"77.043167\" style=\"fill: #b15928; stroke: #000000; stroke-width: 0.5\"/>\n    </g>\n    <g clip-path=\"url(#pbf34e6745c)\">\n     <use xlink:href=\"#C0_0_c7224d0c2d\" x=\"250.804739\" y=\"83.651508\" style=\"fill: #b15928; stroke: #000000; stroke-width: 0.5\"/>\n    </g>\n    <g clip-path=\"url(#pbf34e6745c)\">\n     <use xlink:href=\"#C0_0_c7224d0c2d\" x=\"227.08534\" y=\"207.65994\" style=\"fill: #b15928; stroke: #000000; stroke-width: 0.5\"/>\n    </g>\n    <g clip-path=\"url(#pbf34e6745c)\">\n     <use xlink:href=\"#C0_0_c7224d0c2d\" x=\"116.378891\" y=\"115.68362\" style=\"fill: #b15928; stroke: #000000; stroke-width: 0.5\"/>\n    </g>\n    <g clip-path=\"url(#pbf34e6745c)\">\n     <use xlink:href=\"#C0_0_c7224d0c2d\" x=\"174.2841\" y=\"147.956323\" style=\"fill: #a6cee3; stroke: #000000; stroke-width: 0.5\"/>\n    </g>\n    <g clip-path=\"url(#pbf34e6745c)\">\n     <use xlink:href=\"#C0_0_c7224d0c2d\" x=\"150.927674\" y=\"231.142193\" style=\"fill: #b15928; stroke: #000000; stroke-width: 0.5\"/>\n    </g>\n    <g clip-path=\"url(#pbf34e6745c)\">\n     <use xlink:href=\"#C0_0_c7224d0c2d\" x=\"228.998356\" y=\"157.490383\" style=\"fill: #b15928; stroke: #000000; stroke-width: 0.5\"/>\n    </g>\n    <g clip-path=\"url(#pbf34e6745c)\">\n     <use xlink:href=\"#C0_0_c7224d0c2d\" x=\"130.750056\" y=\"146.456228\" style=\"fill: #b15928; stroke: #000000; stroke-width: 0.5\"/>\n    </g>\n    <g clip-path=\"url(#pbf34e6745c)\">\n     <use xlink:href=\"#C0_0_c7224d0c2d\" x=\"193.878853\" y=\"136.190539\" style=\"fill: #a6cee3; stroke: #000000; stroke-width: 0.5\"/>\n    </g>\n    <g clip-path=\"url(#pbf34e6745c)\">\n     <use xlink:href=\"#C0_0_c7224d0c2d\" x=\"269.341474\" y=\"167.294789\" style=\"fill: #b15928; stroke: #000000; stroke-width: 0.5\"/>\n    </g>\n    <g clip-path=\"url(#pbf34e6745c)\">\n     <use xlink:href=\"#C0_0_c7224d0c2d\" x=\"107.660058\" y=\"147.961743\" style=\"fill: #b15928; stroke: #000000; stroke-width: 0.5\"/>\n    </g>\n    <g clip-path=\"url(#pbf34e6745c)\">\n     <use xlink:href=\"#C0_0_c7224d0c2d\" x=\"144.361499\" y=\"129.064662\" style=\"fill: #b15928; stroke: #000000; stroke-width: 0.5\"/>\n    </g>\n    <g clip-path=\"url(#pbf34e6745c)\">\n     <use xlink:href=\"#C0_0_c7224d0c2d\" x=\"180.778488\" y=\"144.148818\" style=\"fill: #a6cee3; stroke: #000000; stroke-width: 0.5\"/>\n    </g>\n    <g clip-path=\"url(#pbf34e6745c)\">\n     <use xlink:href=\"#C0_0_c7224d0c2d\" x=\"158.012694\" y=\"144.234051\" style=\"fill: #b15928; stroke: #000000; stroke-width: 0.5\"/>\n    </g>\n    <g clip-path=\"url(#pbf34e6745c)\">\n     <use xlink:href=\"#C0_0_c7224d0c2d\" x=\"147.844764\" y=\"113.936983\" style=\"fill: #b15928; stroke: #000000; stroke-width: 0.5\"/>\n    </g>\n    <g clip-path=\"url(#pbf34e6745c)\">\n     <use xlink:href=\"#C0_0_c7224d0c2d\" x=\"162.405171\" y=\"210.509862\" style=\"fill: #a6cee3; stroke: #000000; stroke-width: 0.5\"/>\n    </g>\n    <g clip-path=\"url(#pbf34e6745c)\">\n     <use xlink:href=\"#C0_0_c7224d0c2d\" x=\"198.435944\" y=\"203.510711\" style=\"fill: #a6cee3; stroke: #000000; stroke-width: 0.5\"/>\n    </g>\n    <g clip-path=\"url(#pbf34e6745c)\">\n     <use xlink:href=\"#C0_0_c7224d0c2d\" x=\"252.037364\" y=\"136.347546\" style=\"fill: #b15928; stroke: #000000; stroke-width: 0.5\"/>\n    </g>\n    <g clip-path=\"url(#pbf34e6745c)\">\n     <use xlink:href=\"#C0_0_c7224d0c2d\" x=\"200.780337\" y=\"178.872243\" style=\"fill: #a6cee3; stroke: #000000; stroke-width: 0.5\"/>\n    </g>\n    <g clip-path=\"url(#pbf34e6745c)\">\n     <use xlink:href=\"#C0_0_c7224d0c2d\" x=\"177.236241\" y=\"269.513171\" style=\"fill: #b15928; stroke: #000000; stroke-width: 0.5\"/>\n    </g>\n    <g clip-path=\"url(#pbf34e6745c)\">\n     <use xlink:href=\"#C0_0_c7224d0c2d\" x=\"233.30206\" y=\"202.677655\" style=\"fill: #b15928; stroke: #000000; stroke-width: 0.5\"/>\n    </g>\n    <g clip-path=\"url(#pbf34e6745c)\">\n     <use xlink:href=\"#C0_0_c7224d0c2d\" x=\"229.62745\" y=\"190.317931\" style=\"fill: #b15928; stroke: #000000; stroke-width: 0.5\"/>\n    </g>\n    <g clip-path=\"url(#pbf34e6745c)\">\n     <use xlink:href=\"#C0_0_c7224d0c2d\" x=\"176.138097\" y=\"162.497093\" style=\"fill: #a6cee3; stroke: #000000; stroke-width: 0.5\"/>\n    </g>\n    <g clip-path=\"url(#pbf34e6745c)\">\n     <use xlink:href=\"#C0_0_c7224d0c2d\" x=\"140.620675\" y=\"182.797792\" style=\"fill: #b15928; stroke: #000000; stroke-width: 0.5\"/>\n    </g>\n    <g clip-path=\"url(#pbf34e6745c)\">\n     <use xlink:href=\"#C0_0_c7224d0c2d\" x=\"201.118218\" y=\"189.210492\" style=\"fill: #a6cee3; stroke: #000000; stroke-width: 0.5\"/>\n    </g>\n    <g clip-path=\"url(#pbf34e6745c)\">\n     <use xlink:href=\"#C0_0_c7224d0c2d\" x=\"104.402303\" y=\"186.762358\" style=\"fill: #b15928; stroke: #000000; stroke-width: 0.5\"/>\n    </g>\n    <g clip-path=\"url(#pbf34e6745c)\">\n     <use xlink:href=\"#C0_0_c7224d0c2d\" x=\"173.040338\" y=\"110.456933\" style=\"fill: #b15928; stroke: #000000; stroke-width: 0.5\"/>\n    </g>\n    <g clip-path=\"url(#pbf34e6745c)\">\n     <use xlink:href=\"#C0_0_c7224d0c2d\" x=\"191.946387\" y=\"157.634299\" style=\"fill: #a6cee3; stroke: #000000; stroke-width: 0.5\"/>\n    </g>\n    <g clip-path=\"url(#pbf34e6745c)\">\n     <use xlink:href=\"#C0_0_c7224d0c2d\" x=\"129.621909\" y=\"117.677498\" style=\"fill: #b15928; stroke: #000000; stroke-width: 0.5\"/>\n    </g>\n    <g clip-path=\"url(#pbf34e6745c)\">\n     <use xlink:href=\"#C0_0_c7224d0c2d\" x=\"173.653471\" y=\"182.326958\" style=\"fill: #a6cee3; stroke: #000000; stroke-width: 0.5\"/>\n    </g>\n    <g clip-path=\"url(#pbf34e6745c)\">\n     <use xlink:href=\"#C0_0_c7224d0c2d\" x=\"209.273991\" y=\"116.756528\" style=\"fill: #a6cee3; stroke: #000000; stroke-width: 0.5\"/>\n    </g>\n    <g clip-path=\"url(#pbf34e6745c)\">\n     <use xlink:href=\"#C0_0_c7224d0c2d\" x=\"195.071752\" y=\"218.595742\" style=\"fill: #a6cee3; stroke: #000000; stroke-width: 0.5\"/>\n    </g>\n    <g clip-path=\"url(#pbf34e6745c)\">\n     <use xlink:href=\"#C0_0_c7224d0c2d\" x=\"167.09025\" y=\"261.427243\" style=\"fill: #b15928; stroke: #000000; stroke-width: 0.5\"/>\n    </g>\n    <g clip-path=\"url(#pbf34e6745c)\">\n     <use xlink:href=\"#C0_0_c7224d0c2d\" x=\"167.718066\" y=\"170.241338\" style=\"fill: #a6cee3; stroke: #000000; stroke-width: 0.5\"/>\n    </g>\n    <g clip-path=\"url(#pbf34e6745c)\">\n     <use xlink:href=\"#C0_0_c7224d0c2d\" x=\"214.681\" y=\"162.526226\" style=\"fill: #a6cee3; stroke: #000000; stroke-width: 0.5\"/>\n    </g>\n    <g clip-path=\"url(#pbf34e6745c)\">\n     <use xlink:href=\"#C0_0_c7224d0c2d\" x=\"160.835146\" y=\"59.9253\" style=\"fill: #b15928; stroke: #000000; stroke-width: 0.5\"/>\n    </g>\n    <g clip-path=\"url(#pbf34e6745c)\">\n     <use xlink:href=\"#C0_0_c7224d0c2d\" x=\"118.664342\" y=\"225.059757\" style=\"fill: #b15928; stroke: #000000; stroke-width: 0.5\"/>\n    </g>\n    <g clip-path=\"url(#pbf34e6745c)\">\n     <use xlink:href=\"#C0_0_c7224d0c2d\" x=\"138.010202\" y=\"129.391907\" style=\"fill: #b15928; stroke: #000000; stroke-width: 0.5\"/>\n    </g>\n    <g clip-path=\"url(#pbf34e6745c)\">\n     <use xlink:href=\"#C0_0_c7224d0c2d\" x=\"163.948444\" y=\"161.84247\" style=\"fill: #b15928; stroke: #000000; stroke-width: 0.5\"/>\n    </g>\n    <g clip-path=\"url(#pbf34e6745c)\">\n     <use xlink:href=\"#C0_0_c7224d0c2d\" x=\"135.420671\" y=\"92.14488\" style=\"fill: #b15928; stroke: #000000; stroke-width: 0.5\"/>\n    </g>\n    <g clip-path=\"url(#pbf34e6745c)\">\n     <use xlink:href=\"#C0_0_c7224d0c2d\" x=\"152.984997\" y=\"212.842693\" style=\"fill: #b15928; stroke: #000000; stroke-width: 0.5\"/>\n    </g>\n    <g clip-path=\"url(#pbf34e6745c)\">\n     <use xlink:href=\"#C0_0_c7224d0c2d\" x=\"165.413564\" y=\"215.132249\" style=\"fill: #a6cee3; stroke: #000000; stroke-width: 0.5\"/>\n    </g>\n    <g clip-path=\"url(#pbf34e6745c)\">\n     <use xlink:href=\"#C0_0_c7224d0c2d\" x=\"176.697577\" y=\"82.09246\" style=\"fill: #b15928; stroke: #000000; stroke-width: 0.5\"/>\n    </g>\n    <g clip-path=\"url(#pbf34e6745c)\">\n     <use xlink:href=\"#C0_0_c7224d0c2d\" x=\"153.653475\" y=\"166.676286\" style=\"fill: #b15928; stroke: #000000; stroke-width: 0.5\"/>\n    </g>\n    <g clip-path=\"url(#pbf34e6745c)\">\n     <use xlink:href=\"#C0_0_c7224d0c2d\" x=\"156.88132\" y=\"161.237168\" style=\"fill: #b15928; stroke: #000000; stroke-width: 0.5\"/>\n    </g>\n    <g clip-path=\"url(#pbf34e6745c)\">\n     <use xlink:href=\"#C0_0_c7224d0c2d\" x=\"223.743478\" y=\"144.378057\" style=\"fill: #a6cee3; stroke: #000000; stroke-width: 0.5\"/>\n    </g>\n    <g clip-path=\"url(#pbf34e6745c)\">\n     <use xlink:href=\"#C0_0_c7224d0c2d\" x=\"159.330676\" y=\"212.19272\" style=\"fill: #a6cee3; stroke: #000000; stroke-width: 0.5\"/>\n    </g>\n    <g clip-path=\"url(#pbf34e6745c)\">\n     <use xlink:href=\"#C0_0_c7224d0c2d\" x=\"173.265772\" y=\"113.800939\" style=\"fill: #b15928; stroke: #000000; stroke-width: 0.5\"/>\n    </g>\n    <g clip-path=\"url(#pbf34e6745c)\">\n     <use xlink:href=\"#C0_0_c7224d0c2d\" x=\"185.879973\" y=\"170.621947\" style=\"fill: #a6cee3; stroke: #000000; stroke-width: 0.5\"/>\n    </g>\n    <g clip-path=\"url(#pbf34e6745c)\">\n     <use xlink:href=\"#C0_0_c7224d0c2d\" x=\"89.507205\" y=\"108.180267\" style=\"fill: #b15928; stroke: #000000; stroke-width: 0.5\"/>\n    </g>\n    <g clip-path=\"url(#pbf34e6745c)\">\n     <use xlink:href=\"#C0_0_c7224d0c2d\" x=\"117.202189\" y=\"227.439578\" style=\"fill: #b15928; stroke: #000000; stroke-width: 0.5\"/>\n    </g>\n    <g clip-path=\"url(#pbf34e6745c)\">\n     <use xlink:href=\"#C0_0_c7224d0c2d\" x=\"162.31168\" y=\"156.546296\" style=\"fill: #b15928; stroke: #000000; stroke-width: 0.5\"/>\n    </g>\n    <g clip-path=\"url(#pbf34e6745c)\">\n     <use xlink:href=\"#C0_0_c7224d0c2d\" x=\"186.975405\" y=\"198.130923\" style=\"fill: #a6cee3; stroke: #000000; stroke-width: 0.5\"/>\n    </g>\n    <g clip-path=\"url(#pbf34e6745c)\">\n     <use xlink:href=\"#C0_0_c7224d0c2d\" x=\"167.852512\" y=\"189.460686\" style=\"fill: #a6cee3; stroke: #000000; stroke-width: 0.5\"/>\n    </g>\n    <g clip-path=\"url(#pbf34e6745c)\">\n     <use xlink:href=\"#C0_0_c7224d0c2d\" x=\"89.624356\" y=\"167.269062\" style=\"fill: #b15928; stroke: #000000; stroke-width: 0.5\"/>\n    </g>\n    <g clip-path=\"url(#pbf34e6745c)\">\n     <use xlink:href=\"#C0_0_c7224d0c2d\" x=\"147.807096\" y=\"131.067809\" style=\"fill: #b15928; stroke: #000000; stroke-width: 0.5\"/>\n    </g>\n    <g clip-path=\"url(#pbf34e6745c)\">\n     <use xlink:href=\"#C0_0_c7224d0c2d\" x=\"160.568902\" y=\"121.668239\" style=\"fill: #b15928; stroke: #000000; stroke-width: 0.5\"/>\n    </g>\n    <g clip-path=\"url(#pbf34e6745c)\">\n     <use xlink:href=\"#C0_0_c7224d0c2d\" x=\"210.651486\" y=\"134.651525\" style=\"fill: #a6cee3; stroke: #000000; stroke-width: 0.5\"/>\n    </g>\n    <g clip-path=\"url(#pbf34e6745c)\">\n     <use xlink:href=\"#C0_0_c7224d0c2d\" x=\"229.047627\" y=\"132.341048\" style=\"fill: #b15928; stroke: #000000; stroke-width: 0.5\"/>\n    </g>\n    <g clip-path=\"url(#pbf34e6745c)\">\n     <use xlink:href=\"#C0_0_c7224d0c2d\" x=\"166.401692\" y=\"98.368592\" style=\"fill: #b15928; stroke: #000000; stroke-width: 0.5\"/>\n    </g>\n    <g clip-path=\"url(#pbf34e6745c)\">\n     <use xlink:href=\"#C0_0_c7224d0c2d\" x=\"117.146954\" y=\"162.99825\" style=\"fill: #b15928; stroke: #000000; stroke-width: 0.5\"/>\n    </g>\n    <g clip-path=\"url(#pbf34e6745c)\">\n     <use xlink:href=\"#C0_0_c7224d0c2d\" x=\"215.602929\" y=\"165.449004\" style=\"fill: #a6cee3; stroke: #000000; stroke-width: 0.5\"/>\n    </g>\n    <g clip-path=\"url(#pbf34e6745c)\">\n     <use xlink:href=\"#C0_0_c7224d0c2d\" x=\"221.26079\" y=\"197.278695\" style=\"fill: #a6cee3; stroke: #000000; stroke-width: 0.5\"/>\n    </g>\n    <g clip-path=\"url(#pbf34e6745c)\">\n     <use xlink:href=\"#C0_0_c7224d0c2d\" x=\"161.76129\" y=\"158.402079\" style=\"fill: #b15928; stroke: #000000; stroke-width: 0.5\"/>\n    </g>\n    <g clip-path=\"url(#pbf34e6745c)\">\n     <use xlink:href=\"#C0_0_c7224d0c2d\" x=\"213.275499\" y=\"92.75223\" style=\"fill: #a6cee3; stroke: #000000; stroke-width: 0.5\"/>\n    </g>\n    <g clip-path=\"url(#pbf34e6745c)\">\n     <use xlink:href=\"#C0_0_c7224d0c2d\" x=\"181.871684\" y=\"144.877761\" style=\"fill: #a6cee3; stroke: #000000; stroke-width: 0.5\"/>\n    </g>\n    <g clip-path=\"url(#pbf34e6745c)\">\n     <use xlink:href=\"#C0_0_c7224d0c2d\" x=\"201.618317\" y=\"142.50489\" style=\"fill: #a6cee3; stroke: #000000; stroke-width: 0.5\"/>\n    </g>\n    <g clip-path=\"url(#pbf34e6745c)\">\n     <use xlink:href=\"#C0_0_c7224d0c2d\" x=\"120.497945\" y=\"185.215663\" style=\"fill: #b15928; stroke: #000000; stroke-width: 0.5\"/>\n    </g>\n    <g clip-path=\"url(#pbf34e6745c)\">\n     <use xlink:href=\"#C0_0_c7224d0c2d\" x=\"245.494557\" y=\"223.056339\" style=\"fill: #b15928; stroke: #000000; stroke-width: 0.5\"/>\n    </g>\n    <g clip-path=\"url(#pbf34e6745c)\">\n     <use xlink:href=\"#C0_0_c7224d0c2d\" x=\"193.850279\" y=\"164.640559\" style=\"fill: #a6cee3; stroke: #000000; stroke-width: 0.5\"/>\n    </g>\n    <g clip-path=\"url(#pbf34e6745c)\">\n     <use xlink:href=\"#C0_0_c7224d0c2d\" x=\"213.661753\" y=\"225.533272\" style=\"fill: #b15928; stroke: #000000; stroke-width: 0.5\"/>\n    </g>\n    <g clip-path=\"url(#pbf34e6745c)\">\n     <use xlink:href=\"#C0_0_c7224d0c2d\" x=\"191.948678\" y=\"250.315518\" style=\"fill: #b15928; stroke: #000000; stroke-width: 0.5\"/>\n    </g>\n    <g clip-path=\"url(#pbf34e6745c)\">\n     <use xlink:href=\"#C0_0_c7224d0c2d\" x=\"177.135737\" y=\"99.996917\" style=\"fill: #b15928; stroke: #000000; stroke-width: 0.5\"/>\n    </g>\n    <g clip-path=\"url(#pbf34e6745c)\">\n     <use xlink:href=\"#C0_0_c7224d0c2d\" x=\"115.51081\" y=\"112.143328\" style=\"fill: #b15928; stroke: #000000; stroke-width: 0.5\"/>\n    </g>\n    <g clip-path=\"url(#pbf34e6745c)\">\n     <use xlink:href=\"#C0_0_c7224d0c2d\" x=\"147.03377\" y=\"176.180667\" style=\"fill: #b15928; stroke: #000000; stroke-width: 0.5\"/>\n    </g>\n    <g clip-path=\"url(#pbf34e6745c)\">\n     <use xlink:href=\"#C0_0_c7224d0c2d\" x=\"50.165506\" y=\"117.680276\" style=\"fill: #b15928; stroke: #000000; stroke-width: 0.5\"/>\n    </g>\n    <g clip-path=\"url(#pbf34e6745c)\">\n     <use xlink:href=\"#C0_0_c7224d0c2d\" x=\"140.352461\" y=\"177.494744\" style=\"fill: #b15928; stroke: #000000; stroke-width: 0.5\"/>\n    </g>\n    <g clip-path=\"url(#pbf34e6745c)\">\n     <use xlink:href=\"#C0_0_c7224d0c2d\" x=\"115.711546\" y=\"205.453363\" style=\"fill: #b15928; stroke: #000000; stroke-width: 0.5\"/>\n    </g>\n    <g clip-path=\"url(#pbf34e6745c)\">\n     <use xlink:href=\"#C0_0_c7224d0c2d\" x=\"208.709508\" y=\"196.840139\" style=\"fill: #b15928; stroke: #000000; stroke-width: 0.5\"/>\n    </g>\n    <g clip-path=\"url(#pbf34e6745c)\">\n     <use xlink:href=\"#C0_0_c7224d0c2d\" x=\"221.188724\" y=\"160.931336\" style=\"fill: #a6cee3; stroke: #000000; stroke-width: 0.5\"/>\n    </g>\n    <g clip-path=\"url(#pbf34e6745c)\">\n     <use xlink:href=\"#C0_0_c7224d0c2d\" x=\"200.72998\" y=\"175.890117\" style=\"fill: #a6cee3; stroke: #000000; stroke-width: 0.5\"/>\n    </g>\n    <g clip-path=\"url(#pbf34e6745c)\">\n     <use xlink:href=\"#C0_0_c7224d0c2d\" x=\"181.672479\" y=\"40.931347\" style=\"fill: #b15928; stroke: #000000; stroke-width: 0.5\"/>\n    </g>\n    <g clip-path=\"url(#pbf34e6745c)\">\n     <use xlink:href=\"#C0_0_c7224d0c2d\" x=\"183.314378\" y=\"138.608723\" style=\"fill: #a6cee3; stroke: #000000; stroke-width: 0.5\"/>\n    </g>\n    <g clip-path=\"url(#pbf34e6745c)\">\n     <use xlink:href=\"#C0_0_c7224d0c2d\" x=\"158.540824\" y=\"115.847156\" style=\"fill: #b15928; stroke: #000000; stroke-width: 0.5\"/>\n    </g>\n    <g clip-path=\"url(#pbf34e6745c)\">\n     <use xlink:href=\"#C0_0_c7224d0c2d\" x=\"228.70742\" y=\"240.226553\" style=\"fill: #b15928; stroke: #000000; stroke-width: 0.5\"/>\n    </g>\n    <g clip-path=\"url(#pbf34e6745c)\">\n     <use xlink:href=\"#C0_0_c7224d0c2d\" x=\"121.547429\" y=\"58.230734\" style=\"fill: #b15928; stroke: #000000; stroke-width: 0.5\"/>\n    </g>\n    <g clip-path=\"url(#pbf34e6745c)\">\n     <use xlink:href=\"#C0_0_c7224d0c2d\" x=\"190.682784\" y=\"154.980129\" style=\"fill: #a6cee3; stroke: #000000; stroke-width: 0.5\"/>\n    </g>\n    <g clip-path=\"url(#pbf34e6745c)\">\n     <use xlink:href=\"#C0_0_c7224d0c2d\" x=\"202.712446\" y=\"105.775764\" style=\"fill: #a6cee3; stroke: #000000; stroke-width: 0.5\"/>\n    </g>\n    <g clip-path=\"url(#pbf34e6745c)\">\n     <use xlink:href=\"#C0_0_c7224d0c2d\" x=\"217.826012\" y=\"172.781514\" style=\"fill: #a6cee3; stroke: #000000; stroke-width: 0.5\"/>\n    </g>\n    <g clip-path=\"url(#pbf34e6745c)\">\n     <use xlink:href=\"#C0_0_c7224d0c2d\" x=\"255.008882\" y=\"163.727535\" style=\"fill: #b15928; stroke: #000000; stroke-width: 0.5\"/>\n    </g>\n    <g clip-path=\"url(#pbf34e6745c)\">\n     <use xlink:href=\"#C0_0_c7224d0c2d\" x=\"142.27457\" y=\"193.02547\" style=\"fill: #b15928; stroke: #000000; stroke-width: 0.5\"/>\n    </g>\n    <g clip-path=\"url(#pbf34e6745c)\">\n     <use xlink:href=\"#C0_0_c7224d0c2d\" x=\"173.438669\" y=\"186.764951\" style=\"fill: #a6cee3; stroke: #000000; stroke-width: 0.5\"/>\n    </g>\n    <g clip-path=\"url(#pbf34e6745c)\">\n     <use xlink:href=\"#C0_0_c7224d0c2d\" x=\"180.858409\" y=\"142.419704\" style=\"fill: #b15928; stroke: #000000; stroke-width: 0.5\"/>\n    </g>\n    <g clip-path=\"url(#pbf34e6745c)\">\n     <use xlink:href=\"#C0_0_c7224d0c2d\" x=\"34.783381\" y=\"192.165002\" style=\"fill: #b15928; stroke: #000000; stroke-width: 0.5\"/>\n    </g>\n    <g clip-path=\"url(#pbf34e6745c)\">\n     <use xlink:href=\"#C0_0_c7224d0c2d\" x=\"225.609278\" y=\"133.438613\" style=\"fill: #a6cee3; stroke: #000000; stroke-width: 0.5\"/>\n    </g>\n    <g clip-path=\"url(#pbf34e6745c)\">\n     <use xlink:href=\"#C0_0_c7224d0c2d\" x=\"156.287671\" y=\"185.658798\" style=\"fill: #b15928; stroke: #000000; stroke-width: 0.5\"/>\n    </g>\n    <g clip-path=\"url(#pbf34e6745c)\">\n     <use xlink:href=\"#C0_0_c7224d0c2d\" x=\"229.125945\" y=\"173.690659\" style=\"fill: #b15928; stroke: #000000; stroke-width: 0.5\"/>\n    </g>\n    <g clip-path=\"url(#pbf34e6745c)\">\n     <use xlink:href=\"#C0_0_c7224d0c2d\" x=\"144.405802\" y=\"69.610752\" style=\"fill: #b15928; stroke: #000000; stroke-width: 0.5\"/>\n    </g>\n    <g clip-path=\"url(#pbf34e6745c)\">\n     <use xlink:href=\"#C0_0_c7224d0c2d\" x=\"162.681349\" y=\"136.524767\" style=\"fill: #b15928; stroke: #000000; stroke-width: 0.5\"/>\n    </g>\n    <g clip-path=\"url(#pbf34e6745c)\">\n     <use xlink:href=\"#C0_0_c7224d0c2d\" x=\"187.241032\" y=\"159.251061\" style=\"fill: #a6cee3; stroke: #000000; stroke-width: 0.5\"/>\n    </g>\n    <g clip-path=\"url(#pbf34e6745c)\">\n     <use xlink:href=\"#C0_0_c7224d0c2d\" x=\"126.465068\" y=\"205.932222\" style=\"fill: #b15928; stroke: #000000; stroke-width: 0.5\"/>\n    </g>\n    <g clip-path=\"url(#pbf34e6745c)\">\n     <use xlink:href=\"#C0_0_c7224d0c2d\" x=\"232.026321\" y=\"217.374018\" style=\"fill: #b15928; stroke: #000000; stroke-width: 0.5\"/>\n    </g>\n    <g clip-path=\"url(#pbf34e6745c)\">\n     <use xlink:href=\"#C0_0_c7224d0c2d\" x=\"182.63051\" y=\"219.387656\" style=\"fill: #a6cee3; stroke: #000000; stroke-width: 0.5\"/>\n    </g>\n    <g clip-path=\"url(#pbf34e6745c)\">\n     <use xlink:href=\"#C0_0_c7224d0c2d\" x=\"154.035793\" y=\"167.662912\" style=\"fill: #b15928; stroke: #000000; stroke-width: 0.5\"/>\n    </g>\n    <g clip-path=\"url(#pbf34e6745c)\">\n     <use xlink:href=\"#C0_0_c7224d0c2d\" x=\"109.782435\" y=\"113.068966\" style=\"fill: #b15928; stroke: #000000; stroke-width: 0.5\"/>\n    </g>\n    <g clip-path=\"url(#pbf34e6745c)\">\n     <use xlink:href=\"#C0_0_c7224d0c2d\" x=\"174.934547\" y=\"94.856398\" style=\"fill: #b15928; stroke: #000000; stroke-width: 0.5\"/>\n    </g>\n    <g clip-path=\"url(#pbf34e6745c)\">\n     <use xlink:href=\"#C0_0_c7224d0c2d\" x=\"131.20892\" y=\"140.682244\" style=\"fill: #b15928; stroke: #000000; stroke-width: 0.5\"/>\n    </g>\n    <g clip-path=\"url(#pbf34e6745c)\">\n     <use xlink:href=\"#C0_0_c7224d0c2d\" x=\"287.217952\" y=\"138.057307\" style=\"fill: #b15928; stroke: #000000; stroke-width: 0.5\"/>\n    </g>\n    <g clip-path=\"url(#pbf34e6745c)\">\n     <use xlink:href=\"#C0_0_c7224d0c2d\" x=\"135.064415\" y=\"136.37156\" style=\"fill: #b15928; stroke: #000000; stroke-width: 0.5\"/>\n    </g>\n    <g clip-path=\"url(#pbf34e6745c)\">\n     <use xlink:href=\"#C0_0_c7224d0c2d\" x=\"186.343767\" y=\"187.581906\" style=\"fill: #a6cee3; stroke: #000000; stroke-width: 0.5\"/>\n    </g>\n    <g clip-path=\"url(#pbf34e6745c)\">\n     <use xlink:href=\"#C0_0_c7224d0c2d\" x=\"167.358585\" y=\"177.590798\" style=\"fill: #a6cee3; stroke: #000000; stroke-width: 0.5\"/>\n    </g>\n    <g clip-path=\"url(#pbf34e6745c)\">\n     <use xlink:href=\"#C0_0_c7224d0c2d\" x=\"197.898857\" y=\"180.21416\" style=\"fill: #a6cee3; stroke: #000000; stroke-width: 0.5\"/>\n    </g>\n    <g clip-path=\"url(#pbf34e6745c)\">\n     <use xlink:href=\"#C0_0_c7224d0c2d\" x=\"150.064221\" y=\"127.630469\" style=\"fill: #b15928; stroke: #000000; stroke-width: 0.5\"/>\n    </g>\n    <g clip-path=\"url(#pbf34e6745c)\">\n     <use xlink:href=\"#C0_0_c7224d0c2d\" x=\"154.435116\" y=\"19.8\" style=\"fill: #b15928; stroke: #000000; stroke-width: 0.5\"/>\n    </g>\n    <g clip-path=\"url(#pbf34e6745c)\">\n     <use xlink:href=\"#C0_0_c7224d0c2d\" x=\"159.729164\" y=\"196.368489\" style=\"fill: #a6cee3; stroke: #000000; stroke-width: 0.5\"/>\n    </g>\n    <g clip-path=\"url(#pbf34e6745c)\">\n     <use xlink:href=\"#C0_0_c7224d0c2d\" x=\"163.654205\" y=\"140.661814\" style=\"fill: #b15928; stroke: #000000; stroke-width: 0.5\"/>\n    </g>\n    <g clip-path=\"url(#pbf34e6745c)\">\n     <use xlink:href=\"#C0_0_c7224d0c2d\" x=\"148.511677\" y=\"228.677729\" style=\"fill: #b15928; stroke: #000000; stroke-width: 0.5\"/>\n    </g>\n    <g clip-path=\"url(#pbf34e6745c)\">\n     <use xlink:href=\"#C0_0_c7224d0c2d\" x=\"254.446232\" y=\"200.254965\" style=\"fill: #b15928; stroke: #000000; stroke-width: 0.5\"/>\n    </g>\n    <g clip-path=\"url(#pbf34e6745c)\">\n     <use xlink:href=\"#C0_0_c7224d0c2d\" x=\"238.847273\" y=\"165.304116\" style=\"fill: #b15928; stroke: #000000; stroke-width: 0.5\"/>\n    </g>\n    <g clip-path=\"url(#pbf34e6745c)\">\n     <use xlink:href=\"#C0_0_c7224d0c2d\" x=\"133.816546\" y=\"87.406653\" style=\"fill: #b15928; stroke: #000000; stroke-width: 0.5\"/>\n    </g>\n    <g clip-path=\"url(#pbf34e6745c)\">\n     <use xlink:href=\"#C0_0_c7224d0c2d\" x=\"169.869919\" y=\"210.014978\" style=\"fill: #a6cee3; stroke: #000000; stroke-width: 0.5\"/>\n    </g>\n    <g clip-path=\"url(#pbf34e6745c)\">\n     <use xlink:href=\"#C0_0_c7224d0c2d\" x=\"184.894881\" y=\"96.799187\" style=\"fill: #b15928; stroke: #000000; stroke-width: 0.5\"/>\n    </g>\n    <g clip-path=\"url(#pbf34e6745c)\">\n     <use xlink:href=\"#C0_0_c7224d0c2d\" x=\"210.391673\" y=\"108.716085\" style=\"fill: #a6cee3; stroke: #000000; stroke-width: 0.5\"/>\n    </g>\n    <g clip-path=\"url(#pbf34e6745c)\">\n     <use xlink:href=\"#C0_0_c7224d0c2d\" x=\"246.044081\" y=\"150.322047\" style=\"fill: #b15928; stroke: #000000; stroke-width: 0.5\"/>\n    </g>\n    <g clip-path=\"url(#pbf34e6745c)\">\n     <use xlink:href=\"#C0_0_c7224d0c2d\" x=\"197.009953\" y=\"184.020336\" style=\"fill: #a6cee3; stroke: #000000; stroke-width: 0.5\"/>\n    </g>\n    <g clip-path=\"url(#pbf34e6745c)\">\n     <use xlink:href=\"#C0_0_c7224d0c2d\" x=\"105.781471\" y=\"171.461145\" style=\"fill: #b15928; stroke: #000000; stroke-width: 0.5\"/>\n    </g>\n    <g clip-path=\"url(#pbf34e6745c)\">\n     <use xlink:href=\"#C0_0_c7224d0c2d\" x=\"243.848223\" y=\"234.453242\" style=\"fill: #b15928; stroke: #000000; stroke-width: 0.5\"/>\n    </g>\n    <g clip-path=\"url(#pbf34e6745c)\">\n     <use xlink:href=\"#C0_0_c7224d0c2d\" x=\"237.747574\" y=\"119.986887\" style=\"fill: #b15928; stroke: #000000; stroke-width: 0.5\"/>\n    </g>\n    <g clip-path=\"url(#pbf34e6745c)\">\n     <use xlink:href=\"#C0_0_c7224d0c2d\" x=\"134.61612\" y=\"161.031869\" style=\"fill: #b15928; stroke: #000000; stroke-width: 0.5\"/>\n    </g>\n    <g clip-path=\"url(#pbf34e6745c)\">\n     <use xlink:href=\"#C0_0_c7224d0c2d\" x=\"275.281622\" y=\"194.473007\" style=\"fill: #b15928; stroke: #000000; stroke-width: 0.5\"/>\n    </g>\n    <g clip-path=\"url(#pbf34e6745c)\">\n     <use xlink:href=\"#C0_0_c7224d0c2d\" x=\"231.611644\" y=\"136.446321\" style=\"fill: #a6cee3; stroke: #000000; stroke-width: 0.5\"/>\n    </g>\n   </g>\n   <g id=\"patch_3\">\n    <path d=\"M 22.101563 284.4 \nL 22.101563 7.2 \n\" style=\"fill: none; stroke: #bcbcbc; stroke-width: 0.8; stroke-linejoin: miter; stroke-linecap: square\"/>\n   </g>\n   <g id=\"patch_4\">\n    <path d=\"M 301.101562 284.4 \nL 301.101562 7.2 \n\" style=\"fill: none; stroke: #bcbcbc; stroke-width: 0.8; stroke-linejoin: miter; stroke-linecap: square\"/>\n   </g>\n   <g id=\"patch_5\">\n    <path d=\"M 22.101562 284.4 \nL 301.101562 284.4 \n\" style=\"fill: none; stroke: #bcbcbc; stroke-width: 0.8; stroke-linejoin: miter; stroke-linecap: square\"/>\n   </g>\n   <g id=\"patch_6\">\n    <path d=\"M 22.101562 7.2 \nL 301.101562 7.2 \n\" style=\"fill: none; stroke: #bcbcbc; stroke-width: 0.8; stroke-linejoin: miter; stroke-linecap: square\"/>\n   </g>\n  </g>\n </g>\n <defs>\n  <clipPath id=\"pbf34e6745c\">\n   <rect x=\"22.101563\" y=\"7.2\" width=\"279\" height=\"277.2\"/>\n  </clipPath>\n </defs>\n</svg>\n"
     },
     "metadata": {},
     "output_type": "display_data"
    }
   ],
   "source": [
    "np.random.seed(5)\n",
    "\n",
    "def f(X):\n",
    "    X = X.copy()\n",
    "    X[:,0] -= 0.4\n",
    "    X[:,1] += 0.2\n",
    "    return 1.1*X[:,0]**2 + 0.3*X[:,1]**2 - 0.6*X[:,0]*X[:,1]\n",
    "def make_data():\n",
    "    N = 200\n",
    "    X = np.random.normal(size=(N, 2))\n",
    "    Y = f(X) < 0.5\n",
    "    X += np.random.normal(size=(N,2), scale=0.2)\n",
    "    return X, Y\n",
    "X, Y = make_data()\n",
    "\n",
    "\n",
    "plt.figure(figsize=(5,5))\n",
    "plt.scatter(X[:,0], X[:,1], c=Y, edgecolors='k');"
   ]
  },
  {
   "cell_type": "code",
   "execution_count": 28,
   "id": "8417b12d",
   "metadata": {
    "ExecuteTime": {
     "end_time": "2024-04-24T10:47:57.909425777Z",
     "start_time": "2024-04-24T10:47:57.762850959Z"
    }
   },
   "outputs": [
    {
     "name": "stdout",
     "output_type": "stream",
     "text": [
      "[[ 2.61808687e-01 -2.04327780e-01]\n",
      " [ 2.53780222e+00 -3.46922612e-01]\n",
      " [ 2.46607024e-01  1.51024228e+00]\n",
      " [-1.02471839e+00 -8.38582558e-01]\n",
      " [ 2.64699204e-01 -4.15707956e-01]\n",
      " [-1.30454987e+00 -4.34676506e-01]\n",
      " [-6.31860102e-01  4.45623800e-01]\n",
      " [-1.51879657e+00 -8.62955411e-01]\n",
      " [ 1.44036291e+00  1.93898290e+00]\n",
      " [-1.47956653e+00  4.04199378e-01]\n",
      " [-5.89890149e-01 -1.14497985e+00]\n",
      " [-7.65064161e-01 -8.36422645e-02]\n",
      " [ 9.56650382e-01  5.75716135e-01]\n",
      " [ 5.53446187e-02 -1.80178359e-01]\n",
      " [ 2.75030289e-01  1.49570948e-02]\n",
      " [ 5.79170195e-01 -7.66409590e-01]\n",
      " [ 3.44867021e-02 -3.56300644e-01]\n",
      " [-1.00368817e-01  6.97408373e-01]\n",
      " [-1.38322920e-02  1.56696038e+00]\n",
      " [-2.73472493e-01  1.49338752e+00]\n",
      " [-3.19879247e-01 -7.78836048e-01]\n",
      " [ 7.97222221e-02  6.14802638e-01]\n",
      " [ 4.13050906e-01  1.43151760e+00]\n",
      " [ 9.78443411e-01  4.65430042e-01]\n",
      " [-2.95871679e-01  3.51255636e-02]\n",
      " [ 1.68190039e+00  2.13879760e-02]\n",
      " [-9.70863515e-01 -7.46808479e-01]\n",
      " [-6.27840626e-01  9.10515398e-01]\n",
      " [-1.20723002e-01  2.21446958e+00]\n",
      " [ 4.09718604e-01  6.65300785e-02]\n",
      " [-4.11432483e-01  8.89892538e-01]\n",
      " [-8.48590719e-02 -1.02906037e+00]\n",
      " [ 7.46109151e-01 -2.44381768e-02]\n",
      " [ 1.26351468e+00 -4.42630346e-01]\n",
      " [-2.83385879e+00  7.76986358e-01]\n",
      " [-1.69059930e+00  1.30277551e+00]\n",
      " [ 2.09417304e+00 -6.43557620e-01]\n",
      " [-9.01363073e-01 -1.28143490e+00]\n",
      " [ 7.21762342e-01  2.31834141e-01]\n",
      " [-8.37484802e-01 -2.77814543e-01]\n",
      " [ 2.12992810e+00  4.51276076e-01]\n",
      " [ 7.91004808e-01  9.36733646e-01]\n",
      " [ 1.11027030e+00  1.06789137e+00]\n",
      " [-8.96379032e-01 -2.84195203e-01]\n",
      " [-5.80264404e-01 -9.44463090e-01]\n",
      " [ 1.16370610e+00 -9.11434863e-01]\n",
      " [-2.18273550e-01 -1.01745846e+00]\n",
      " [-3.44494615e-01  4.23688105e-01]\n",
      " [-4.93351271e-01 -3.36431574e-01]\n",
      " [ 6.15334515e-01  6.55124270e-01]\n",
      " [ 1.00489338e+00  2.65465457e-01]\n",
      " [-1.58682129e+00  6.19468221e-01]\n",
      " [ 4.93201277e-01  6.66057481e-01]\n",
      " [-8.12727575e-01  2.77426300e+00]\n",
      " [-1.38197581e+00  4.93003831e-01]\n",
      " [ 6.42021172e-02 -2.60248848e-01]\n",
      " [ 1.05744723e+00 -5.81523170e-01]\n",
      " [-2.24561768e+00 -1.29852832e+00]\n",
      " [ 5.13152265e-01  1.78642504e+00]\n",
      " [-1.29690166e+00 -9.60636411e-02]\n",
      " [ 1.49173548e+00  5.70940114e-01]\n",
      " [-5.82414036e-01 -1.31681704e+00]\n",
      " [-1.87748540e+00 -8.85589014e-01]\n",
      " [-2.36570909e-01 -2.26583845e+00]\n",
      " [-1.83357770e+00  4.91506095e-01]\n",
      " [-5.27075801e-01 -7.61100788e-01]\n",
      " [-2.60674628e-01 -6.23882830e-01]\n",
      " [ 1.16754826e+00  1.97130285e+00]\n",
      " [ 2.08261217e+00  5.50162590e-01]\n",
      " [ 1.07675940e+00  1.74141701e+00]\n",
      " [ 1.67857656e+00  1.60544587e+00]\n",
      " [ 1.13676309e+00 -9.46112714e-01]\n",
      " [-1.39206338e+00  9.46363185e-01]\n",
      " [-6.93560935e-02  2.82330173e-01]\n",
      " [-6.02878306e-01 -1.42927618e+00]\n",
      " [ 1.18046141e+00  8.61603411e-02]\n",
      " [-1.06378816e+00  3.13195662e-01]\n",
      " [ 3.78239603e-01  5.24419240e-01]\n",
      " [ 2.10200434e+00 -1.15572041e-01]\n",
      " [-1.59122445e+00  2.82218649e-01]\n",
      " [-7.52867010e-01  6.71039050e-01]\n",
      " [ 7.89927952e-02  3.60672196e-01]\n",
      " [-4.41037808e-01  3.58918466e-01]\n",
      " [-6.73300083e-01  9.82301433e-01]\n",
      " [-3.40702092e-01 -1.00475182e+00]\n",
      " [ 4.82335546e-01 -8.60739487e-01]\n",
      " [ 1.70673296e+00  5.21188731e-01]\n",
      " [ 5.35887649e-01 -3.53786086e-01]\n",
      " [-1.92143020e-03 -2.21878539e+00]\n",
      " [ 1.27876933e+00 -8.43598783e-01]\n",
      " [ 1.19483158e+00 -5.89288969e-01]\n",
      " [-2.70059357e-02 -1.68561568e-02]\n",
      " [-8.38317272e-01 -4.34556951e-01]\n",
      " [ 5.43605732e-01 -5.66502659e-01]\n",
      " [-1.66564016e+00 -5.16130620e-01]\n",
      " [-9.77669019e-02  1.05390584e+00]\n",
      " [ 3.34096988e-01  8.31991729e-02]\n",
      " [-1.08955802e+00  9.05337777e-01]\n",
      " [-8.37613337e-02 -4.24869236e-01]\n",
      " [ 7.29905043e-01  9.24287348e-01]\n",
      " [ 4.05488541e-01 -1.17112434e+00]\n",
      " [-2.33682550e-01 -2.05241186e+00]\n",
      " [-2.19341585e-01 -1.76199304e-01]\n",
      " [ 8.53415340e-01 -1.74555715e-02]\n",
      " [-3.76565579e-01  2.09362887e+00]\n",
      " [-1.33985767e+00 -1.30412589e+00]\n",
      " [-8.97947332e-01  6.64305774e-01]\n",
      " [-3.05449677e-01 -3.38682926e-03]\n",
      " [-9.57099036e-01  1.43068890e+00]\n",
      " [-5.55883640e-01 -1.05275141e+00]\n",
      " [-2.71982478e-01 -1.09986059e+00]\n",
      " [-1.42259487e-02  1.63752433e+00]\n",
      " [-5.40613830e-01 -1.02845920e-01]\n",
      " [-4.66881360e-01  9.06766785e-03]\n",
      " [ 1.06042617e+00  3.55955446e-01]\n",
      " [-4.10931629e-01 -1.03937776e+00]\n",
      " [-9.26173901e-02  9.85100629e-01]\n",
      " [ 1.95524131e-01 -1.84030587e-01]\n",
      " [-2.00588336e+00  1.10074981e+00]\n",
      " [-1.37325709e+00 -1.35309234e+00]\n",
      " [-3.42837660e-01  1.05585574e-01]\n",
      " [ 2.20546679e-01 -7.50046656e-01]\n",
      " [-2.16270497e-01 -5.71650574e-01]\n",
      " [-2.00320732e+00 -1.15042679e-01]\n",
      " [-6.74160522e-01  6.29822936e-01]\n",
      " [-3.82647301e-01  8.23225528e-01]\n",
      " [ 7.61370655e-01  5.56085516e-01]\n",
      " [ 1.18158690e+00  6.03625171e-01]\n",
      " [-2.49411029e-01  1.30263177e+00]\n",
      " [-1.37451880e+00 -2.71678014e-02]\n",
      " [ 8.74474627e-01 -7.75937484e-02]\n",
      " [ 1.00371507e+00 -7.32511481e-01]\n",
      " [-3.55410024e-01  6.74015700e-02]\n",
      " [ 8.21310016e-01  1.41819227e+00]\n",
      " [ 1.03964280e-01  3.45673694e-01]\n",
      " [ 5.55029313e-01  3.94497137e-01]\n",
      " [-1.29797334e+00 -4.84306313e-01]\n",
      " [ 1.55727804e+00 -1.26290418e+00]\n",
      " [ 3.77586882e-01 -6.09594361e-02]\n",
      " [ 8.30133063e-01 -1.31386877e+00]\n",
      " [ 3.34149328e-01 -1.82378049e+00]\n",
      " [-4.21721316e-03  1.26912785e+00]\n",
      " [-1.41189263e+00  1.01920711e+00]\n",
      " [-6.91825306e-01 -2.98405078e-01]\n",
      " [-2.90455126e+00  9.05280600e-01]\n",
      " [-8.44443993e-01 -3.25443107e-01]\n",
      " [-1.40730728e+00 -9.00710870e-01]\n",
      " [ 7.17010764e-01 -7.23487882e-01]\n",
      " [ 1.00206889e+00  1.53603659e-02]\n",
      " [ 5.34737346e-01 -2.92426809e-01]\n",
      " [ 9.94138994e-02  2.48444247e+00]\n",
      " [ 1.36919211e-01  4.74663444e-01]\n",
      " [-4.28973928e-01  9.42998313e-01]\n",
      " [ 1.17381566e+00 -1.61619312e+00]\n",
      " [-1.27400038e+00  2.12849573e+00]\n",
      " [ 3.05232970e-01  1.37810541e-01]\n",
      " [ 5.80022094e-01  1.15022411e+00]\n",
      " [ 9.25255690e-01 -2.28465175e-01]\n",
      " [ 1.77461024e+00 -4.21733408e-02]\n",
      " [-8.00537963e-01 -6.44998441e-01]\n",
      " [-8.86679716e-02 -5.16183974e-01]\n",
      " [ 8.08184109e-02  3.96249910e-01]\n",
      " [-3.25591945e+00 -6.27293727e-01]\n",
      " [ 1.10304596e+00  5.81042010e-01]\n",
      " [-4.80441879e-01 -4.93424128e-01]\n",
      " [ 1.18337589e+00 -2.47171449e-01]\n",
      " [-7.51855004e-01  1.89434405e+00]\n",
      " [-3.34393455e-01  5.17542276e-01]\n",
      " [ 2.26614308e-01  4.99331813e-02]\n",
      " [-1.16166857e+00 -9.10563738e-01]\n",
      " [ 1.24962810e+00 -1.14598653e+00]\n",
      " [ 1.21297858e-01 -1.18741851e+00]\n",
      " [-5.31880682e-01 -1.23146424e-01]\n",
      " [-1.54274379e+00  1.00016147e+00]\n",
      " [-5.44981699e-02  1.37489755e+00]\n",
      " [-1.05330651e+00  4.31999346e-01]\n",
      " [ 2.51035012e+00  4.86009222e-01]\n",
      " [-9.65236862e-01  5.20694610e-01]\n",
      " [ 2.06118409e-01 -5.32993379e-01]\n",
      " [-2.27553082e-01 -3.27419480e-01]\n",
      " [ 4.70067070e-01 -3.81396951e-01]\n",
      " [-6.22601844e-01  7.00548558e-01]\n",
      " [-5.22759096e-01  2.91923444e+00]\n",
      " [-4.01829132e-01 -7.13783363e-01]\n",
      " [-3.12170851e-01  4.32419704e-01]\n",
      " [-6.58066034e-01 -1.37856813e+00]\n",
      " [ 1.76175784e+00 -7.93750277e-01]\n",
      " [ 1.40543658e+00 -7.46125797e-02]\n",
      " [-9.93741463e-01  1.52818118e+00]\n",
      " [-1.70187611e-01 -9.94569230e-01]\n",
      " [ 1.73022047e-01  1.33492333e+00]\n",
      " [ 7.55435832e-01  1.08972500e+00]\n",
      " [ 1.56983061e+00  2.33653769e-01]\n",
      " [ 4.49762149e-01 -4.59711633e-01]\n",
      " [-1.63413633e+00 -2.01297669e-01]\n",
      " [ 1.51967143e+00 -1.49740329e+00]\n",
      " [ 1.38031657e+00  8.57820509e-01]\n",
      " [-9.75477103e-01  1.32918443e-02]\n",
      " [ 2.23769296e+00 -6.74782523e-01]\n",
      " [ 1.24015578e+00  5.19156350e-01]]\n"
     ]
    }
   ],
   "source": [
    "print(X)"
   ]
  },
  {
   "cell_type": "code",
   "execution_count": 29,
   "id": "d028e2a4",
   "metadata": {
    "ExecuteTime": {
     "end_time": "2024-04-24T10:47:59.354333469Z",
     "start_time": "2024-04-24T10:47:59.164499085Z"
    }
   },
   "outputs": [
    {
     "name": "stdout",
     "output_type": "stream",
     "text": [
      "[ True False False False  True False False False False False False False\n",
      "  True  True  True  True  True  True False False  True  True False  True\n",
      " False False False False False  True False  True  True False False False\n",
      " False False  True False False  True  True False False False  True False\n",
      " False  True  True False  True False False  True  True False False False\n",
      " False False False False False False False False False False False False\n",
      " False  True False False False  True False False False  True False False\n",
      "  True  True False  True False False False  True False  True False False\n",
      "  True False  True  True  True False  True  True False False False False\n",
      " False False  True False False False  True  True False  True False False\n",
      " False  True  True False False False  True False False False  True  True\n",
      " False  True  True  True False False  True False False False False False\n",
      " False False False False  True  True False  True False False False  True\n",
      "  True  True False False  True False False  True False False False False\n",
      "  True False False  True False False False False False False  True  True\n",
      "  True False False  True False False False False False  True False  True\n",
      " False  True False False False False False  True]\n"
     ]
    }
   ],
   "source": [
    "print(Y)"
   ]
  },
  {
   "cell_type": "code",
   "execution_count": 30,
   "id": "adaa7c22",
   "metadata": {
    "ExecuteTime": {
     "end_time": "2024-04-24T10:48:00.840957025Z",
     "start_time": "2024-04-24T10:48:00.661394554Z"
    }
   },
   "outputs": [
    {
     "name": "stdout",
     "output_type": "stream",
     "text": [
      "[1 0 0 0 1 0 0 0 0 0 0 0 1 1 1 1 1 1 0 0 1 1 0 1 0 0 0 0 0 1 0 1 1 0 0 0 0\n",
      " 0 1 0 0 1 1 0 0 0 1 0 0 1 1 0 1 0 0 1 1 0 0 0 0 0 0 0 0 0 0 0 0 0 0 0 0 1\n",
      " 0 0 0 1 0 0 0 1 0 0 1 1 0 1 0 0 0 1 0 1 0 0 1 0 1 1 1 0 1 1 0 0 0 0 0 0 1\n",
      " 0 0 0 1 1 0 1 0 0 0 1 1 0 0 0 1 0 0 0 1 1 0 1 1 1 0 0 1 0 0 0 0 0 0 0 0 0\n",
      " 1 1 0 1 0 0 0 1 1 1 0 0 1 0 0 1 0 0 0 0 1 0 0 1 0 0 0 0 0 0 1 1 1 0 0 1 0\n",
      " 0 0 0 0 1 0 1 0 1 0 0 0 0 0 1]\n"
     ]
    }
   ],
   "source": [
    "Y = Y.astype(int)\n",
    "print(Y)"
   ]
  },
  {
   "cell_type": "code",
   "execution_count": 76,
   "id": "9b3d8be4",
   "metadata": {
    "ExecuteTime": {
     "end_time": "2024-04-24T11:02:52.592850087Z",
     "start_time": "2024-04-24T11:02:52.356430229Z"
    }
   },
   "outputs": [
    {
     "data": {
      "text/plain": "           x1        x2  y\n0    0.261809 -0.204328  1\n1    2.537802 -0.346923  0\n2    0.246607  1.510242  0\n3   -1.024718 -0.838583  0\n4    0.264699 -0.415708  1\n..        ...       ... ..\n195  1.519671 -1.497403  0\n196  1.380317  0.857821  0\n197 -0.975477  0.013292  0\n198  2.237693 -0.674783  0\n199  1.240156  0.519156  1\n\n[200 rows x 3 columns]",
      "text/html": "<div>\n<style scoped>\n    .dataframe tbody tr th:only-of-type {\n        vertical-align: middle;\n    }\n\n    .dataframe tbody tr th {\n        vertical-align: top;\n    }\n\n    .dataframe thead th {\n        text-align: right;\n    }\n</style>\n<table border=\"1\" class=\"dataframe\">\n  <thead>\n    <tr style=\"text-align: right;\">\n      <th></th>\n      <th>x1</th>\n      <th>x2</th>\n      <th>y</th>\n    </tr>\n  </thead>\n  <tbody>\n    <tr>\n      <th>0</th>\n      <td>0.261809</td>\n      <td>-0.204328</td>\n      <td>1</td>\n    </tr>\n    <tr>\n      <th>1</th>\n      <td>2.537802</td>\n      <td>-0.346923</td>\n      <td>0</td>\n    </tr>\n    <tr>\n      <th>2</th>\n      <td>0.246607</td>\n      <td>1.510242</td>\n      <td>0</td>\n    </tr>\n    <tr>\n      <th>3</th>\n      <td>-1.024718</td>\n      <td>-0.838583</td>\n      <td>0</td>\n    </tr>\n    <tr>\n      <th>4</th>\n      <td>0.264699</td>\n      <td>-0.415708</td>\n      <td>1</td>\n    </tr>\n    <tr>\n      <th>...</th>\n      <td>...</td>\n      <td>...</td>\n      <td>...</td>\n    </tr>\n    <tr>\n      <th>195</th>\n      <td>1.519671</td>\n      <td>-1.497403</td>\n      <td>0</td>\n    </tr>\n    <tr>\n      <th>196</th>\n      <td>1.380317</td>\n      <td>0.857821</td>\n      <td>0</td>\n    </tr>\n    <tr>\n      <th>197</th>\n      <td>-0.975477</td>\n      <td>0.013292</td>\n      <td>0</td>\n    </tr>\n    <tr>\n      <th>198</th>\n      <td>2.237693</td>\n      <td>-0.674783</td>\n      <td>0</td>\n    </tr>\n    <tr>\n      <th>199</th>\n      <td>1.240156</td>\n      <td>0.519156</td>\n      <td>1</td>\n    </tr>\n  </tbody>\n</table>\n<p>200 rows × 3 columns</p>\n</div>"
     },
     "execution_count": 76,
     "metadata": {},
     "output_type": "execute_result"
    }
   ],
   "source": [
    "data = {'x1': X[:, 0], 'x2': X[:, 1], 'y': Y}\n",
    "dataset = pd.DataFrame(data)\n",
    "dataset"
   ]
  },
  {
   "cell_type": "code",
   "execution_count": 77,
   "id": "9303840d",
   "metadata": {
    "ExecuteTime": {
     "end_time": "2024-04-24T11:02:56.312158709Z",
     "start_time": "2024-04-24T11:02:56.139868935Z"
    }
   },
   "outputs": [],
   "source": [
    "x = dataset[['x1', 'x2']].values\n",
    "y = dataset[['y']].values"
   ]
  },
  {
   "cell_type": "code",
   "execution_count": 78,
   "id": "a50220db",
   "metadata": {
    "ExecuteTime": {
     "end_time": "2024-04-24T11:02:57.403830591Z",
     "start_time": "2024-04-24T11:02:57.224544200Z"
    }
   },
   "outputs": [
    {
     "name": "stdout",
     "output_type": "stream",
     "text": [
      "(200, 2)\n",
      "(200, 1)\n"
     ]
    }
   ],
   "source": [
    "print(x.shape)\n",
    "print(y.shape)"
   ]
  },
  {
   "cell_type": "code",
   "execution_count": 79,
   "id": "23a26250",
   "metadata": {
    "ExecuteTime": {
     "end_time": "2024-04-24T11:02:58.205264920Z",
     "start_time": "2024-04-24T11:02:58.022324329Z"
    }
   },
   "outputs": [
    {
     "name": "stdout",
     "output_type": "stream",
     "text": [
      "(160, 2)\n",
      "(40, 2)\n",
      "(160, 1)\n",
      "(40, 1)\n"
     ]
    }
   ],
   "source": [
    "X_train, X_test, y_train, y_test = train_test_split(x, y, test_size=0.2, random_state=42)\n",
    "\n",
    "print(X_train.shape)\n",
    "print(X_test.shape)\n",
    "print(y_train.shape)\n",
    "print(y_test.shape)"
   ]
  },
  {
   "cell_type": "code",
   "execution_count": 80,
   "id": "7122c646",
   "metadata": {
    "ExecuteTime": {
     "end_time": "2024-04-24T11:02:59.196649435Z",
     "start_time": "2024-04-24T11:02:58.783518795Z"
    }
   },
   "outputs": [
    {
     "name": "stdout",
     "output_type": "stream",
     "text": [
      "Best polynomial degree: 5\n"
     ]
    }
   ],
   "source": [
    "# X_train = np.array(X_train).reshape(-1, 1)\n",
    "# Define maximum polynomial degree\n",
    "max_degree = 10\n",
    "\n",
    "# Initialize lists to store BIC values and models\n",
    "bic_values = []\n",
    "models = []\n",
    "\n",
    "# Loop over polynomial degrees\n",
    "for degree in range(1, max_degree+1):\n",
    "    # Create polynomial features\n",
    "    poly_features = PolynomialFeatures(degree=degree)\n",
    "    X_train_poly = poly_features.fit_transform(X_train)\n",
    "    \n",
    "    # Fit polynomial regression model\n",
    "    model = LinearRegression()\n",
    "    model.fit(X_train_poly, y_train)\n",
    "    \n",
    "    # Compute number of parameters\n",
    "    num_params = X_train_poly.shape[1]\n",
    "    \n",
    "    # Compute log-likelihood\n",
    "    y_train_pred = model.predict(X_train_poly)\n",
    "    log_likelihood = -0.5 * len(X_train) * np.log(mean_squared_error(y_train, y_train_pred))\n",
    "    \n",
    "    # Compute BIC\n",
    "    bic = -2 * log_likelihood + num_params * np.log(len(X_train))\n",
    "    \n",
    "    # Append BIC value and model\n",
    "    bic_values.append(bic)\n",
    "    models.append(model)\n",
    "\n",
    "# Find index of model with lowest BIC\n",
    "best_model_idx = np.argmin(bic_values)\n",
    "best_model = models[best_model_idx]\n",
    "best_degree = best_model_idx + 1\n",
    "\n",
    "print(f\"Best polynomial degree: {best_degree}\")"
   ]
  },
  {
   "cell_type": "code",
   "execution_count": 81,
   "id": "d510747a",
   "metadata": {
    "ExecuteTime": {
     "end_time": "2024-04-24T11:03:00.694393090Z",
     "start_time": "2024-04-24T11:02:59.554153394Z"
    }
   },
   "outputs": [
    {
     "data": {
      "text/plain": "<Figure size 640x480 with 1 Axes>",
      "image/svg+xml": "<?xml version=\"1.0\" encoding=\"utf-8\" standalone=\"no\"?>\n<!DOCTYPE svg PUBLIC \"-//W3C//DTD SVG 1.1//EN\"\n  \"http://www.w3.org/Graphics/SVG/1.1/DTD/svg11.dtd\">\n<svg xmlns:xlink=\"http://www.w3.org/1999/xlink\" width=\"412.517812pt\" height=\"324.755062pt\" viewBox=\"0 0 412.517812 324.755062\" xmlns=\"http://www.w3.org/2000/svg\" version=\"1.1\">\n <metadata>\n  <rdf:RDF xmlns:dc=\"http://purl.org/dc/elements/1.1/\" xmlns:cc=\"http://creativecommons.org/ns#\" xmlns:rdf=\"http://www.w3.org/1999/02/22-rdf-syntax-ns#\">\n   <cc:Work>\n    <dc:type rdf:resource=\"http://purl.org/dc/dcmitype/StillImage\"/>\n    <dc:date>2024-04-24T12:03:00.237768</dc:date>\n    <dc:format>image/svg+xml</dc:format>\n    <dc:creator>\n     <cc:Agent>\n      <dc:title>Matplotlib v3.8.3, https://matplotlib.org/</dc:title>\n     </cc:Agent>\n    </dc:creator>\n   </cc:Work>\n  </rdf:RDF>\n </metadata>\n <defs>\n  <style type=\"text/css\">*{stroke-linejoin: round; stroke-linecap: butt}</style>\n </defs>\n <g id=\"figure_1\">\n  <g id=\"patch_1\">\n   <path d=\"M 0 324.755062 \nL 412.517812 324.755062 \nL 412.517812 0 \nL 0 0 \nz\n\" style=\"fill: #ffffff\"/>\n  </g>\n  <g id=\"axes_1\">\n   <g id=\"patch_2\">\n    <path d=\"M 48.197813 289.79475 \nL 405.317813 289.79475 \nL 405.317813 23.68275 \nL 48.197813 23.68275 \nz\n\" style=\"fill: #eeeeee\"/>\n   </g>\n   <g id=\"matplotlib.axis_1\">\n    <g id=\"xtick_1\">\n     <g id=\"line2d_1\">\n      <path d=\"M 64.43054 289.79475 \nL 64.43054 23.68275 \n\" clip-path=\"url(#p76bba72a8a)\" style=\"fill: none; stroke-dasharray: 1.85,0.8; stroke-dashoffset: 0; stroke: #b2b2b2; stroke-width: 0.5\"/>\n     </g>\n     <g id=\"text_1\">\n      <!-- 1 -->\n      <g style=\"fill: #262626\" transform=\"translate(61.650071 300.452562) scale(0.1 -0.1)\">\n       <defs>\n        <path id=\"ArialMT-31\" d=\"M 2384 0 \nL 1822 0 \nL 1822 3584 \nQ 1619 3391 1289 3197 \nQ 959 3003 697 2906 \nL 697 3450 \nQ 1169 3672 1522 3987 \nQ 1875 4303 2022 4600 \nL 2384 4600 \nL 2384 0 \nz\n\" transform=\"scale(0.015625)\"/>\n       </defs>\n       <use xlink:href=\"#ArialMT-31\"/>\n      </g>\n     </g>\n    </g>\n    <g id=\"xtick_2\">\n     <g id=\"line2d_2\">\n      <path d=\"M 100.503267 289.79475 \nL 100.503267 23.68275 \n\" clip-path=\"url(#p76bba72a8a)\" style=\"fill: none; stroke-dasharray: 1.85,0.8; stroke-dashoffset: 0; stroke: #b2b2b2; stroke-width: 0.5\"/>\n     </g>\n     <g id=\"text_2\">\n      <!-- 2 -->\n      <g style=\"fill: #262626\" transform=\"translate(97.722798 300.452562) scale(0.1 -0.1)\">\n       <defs>\n        <path id=\"ArialMT-32\" d=\"M 3222 541 \nL 3222 0 \nL 194 0 \nQ 188 203 259 391 \nQ 375 700 629 1000 \nQ 884 1300 1366 1694 \nQ 2113 2306 2375 2664 \nQ 2638 3022 2638 3341 \nQ 2638 3675 2398 3904 \nQ 2159 4134 1775 4134 \nQ 1369 4134 1125 3890 \nQ 881 3647 878 3216 \nL 300 3275 \nQ 359 3922 746 4261 \nQ 1134 4600 1788 4600 \nQ 2447 4600 2831 4234 \nQ 3216 3869 3216 3328 \nQ 3216 3053 3103 2787 \nQ 2991 2522 2730 2228 \nQ 2469 1934 1863 1422 \nQ 1356 997 1212 845 \nQ 1069 694 975 541 \nL 3222 541 \nz\n\" transform=\"scale(0.015625)\"/>\n       </defs>\n       <use xlink:href=\"#ArialMT-32\"/>\n      </g>\n     </g>\n    </g>\n    <g id=\"xtick_3\">\n     <g id=\"line2d_3\">\n      <path d=\"M 136.575994 289.79475 \nL 136.575994 23.68275 \n\" clip-path=\"url(#p76bba72a8a)\" style=\"fill: none; stroke-dasharray: 1.85,0.8; stroke-dashoffset: 0; stroke: #b2b2b2; stroke-width: 0.5\"/>\n     </g>\n     <g id=\"text_3\">\n      <!-- 3 -->\n      <g style=\"fill: #262626\" transform=\"translate(133.795526 300.452562) scale(0.1 -0.1)\">\n       <defs>\n        <path id=\"ArialMT-33\" d=\"M 269 1209 \nL 831 1284 \nQ 928 806 1161 595 \nQ 1394 384 1728 384 \nQ 2125 384 2398 659 \nQ 2672 934 2672 1341 \nQ 2672 1728 2419 1979 \nQ 2166 2231 1775 2231 \nQ 1616 2231 1378 2169 \nL 1441 2663 \nQ 1497 2656 1531 2656 \nQ 1891 2656 2178 2843 \nQ 2466 3031 2466 3422 \nQ 2466 3731 2256 3934 \nQ 2047 4138 1716 4138 \nQ 1388 4138 1169 3931 \nQ 950 3725 888 3313 \nL 325 3413 \nQ 428 3978 793 4289 \nQ 1159 4600 1703 4600 \nQ 2078 4600 2393 4439 \nQ 2709 4278 2876 4000 \nQ 3044 3722 3044 3409 \nQ 3044 3113 2884 2869 \nQ 2725 2625 2413 2481 \nQ 2819 2388 3044 2092 \nQ 3269 1797 3269 1353 \nQ 3269 753 2831 336 \nQ 2394 -81 1725 -81 \nQ 1122 -81 723 278 \nQ 325 638 269 1209 \nz\n\" transform=\"scale(0.015625)\"/>\n       </defs>\n       <use xlink:href=\"#ArialMT-33\"/>\n      </g>\n     </g>\n    </g>\n    <g id=\"xtick_4\">\n     <g id=\"line2d_4\">\n      <path d=\"M 172.648722 289.79475 \nL 172.648722 23.68275 \n\" clip-path=\"url(#p76bba72a8a)\" style=\"fill: none; stroke-dasharray: 1.85,0.8; stroke-dashoffset: 0; stroke: #b2b2b2; stroke-width: 0.5\"/>\n     </g>\n     <g id=\"text_4\">\n      <!-- 4 -->\n      <g style=\"fill: #262626\" transform=\"translate(169.868253 300.452562) scale(0.1 -0.1)\">\n       <defs>\n        <path id=\"ArialMT-34\" d=\"M 2069 0 \nL 2069 1097 \nL 81 1097 \nL 81 1613 \nL 2172 4581 \nL 2631 4581 \nL 2631 1613 \nL 3250 1613 \nL 3250 1097 \nL 2631 1097 \nL 2631 0 \nL 2069 0 \nz\nM 2069 1613 \nL 2069 3678 \nL 634 1613 \nL 2069 1613 \nz\n\" transform=\"scale(0.015625)\"/>\n       </defs>\n       <use xlink:href=\"#ArialMT-34\"/>\n      </g>\n     </g>\n    </g>\n    <g id=\"xtick_5\">\n     <g id=\"line2d_5\">\n      <path d=\"M 208.721449 289.79475 \nL 208.721449 23.68275 \n\" clip-path=\"url(#p76bba72a8a)\" style=\"fill: none; stroke-dasharray: 1.85,0.8; stroke-dashoffset: 0; stroke: #b2b2b2; stroke-width: 0.5\"/>\n     </g>\n     <g id=\"text_5\">\n      <!-- 5 -->\n      <g style=\"fill: #262626\" transform=\"translate(205.94098 300.452562) scale(0.1 -0.1)\">\n       <defs>\n        <path id=\"ArialMT-35\" d=\"M 266 1200 \nL 856 1250 \nQ 922 819 1161 601 \nQ 1400 384 1738 384 \nQ 2144 384 2425 690 \nQ 2706 997 2706 1503 \nQ 2706 1984 2436 2262 \nQ 2166 2541 1728 2541 \nQ 1456 2541 1237 2417 \nQ 1019 2294 894 2097 \nL 366 2166 \nL 809 4519 \nL 3088 4519 \nL 3088 3981 \nL 1259 3981 \nL 1013 2750 \nQ 1425 3038 1878 3038 \nQ 2478 3038 2890 2622 \nQ 3303 2206 3303 1553 \nQ 3303 931 2941 478 \nQ 2500 -78 1738 -78 \nQ 1113 -78 717 272 \nQ 322 622 266 1200 \nz\n\" transform=\"scale(0.015625)\"/>\n       </defs>\n       <use xlink:href=\"#ArialMT-35\"/>\n      </g>\n     </g>\n    </g>\n    <g id=\"xtick_6\">\n     <g id=\"line2d_6\">\n      <path d=\"M 244.794176 289.79475 \nL 244.794176 23.68275 \n\" clip-path=\"url(#p76bba72a8a)\" style=\"fill: none; stroke-dasharray: 1.85,0.8; stroke-dashoffset: 0; stroke: #b2b2b2; stroke-width: 0.5\"/>\n     </g>\n     <g id=\"text_6\">\n      <!-- 6 -->\n      <g style=\"fill: #262626\" transform=\"translate(242.013707 300.452562) scale(0.1 -0.1)\">\n       <defs>\n        <path id=\"ArialMT-36\" d=\"M 3184 3459 \nL 2625 3416 \nQ 2550 3747 2413 3897 \nQ 2184 4138 1850 4138 \nQ 1581 4138 1378 3988 \nQ 1113 3794 959 3422 \nQ 806 3050 800 2363 \nQ 1003 2672 1297 2822 \nQ 1591 2972 1913 2972 \nQ 2475 2972 2870 2558 \nQ 3266 2144 3266 1488 \nQ 3266 1056 3080 686 \nQ 2894 316 2569 119 \nQ 2244 -78 1831 -78 \nQ 1128 -78 684 439 \nQ 241 956 241 2144 \nQ 241 3472 731 4075 \nQ 1159 4600 1884 4600 \nQ 2425 4600 2770 4297 \nQ 3116 3994 3184 3459 \nz\nM 888 1484 \nQ 888 1194 1011 928 \nQ 1134 663 1356 523 \nQ 1578 384 1822 384 \nQ 2178 384 2434 671 \nQ 2691 959 2691 1453 \nQ 2691 1928 2437 2201 \nQ 2184 2475 1800 2475 \nQ 1419 2475 1153 2201 \nQ 888 1928 888 1484 \nz\n\" transform=\"scale(0.015625)\"/>\n       </defs>\n       <use xlink:href=\"#ArialMT-36\"/>\n      </g>\n     </g>\n    </g>\n    <g id=\"xtick_7\">\n     <g id=\"line2d_7\">\n      <path d=\"M 280.866903 289.79475 \nL 280.866903 23.68275 \n\" clip-path=\"url(#p76bba72a8a)\" style=\"fill: none; stroke-dasharray: 1.85,0.8; stroke-dashoffset: 0; stroke: #b2b2b2; stroke-width: 0.5\"/>\n     </g>\n     <g id=\"text_7\">\n      <!-- 7 -->\n      <g style=\"fill: #262626\" transform=\"translate(278.086435 300.452562) scale(0.1 -0.1)\">\n       <defs>\n        <path id=\"ArialMT-37\" d=\"M 303 3981 \nL 303 4522 \nL 3269 4522 \nL 3269 4084 \nQ 2831 3619 2401 2847 \nQ 1972 2075 1738 1259 \nQ 1569 684 1522 0 \nL 944 0 \nQ 953 541 1156 1306 \nQ 1359 2072 1739 2783 \nQ 2119 3494 2547 3981 \nL 303 3981 \nz\n\" transform=\"scale(0.015625)\"/>\n       </defs>\n       <use xlink:href=\"#ArialMT-37\"/>\n      </g>\n     </g>\n    </g>\n    <g id=\"xtick_8\">\n     <g id=\"line2d_8\">\n      <path d=\"M 316.939631 289.79475 \nL 316.939631 23.68275 \n\" clip-path=\"url(#p76bba72a8a)\" style=\"fill: none; stroke-dasharray: 1.85,0.8; stroke-dashoffset: 0; stroke: #b2b2b2; stroke-width: 0.5\"/>\n     </g>\n     <g id=\"text_8\">\n      <!-- 8 -->\n      <g style=\"fill: #262626\" transform=\"translate(314.159162 300.452562) scale(0.1 -0.1)\">\n       <defs>\n        <path id=\"ArialMT-38\" d=\"M 1131 2484 \nQ 781 2613 612 2850 \nQ 444 3088 444 3419 \nQ 444 3919 803 4259 \nQ 1163 4600 1759 4600 \nQ 2359 4600 2725 4251 \nQ 3091 3903 3091 3403 \nQ 3091 3084 2923 2848 \nQ 2756 2613 2416 2484 \nQ 2838 2347 3058 2040 \nQ 3278 1734 3278 1309 \nQ 3278 722 2862 322 \nQ 2447 -78 1769 -78 \nQ 1091 -78 675 323 \nQ 259 725 259 1325 \nQ 259 1772 486 2073 \nQ 713 2375 1131 2484 \nz\nM 1019 3438 \nQ 1019 3113 1228 2906 \nQ 1438 2700 1772 2700 \nQ 2097 2700 2305 2904 \nQ 2513 3109 2513 3406 \nQ 2513 3716 2298 3927 \nQ 2084 4138 1766 4138 \nQ 1444 4138 1231 3931 \nQ 1019 3725 1019 3438 \nz\nM 838 1322 \nQ 838 1081 952 856 \nQ 1066 631 1291 507 \nQ 1516 384 1775 384 \nQ 2178 384 2440 643 \nQ 2703 903 2703 1303 \nQ 2703 1709 2433 1975 \nQ 2163 2241 1756 2241 \nQ 1359 2241 1098 1978 \nQ 838 1716 838 1322 \nz\n\" transform=\"scale(0.015625)\"/>\n       </defs>\n       <use xlink:href=\"#ArialMT-38\"/>\n      </g>\n     </g>\n    </g>\n    <g id=\"xtick_9\">\n     <g id=\"line2d_9\">\n      <path d=\"M 353.012358 289.79475 \nL 353.012358 23.68275 \n\" clip-path=\"url(#p76bba72a8a)\" style=\"fill: none; stroke-dasharray: 1.85,0.8; stroke-dashoffset: 0; stroke: #b2b2b2; stroke-width: 0.5\"/>\n     </g>\n     <g id=\"text_9\">\n      <!-- 9 -->\n      <g style=\"fill: #262626\" transform=\"translate(350.231889 300.452562) scale(0.1 -0.1)\">\n       <defs>\n        <path id=\"ArialMT-39\" d=\"M 350 1059 \nL 891 1109 \nQ 959 728 1153 556 \nQ 1347 384 1650 384 \nQ 1909 384 2104 503 \nQ 2300 622 2425 820 \nQ 2550 1019 2634 1356 \nQ 2719 1694 2719 2044 \nQ 2719 2081 2716 2156 \nQ 2547 1888 2255 1720 \nQ 1963 1553 1622 1553 \nQ 1053 1553 659 1965 \nQ 266 2378 266 3053 \nQ 266 3750 677 4175 \nQ 1088 4600 1706 4600 \nQ 2153 4600 2523 4359 \nQ 2894 4119 3086 3673 \nQ 3278 3228 3278 2384 \nQ 3278 1506 3087 986 \nQ 2897 466 2520 194 \nQ 2144 -78 1638 -78 \nQ 1100 -78 759 220 \nQ 419 519 350 1059 \nz\nM 2653 3081 \nQ 2653 3566 2395 3850 \nQ 2138 4134 1775 4134 \nQ 1400 4134 1122 3828 \nQ 844 3522 844 3034 \nQ 844 2597 1108 2323 \nQ 1372 2050 1759 2050 \nQ 2150 2050 2401 2323 \nQ 2653 2597 2653 3081 \nz\n\" transform=\"scale(0.015625)\"/>\n       </defs>\n       <use xlink:href=\"#ArialMT-39\"/>\n      </g>\n     </g>\n    </g>\n    <g id=\"xtick_10\">\n     <g id=\"line2d_10\">\n      <path d=\"M 389.085085 289.79475 \nL 389.085085 23.68275 \n\" clip-path=\"url(#p76bba72a8a)\" style=\"fill: none; stroke-dasharray: 1.85,0.8; stroke-dashoffset: 0; stroke: #b2b2b2; stroke-width: 0.5\"/>\n     </g>\n     <g id=\"text_10\">\n      <!-- 10 -->\n      <g style=\"fill: #262626\" transform=\"translate(383.524148 300.452562) scale(0.1 -0.1)\">\n       <defs>\n        <path id=\"ArialMT-30\" d=\"M 266 2259 \nQ 266 3072 433 3567 \nQ 600 4063 929 4331 \nQ 1259 4600 1759 4600 \nQ 2128 4600 2406 4451 \nQ 2684 4303 2865 4023 \nQ 3047 3744 3150 3342 \nQ 3253 2941 3253 2259 \nQ 3253 1453 3087 958 \nQ 2922 463 2592 192 \nQ 2263 -78 1759 -78 \nQ 1097 -78 719 397 \nQ 266 969 266 2259 \nz\nM 844 2259 \nQ 844 1131 1108 757 \nQ 1372 384 1759 384 \nQ 2147 384 2411 759 \nQ 2675 1134 2675 2259 \nQ 2675 3391 2411 3762 \nQ 2147 4134 1753 4134 \nQ 1366 4134 1134 3806 \nQ 844 3388 844 2259 \nz\n\" transform=\"scale(0.015625)\"/>\n       </defs>\n       <use xlink:href=\"#ArialMT-31\"/>\n       <use xlink:href=\"#ArialMT-30\" x=\"55.615234\"/>\n      </g>\n     </g>\n    </g>\n    <g id=\"text_11\">\n     <!-- Polynomial Degree -->\n     <g style=\"fill: #262626\" transform=\"translate(176.068125 315.029437) scale(0.12 -0.12)\">\n      <defs>\n       <path id=\"ArialMT-50\" d=\"M 494 0 \nL 494 4581 \nL 2222 4581 \nQ 2678 4581 2919 4538 \nQ 3256 4481 3484 4323 \nQ 3713 4166 3852 3881 \nQ 3991 3597 3991 3256 \nQ 3991 2672 3619 2267 \nQ 3247 1863 2275 1863 \nL 1100 1863 \nL 1100 0 \nL 494 0 \nz\nM 1100 2403 \nL 2284 2403 \nQ 2872 2403 3119 2622 \nQ 3366 2841 3366 3238 \nQ 3366 3525 3220 3729 \nQ 3075 3934 2838 4000 \nQ 2684 4041 2272 4041 \nL 1100 4041 \nL 1100 2403 \nz\n\" transform=\"scale(0.015625)\"/>\n       <path id=\"ArialMT-6f\" d=\"M 213 1659 \nQ 213 2581 725 3025 \nQ 1153 3394 1769 3394 \nQ 2453 3394 2887 2945 \nQ 3322 2497 3322 1706 \nQ 3322 1066 3130 698 \nQ 2938 331 2570 128 \nQ 2203 -75 1769 -75 \nQ 1072 -75 642 372 \nQ 213 819 213 1659 \nz\nM 791 1659 \nQ 791 1022 1069 705 \nQ 1347 388 1769 388 \nQ 2188 388 2466 706 \nQ 2744 1025 2744 1678 \nQ 2744 2294 2464 2611 \nQ 2184 2928 1769 2928 \nQ 1347 2928 1069 2612 \nQ 791 2297 791 1659 \nz\n\" transform=\"scale(0.015625)\"/>\n       <path id=\"ArialMT-6c\" d=\"M 409 0 \nL 409 4581 \nL 972 4581 \nL 972 0 \nL 409 0 \nz\n\" transform=\"scale(0.015625)\"/>\n       <path id=\"ArialMT-79\" d=\"M 397 -1278 \nL 334 -750 \nQ 519 -800 656 -800 \nQ 844 -800 956 -737 \nQ 1069 -675 1141 -563 \nQ 1194 -478 1313 -144 \nQ 1328 -97 1363 -6 \nL 103 3319 \nL 709 3319 \nL 1400 1397 \nQ 1534 1031 1641 628 \nQ 1738 1016 1872 1384 \nL 2581 3319 \nL 3144 3319 \nL 1881 -56 \nQ 1678 -603 1566 -809 \nQ 1416 -1088 1222 -1217 \nQ 1028 -1347 759 -1347 \nQ 597 -1347 397 -1278 \nz\n\" transform=\"scale(0.015625)\"/>\n       <path id=\"ArialMT-6e\" d=\"M 422 0 \nL 422 3319 \nL 928 3319 \nL 928 2847 \nQ 1294 3394 1984 3394 \nQ 2284 3394 2536 3286 \nQ 2788 3178 2913 3003 \nQ 3038 2828 3088 2588 \nQ 3119 2431 3119 2041 \nL 3119 0 \nL 2556 0 \nL 2556 2019 \nQ 2556 2363 2490 2533 \nQ 2425 2703 2258 2804 \nQ 2091 2906 1866 2906 \nQ 1506 2906 1245 2678 \nQ 984 2450 984 1813 \nL 984 0 \nL 422 0 \nz\n\" transform=\"scale(0.015625)\"/>\n       <path id=\"ArialMT-6d\" d=\"M 422 0 \nL 422 3319 \nL 925 3319 \nL 925 2853 \nQ 1081 3097 1340 3245 \nQ 1600 3394 1931 3394 \nQ 2300 3394 2536 3241 \nQ 2772 3088 2869 2813 \nQ 3263 3394 3894 3394 \nQ 4388 3394 4653 3120 \nQ 4919 2847 4919 2278 \nL 4919 0 \nL 4359 0 \nL 4359 2091 \nQ 4359 2428 4304 2576 \nQ 4250 2725 4106 2815 \nQ 3963 2906 3769 2906 \nQ 3419 2906 3187 2673 \nQ 2956 2441 2956 1928 \nL 2956 0 \nL 2394 0 \nL 2394 2156 \nQ 2394 2531 2256 2718 \nQ 2119 2906 1806 2906 \nQ 1569 2906 1367 2781 \nQ 1166 2656 1075 2415 \nQ 984 2175 984 1722 \nL 984 0 \nL 422 0 \nz\n\" transform=\"scale(0.015625)\"/>\n       <path id=\"ArialMT-69\" d=\"M 425 3934 \nL 425 4581 \nL 988 4581 \nL 988 3934 \nL 425 3934 \nz\nM 425 0 \nL 425 3319 \nL 988 3319 \nL 988 0 \nL 425 0 \nz\n\" transform=\"scale(0.015625)\"/>\n       <path id=\"ArialMT-61\" d=\"M 2588 409 \nQ 2275 144 1986 34 \nQ 1697 -75 1366 -75 \nQ 819 -75 525 192 \nQ 231 459 231 875 \nQ 231 1119 342 1320 \nQ 453 1522 633 1644 \nQ 813 1766 1038 1828 \nQ 1203 1872 1538 1913 \nQ 2219 1994 2541 2106 \nQ 2544 2222 2544 2253 \nQ 2544 2597 2384 2738 \nQ 2169 2928 1744 2928 \nQ 1347 2928 1158 2789 \nQ 969 2650 878 2297 \nL 328 2372 \nQ 403 2725 575 2942 \nQ 747 3159 1072 3276 \nQ 1397 3394 1825 3394 \nQ 2250 3394 2515 3294 \nQ 2781 3194 2906 3042 \nQ 3031 2891 3081 2659 \nQ 3109 2516 3109 2141 \nL 3109 1391 \nQ 3109 606 3145 398 \nQ 3181 191 3288 0 \nL 2700 0 \nQ 2613 175 2588 409 \nz\nM 2541 1666 \nQ 2234 1541 1622 1453 \nQ 1275 1403 1131 1340 \nQ 988 1278 909 1158 \nQ 831 1038 831 891 \nQ 831 666 1001 516 \nQ 1172 366 1500 366 \nQ 1825 366 2078 508 \nQ 2331 650 2450 897 \nQ 2541 1088 2541 1459 \nL 2541 1666 \nz\n\" transform=\"scale(0.015625)\"/>\n       <path id=\"ArialMT-20\" transform=\"scale(0.015625)\"/>\n       <path id=\"ArialMT-44\" d=\"M 494 0 \nL 494 4581 \nL 2072 4581 \nQ 2606 4581 2888 4516 \nQ 3281 4425 3559 4188 \nQ 3922 3881 4101 3404 \nQ 4281 2928 4281 2316 \nQ 4281 1794 4159 1391 \nQ 4038 988 3847 723 \nQ 3656 459 3429 307 \nQ 3203 156 2883 78 \nQ 2563 0 2147 0 \nL 494 0 \nz\nM 1100 541 \nL 2078 541 \nQ 2531 541 2789 625 \nQ 3047 709 3200 863 \nQ 3416 1078 3536 1442 \nQ 3656 1806 3656 2325 \nQ 3656 3044 3420 3430 \nQ 3184 3816 2847 3947 \nQ 2603 4041 2063 4041 \nL 1100 4041 \nL 1100 541 \nz\n\" transform=\"scale(0.015625)\"/>\n       <path id=\"ArialMT-65\" d=\"M 2694 1069 \nL 3275 997 \nQ 3138 488 2766 206 \nQ 2394 -75 1816 -75 \nQ 1088 -75 661 373 \nQ 234 822 234 1631 \nQ 234 2469 665 2931 \nQ 1097 3394 1784 3394 \nQ 2450 3394 2872 2941 \nQ 3294 2488 3294 1666 \nQ 3294 1616 3291 1516 \nL 816 1516 \nQ 847 969 1125 678 \nQ 1403 388 1819 388 \nQ 2128 388 2347 550 \nQ 2566 713 2694 1069 \nz\nM 847 1978 \nL 2700 1978 \nQ 2663 2397 2488 2606 \nQ 2219 2931 1791 2931 \nQ 1403 2931 1139 2672 \nQ 875 2413 847 1978 \nz\n\" transform=\"scale(0.015625)\"/>\n       <path id=\"ArialMT-67\" d=\"M 319 -275 \nL 866 -356 \nQ 900 -609 1056 -725 \nQ 1266 -881 1628 -881 \nQ 2019 -881 2231 -725 \nQ 2444 -569 2519 -288 \nQ 2563 -116 2559 434 \nQ 2191 0 1641 0 \nQ 956 0 581 494 \nQ 206 988 206 1678 \nQ 206 2153 378 2554 \nQ 550 2956 876 3175 \nQ 1203 3394 1644 3394 \nQ 2231 3394 2613 2919 \nL 2613 3319 \nL 3131 3319 \nL 3131 450 \nQ 3131 -325 2973 -648 \nQ 2816 -972 2473 -1159 \nQ 2131 -1347 1631 -1347 \nQ 1038 -1347 672 -1080 \nQ 306 -813 319 -275 \nz\nM 784 1719 \nQ 784 1066 1043 766 \nQ 1303 466 1694 466 \nQ 2081 466 2343 764 \nQ 2606 1063 2606 1700 \nQ 2606 2309 2336 2618 \nQ 2066 2928 1684 2928 \nQ 1309 2928 1046 2623 \nQ 784 2319 784 1719 \nz\n\" transform=\"scale(0.015625)\"/>\n       <path id=\"ArialMT-72\" d=\"M 416 0 \nL 416 3319 \nL 922 3319 \nL 922 2816 \nQ 1116 3169 1280 3281 \nQ 1444 3394 1641 3394 \nQ 1925 3394 2219 3213 \nL 2025 2691 \nQ 1819 2813 1613 2813 \nQ 1428 2813 1281 2702 \nQ 1134 2591 1072 2394 \nQ 978 2094 978 1738 \nL 978 0 \nL 416 0 \nz\n\" transform=\"scale(0.015625)\"/>\n      </defs>\n      <use xlink:href=\"#ArialMT-50\"/>\n      <use xlink:href=\"#ArialMT-6f\" x=\"66.699219\"/>\n      <use xlink:href=\"#ArialMT-6c\" x=\"122.314453\"/>\n      <use xlink:href=\"#ArialMT-79\" x=\"144.53125\"/>\n      <use xlink:href=\"#ArialMT-6e\" x=\"194.53125\"/>\n      <use xlink:href=\"#ArialMT-6f\" x=\"250.146484\"/>\n      <use xlink:href=\"#ArialMT-6d\" x=\"305.761719\"/>\n      <use xlink:href=\"#ArialMT-69\" x=\"389.0625\"/>\n      <use xlink:href=\"#ArialMT-61\" x=\"411.279297\"/>\n      <use xlink:href=\"#ArialMT-6c\" x=\"466.894531\"/>\n      <use xlink:href=\"#ArialMT-20\" x=\"489.111328\"/>\n      <use xlink:href=\"#ArialMT-44\" x=\"516.894531\"/>\n      <use xlink:href=\"#ArialMT-65\" x=\"589.111328\"/>\n      <use xlink:href=\"#ArialMT-67\" x=\"644.726562\"/>\n      <use xlink:href=\"#ArialMT-72\" x=\"700.341797\"/>\n      <use xlink:href=\"#ArialMT-65\" x=\"733.642578\"/>\n      <use xlink:href=\"#ArialMT-65\" x=\"789.257812\"/>\n     </g>\n    </g>\n   </g>\n   <g id=\"matplotlib.axis_2\">\n    <g id=\"ytick_1\">\n     <g id=\"line2d_11\">\n      <path d=\"M 48.197813 283.666073 \nL 405.317813 283.666073 \n\" clip-path=\"url(#p76bba72a8a)\" style=\"fill: none; stroke-dasharray: 1.85,0.8; stroke-dashoffset: 0; stroke: #b2b2b2; stroke-width: 0.5\"/>\n     </g>\n     <g id=\"text_12\">\n      <!-- −340 -->\n      <g style=\"fill: #262626\" transform=\"translate(22.174375 287.24498) scale(0.1 -0.1)\">\n       <defs>\n        <path id=\"ArialMT-2212\" d=\"M 3381 1997 \nL 356 1997 \nL 356 2522 \nL 3381 2522 \nL 3381 1997 \nz\n\" transform=\"scale(0.015625)\"/>\n       </defs>\n       <use xlink:href=\"#ArialMT-2212\"/>\n       <use xlink:href=\"#ArialMT-33\" x=\"58.398438\"/>\n       <use xlink:href=\"#ArialMT-34\" x=\"114.013672\"/>\n       <use xlink:href=\"#ArialMT-30\" x=\"169.628906\"/>\n      </g>\n     </g>\n    </g>\n    <g id=\"ytick_2\">\n     <g id=\"line2d_12\">\n      <path d=\"M 48.197813 238.185132 \nL 405.317813 238.185132 \n\" clip-path=\"url(#p76bba72a8a)\" style=\"fill: none; stroke-dasharray: 1.85,0.8; stroke-dashoffset: 0; stroke: #b2b2b2; stroke-width: 0.5\"/>\n     </g>\n     <g id=\"text_13\">\n      <!-- −320 -->\n      <g style=\"fill: #262626\" transform=\"translate(22.174375 241.764038) scale(0.1 -0.1)\">\n       <use xlink:href=\"#ArialMT-2212\"/>\n       <use xlink:href=\"#ArialMT-33\" x=\"58.398438\"/>\n       <use xlink:href=\"#ArialMT-32\" x=\"114.013672\"/>\n       <use xlink:href=\"#ArialMT-30\" x=\"169.628906\"/>\n      </g>\n     </g>\n    </g>\n    <g id=\"ytick_3\">\n     <g id=\"line2d_13\">\n      <path d=\"M 48.197813 192.70419 \nL 405.317813 192.70419 \n\" clip-path=\"url(#p76bba72a8a)\" style=\"fill: none; stroke-dasharray: 1.85,0.8; stroke-dashoffset: 0; stroke: #b2b2b2; stroke-width: 0.5\"/>\n     </g>\n     <g id=\"text_14\">\n      <!-- −300 -->\n      <g style=\"fill: #262626\" transform=\"translate(22.174375 196.283096) scale(0.1 -0.1)\">\n       <use xlink:href=\"#ArialMT-2212\"/>\n       <use xlink:href=\"#ArialMT-33\" x=\"58.398438\"/>\n       <use xlink:href=\"#ArialMT-30\" x=\"114.013672\"/>\n       <use xlink:href=\"#ArialMT-30\" x=\"169.628906\"/>\n      </g>\n     </g>\n    </g>\n    <g id=\"ytick_4\">\n     <g id=\"line2d_14\">\n      <path d=\"M 48.197813 147.223248 \nL 405.317813 147.223248 \n\" clip-path=\"url(#p76bba72a8a)\" style=\"fill: none; stroke-dasharray: 1.85,0.8; stroke-dashoffset: 0; stroke: #b2b2b2; stroke-width: 0.5\"/>\n     </g>\n     <g id=\"text_15\">\n      <!-- −280 -->\n      <g style=\"fill: #262626\" transform=\"translate(22.174375 150.802154) scale(0.1 -0.1)\">\n       <use xlink:href=\"#ArialMT-2212\"/>\n       <use xlink:href=\"#ArialMT-32\" x=\"58.398438\"/>\n       <use xlink:href=\"#ArialMT-38\" x=\"114.013672\"/>\n       <use xlink:href=\"#ArialMT-30\" x=\"169.628906\"/>\n      </g>\n     </g>\n    </g>\n    <g id=\"ytick_5\">\n     <g id=\"line2d_15\">\n      <path d=\"M 48.197813 101.742306 \nL 405.317813 101.742306 \n\" clip-path=\"url(#p76bba72a8a)\" style=\"fill: none; stroke-dasharray: 1.85,0.8; stroke-dashoffset: 0; stroke: #b2b2b2; stroke-width: 0.5\"/>\n     </g>\n     <g id=\"text_16\">\n      <!-- −260 -->\n      <g style=\"fill: #262626\" transform=\"translate(22.174375 105.321212) scale(0.1 -0.1)\">\n       <use xlink:href=\"#ArialMT-2212\"/>\n       <use xlink:href=\"#ArialMT-32\" x=\"58.398438\"/>\n       <use xlink:href=\"#ArialMT-36\" x=\"114.013672\"/>\n       <use xlink:href=\"#ArialMT-30\" x=\"169.628906\"/>\n      </g>\n     </g>\n    </g>\n    <g id=\"ytick_6\">\n     <g id=\"line2d_16\">\n      <path d=\"M 48.197813 56.261364 \nL 405.317813 56.261364 \n\" clip-path=\"url(#p76bba72a8a)\" style=\"fill: none; stroke-dasharray: 1.85,0.8; stroke-dashoffset: 0; stroke: #b2b2b2; stroke-width: 0.5\"/>\n     </g>\n     <g id=\"text_17\">\n      <!-- −240 -->\n      <g style=\"fill: #262626\" transform=\"translate(22.174375 59.84027) scale(0.1 -0.1)\">\n       <use xlink:href=\"#ArialMT-2212\"/>\n       <use xlink:href=\"#ArialMT-32\" x=\"58.398438\"/>\n       <use xlink:href=\"#ArialMT-34\" x=\"114.013672\"/>\n       <use xlink:href=\"#ArialMT-30\" x=\"169.628906\"/>\n      </g>\n     </g>\n    </g>\n    <g id=\"text_18\">\n     <!-- BIC Value -->\n     <g style=\"fill: #262626\" transform=\"translate(15.789375 183.310312) rotate(-90) scale(0.12 -0.12)\">\n      <defs>\n       <path id=\"ArialMT-42\" d=\"M 469 0 \nL 469 4581 \nL 2188 4581 \nQ 2713 4581 3030 4442 \nQ 3347 4303 3526 4014 \nQ 3706 3725 3706 3409 \nQ 3706 3116 3547 2856 \nQ 3388 2597 3066 2438 \nQ 3481 2316 3704 2022 \nQ 3928 1728 3928 1328 \nQ 3928 1006 3792 729 \nQ 3656 453 3456 303 \nQ 3256 153 2954 76 \nQ 2653 0 2216 0 \nL 469 0 \nz\nM 1075 2656 \nL 2066 2656 \nQ 2469 2656 2644 2709 \nQ 2875 2778 2992 2937 \nQ 3109 3097 3109 3338 \nQ 3109 3566 3000 3739 \nQ 2891 3913 2687 3977 \nQ 2484 4041 1991 4041 \nL 1075 4041 \nL 1075 2656 \nz\nM 1075 541 \nL 2216 541 \nQ 2509 541 2628 563 \nQ 2838 600 2978 687 \nQ 3119 775 3209 942 \nQ 3300 1109 3300 1328 \nQ 3300 1584 3169 1773 \nQ 3038 1963 2805 2039 \nQ 2572 2116 2134 2116 \nL 1075 2116 \nL 1075 541 \nz\n\" transform=\"scale(0.015625)\"/>\n       <path id=\"ArialMT-49\" d=\"M 597 0 \nL 597 4581 \nL 1203 4581 \nL 1203 0 \nL 597 0 \nz\n\" transform=\"scale(0.015625)\"/>\n       <path id=\"ArialMT-43\" d=\"M 3763 1606 \nL 4369 1453 \nQ 4178 706 3683 314 \nQ 3188 -78 2472 -78 \nQ 1731 -78 1267 223 \nQ 803 525 561 1097 \nQ 319 1669 319 2325 \nQ 319 3041 592 3573 \nQ 866 4106 1370 4382 \nQ 1875 4659 2481 4659 \nQ 3169 4659 3637 4309 \nQ 4106 3959 4291 3325 \nL 3694 3184 \nQ 3534 3684 3231 3912 \nQ 2928 4141 2469 4141 \nQ 1941 4141 1586 3887 \nQ 1231 3634 1087 3207 \nQ 944 2781 944 2328 \nQ 944 1744 1114 1308 \nQ 1284 872 1643 656 \nQ 2003 441 2422 441 \nQ 2931 441 3284 734 \nQ 3638 1028 3763 1606 \nz\n\" transform=\"scale(0.015625)\"/>\n       <path id=\"ArialMT-56\" d=\"M 1803 0 \nL 28 4581 \nL 684 4581 \nL 1875 1253 \nQ 2019 853 2116 503 \nQ 2222 878 2363 1253 \nL 3600 4581 \nL 4219 4581 \nL 2425 0 \nL 1803 0 \nz\n\" transform=\"scale(0.015625)\"/>\n       <path id=\"ArialMT-75\" d=\"M 2597 0 \nL 2597 488 \nQ 2209 -75 1544 -75 \nQ 1250 -75 995 37 \nQ 741 150 617 320 \nQ 494 491 444 738 \nQ 409 903 409 1263 \nL 409 3319 \nL 972 3319 \nL 972 1478 \nQ 972 1038 1006 884 \nQ 1059 663 1231 536 \nQ 1403 409 1656 409 \nQ 1909 409 2131 539 \nQ 2353 669 2445 892 \nQ 2538 1116 2538 1541 \nL 2538 3319 \nL 3100 3319 \nL 3100 0 \nL 2597 0 \nz\n\" transform=\"scale(0.015625)\"/>\n      </defs>\n      <use xlink:href=\"#ArialMT-42\"/>\n      <use xlink:href=\"#ArialMT-49\" x=\"66.699219\"/>\n      <use xlink:href=\"#ArialMT-43\" x=\"94.482422\"/>\n      <use xlink:href=\"#ArialMT-20\" x=\"166.699219\"/>\n      <use xlink:href=\"#ArialMT-56\" x=\"194.482422\"/>\n      <use xlink:href=\"#ArialMT-61\" x=\"253.806641\"/>\n      <use xlink:href=\"#ArialMT-6c\" x=\"309.421875\"/>\n      <use xlink:href=\"#ArialMT-75\" x=\"331.638672\"/>\n      <use xlink:href=\"#ArialMT-65\" x=\"387.253906\"/>\n     </g>\n    </g>\n   </g>\n   <g id=\"line2d_17\">\n    <path d=\"M 64.43054 54.853426 \nL 100.503267 106.901109 \nL 136.575994 201.469796 \nL 172.648722 155.020485 \nL 208.721449 277.69875 \nL 244.794176 149.479933 \nL 280.866903 224.03961 \nL 316.939631 158.919651 \nL 353.012358 87.855219 \nL 389.085085 35.77875 \n\" clip-path=\"url(#p76bba72a8a)\" style=\"fill: none; stroke: #348abd; stroke-width: 2; stroke-linecap: round\"/>\n    <defs>\n     <path id=\"m2aab959332\" d=\"M 0 3 \nC 0.795609 3 1.55874 2.683901 2.12132 2.12132 \nC 2.683901 1.55874 3 0.795609 3 0 \nC 3 -0.795609 2.683901 -1.55874 2.12132 -2.12132 \nC 1.55874 -2.683901 0.795609 -3 0 -3 \nC -0.795609 -3 -1.55874 -2.683901 -2.12132 -2.12132 \nC -2.683901 -1.55874 -3 -0.795609 -3 0 \nC -3 0.795609 -2.683901 1.55874 -2.12132 2.12132 \nC -1.55874 2.683901 -0.795609 3 0 3 \nz\n\" style=\"stroke: #348abd\"/>\n    </defs>\n    <g clip-path=\"url(#p76bba72a8a)\">\n     <use xlink:href=\"#m2aab959332\" x=\"64.43054\" y=\"54.853426\" style=\"fill: #348abd; stroke: #348abd\"/>\n     <use xlink:href=\"#m2aab959332\" x=\"100.503267\" y=\"106.901109\" style=\"fill: #348abd; stroke: #348abd\"/>\n     <use xlink:href=\"#m2aab959332\" x=\"136.575994\" y=\"201.469796\" style=\"fill: #348abd; stroke: #348abd\"/>\n     <use xlink:href=\"#m2aab959332\" x=\"172.648722\" y=\"155.020485\" style=\"fill: #348abd; stroke: #348abd\"/>\n     <use xlink:href=\"#m2aab959332\" x=\"208.721449\" y=\"277.69875\" style=\"fill: #348abd; stroke: #348abd\"/>\n     <use xlink:href=\"#m2aab959332\" x=\"244.794176\" y=\"149.479933\" style=\"fill: #348abd; stroke: #348abd\"/>\n     <use xlink:href=\"#m2aab959332\" x=\"280.866903\" y=\"224.03961\" style=\"fill: #348abd; stroke: #348abd\"/>\n     <use xlink:href=\"#m2aab959332\" x=\"316.939631\" y=\"158.919651\" style=\"fill: #348abd; stroke: #348abd\"/>\n     <use xlink:href=\"#m2aab959332\" x=\"353.012358\" y=\"87.855219\" style=\"fill: #348abd; stroke: #348abd\"/>\n     <use xlink:href=\"#m2aab959332\" x=\"389.085085\" y=\"35.77875\" style=\"fill: #348abd; stroke: #348abd\"/>\n    </g>\n   </g>\n   <g id=\"patch_3\">\n    <path d=\"M 48.197813 289.79475 \nL 48.197813 23.68275 \n\" style=\"fill: none; stroke: #bcbcbc; stroke-width: 0.8; stroke-linejoin: miter; stroke-linecap: square\"/>\n   </g>\n   <g id=\"patch_4\">\n    <path d=\"M 405.317813 289.79475 \nL 405.317813 23.68275 \n\" style=\"fill: none; stroke: #bcbcbc; stroke-width: 0.8; stroke-linejoin: miter; stroke-linecap: square\"/>\n   </g>\n   <g id=\"patch_5\">\n    <path d=\"M 48.197813 289.79475 \nL 405.317813 289.79475 \n\" style=\"fill: none; stroke: #bcbcbc; stroke-width: 0.8; stroke-linejoin: miter; stroke-linecap: square\"/>\n   </g>\n   <g id=\"patch_6\">\n    <path d=\"M 48.197813 23.68275 \nL 405.317813 23.68275 \n\" style=\"fill: none; stroke: #bcbcbc; stroke-width: 0.8; stroke-linejoin: miter; stroke-linecap: square\"/>\n   </g>\n   <g id=\"text_19\">\n    <!-- BIC Values vs. Polynomial Degree -->\n    <g style=\"fill: #262626\" transform=\"translate(117.243563 17.68275) scale(0.144 -0.144)\">\n     <defs>\n      <path id=\"ArialMT-73\" d=\"M 197 991 \nL 753 1078 \nQ 800 744 1014 566 \nQ 1228 388 1613 388 \nQ 2000 388 2187 545 \nQ 2375 703 2375 916 \nQ 2375 1106 2209 1216 \nQ 2094 1291 1634 1406 \nQ 1016 1563 777 1677 \nQ 538 1791 414 1992 \nQ 291 2194 291 2438 \nQ 291 2659 392 2848 \nQ 494 3038 669 3163 \nQ 800 3259 1026 3326 \nQ 1253 3394 1513 3394 \nQ 1903 3394 2198 3281 \nQ 2494 3169 2634 2976 \nQ 2775 2784 2828 2463 \nL 2278 2388 \nQ 2241 2644 2061 2787 \nQ 1881 2931 1553 2931 \nQ 1166 2931 1000 2803 \nQ 834 2675 834 2503 \nQ 834 2394 903 2306 \nQ 972 2216 1119 2156 \nQ 1203 2125 1616 2013 \nQ 2213 1853 2448 1751 \nQ 2684 1650 2818 1456 \nQ 2953 1263 2953 975 \nQ 2953 694 2789 445 \nQ 2625 197 2315 61 \nQ 2006 -75 1616 -75 \nQ 969 -75 630 194 \nQ 291 463 197 991 \nz\n\" transform=\"scale(0.015625)\"/>\n      <path id=\"ArialMT-76\" d=\"M 1344 0 \nL 81 3319 \nL 675 3319 \nL 1388 1331 \nQ 1503 1009 1600 663 \nQ 1675 925 1809 1294 \nL 2547 3319 \nL 3125 3319 \nL 1869 0 \nL 1344 0 \nz\n\" transform=\"scale(0.015625)\"/>\n      <path id=\"ArialMT-2e\" d=\"M 581 0 \nL 581 641 \nL 1222 641 \nL 1222 0 \nL 581 0 \nz\n\" transform=\"scale(0.015625)\"/>\n     </defs>\n     <use xlink:href=\"#ArialMT-42\"/>\n     <use xlink:href=\"#ArialMT-49\" x=\"66.699219\"/>\n     <use xlink:href=\"#ArialMT-43\" x=\"94.482422\"/>\n     <use xlink:href=\"#ArialMT-20\" x=\"166.699219\"/>\n     <use xlink:href=\"#ArialMT-56\" x=\"194.482422\"/>\n     <use xlink:href=\"#ArialMT-61\" x=\"253.806641\"/>\n     <use xlink:href=\"#ArialMT-6c\" x=\"309.421875\"/>\n     <use xlink:href=\"#ArialMT-75\" x=\"331.638672\"/>\n     <use xlink:href=\"#ArialMT-65\" x=\"387.253906\"/>\n     <use xlink:href=\"#ArialMT-73\" x=\"442.869141\"/>\n     <use xlink:href=\"#ArialMT-20\" x=\"492.869141\"/>\n     <use xlink:href=\"#ArialMT-76\" x=\"520.652344\"/>\n     <use xlink:href=\"#ArialMT-73\" x=\"570.652344\"/>\n     <use xlink:href=\"#ArialMT-2e\" x=\"620.652344\"/>\n     <use xlink:href=\"#ArialMT-20\" x=\"648.435547\"/>\n     <use xlink:href=\"#ArialMT-50\" x=\"676.21875\"/>\n     <use xlink:href=\"#ArialMT-6f\" x=\"742.917969\"/>\n     <use xlink:href=\"#ArialMT-6c\" x=\"798.533203\"/>\n     <use xlink:href=\"#ArialMT-79\" x=\"820.75\"/>\n     <use xlink:href=\"#ArialMT-6e\" x=\"870.75\"/>\n     <use xlink:href=\"#ArialMT-6f\" x=\"926.365234\"/>\n     <use xlink:href=\"#ArialMT-6d\" x=\"981.980469\"/>\n     <use xlink:href=\"#ArialMT-69\" x=\"1065.28125\"/>\n     <use xlink:href=\"#ArialMT-61\" x=\"1087.498047\"/>\n     <use xlink:href=\"#ArialMT-6c\" x=\"1143.113281\"/>\n     <use xlink:href=\"#ArialMT-20\" x=\"1165.330078\"/>\n     <use xlink:href=\"#ArialMT-44\" x=\"1193.113281\"/>\n     <use xlink:href=\"#ArialMT-65\" x=\"1265.330078\"/>\n     <use xlink:href=\"#ArialMT-67\" x=\"1320.945312\"/>\n     <use xlink:href=\"#ArialMT-72\" x=\"1376.560547\"/>\n     <use xlink:href=\"#ArialMT-65\" x=\"1409.861328\"/>\n     <use xlink:href=\"#ArialMT-65\" x=\"1465.476562\"/>\n    </g>\n   </g>\n  </g>\n </g>\n <defs>\n  <clipPath id=\"p76bba72a8a\">\n   <rect x=\"48.197813\" y=\"23.68275\" width=\"357.12\" height=\"266.112\"/>\n  </clipPath>\n </defs>\n</svg>\n"
     },
     "metadata": {},
     "output_type": "display_data"
    }
   ],
   "source": [
    "# Plot BIC values vs. polynomial degree\n",
    "plt.plot(range(1, max_degree+1), bic_values, marker='o')\n",
    "plt.xlabel('Polynomial Degree')\n",
    "plt.ylabel('BIC Value')\n",
    "plt.title('BIC Values vs. Polynomial Degree')\n",
    "plt.xticks(range(1, max_degree+1))\n",
    "plt.grid(True)\n",
    "plt.show()"
   ]
  },
  {
   "cell_type": "code",
   "execution_count": 82,
   "id": "c1b30971",
   "metadata": {
    "ExecuteTime": {
     "end_time": "2024-04-24T11:03:00.717288626Z",
     "start_time": "2024-04-24T11:03:00.532215376Z"
    }
   },
   "outputs": [
    {
     "name": "stdout",
     "output_type": "stream",
     "text": [
      "[[ 1.00000000e+00 -1.59122445e+00  2.82218649e-01 ...  5.69141181e-02\n",
      "  -1.00942551e-02  1.79031126e-03]\n",
      " [ 1.00000000e+00 -9.75477103e-01  1.32918443e-02 ...  2.23454907e-06\n",
      "  -3.04479502e-08  4.14883561e-10]\n",
      " [ 1.00000000e+00  7.21762342e-01  2.31834141e-01 ...  6.49113460e-03\n",
      "   2.08498910e-03  6.69710275e-04]\n",
      " ...\n",
      " [ 1.00000000e+00 -8.38317272e-01 -4.34556951e-01 ... -5.76709270e-02\n",
      "  -2.98947702e-02 -1.54964959e-02]\n",
      " [ 1.00000000e+00 -2.27553082e-01 -3.27419480e-01 ... -1.81751912e-03\n",
      "  -2.61517515e-03 -3.76289911e-03]\n",
      " [ 1.00000000e+00 -2.19341585e-01 -1.76199304e-01 ... -2.63180993e-04\n",
      "  -2.11415942e-04 -1.69832555e-04]]\n",
      "(160, 21)\n",
      "(40, 21)\n"
     ]
    }
   ],
   "source": [
    "def mapFeature(X1, X2, degree):\n",
    "    res = np.ones(X1.shape[0])\n",
    "    for i in range(1,degree + 1):\n",
    "        for j in range(0,i + 1):\n",
    "            res = np.column_stack((res, (X1 ** (i-j)) * (X2 ** j)))\n",
    "    return res\n",
    "degree=5\n",
    "Poly_X_train = mapFeature(X_train[:, 0], X_train[:, 1], degree)\n",
    "Poly_X_test = mapFeature(X_test[:, 0], X_test[:, 1], degree)\n",
    "print(Poly_X_train)\n",
    "print(Poly_X_train.shape)\n",
    "print(Poly_X_test.shape)"
   ]
  },
  {
   "cell_type": "markdown",
   "id": "c293a376",
   "metadata": {},
   "source": [
    "### 2. Modèle"
   ]
  },
  {
   "cell_type": "code",
   "execution_count": 83,
   "id": "206fc3cf",
   "metadata": {
    "ExecuteTime": {
     "end_time": "2024-04-24T11:03:01.967763749Z",
     "start_time": "2024-04-24T11:03:01.819671119Z"
    }
   },
   "outputs": [],
   "source": [
    "# La fonction sigmoide\n",
    "def sigmoid(x):\n",
    "    return 1 / (1 + np.exp(-x))"
   ]
  },
  {
   "cell_type": "code",
   "execution_count": 84,
   "id": "c8d2c88e",
   "metadata": {
    "ExecuteTime": {
     "end_time": "2024-04-24T11:03:03.064632911Z",
     "start_time": "2024-04-24T11:03:02.886002041Z"
    }
   },
   "outputs": [],
   "source": [
    "def initialisation(X):\n",
    "    np.random.seed(0)\n",
    "    W = np.random.randn(X.shape[1], 1)\n",
    "    b = np.random.randn(1)\n",
    "    return (W, b)"
   ]
  },
  {
   "cell_type": "code",
   "execution_count": 85,
   "id": "4c37337d",
   "metadata": {
    "ExecuteTime": {
     "end_time": "2024-04-24T11:03:04.268849070Z",
     "start_time": "2024-04-24T11:03:04.054987245Z"
    }
   },
   "outputs": [],
   "source": [
    "# Modèle\n",
    "def modele(X, W, b):\n",
    "    Z = X.dot(W) + b\n",
    "    A = sigmoid(Z)\n",
    "    return A"
   ]
  },
  {
   "cell_type": "markdown",
   "id": "b29c4323",
   "metadata": {},
   "source": [
    "W,b=initialisation(X)\n",
    "modele(X, W, b)"
   ]
  },
  {
   "cell_type": "markdown",
   "id": "df140105",
   "metadata": {},
   "source": [
    "### 3. Fonction Coût "
   ]
  },
  {
   "cell_type": "code",
   "execution_count": 86,
   "id": "97342849",
   "metadata": {
    "ExecuteTime": {
     "end_time": "2024-04-24T11:03:05.916684594Z",
     "start_time": "2024-04-24T11:03:05.719124864Z"
    }
   },
   "outputs": [],
   "source": [
    "def log_loss(y, A):\n",
    "    return 1/len(y) * np.sum(-y * np.log(A) - (1 - y) * np.log(1 - A))"
   ]
  },
  {
   "cell_type": "markdown",
   "id": "03f78ee1",
   "metadata": {},
   "source": [
    "### 4. Optimisation - Gradient et Descente de Gradient"
   ]
  },
  {
   "cell_type": "code",
   "execution_count": 87,
   "id": "60a7e968",
   "metadata": {
    "ExecuteTime": {
     "end_time": "2024-04-24T11:03:07.152488138Z",
     "start_time": "2024-04-24T11:03:06.955119979Z"
    }
   },
   "outputs": [],
   "source": [
    "def gradients(X, A, y):\n",
    "    dW = 1/len(y) * np.dot(X.T, A - y)\n",
    "    db = 1/len(y) * np.sum(A - y)\n",
    "    return (dW, db)"
   ]
  },
  {
   "cell_type": "code",
   "execution_count": 88,
   "id": "e11a5592",
   "metadata": {
    "ExecuteTime": {
     "end_time": "2024-04-24T11:03:08.499153192Z",
     "start_time": "2024-04-24T11:03:08.305203664Z"
    }
   },
   "outputs": [],
   "source": [
    "def optimisation(X, W, b, A, y, learning_rate):\n",
    "    dW, db = gradients(X, A, y)\n",
    "    W = W - learning_rate * dW\n",
    "    b = b - learning_rate * db\n",
    "    return (W, b)"
   ]
  },
  {
   "cell_type": "markdown",
   "id": "27c24272",
   "metadata": {},
   "source": [
    "### 5. Prédiction"
   ]
  },
  {
   "cell_type": "code",
   "execution_count": 89,
   "id": "561a3964",
   "metadata": {
    "ExecuteTime": {
     "end_time": "2024-04-24T11:03:09.973555109Z",
     "start_time": "2024-04-24T11:03:09.769376547Z"
    }
   },
   "outputs": [],
   "source": [
    "def predict(X, W, b):\n",
    "    A = modele(X, W, b)\n",
    "    #print(A)\n",
    "    return A >= 0.5"
   ]
  },
  {
   "cell_type": "markdown",
   "id": "3f23cc57",
   "metadata": {},
   "source": [
    "### 6. Modèle final"
   ]
  },
  {
   "cell_type": "code",
   "execution_count": 90,
   "id": "909b0bb5",
   "metadata": {
    "ExecuteTime": {
     "end_time": "2024-04-24T11:03:23.530330782Z",
     "start_time": "2024-04-24T11:03:23.342660475Z"
    }
   },
   "outputs": [],
   "source": [
    "def regression_logistique(X, y, learning_rate=0.1, n_iter=10000):\n",
    "  # Initialisation\n",
    "    W, b = initialisation(X)\n",
    "    loss_history = []\n",
    "  # Entrainement\n",
    "    for i in range(n_iter):\n",
    "        A = modele(X, W, b)\n",
    "        loss_history.append(log_loss(y, A))\n",
    "        W, b = optimisation(X, W, b, A, y, learning_rate=0.1)\n",
    "\n",
    "  # Prediction\n",
    "    plt.plot(loss_history)\n",
    "    plt.xlabel('n_iteration')\n",
    "    plt.ylabel('Log_loss')\n",
    "    plt.title('Evolution des erreurs')\n",
    "    return W,b"
   ]
  },
  {
   "cell_type": "code",
   "execution_count": 91,
   "id": "d92a9a06",
   "metadata": {
    "ExecuteTime": {
     "end_time": "2024-04-24T11:03:28.223231392Z",
     "start_time": "2024-04-24T11:03:24.366725063Z"
    }
   },
   "outputs": [
    {
     "name": "stderr",
     "output_type": "stream",
     "text": [
      "/tmp/ipykernel_15197/2709303692.py:2: RuntimeWarning: divide by zero encountered in log\n",
      "  return 1/len(y) * np.sum(-y * np.log(A) - (1 - y) * np.log(1 - A))\n"
     ]
    },
    {
     "data": {
      "text/plain": "<Figure size 640x480 with 1 Axes>",
      "image/svg+xml": "<?xml version=\"1.0\" encoding=\"utf-8\" standalone=\"no\"?>\n<!DOCTYPE svg PUBLIC \"-//W3C//DTD SVG 1.1//EN\"\n  \"http://www.w3.org/Graphics/SVG/1.1/DTD/svg11.dtd\">\n<svg xmlns:xlink=\"http://www.w3.org/1999/xlink\" width=\"404.035pt\" height=\"324.438937pt\" viewBox=\"0 0 404.035 324.438937\" xmlns=\"http://www.w3.org/2000/svg\" version=\"1.1\">\n <metadata>\n  <rdf:RDF xmlns:dc=\"http://purl.org/dc/elements/1.1/\" xmlns:cc=\"http://creativecommons.org/ns#\" xmlns:rdf=\"http://www.w3.org/1999/02/22-rdf-syntax-ns#\">\n   <cc:Work>\n    <dc:type rdf:resource=\"http://purl.org/dc/dcmitype/StillImage\"/>\n    <dc:date>2024-04-24T12:03:27.972187</dc:date>\n    <dc:format>image/svg+xml</dc:format>\n    <dc:creator>\n     <cc:Agent>\n      <dc:title>Matplotlib v3.8.3, https://matplotlib.org/</dc:title>\n     </cc:Agent>\n    </dc:creator>\n   </cc:Work>\n  </rdf:RDF>\n </metadata>\n <defs>\n  <style type=\"text/css\">*{stroke-linejoin: round; stroke-linecap: butt}</style>\n </defs>\n <g id=\"figure_1\">\n  <g id=\"patch_1\">\n   <path d=\"M 0 324.438937 \nL 404.035 324.438937 \nL 404.035 0 \nL 0 0 \nz\n\" style=\"fill: #ffffff\"/>\n  </g>\n  <g id=\"axes_1\">\n   <g id=\"patch_2\">\n    <path d=\"M 39.715 289.61925 \nL 396.835 289.61925 \nL 396.835 23.50725 \nL 39.715 23.50725 \nz\n\" style=\"fill: #eeeeee\"/>\n   </g>\n   <g id=\"matplotlib.axis_1\">\n    <g id=\"xtick_1\">\n     <g id=\"line2d_1\">\n      <path d=\"M 55.525085 289.61925 \nL 55.525085 23.50725 \n\" clip-path=\"url(#pcc133adb69)\" style=\"fill: none; stroke-dasharray: 1.85,0.8; stroke-dashoffset: 0; stroke: #b2b2b2; stroke-width: 0.5\"/>\n     </g>\n     <g id=\"text_1\">\n      <!-- 0 -->\n      <g style=\"fill: #262626\" transform=\"translate(52.744616 300.277062) scale(0.1 -0.1)\">\n       <defs>\n        <path id=\"ArialMT-30\" d=\"M 266 2259 \nQ 266 3072 433 3567 \nQ 600 4063 929 4331 \nQ 1259 4600 1759 4600 \nQ 2128 4600 2406 4451 \nQ 2684 4303 2865 4023 \nQ 3047 3744 3150 3342 \nQ 3253 2941 3253 2259 \nQ 3253 1453 3087 958 \nQ 2922 463 2592 192 \nQ 2263 -78 1759 -78 \nQ 1097 -78 719 397 \nQ 266 969 266 2259 \nz\nM 844 2259 \nQ 844 1131 1108 757 \nQ 1372 384 1759 384 \nQ 2147 384 2411 759 \nQ 2675 1134 2675 2259 \nQ 2675 3391 2411 3762 \nQ 2147 4134 1753 4134 \nQ 1366 4134 1134 3806 \nQ 844 3388 844 2259 \nz\n\" transform=\"scale(0.015625)\"/>\n       </defs>\n       <use xlink:href=\"#ArialMT-30\"/>\n      </g>\n     </g>\n    </g>\n    <g id=\"xtick_2\">\n     <g id=\"line2d_2\">\n      <path d=\"M 120.547024 289.61925 \nL 120.547024 23.50725 \n\" clip-path=\"url(#pcc133adb69)\" style=\"fill: none; stroke-dasharray: 1.85,0.8; stroke-dashoffset: 0; stroke: #b2b2b2; stroke-width: 0.5\"/>\n     </g>\n     <g id=\"text_2\">\n      <!-- 2000 -->\n      <g style=\"fill: #262626\" transform=\"translate(109.425149 300.277062) scale(0.1 -0.1)\">\n       <defs>\n        <path id=\"ArialMT-32\" d=\"M 3222 541 \nL 3222 0 \nL 194 0 \nQ 188 203 259 391 \nQ 375 700 629 1000 \nQ 884 1300 1366 1694 \nQ 2113 2306 2375 2664 \nQ 2638 3022 2638 3341 \nQ 2638 3675 2398 3904 \nQ 2159 4134 1775 4134 \nQ 1369 4134 1125 3890 \nQ 881 3647 878 3216 \nL 300 3275 \nQ 359 3922 746 4261 \nQ 1134 4600 1788 4600 \nQ 2447 4600 2831 4234 \nQ 3216 3869 3216 3328 \nQ 3216 3053 3103 2787 \nQ 2991 2522 2730 2228 \nQ 2469 1934 1863 1422 \nQ 1356 997 1212 845 \nQ 1069 694 975 541 \nL 3222 541 \nz\n\" transform=\"scale(0.015625)\"/>\n       </defs>\n       <use xlink:href=\"#ArialMT-32\"/>\n       <use xlink:href=\"#ArialMT-30\" x=\"55.615234\"/>\n       <use xlink:href=\"#ArialMT-30\" x=\"111.230469\"/>\n       <use xlink:href=\"#ArialMT-30\" x=\"166.845703\"/>\n      </g>\n     </g>\n    </g>\n    <g id=\"xtick_3\">\n     <g id=\"line2d_3\">\n      <path d=\"M 185.568964 289.61925 \nL 185.568964 23.50725 \n\" clip-path=\"url(#pcc133adb69)\" style=\"fill: none; stroke-dasharray: 1.85,0.8; stroke-dashoffset: 0; stroke: #b2b2b2; stroke-width: 0.5\"/>\n     </g>\n     <g id=\"text_3\">\n      <!-- 4000 -->\n      <g style=\"fill: #262626\" transform=\"translate(174.447089 300.277062) scale(0.1 -0.1)\">\n       <defs>\n        <path id=\"ArialMT-34\" d=\"M 2069 0 \nL 2069 1097 \nL 81 1097 \nL 81 1613 \nL 2172 4581 \nL 2631 4581 \nL 2631 1613 \nL 3250 1613 \nL 3250 1097 \nL 2631 1097 \nL 2631 0 \nL 2069 0 \nz\nM 2069 1613 \nL 2069 3678 \nL 634 1613 \nL 2069 1613 \nz\n\" transform=\"scale(0.015625)\"/>\n       </defs>\n       <use xlink:href=\"#ArialMT-34\"/>\n       <use xlink:href=\"#ArialMT-30\" x=\"55.615234\"/>\n       <use xlink:href=\"#ArialMT-30\" x=\"111.230469\"/>\n       <use xlink:href=\"#ArialMT-30\" x=\"166.845703\"/>\n      </g>\n     </g>\n    </g>\n    <g id=\"xtick_4\">\n     <g id=\"line2d_4\">\n      <path d=\"M 250.590904 289.61925 \nL 250.590904 23.50725 \n\" clip-path=\"url(#pcc133adb69)\" style=\"fill: none; stroke-dasharray: 1.85,0.8; stroke-dashoffset: 0; stroke: #b2b2b2; stroke-width: 0.5\"/>\n     </g>\n     <g id=\"text_4\">\n      <!-- 6000 -->\n      <g style=\"fill: #262626\" transform=\"translate(239.469029 300.277062) scale(0.1 -0.1)\">\n       <defs>\n        <path id=\"ArialMT-36\" d=\"M 3184 3459 \nL 2625 3416 \nQ 2550 3747 2413 3897 \nQ 2184 4138 1850 4138 \nQ 1581 4138 1378 3988 \nQ 1113 3794 959 3422 \nQ 806 3050 800 2363 \nQ 1003 2672 1297 2822 \nQ 1591 2972 1913 2972 \nQ 2475 2972 2870 2558 \nQ 3266 2144 3266 1488 \nQ 3266 1056 3080 686 \nQ 2894 316 2569 119 \nQ 2244 -78 1831 -78 \nQ 1128 -78 684 439 \nQ 241 956 241 2144 \nQ 241 3472 731 4075 \nQ 1159 4600 1884 4600 \nQ 2425 4600 2770 4297 \nQ 3116 3994 3184 3459 \nz\nM 888 1484 \nQ 888 1194 1011 928 \nQ 1134 663 1356 523 \nQ 1578 384 1822 384 \nQ 2178 384 2434 671 \nQ 2691 959 2691 1453 \nQ 2691 1928 2437 2201 \nQ 2184 2475 1800 2475 \nQ 1419 2475 1153 2201 \nQ 888 1928 888 1484 \nz\n\" transform=\"scale(0.015625)\"/>\n       </defs>\n       <use xlink:href=\"#ArialMT-36\"/>\n       <use xlink:href=\"#ArialMT-30\" x=\"55.615234\"/>\n       <use xlink:href=\"#ArialMT-30\" x=\"111.230469\"/>\n       <use xlink:href=\"#ArialMT-30\" x=\"166.845703\"/>\n      </g>\n     </g>\n    </g>\n    <g id=\"xtick_5\">\n     <g id=\"line2d_5\">\n      <path d=\"M 315.612844 289.61925 \nL 315.612844 23.50725 \n\" clip-path=\"url(#pcc133adb69)\" style=\"fill: none; stroke-dasharray: 1.85,0.8; stroke-dashoffset: 0; stroke: #b2b2b2; stroke-width: 0.5\"/>\n     </g>\n     <g id=\"text_5\">\n      <!-- 8000 -->\n      <g style=\"fill: #262626\" transform=\"translate(304.490969 300.277062) scale(0.1 -0.1)\">\n       <defs>\n        <path id=\"ArialMT-38\" d=\"M 1131 2484 \nQ 781 2613 612 2850 \nQ 444 3088 444 3419 \nQ 444 3919 803 4259 \nQ 1163 4600 1759 4600 \nQ 2359 4600 2725 4251 \nQ 3091 3903 3091 3403 \nQ 3091 3084 2923 2848 \nQ 2756 2613 2416 2484 \nQ 2838 2347 3058 2040 \nQ 3278 1734 3278 1309 \nQ 3278 722 2862 322 \nQ 2447 -78 1769 -78 \nQ 1091 -78 675 323 \nQ 259 725 259 1325 \nQ 259 1772 486 2073 \nQ 713 2375 1131 2484 \nz\nM 1019 3438 \nQ 1019 3113 1228 2906 \nQ 1438 2700 1772 2700 \nQ 2097 2700 2305 2904 \nQ 2513 3109 2513 3406 \nQ 2513 3716 2298 3927 \nQ 2084 4138 1766 4138 \nQ 1444 4138 1231 3931 \nQ 1019 3725 1019 3438 \nz\nM 838 1322 \nQ 838 1081 952 856 \nQ 1066 631 1291 507 \nQ 1516 384 1775 384 \nQ 2178 384 2440 643 \nQ 2703 903 2703 1303 \nQ 2703 1709 2433 1975 \nQ 2163 2241 1756 2241 \nQ 1359 2241 1098 1978 \nQ 838 1716 838 1322 \nz\n\" transform=\"scale(0.015625)\"/>\n       </defs>\n       <use xlink:href=\"#ArialMT-38\"/>\n       <use xlink:href=\"#ArialMT-30\" x=\"55.615234\"/>\n       <use xlink:href=\"#ArialMT-30\" x=\"111.230469\"/>\n       <use xlink:href=\"#ArialMT-30\" x=\"166.845703\"/>\n      </g>\n     </g>\n    </g>\n    <g id=\"xtick_6\">\n     <g id=\"line2d_6\">\n      <path d=\"M 380.634784 289.61925 \nL 380.634784 23.50725 \n\" clip-path=\"url(#pcc133adb69)\" style=\"fill: none; stroke-dasharray: 1.85,0.8; stroke-dashoffset: 0; stroke: #b2b2b2; stroke-width: 0.5\"/>\n     </g>\n     <g id=\"text_6\">\n      <!-- 10000 -->\n      <g style=\"fill: #262626\" transform=\"translate(366.73244 300.277062) scale(0.1 -0.1)\">\n       <defs>\n        <path id=\"ArialMT-31\" d=\"M 2384 0 \nL 1822 0 \nL 1822 3584 \nQ 1619 3391 1289 3197 \nQ 959 3003 697 2906 \nL 697 3450 \nQ 1169 3672 1522 3987 \nQ 1875 4303 2022 4600 \nL 2384 4600 \nL 2384 0 \nz\n\" transform=\"scale(0.015625)\"/>\n       </defs>\n       <use xlink:href=\"#ArialMT-31\"/>\n       <use xlink:href=\"#ArialMT-30\" x=\"55.615234\"/>\n       <use xlink:href=\"#ArialMT-30\" x=\"111.230469\"/>\n       <use xlink:href=\"#ArialMT-30\" x=\"166.845703\"/>\n       <use xlink:href=\"#ArialMT-30\" x=\"222.460938\"/>\n      </g>\n     </g>\n    </g>\n    <g id=\"text_7\">\n     <!-- n_iteration -->\n     <g style=\"fill: #262626\" transform=\"translate(190.257812 314.853937) scale(0.12 -0.12)\">\n      <defs>\n       <path id=\"ArialMT-6e\" d=\"M 422 0 \nL 422 3319 \nL 928 3319 \nL 928 2847 \nQ 1294 3394 1984 3394 \nQ 2284 3394 2536 3286 \nQ 2788 3178 2913 3003 \nQ 3038 2828 3088 2588 \nQ 3119 2431 3119 2041 \nL 3119 0 \nL 2556 0 \nL 2556 2019 \nQ 2556 2363 2490 2533 \nQ 2425 2703 2258 2804 \nQ 2091 2906 1866 2906 \nQ 1506 2906 1245 2678 \nQ 984 2450 984 1813 \nL 984 0 \nL 422 0 \nz\n\" transform=\"scale(0.015625)\"/>\n       <path id=\"ArialMT-5f\" d=\"M -97 -1272 \nL -97 -866 \nL 3631 -866 \nL 3631 -1272 \nL -97 -1272 \nz\n\" transform=\"scale(0.015625)\"/>\n       <path id=\"ArialMT-69\" d=\"M 425 3934 \nL 425 4581 \nL 988 4581 \nL 988 3934 \nL 425 3934 \nz\nM 425 0 \nL 425 3319 \nL 988 3319 \nL 988 0 \nL 425 0 \nz\n\" transform=\"scale(0.015625)\"/>\n       <path id=\"ArialMT-74\" d=\"M 1650 503 \nL 1731 6 \nQ 1494 -44 1306 -44 \nQ 1000 -44 831 53 \nQ 663 150 594 308 \nQ 525 466 525 972 \nL 525 2881 \nL 113 2881 \nL 113 3319 \nL 525 3319 \nL 525 4141 \nL 1084 4478 \nL 1084 3319 \nL 1650 3319 \nL 1650 2881 \nL 1084 2881 \nL 1084 941 \nQ 1084 700 1114 631 \nQ 1144 563 1211 522 \nQ 1278 481 1403 481 \nQ 1497 481 1650 503 \nz\n\" transform=\"scale(0.015625)\"/>\n       <path id=\"ArialMT-65\" d=\"M 2694 1069 \nL 3275 997 \nQ 3138 488 2766 206 \nQ 2394 -75 1816 -75 \nQ 1088 -75 661 373 \nQ 234 822 234 1631 \nQ 234 2469 665 2931 \nQ 1097 3394 1784 3394 \nQ 2450 3394 2872 2941 \nQ 3294 2488 3294 1666 \nQ 3294 1616 3291 1516 \nL 816 1516 \nQ 847 969 1125 678 \nQ 1403 388 1819 388 \nQ 2128 388 2347 550 \nQ 2566 713 2694 1069 \nz\nM 847 1978 \nL 2700 1978 \nQ 2663 2397 2488 2606 \nQ 2219 2931 1791 2931 \nQ 1403 2931 1139 2672 \nQ 875 2413 847 1978 \nz\n\" transform=\"scale(0.015625)\"/>\n       <path id=\"ArialMT-72\" d=\"M 416 0 \nL 416 3319 \nL 922 3319 \nL 922 2816 \nQ 1116 3169 1280 3281 \nQ 1444 3394 1641 3394 \nQ 1925 3394 2219 3213 \nL 2025 2691 \nQ 1819 2813 1613 2813 \nQ 1428 2813 1281 2702 \nQ 1134 2591 1072 2394 \nQ 978 2094 978 1738 \nL 978 0 \nL 416 0 \nz\n\" transform=\"scale(0.015625)\"/>\n       <path id=\"ArialMT-61\" d=\"M 2588 409 \nQ 2275 144 1986 34 \nQ 1697 -75 1366 -75 \nQ 819 -75 525 192 \nQ 231 459 231 875 \nQ 231 1119 342 1320 \nQ 453 1522 633 1644 \nQ 813 1766 1038 1828 \nQ 1203 1872 1538 1913 \nQ 2219 1994 2541 2106 \nQ 2544 2222 2544 2253 \nQ 2544 2597 2384 2738 \nQ 2169 2928 1744 2928 \nQ 1347 2928 1158 2789 \nQ 969 2650 878 2297 \nL 328 2372 \nQ 403 2725 575 2942 \nQ 747 3159 1072 3276 \nQ 1397 3394 1825 3394 \nQ 2250 3394 2515 3294 \nQ 2781 3194 2906 3042 \nQ 3031 2891 3081 2659 \nQ 3109 2516 3109 2141 \nL 3109 1391 \nQ 3109 606 3145 398 \nQ 3181 191 3288 0 \nL 2700 0 \nQ 2613 175 2588 409 \nz\nM 2541 1666 \nQ 2234 1541 1622 1453 \nQ 1275 1403 1131 1340 \nQ 988 1278 909 1158 \nQ 831 1038 831 891 \nQ 831 666 1001 516 \nQ 1172 366 1500 366 \nQ 1825 366 2078 508 \nQ 2331 650 2450 897 \nQ 2541 1088 2541 1459 \nL 2541 1666 \nz\n\" transform=\"scale(0.015625)\"/>\n       <path id=\"ArialMT-6f\" d=\"M 213 1659 \nQ 213 2581 725 3025 \nQ 1153 3394 1769 3394 \nQ 2453 3394 2887 2945 \nQ 3322 2497 3322 1706 \nQ 3322 1066 3130 698 \nQ 2938 331 2570 128 \nQ 2203 -75 1769 -75 \nQ 1072 -75 642 372 \nQ 213 819 213 1659 \nz\nM 791 1659 \nQ 791 1022 1069 705 \nQ 1347 388 1769 388 \nQ 2188 388 2466 706 \nQ 2744 1025 2744 1678 \nQ 2744 2294 2464 2611 \nQ 2184 2928 1769 2928 \nQ 1347 2928 1069 2612 \nQ 791 2297 791 1659 \nz\n\" transform=\"scale(0.015625)\"/>\n      </defs>\n      <use xlink:href=\"#ArialMT-6e\"/>\n      <use xlink:href=\"#ArialMT-5f\" x=\"55.615234\"/>\n      <use xlink:href=\"#ArialMT-69\" x=\"111.230469\"/>\n      <use xlink:href=\"#ArialMT-74\" x=\"133.447266\"/>\n      <use xlink:href=\"#ArialMT-65\" x=\"161.230469\"/>\n      <use xlink:href=\"#ArialMT-72\" x=\"216.845703\"/>\n      <use xlink:href=\"#ArialMT-61\" x=\"250.146484\"/>\n      <use xlink:href=\"#ArialMT-74\" x=\"305.761719\"/>\n      <use xlink:href=\"#ArialMT-69\" x=\"333.544922\"/>\n      <use xlink:href=\"#ArialMT-6f\" x=\"355.761719\"/>\n      <use xlink:href=\"#ArialMT-6e\" x=\"411.376953\"/>\n     </g>\n    </g>\n   </g>\n   <g id=\"matplotlib.axis_2\">\n    <g id=\"ytick_1\">\n     <g id=\"line2d_7\">\n      <path d=\"M 39.715 255.855968 \nL 396.835 255.855968 \n\" clip-path=\"url(#pcc133adb69)\" style=\"fill: none; stroke-dasharray: 1.85,0.8; stroke-dashoffset: 0; stroke: #b2b2b2; stroke-width: 0.5\"/>\n     </g>\n     <g id=\"text_8\">\n      <!-- 0.2 -->\n      <g style=\"fill: #262626\" transform=\"translate(22.315 259.434874) scale(0.1 -0.1)\">\n       <defs>\n        <path id=\"ArialMT-2e\" d=\"M 581 0 \nL 581 641 \nL 1222 641 \nL 1222 0 \nL 581 0 \nz\n\" transform=\"scale(0.015625)\"/>\n       </defs>\n       <use xlink:href=\"#ArialMT-30\"/>\n       <use xlink:href=\"#ArialMT-2e\" x=\"55.615234\"/>\n       <use xlink:href=\"#ArialMT-32\" x=\"83.398438\"/>\n      </g>\n     </g>\n    </g>\n    <g id=\"ytick_2\">\n     <g id=\"line2d_8\">\n      <path d=\"M 39.715 211.829611 \nL 396.835 211.829611 \n\" clip-path=\"url(#pcc133adb69)\" style=\"fill: none; stroke-dasharray: 1.85,0.8; stroke-dashoffset: 0; stroke: #b2b2b2; stroke-width: 0.5\"/>\n     </g>\n     <g id=\"text_9\">\n      <!-- 0.4 -->\n      <g style=\"fill: #262626\" transform=\"translate(22.315 215.408517) scale(0.1 -0.1)\">\n       <use xlink:href=\"#ArialMT-30\"/>\n       <use xlink:href=\"#ArialMT-2e\" x=\"55.615234\"/>\n       <use xlink:href=\"#ArialMT-34\" x=\"83.398438\"/>\n      </g>\n     </g>\n    </g>\n    <g id=\"ytick_3\">\n     <g id=\"line2d_9\">\n      <path d=\"M 39.715 167.803253 \nL 396.835 167.803253 \n\" clip-path=\"url(#pcc133adb69)\" style=\"fill: none; stroke-dasharray: 1.85,0.8; stroke-dashoffset: 0; stroke: #b2b2b2; stroke-width: 0.5\"/>\n     </g>\n     <g id=\"text_10\">\n      <!-- 0.6 -->\n      <g style=\"fill: #262626\" transform=\"translate(22.315 171.38216) scale(0.1 -0.1)\">\n       <use xlink:href=\"#ArialMT-30\"/>\n       <use xlink:href=\"#ArialMT-2e\" x=\"55.615234\"/>\n       <use xlink:href=\"#ArialMT-36\" x=\"83.398438\"/>\n      </g>\n     </g>\n    </g>\n    <g id=\"ytick_4\">\n     <g id=\"line2d_10\">\n      <path d=\"M 39.715 123.776896 \nL 396.835 123.776896 \n\" clip-path=\"url(#pcc133adb69)\" style=\"fill: none; stroke-dasharray: 1.85,0.8; stroke-dashoffset: 0; stroke: #b2b2b2; stroke-width: 0.5\"/>\n     </g>\n     <g id=\"text_11\">\n      <!-- 0.8 -->\n      <g style=\"fill: #262626\" transform=\"translate(22.315 127.355802) scale(0.1 -0.1)\">\n       <use xlink:href=\"#ArialMT-30\"/>\n       <use xlink:href=\"#ArialMT-2e\" x=\"55.615234\"/>\n       <use xlink:href=\"#ArialMT-38\" x=\"83.398438\"/>\n      </g>\n     </g>\n    </g>\n    <g id=\"ytick_5\">\n     <g id=\"line2d_11\">\n      <path d=\"M 39.715 79.750539 \nL 396.835 79.750539 \n\" clip-path=\"url(#pcc133adb69)\" style=\"fill: none; stroke-dasharray: 1.85,0.8; stroke-dashoffset: 0; stroke: #b2b2b2; stroke-width: 0.5\"/>\n     </g>\n     <g id=\"text_12\">\n      <!-- 1.0 -->\n      <g style=\"fill: #262626\" transform=\"translate(22.315 83.329445) scale(0.1 -0.1)\">\n       <use xlink:href=\"#ArialMT-31\"/>\n       <use xlink:href=\"#ArialMT-2e\" x=\"55.615234\"/>\n       <use xlink:href=\"#ArialMT-30\" x=\"83.398438\"/>\n      </g>\n     </g>\n    </g>\n    <g id=\"ytick_6\">\n     <g id=\"line2d_12\">\n      <path d=\"M 39.715 35.724182 \nL 396.835 35.724182 \n\" clip-path=\"url(#pcc133adb69)\" style=\"fill: none; stroke-dasharray: 1.85,0.8; stroke-dashoffset: 0; stroke: #b2b2b2; stroke-width: 0.5\"/>\n     </g>\n     <g id=\"text_13\">\n      <!-- 1.2 -->\n      <g style=\"fill: #262626\" transform=\"translate(22.315 39.303088) scale(0.1 -0.1)\">\n       <use xlink:href=\"#ArialMT-31\"/>\n       <use xlink:href=\"#ArialMT-2e\" x=\"55.615234\"/>\n       <use xlink:href=\"#ArialMT-32\" x=\"83.398438\"/>\n      </g>\n     </g>\n    </g>\n    <g id=\"text_14\">\n     <!-- Log_loss -->\n     <g style=\"fill: #262626\" transform=\"translate(15.789375 180.579187) rotate(-90) scale(0.12 -0.12)\">\n      <defs>\n       <path id=\"ArialMT-4c\" d=\"M 469 0 \nL 469 4581 \nL 1075 4581 \nL 1075 541 \nL 3331 541 \nL 3331 0 \nL 469 0 \nz\n\" transform=\"scale(0.015625)\"/>\n       <path id=\"ArialMT-67\" d=\"M 319 -275 \nL 866 -356 \nQ 900 -609 1056 -725 \nQ 1266 -881 1628 -881 \nQ 2019 -881 2231 -725 \nQ 2444 -569 2519 -288 \nQ 2563 -116 2559 434 \nQ 2191 0 1641 0 \nQ 956 0 581 494 \nQ 206 988 206 1678 \nQ 206 2153 378 2554 \nQ 550 2956 876 3175 \nQ 1203 3394 1644 3394 \nQ 2231 3394 2613 2919 \nL 2613 3319 \nL 3131 3319 \nL 3131 450 \nQ 3131 -325 2973 -648 \nQ 2816 -972 2473 -1159 \nQ 2131 -1347 1631 -1347 \nQ 1038 -1347 672 -1080 \nQ 306 -813 319 -275 \nz\nM 784 1719 \nQ 784 1066 1043 766 \nQ 1303 466 1694 466 \nQ 2081 466 2343 764 \nQ 2606 1063 2606 1700 \nQ 2606 2309 2336 2618 \nQ 2066 2928 1684 2928 \nQ 1309 2928 1046 2623 \nQ 784 2319 784 1719 \nz\n\" transform=\"scale(0.015625)\"/>\n       <path id=\"ArialMT-6c\" d=\"M 409 0 \nL 409 4581 \nL 972 4581 \nL 972 0 \nL 409 0 \nz\n\" transform=\"scale(0.015625)\"/>\n       <path id=\"ArialMT-73\" d=\"M 197 991 \nL 753 1078 \nQ 800 744 1014 566 \nQ 1228 388 1613 388 \nQ 2000 388 2187 545 \nQ 2375 703 2375 916 \nQ 2375 1106 2209 1216 \nQ 2094 1291 1634 1406 \nQ 1016 1563 777 1677 \nQ 538 1791 414 1992 \nQ 291 2194 291 2438 \nQ 291 2659 392 2848 \nQ 494 3038 669 3163 \nQ 800 3259 1026 3326 \nQ 1253 3394 1513 3394 \nQ 1903 3394 2198 3281 \nQ 2494 3169 2634 2976 \nQ 2775 2784 2828 2463 \nL 2278 2388 \nQ 2241 2644 2061 2787 \nQ 1881 2931 1553 2931 \nQ 1166 2931 1000 2803 \nQ 834 2675 834 2503 \nQ 834 2394 903 2306 \nQ 972 2216 1119 2156 \nQ 1203 2125 1616 2013 \nQ 2213 1853 2448 1751 \nQ 2684 1650 2818 1456 \nQ 2953 1263 2953 975 \nQ 2953 694 2789 445 \nQ 2625 197 2315 61 \nQ 2006 -75 1616 -75 \nQ 969 -75 630 194 \nQ 291 463 197 991 \nz\n\" transform=\"scale(0.015625)\"/>\n      </defs>\n      <use xlink:href=\"#ArialMT-4c\"/>\n      <use xlink:href=\"#ArialMT-6f\" x=\"55.615234\"/>\n      <use xlink:href=\"#ArialMT-67\" x=\"111.230469\"/>\n      <use xlink:href=\"#ArialMT-5f\" x=\"166.845703\"/>\n      <use xlink:href=\"#ArialMT-6c\" x=\"222.460938\"/>\n      <use xlink:href=\"#ArialMT-6f\" x=\"244.677734\"/>\n      <use xlink:href=\"#ArialMT-73\" x=\"300.292969\"/>\n      <use xlink:href=\"#ArialMT-73\" x=\"350.292969\"/>\n     </g>\n    </g>\n   </g>\n   <g id=\"line2d_13\">\n    <path d=\"M 55.947727 35.60325 \nL 56.142793 164.970809 \nL 56.435392 188.002701 \nL 56.760502 196.000405 \nL 57.410721 206.038236 \nL 58.321028 216.680578 \nL 59.328868 225.976634 \nL 60.304197 233.038929 \nL 61.247015 238.350157 \nL 62.189833 242.46303 \nL 63.165163 245.744237 \nL 64.173003 248.360558 \nL 65.245865 250.531487 \nL 66.448771 252.456201 \nL 67.814231 254.213862 \nL 69.374758 255.859196 \nL 71.195372 257.450192 \nL 73.276074 258.967647 \nL 75.649375 260.418661 \nL 78.347786 261.803888 \nL 81.436328 263.133582 \nL 84.947512 264.39781 \nL 88.978873 265.60673 \nL 93.59543 266.753602 \nL 98.927229 267.844222 \nL 105.136825 268.882158 \nL 112.419282 269.868276 \nL 121.034689 270.80439 \nL 131.340666 271.69354 \nL 143.792368 272.537058 \nL 159.040013 273.338894 \nL 177.993908 274.103988 \nL 201.954493 274.839059 \nL 232.872425 275.554707 \nL 273.641182 276.264596 \nL 328.357144 276.983109 \nL 380.602273 277.52325 \nL 380.602273 277.52325 \n\" clip-path=\"url(#pcc133adb69)\" style=\"fill: none; stroke: #348abd; stroke-width: 2; stroke-linecap: round\"/>\n   </g>\n   <g id=\"patch_3\">\n    <path d=\"M 39.715 289.61925 \nL 39.715 23.50725 \n\" style=\"fill: none; stroke: #bcbcbc; stroke-width: 0.8; stroke-linejoin: miter; stroke-linecap: square\"/>\n   </g>\n   <g id=\"patch_4\">\n    <path d=\"M 396.835 289.61925 \nL 396.835 23.50725 \n\" style=\"fill: none; stroke: #bcbcbc; stroke-width: 0.8; stroke-linejoin: miter; stroke-linecap: square\"/>\n   </g>\n   <g id=\"patch_5\">\n    <path d=\"M 39.715 289.61925 \nL 396.835 289.61925 \n\" style=\"fill: none; stroke: #bcbcbc; stroke-width: 0.8; stroke-linejoin: miter; stroke-linecap: square\"/>\n   </g>\n   <g id=\"patch_6\">\n    <path d=\"M 39.715 23.50725 \nL 396.835 23.50725 \n\" style=\"fill: none; stroke: #bcbcbc; stroke-width: 0.8; stroke-linejoin: miter; stroke-linecap: square\"/>\n   </g>\n   <g id=\"text_15\">\n    <!-- Evolution des erreurs -->\n    <g style=\"fill: #262626\" transform=\"translate(150.245125 17.50725) scale(0.144 -0.144)\">\n     <defs>\n      <path id=\"ArialMT-45\" d=\"M 506 0 \nL 506 4581 \nL 3819 4581 \nL 3819 4041 \nL 1113 4041 \nL 1113 2638 \nL 3647 2638 \nL 3647 2100 \nL 1113 2100 \nL 1113 541 \nL 3925 541 \nL 3925 0 \nL 506 0 \nz\n\" transform=\"scale(0.015625)\"/>\n      <path id=\"ArialMT-76\" d=\"M 1344 0 \nL 81 3319 \nL 675 3319 \nL 1388 1331 \nQ 1503 1009 1600 663 \nQ 1675 925 1809 1294 \nL 2547 3319 \nL 3125 3319 \nL 1869 0 \nL 1344 0 \nz\n\" transform=\"scale(0.015625)\"/>\n      <path id=\"ArialMT-75\" d=\"M 2597 0 \nL 2597 488 \nQ 2209 -75 1544 -75 \nQ 1250 -75 995 37 \nQ 741 150 617 320 \nQ 494 491 444 738 \nQ 409 903 409 1263 \nL 409 3319 \nL 972 3319 \nL 972 1478 \nQ 972 1038 1006 884 \nQ 1059 663 1231 536 \nQ 1403 409 1656 409 \nQ 1909 409 2131 539 \nQ 2353 669 2445 892 \nQ 2538 1116 2538 1541 \nL 2538 3319 \nL 3100 3319 \nL 3100 0 \nL 2597 0 \nz\n\" transform=\"scale(0.015625)\"/>\n      <path id=\"ArialMT-20\" transform=\"scale(0.015625)\"/>\n      <path id=\"ArialMT-64\" d=\"M 2575 0 \nL 2575 419 \nQ 2259 -75 1647 -75 \nQ 1250 -75 917 144 \nQ 584 363 401 755 \nQ 219 1147 219 1656 \nQ 219 2153 384 2558 \nQ 550 2963 881 3178 \nQ 1213 3394 1622 3394 \nQ 1922 3394 2156 3267 \nQ 2391 3141 2538 2938 \nL 2538 4581 \nL 3097 4581 \nL 3097 0 \nL 2575 0 \nz\nM 797 1656 \nQ 797 1019 1065 703 \nQ 1334 388 1700 388 \nQ 2069 388 2326 689 \nQ 2584 991 2584 1609 \nQ 2584 2291 2321 2609 \nQ 2059 2928 1675 2928 \nQ 1300 2928 1048 2622 \nQ 797 2316 797 1656 \nz\n\" transform=\"scale(0.015625)\"/>\n     </defs>\n     <use xlink:href=\"#ArialMT-45\"/>\n     <use xlink:href=\"#ArialMT-76\" x=\"66.699219\"/>\n     <use xlink:href=\"#ArialMT-6f\" x=\"116.699219\"/>\n     <use xlink:href=\"#ArialMT-6c\" x=\"172.314453\"/>\n     <use xlink:href=\"#ArialMT-75\" x=\"194.53125\"/>\n     <use xlink:href=\"#ArialMT-74\" x=\"250.146484\"/>\n     <use xlink:href=\"#ArialMT-69\" x=\"277.929688\"/>\n     <use xlink:href=\"#ArialMT-6f\" x=\"300.146484\"/>\n     <use xlink:href=\"#ArialMT-6e\" x=\"355.761719\"/>\n     <use xlink:href=\"#ArialMT-20\" x=\"411.376953\"/>\n     <use xlink:href=\"#ArialMT-64\" x=\"439.160156\"/>\n     <use xlink:href=\"#ArialMT-65\" x=\"494.775391\"/>\n     <use xlink:href=\"#ArialMT-73\" x=\"550.390625\"/>\n     <use xlink:href=\"#ArialMT-20\" x=\"600.390625\"/>\n     <use xlink:href=\"#ArialMT-65\" x=\"628.173828\"/>\n     <use xlink:href=\"#ArialMT-72\" x=\"683.789062\"/>\n     <use xlink:href=\"#ArialMT-72\" x=\"717.089844\"/>\n     <use xlink:href=\"#ArialMT-65\" x=\"750.390625\"/>\n     <use xlink:href=\"#ArialMT-75\" x=\"806.005859\"/>\n     <use xlink:href=\"#ArialMT-72\" x=\"861.621094\"/>\n     <use xlink:href=\"#ArialMT-73\" x=\"894.921875\"/>\n    </g>\n   </g>\n  </g>\n </g>\n <defs>\n  <clipPath id=\"pcc133adb69\">\n   <rect x=\"39.715\" y=\"23.50725\" width=\"357.12\" height=\"266.112\"/>\n  </clipPath>\n </defs>\n</svg>\n"
     },
     "metadata": {},
     "output_type": "display_data"
    }
   ],
   "source": [
    "W,b=regression_logistique(Poly_X_train, y_train)"
   ]
  },
  {
   "cell_type": "markdown",
   "id": "2e6f5ae1",
   "metadata": {},
   "source": [
    "### 7. Evaluation du modèle et Visualisation"
   ]
  },
  {
   "cell_type": "code",
   "execution_count": 92,
   "id": "7c340a2a",
   "metadata": {
    "ExecuteTime": {
     "end_time": "2024-04-24T11:03:34.173256271Z",
     "start_time": "2024-04-24T11:03:33.906135748Z"
    }
   },
   "outputs": [
    {
     "name": "stdout",
     "output_type": "stream",
     "text": [
      "Accuracy= 95.0 %\n"
     ]
    }
   ],
   "source": [
    "y_pred = predict(Poly_X_test, W, b)\n",
    "print(\"Accuracy=\",np.round(accuracy_score(y_test, y_pred)*100),'%')"
   ]
  },
  {
   "cell_type": "code",
   "execution_count": 92,
   "id": "a4acb2a4",
   "metadata": {
    "ExecuteTime": {
     "end_time": "2024-04-24T11:03:36.005515821Z",
     "start_time": "2024-04-24T11:03:35.822701422Z"
    }
   },
   "outputs": [],
   "source": []
  },
  {
   "cell_type": "code",
   "execution_count": 93,
   "outputs": [],
   "source": [
    "from sklearn.metrics import confusion_matrix\n",
    "y_pred = predict(Poly_X_test, W, b)\n",
    "cm = confusion_matrix(y_test, y_pred)"
   ],
   "metadata": {
    "collapsed": false,
    "ExecuteTime": {
     "end_time": "2024-04-24T11:03:36.699654579Z",
     "start_time": "2024-04-24T11:03:36.447461200Z"
    }
   },
   "id": "9289f8882f22945d"
  },
  {
   "cell_type": "code",
   "execution_count": 94,
   "outputs": [
    {
     "data": {
      "text/plain": "<Figure size 640x480 with 2 Axes>",
      "image/svg+xml": "<?xml version=\"1.0\" encoding=\"utf-8\" standalone=\"no\"?>\n<!DOCTYPE svg PUBLIC \"-//W3C//DTD SVG 1.1//EN\"\n  \"http://www.w3.org/Graphics/SVG/1.1/DTD/svg11.dtd\">\n<svg xmlns:xlink=\"http://www.w3.org/1999/xlink\" width=\"358.524788pt\" height=\"309.464562pt\" viewBox=\"0 0 358.524788 309.464562\" xmlns=\"http://www.w3.org/2000/svg\" version=\"1.1\">\n <metadata>\n  <rdf:RDF xmlns:dc=\"http://purl.org/dc/elements/1.1/\" xmlns:cc=\"http://creativecommons.org/ns#\" xmlns:rdf=\"http://www.w3.org/1999/02/22-rdf-syntax-ns#\">\n   <cc:Work>\n    <dc:type rdf:resource=\"http://purl.org/dc/dcmitype/StillImage\"/>\n    <dc:date>2024-04-24T12:03:37.858478</dc:date>\n    <dc:format>image/svg+xml</dc:format>\n    <dc:creator>\n     <cc:Agent>\n      <dc:title>Matplotlib v3.8.3, https://matplotlib.org/</dc:title>\n     </cc:Agent>\n    </dc:creator>\n   </cc:Work>\n  </rdf:RDF>\n </metadata>\n <defs>\n  <style type=\"text/css\">*{stroke-linejoin: round; stroke-linecap: butt}</style>\n </defs>\n <g id=\"figure_1\">\n  <g id=\"patch_1\">\n   <path d=\"M 0 309.464562 \nL 358.524788 309.464562 \nL 358.524788 0 \nL 0 0 \nz\n\" style=\"fill: #ffffff\"/>\n  </g>\n  <g id=\"axes_1\">\n   <g id=\"patch_2\">\n    <path d=\"M 19.845313 289.61925 \nL 305.541313 289.61925 \nL 305.541313 23.50725 \nL 19.845313 23.50725 \nz\n\" style=\"fill: #eeeeee\"/>\n   </g>\n   <g id=\"matplotlib.axis_1\">\n    <g id=\"xtick_1\">\n     <g id=\"line2d_1\">\n      <path d=\"M 91.269313 289.61925 \nL 91.269313 23.50725 \n\" clip-path=\"url(#pd800609d63)\" style=\"fill: none; stroke-dasharray: 1.85,0.8; stroke-dashoffset: 0; stroke: #b2b2b2; stroke-width: 0.5\"/>\n     </g>\n     <g id=\"text_1\">\n      <!-- 0 -->\n      <g style=\"fill: #262626\" transform=\"translate(88.488844 300.277062) scale(0.1 -0.1)\">\n       <defs>\n        <path id=\"ArialMT-30\" d=\"M 266 2259 \nQ 266 3072 433 3567 \nQ 600 4063 929 4331 \nQ 1259 4600 1759 4600 \nQ 2128 4600 2406 4451 \nQ 2684 4303 2865 4023 \nQ 3047 3744 3150 3342 \nQ 3253 2941 3253 2259 \nQ 3253 1453 3087 958 \nQ 2922 463 2592 192 \nQ 2263 -78 1759 -78 \nQ 1097 -78 719 397 \nQ 266 969 266 2259 \nz\nM 844 2259 \nQ 844 1131 1108 757 \nQ 1372 384 1759 384 \nQ 2147 384 2411 759 \nQ 2675 1134 2675 2259 \nQ 2675 3391 2411 3762 \nQ 2147 4134 1753 4134 \nQ 1366 4134 1134 3806 \nQ 844 3388 844 2259 \nz\n\" transform=\"scale(0.015625)\"/>\n       </defs>\n       <use xlink:href=\"#ArialMT-30\"/>\n      </g>\n     </g>\n    </g>\n    <g id=\"xtick_2\">\n     <g id=\"line2d_2\">\n      <path d=\"M 234.117313 289.61925 \nL 234.117313 23.50725 \n\" clip-path=\"url(#pd800609d63)\" style=\"fill: none; stroke-dasharray: 1.85,0.8; stroke-dashoffset: 0; stroke: #b2b2b2; stroke-width: 0.5\"/>\n     </g>\n     <g id=\"text_2\">\n      <!-- 1 -->\n      <g style=\"fill: #262626\" transform=\"translate(231.336844 300.277062) scale(0.1 -0.1)\">\n       <defs>\n        <path id=\"ArialMT-31\" d=\"M 2384 0 \nL 1822 0 \nL 1822 3584 \nQ 1619 3391 1289 3197 \nQ 959 3003 697 2906 \nL 697 3450 \nQ 1169 3672 1522 3987 \nQ 1875 4303 2022 4600 \nL 2384 4600 \nL 2384 0 \nz\n\" transform=\"scale(0.015625)\"/>\n       </defs>\n       <use xlink:href=\"#ArialMT-31\"/>\n      </g>\n     </g>\n    </g>\n   </g>\n   <g id=\"matplotlib.axis_2\">\n    <g id=\"ytick_1\">\n     <g id=\"line2d_3\">\n      <path d=\"M 19.845313 90.03525 \nL 305.541313 90.03525 \n\" clip-path=\"url(#pd800609d63)\" style=\"fill: none; stroke-dasharray: 1.85,0.8; stroke-dashoffset: 0; stroke: #b2b2b2; stroke-width: 0.5\"/>\n     </g>\n     <g id=\"text_3\">\n      <!-- 0 -->\n      <g style=\"fill: #262626\" transform=\"translate(14.357813 92.815719) rotate(-90) scale(0.1 -0.1)\">\n       <use xlink:href=\"#ArialMT-30\"/>\n      </g>\n     </g>\n    </g>\n    <g id=\"ytick_2\">\n     <g id=\"line2d_4\">\n      <path d=\"M 19.845313 223.09125 \nL 305.541313 223.09125 \n\" clip-path=\"url(#pd800609d63)\" style=\"fill: none; stroke-dasharray: 1.85,0.8; stroke-dashoffset: 0; stroke: #b2b2b2; stroke-width: 0.5\"/>\n     </g>\n     <g id=\"text_4\">\n      <!-- 1 -->\n      <g style=\"fill: #262626\" transform=\"translate(14.357813 225.871719) rotate(-90) scale(0.1 -0.1)\">\n       <use xlink:href=\"#ArialMT-31\"/>\n      </g>\n     </g>\n    </g>\n   </g>\n   <g id=\"QuadMesh_1\">\n    <path d=\"M 19.845313 23.50725 \nL 162.693313 23.50725 \nL 162.693313 156.56325 \nL 19.845313 156.56325 \nL 19.845313 23.50725 \n\" clip-path=\"url(#pd800609d63)\" style=\"fill: #08306b\"/>\n    <path d=\"M 162.693313 23.50725 \nL 305.541313 23.50725 \nL 305.541313 156.56325 \nL 162.693313 156.56325 \nL 162.693313 23.50725 \n\" clip-path=\"url(#pd800609d63)\" style=\"fill: #eaf2fb\"/>\n    <path d=\"M 19.845313 156.56325 \nL 162.693313 156.56325 \nL 162.693313 289.61925 \nL 19.845313 289.61925 \nL 19.845313 156.56325 \n\" clip-path=\"url(#pd800609d63)\" style=\"fill: #f7fbff\"/>\n    <path d=\"M 162.693313 156.56325 \nL 305.541313 156.56325 \nL 305.541313 289.61925 \nL 162.693313 289.61925 \nL 162.693313 156.56325 \n\" clip-path=\"url(#pd800609d63)\" style=\"fill: #b3d3e8\"/>\n   </g>\n   <g id=\"text_5\">\n    <!-- 29 -->\n    <g style=\"fill: #ffffff\" transform=\"translate(74.5865 97.790719) scale(0.3 -0.3)\">\n     <defs>\n      <path id=\"ArialMT-32\" d=\"M 3222 541 \nL 3222 0 \nL 194 0 \nQ 188 203 259 391 \nQ 375 700 629 1000 \nQ 884 1300 1366 1694 \nQ 2113 2306 2375 2664 \nQ 2638 3022 2638 3341 \nQ 2638 3675 2398 3904 \nQ 2159 4134 1775 4134 \nQ 1369 4134 1125 3890 \nQ 881 3647 878 3216 \nL 300 3275 \nQ 359 3922 746 4261 \nQ 1134 4600 1788 4600 \nQ 2447 4600 2831 4234 \nQ 3216 3869 3216 3328 \nQ 3216 3053 3103 2787 \nQ 2991 2522 2730 2228 \nQ 2469 1934 1863 1422 \nQ 1356 997 1212 845 \nQ 1069 694 975 541 \nL 3222 541 \nz\n\" transform=\"scale(0.015625)\"/>\n      <path id=\"ArialMT-39\" d=\"M 350 1059 \nL 891 1109 \nQ 959 728 1153 556 \nQ 1347 384 1650 384 \nQ 1909 384 2104 503 \nQ 2300 622 2425 820 \nQ 2550 1019 2634 1356 \nQ 2719 1694 2719 2044 \nQ 2719 2081 2716 2156 \nQ 2547 1888 2255 1720 \nQ 1963 1553 1622 1553 \nQ 1053 1553 659 1965 \nQ 266 2378 266 3053 \nQ 266 3750 677 4175 \nQ 1088 4600 1706 4600 \nQ 2153 4600 2523 4359 \nQ 2894 4119 3086 3673 \nQ 3278 3228 3278 2384 \nQ 3278 1506 3087 986 \nQ 2897 466 2520 194 \nQ 2144 -78 1638 -78 \nQ 1100 -78 759 220 \nQ 419 519 350 1059 \nz\nM 2653 3081 \nQ 2653 3566 2395 3850 \nQ 2138 4134 1775 4134 \nQ 1400 4134 1122 3828 \nQ 844 3522 844 3034 \nQ 844 2597 1108 2323 \nQ 1372 2050 1759 2050 \nQ 2150 2050 2401 2323 \nQ 2653 2597 2653 3081 \nz\n\" transform=\"scale(0.015625)\"/>\n     </defs>\n     <use xlink:href=\"#ArialMT-32\"/>\n     <use xlink:href=\"#ArialMT-39\" x=\"55.615234\"/>\n    </g>\n   </g>\n   <g id=\"text_6\">\n    <!-- 2 -->\n    <g style=\"fill: #262626\" transform=\"translate(225.775906 97.790719) scale(0.3 -0.3)\">\n     <use xlink:href=\"#ArialMT-32\"/>\n    </g>\n   </g>\n   <g id=\"text_7\">\n    <!-- 0 -->\n    <g style=\"fill: #262626\" transform=\"translate(82.927906 230.846719) scale(0.3 -0.3)\">\n     <use xlink:href=\"#ArialMT-30\"/>\n    </g>\n   </g>\n   <g id=\"text_8\">\n    <!-- 9 -->\n    <g style=\"fill: #262626\" transform=\"translate(225.775906 230.846719) scale(0.3 -0.3)\">\n     <use xlink:href=\"#ArialMT-39\"/>\n    </g>\n   </g>\n   <g id=\"text_9\">\n    <!-- Confusion Matrix Test -->\n    <g style=\"fill: #262626\" transform=\"translate(93.600313 17.50725) scale(0.144 -0.144)\">\n     <defs>\n      <path id=\"ArialMT-43\" d=\"M 3763 1606 \nL 4369 1453 \nQ 4178 706 3683 314 \nQ 3188 -78 2472 -78 \nQ 1731 -78 1267 223 \nQ 803 525 561 1097 \nQ 319 1669 319 2325 \nQ 319 3041 592 3573 \nQ 866 4106 1370 4382 \nQ 1875 4659 2481 4659 \nQ 3169 4659 3637 4309 \nQ 4106 3959 4291 3325 \nL 3694 3184 \nQ 3534 3684 3231 3912 \nQ 2928 4141 2469 4141 \nQ 1941 4141 1586 3887 \nQ 1231 3634 1087 3207 \nQ 944 2781 944 2328 \nQ 944 1744 1114 1308 \nQ 1284 872 1643 656 \nQ 2003 441 2422 441 \nQ 2931 441 3284 734 \nQ 3638 1028 3763 1606 \nz\n\" transform=\"scale(0.015625)\"/>\n      <path id=\"ArialMT-6f\" d=\"M 213 1659 \nQ 213 2581 725 3025 \nQ 1153 3394 1769 3394 \nQ 2453 3394 2887 2945 \nQ 3322 2497 3322 1706 \nQ 3322 1066 3130 698 \nQ 2938 331 2570 128 \nQ 2203 -75 1769 -75 \nQ 1072 -75 642 372 \nQ 213 819 213 1659 \nz\nM 791 1659 \nQ 791 1022 1069 705 \nQ 1347 388 1769 388 \nQ 2188 388 2466 706 \nQ 2744 1025 2744 1678 \nQ 2744 2294 2464 2611 \nQ 2184 2928 1769 2928 \nQ 1347 2928 1069 2612 \nQ 791 2297 791 1659 \nz\n\" transform=\"scale(0.015625)\"/>\n      <path id=\"ArialMT-6e\" d=\"M 422 0 \nL 422 3319 \nL 928 3319 \nL 928 2847 \nQ 1294 3394 1984 3394 \nQ 2284 3394 2536 3286 \nQ 2788 3178 2913 3003 \nQ 3038 2828 3088 2588 \nQ 3119 2431 3119 2041 \nL 3119 0 \nL 2556 0 \nL 2556 2019 \nQ 2556 2363 2490 2533 \nQ 2425 2703 2258 2804 \nQ 2091 2906 1866 2906 \nQ 1506 2906 1245 2678 \nQ 984 2450 984 1813 \nL 984 0 \nL 422 0 \nz\n\" transform=\"scale(0.015625)\"/>\n      <path id=\"ArialMT-66\" d=\"M 556 0 \nL 556 2881 \nL 59 2881 \nL 59 3319 \nL 556 3319 \nL 556 3672 \nQ 556 4006 616 4169 \nQ 697 4388 901 4523 \nQ 1106 4659 1475 4659 \nQ 1713 4659 2000 4603 \nL 1916 4113 \nQ 1741 4144 1584 4144 \nQ 1328 4144 1222 4034 \nQ 1116 3925 1116 3625 \nL 1116 3319 \nL 1763 3319 \nL 1763 2881 \nL 1116 2881 \nL 1116 0 \nL 556 0 \nz\n\" transform=\"scale(0.015625)\"/>\n      <path id=\"ArialMT-75\" d=\"M 2597 0 \nL 2597 488 \nQ 2209 -75 1544 -75 \nQ 1250 -75 995 37 \nQ 741 150 617 320 \nQ 494 491 444 738 \nQ 409 903 409 1263 \nL 409 3319 \nL 972 3319 \nL 972 1478 \nQ 972 1038 1006 884 \nQ 1059 663 1231 536 \nQ 1403 409 1656 409 \nQ 1909 409 2131 539 \nQ 2353 669 2445 892 \nQ 2538 1116 2538 1541 \nL 2538 3319 \nL 3100 3319 \nL 3100 0 \nL 2597 0 \nz\n\" transform=\"scale(0.015625)\"/>\n      <path id=\"ArialMT-73\" d=\"M 197 991 \nL 753 1078 \nQ 800 744 1014 566 \nQ 1228 388 1613 388 \nQ 2000 388 2187 545 \nQ 2375 703 2375 916 \nQ 2375 1106 2209 1216 \nQ 2094 1291 1634 1406 \nQ 1016 1563 777 1677 \nQ 538 1791 414 1992 \nQ 291 2194 291 2438 \nQ 291 2659 392 2848 \nQ 494 3038 669 3163 \nQ 800 3259 1026 3326 \nQ 1253 3394 1513 3394 \nQ 1903 3394 2198 3281 \nQ 2494 3169 2634 2976 \nQ 2775 2784 2828 2463 \nL 2278 2388 \nQ 2241 2644 2061 2787 \nQ 1881 2931 1553 2931 \nQ 1166 2931 1000 2803 \nQ 834 2675 834 2503 \nQ 834 2394 903 2306 \nQ 972 2216 1119 2156 \nQ 1203 2125 1616 2013 \nQ 2213 1853 2448 1751 \nQ 2684 1650 2818 1456 \nQ 2953 1263 2953 975 \nQ 2953 694 2789 445 \nQ 2625 197 2315 61 \nQ 2006 -75 1616 -75 \nQ 969 -75 630 194 \nQ 291 463 197 991 \nz\n\" transform=\"scale(0.015625)\"/>\n      <path id=\"ArialMT-69\" d=\"M 425 3934 \nL 425 4581 \nL 988 4581 \nL 988 3934 \nL 425 3934 \nz\nM 425 0 \nL 425 3319 \nL 988 3319 \nL 988 0 \nL 425 0 \nz\n\" transform=\"scale(0.015625)\"/>\n      <path id=\"ArialMT-20\" transform=\"scale(0.015625)\"/>\n      <path id=\"ArialMT-4d\" d=\"M 475 0 \nL 475 4581 \nL 1388 4581 \nL 2472 1338 \nQ 2622 884 2691 659 \nQ 2769 909 2934 1394 \nL 4031 4581 \nL 4847 4581 \nL 4847 0 \nL 4263 0 \nL 4263 3834 \nL 2931 0 \nL 2384 0 \nL 1059 3900 \nL 1059 0 \nL 475 0 \nz\n\" transform=\"scale(0.015625)\"/>\n      <path id=\"ArialMT-61\" d=\"M 2588 409 \nQ 2275 144 1986 34 \nQ 1697 -75 1366 -75 \nQ 819 -75 525 192 \nQ 231 459 231 875 \nQ 231 1119 342 1320 \nQ 453 1522 633 1644 \nQ 813 1766 1038 1828 \nQ 1203 1872 1538 1913 \nQ 2219 1994 2541 2106 \nQ 2544 2222 2544 2253 \nQ 2544 2597 2384 2738 \nQ 2169 2928 1744 2928 \nQ 1347 2928 1158 2789 \nQ 969 2650 878 2297 \nL 328 2372 \nQ 403 2725 575 2942 \nQ 747 3159 1072 3276 \nQ 1397 3394 1825 3394 \nQ 2250 3394 2515 3294 \nQ 2781 3194 2906 3042 \nQ 3031 2891 3081 2659 \nQ 3109 2516 3109 2141 \nL 3109 1391 \nQ 3109 606 3145 398 \nQ 3181 191 3288 0 \nL 2700 0 \nQ 2613 175 2588 409 \nz\nM 2541 1666 \nQ 2234 1541 1622 1453 \nQ 1275 1403 1131 1340 \nQ 988 1278 909 1158 \nQ 831 1038 831 891 \nQ 831 666 1001 516 \nQ 1172 366 1500 366 \nQ 1825 366 2078 508 \nQ 2331 650 2450 897 \nQ 2541 1088 2541 1459 \nL 2541 1666 \nz\n\" transform=\"scale(0.015625)\"/>\n      <path id=\"ArialMT-74\" d=\"M 1650 503 \nL 1731 6 \nQ 1494 -44 1306 -44 \nQ 1000 -44 831 53 \nQ 663 150 594 308 \nQ 525 466 525 972 \nL 525 2881 \nL 113 2881 \nL 113 3319 \nL 525 3319 \nL 525 4141 \nL 1084 4478 \nL 1084 3319 \nL 1650 3319 \nL 1650 2881 \nL 1084 2881 \nL 1084 941 \nQ 1084 700 1114 631 \nQ 1144 563 1211 522 \nQ 1278 481 1403 481 \nQ 1497 481 1650 503 \nz\n\" transform=\"scale(0.015625)\"/>\n      <path id=\"ArialMT-72\" d=\"M 416 0 \nL 416 3319 \nL 922 3319 \nL 922 2816 \nQ 1116 3169 1280 3281 \nQ 1444 3394 1641 3394 \nQ 1925 3394 2219 3213 \nL 2025 2691 \nQ 1819 2813 1613 2813 \nQ 1428 2813 1281 2702 \nQ 1134 2591 1072 2394 \nQ 978 2094 978 1738 \nL 978 0 \nL 416 0 \nz\n\" transform=\"scale(0.015625)\"/>\n      <path id=\"ArialMT-78\" d=\"M 47 0 \nL 1259 1725 \nL 138 3319 \nL 841 3319 \nL 1350 2541 \nQ 1494 2319 1581 2169 \nQ 1719 2375 1834 2534 \nL 2394 3319 \nL 3066 3319 \nL 1919 1756 \nL 3153 0 \nL 2463 0 \nL 1781 1031 \nL 1600 1309 \nL 728 0 \nL 47 0 \nz\n\" transform=\"scale(0.015625)\"/>\n      <path id=\"ArialMT-54\" d=\"M 1659 0 \nL 1659 4041 \nL 150 4041 \nL 150 4581 \nL 3781 4581 \nL 3781 4041 \nL 2266 4041 \nL 2266 0 \nL 1659 0 \nz\n\" transform=\"scale(0.015625)\"/>\n      <path id=\"ArialMT-65\" d=\"M 2694 1069 \nL 3275 997 \nQ 3138 488 2766 206 \nQ 2394 -75 1816 -75 \nQ 1088 -75 661 373 \nQ 234 822 234 1631 \nQ 234 2469 665 2931 \nQ 1097 3394 1784 3394 \nQ 2450 3394 2872 2941 \nQ 3294 2488 3294 1666 \nQ 3294 1616 3291 1516 \nL 816 1516 \nQ 847 969 1125 678 \nQ 1403 388 1819 388 \nQ 2128 388 2347 550 \nQ 2566 713 2694 1069 \nz\nM 847 1978 \nL 2700 1978 \nQ 2663 2397 2488 2606 \nQ 2219 2931 1791 2931 \nQ 1403 2931 1139 2672 \nQ 875 2413 847 1978 \nz\n\" transform=\"scale(0.015625)\"/>\n     </defs>\n     <use xlink:href=\"#ArialMT-43\"/>\n     <use xlink:href=\"#ArialMT-6f\" x=\"72.216797\"/>\n     <use xlink:href=\"#ArialMT-6e\" x=\"127.832031\"/>\n     <use xlink:href=\"#ArialMT-66\" x=\"183.447266\"/>\n     <use xlink:href=\"#ArialMT-75\" x=\"211.230469\"/>\n     <use xlink:href=\"#ArialMT-73\" x=\"266.845703\"/>\n     <use xlink:href=\"#ArialMT-69\" x=\"316.845703\"/>\n     <use xlink:href=\"#ArialMT-6f\" x=\"339.0625\"/>\n     <use xlink:href=\"#ArialMT-6e\" x=\"394.677734\"/>\n     <use xlink:href=\"#ArialMT-20\" x=\"450.292969\"/>\n     <use xlink:href=\"#ArialMT-4d\" x=\"478.076172\"/>\n     <use xlink:href=\"#ArialMT-61\" x=\"561.376953\"/>\n     <use xlink:href=\"#ArialMT-74\" x=\"616.992188\"/>\n     <use xlink:href=\"#ArialMT-72\" x=\"644.775391\"/>\n     <use xlink:href=\"#ArialMT-69\" x=\"678.076172\"/>\n     <use xlink:href=\"#ArialMT-78\" x=\"700.292969\"/>\n     <use xlink:href=\"#ArialMT-20\" x=\"750.292969\"/>\n     <use xlink:href=\"#ArialMT-54\" x=\"776.326172\"/>\n     <use xlink:href=\"#ArialMT-65\" x=\"826.285156\"/>\n     <use xlink:href=\"#ArialMT-73\" x=\"881.900391\"/>\n     <use xlink:href=\"#ArialMT-74\" x=\"931.900391\"/>\n    </g>\n   </g>\n  </g>\n  <g id=\"axes_2\">\n   <g id=\"patch_3\">\n    <path d=\"M 323.397313 289.61925 \nL 336.702913 289.61925 \nL 336.702913 23.50725 \nL 323.397313 23.50725 \nz\n\" style=\"fill: #eeeeee\"/>\n   </g>\n   <g id=\"matplotlib.axis_3\"/>\n   <g id=\"matplotlib.axis_4\">\n    <g id=\"ytick_3\">\n     <g id=\"line2d_5\">\n      <defs>\n       <path id=\"m9d9ac17c9d\" d=\"M 0 0 \nL -3.5 0 \n\" style=\"stroke: #262626; stroke-width: 0.8\"/>\n      </defs>\n      <g>\n       <use xlink:href=\"#m9d9ac17c9d\" x=\"336.702913\" y=\"289.61925\" style=\"fill: #262626; stroke: #262626; stroke-width: 0.8\"/>\n      </g>\n     </g>\n     <g id=\"text_10\">\n      <!-- 0 -->\n      <g style=\"fill: #262626\" transform=\"translate(340.202913 293.198156) scale(0.1 -0.1)\">\n       <use xlink:href=\"#ArialMT-30\"/>\n      </g>\n     </g>\n    </g>\n    <g id=\"ytick_4\">\n     <g id=\"line2d_6\">\n      <g>\n       <use xlink:href=\"#m9d9ac17c9d\" x=\"336.702913\" y=\"243.737871\" style=\"fill: #262626; stroke: #262626; stroke-width: 0.8\"/>\n      </g>\n     </g>\n     <g id=\"text_11\">\n      <!-- 5 -->\n      <g style=\"fill: #262626\" transform=\"translate(340.202913 247.316777) scale(0.1 -0.1)\">\n       <defs>\n        <path id=\"ArialMT-35\" d=\"M 266 1200 \nL 856 1250 \nQ 922 819 1161 601 \nQ 1400 384 1738 384 \nQ 2144 384 2425 690 \nQ 2706 997 2706 1503 \nQ 2706 1984 2436 2262 \nQ 2166 2541 1728 2541 \nQ 1456 2541 1237 2417 \nQ 1019 2294 894 2097 \nL 366 2166 \nL 809 4519 \nL 3088 4519 \nL 3088 3981 \nL 1259 3981 \nL 1013 2750 \nQ 1425 3038 1878 3038 \nQ 2478 3038 2890 2622 \nQ 3303 2206 3303 1553 \nQ 3303 931 2941 478 \nQ 2500 -78 1738 -78 \nQ 1113 -78 717 272 \nQ 322 622 266 1200 \nz\n\" transform=\"scale(0.015625)\"/>\n       </defs>\n       <use xlink:href=\"#ArialMT-35\"/>\n      </g>\n     </g>\n    </g>\n    <g id=\"ytick_5\">\n     <g id=\"line2d_7\">\n      <g>\n       <use xlink:href=\"#m9d9ac17c9d\" x=\"336.702913\" y=\"197.856491\" style=\"fill: #262626; stroke: #262626; stroke-width: 0.8\"/>\n      </g>\n     </g>\n     <g id=\"text_12\">\n      <!-- 10 -->\n      <g style=\"fill: #262626\" transform=\"translate(340.202913 201.435398) scale(0.1 -0.1)\">\n       <use xlink:href=\"#ArialMT-31\"/>\n       <use xlink:href=\"#ArialMT-30\" x=\"55.615234\"/>\n      </g>\n     </g>\n    </g>\n    <g id=\"ytick_6\">\n     <g id=\"line2d_8\">\n      <g>\n       <use xlink:href=\"#m9d9ac17c9d\" x=\"336.702913\" y=\"151.975112\" style=\"fill: #262626; stroke: #262626; stroke-width: 0.8\"/>\n      </g>\n     </g>\n     <g id=\"text_13\">\n      <!-- 15 -->\n      <g style=\"fill: #262626\" transform=\"translate(340.202913 155.554018) scale(0.1 -0.1)\">\n       <use xlink:href=\"#ArialMT-31\"/>\n       <use xlink:href=\"#ArialMT-35\" x=\"55.615234\"/>\n      </g>\n     </g>\n    </g>\n    <g id=\"ytick_7\">\n     <g id=\"line2d_9\">\n      <g>\n       <use xlink:href=\"#m9d9ac17c9d\" x=\"336.702913\" y=\"106.093733\" style=\"fill: #262626; stroke: #262626; stroke-width: 0.8\"/>\n      </g>\n     </g>\n     <g id=\"text_14\">\n      <!-- 20 -->\n      <g style=\"fill: #262626\" transform=\"translate(340.202913 109.672639) scale(0.1 -0.1)\">\n       <use xlink:href=\"#ArialMT-32\"/>\n       <use xlink:href=\"#ArialMT-30\" x=\"55.615234\"/>\n      </g>\n     </g>\n    </g>\n    <g id=\"ytick_8\">\n     <g id=\"line2d_10\">\n      <g>\n       <use xlink:href=\"#m9d9ac17c9d\" x=\"336.702913\" y=\"60.212353\" style=\"fill: #262626; stroke: #262626; stroke-width: 0.8\"/>\n      </g>\n     </g>\n     <g id=\"text_15\">\n      <!-- 25 -->\n      <g style=\"fill: #262626\" transform=\"translate(340.202913 63.79126) scale(0.1 -0.1)\">\n       <use xlink:href=\"#ArialMT-32\"/>\n       <use xlink:href=\"#ArialMT-35\" x=\"55.615234\"/>\n      </g>\n     </g>\n    </g>\n   </g>\n   <image xlink:href=\"data:image/png;base64,\niVBORw0KGgoAAAANSUhEUgAAABMAAAFxCAYAAACRG5MpAAABxElEQVR4nO2cwW3EMBADlcD9t5tHAN/VQGEeA5AsgPCIq13JzuXn7//zOZAezuqc53M4t1/M6ZzzgA92HtALxlyaudnSvDADnwxdM28A8JNVpInuTbRrlKQpbo7wDLCOupI0UcyzNHOzjuZongGkmRhzacZmHaNut7oLs6WZqiTNNcdcG3W5luaF2ZrjhdlGXaqlmcub5vOCCWwG5GJnwNuBuTRzM29zZGeAtjTe7YDcTIupTVN92CObI2alxlyascSYJRudvFSIMWt2AGjGlob3eICWhhaTLY2OG4o3Te3eFK8ZOwO0mCWvIlhMcZrSom1ZMzEmaub9uLDpFJuhG71lzTArNaa4n3VgatM0zwDUTIsJn8+smPBXRCumNk3xe9rNgBszzGtpXkh8dPe+vtkMyM28mC3HUGuaLc2xBnM7IFQJZs8OwLyGeaFhXplhXu7mKF2zYeZ6XvCKIsbUpqne6KiZFxMsDfEPtVtuKFLMlUYuMebSjFWCudLIJcZcmrFKMFcauYaZC/6fJFpMeG+iZtxfh9KlMczczIvJPRm6ZiWY6tIYZm42zFAwJvlxAe4a2jUrKY1hXpgNMzfbKSiUF/MLxlEbnmMdsBcAAAAASUVORK5CYII=\" id=\"imagef0e764f458\" transform=\"scale(1 -1) translate(0 -265.68)\" x=\"323.28\" y=\"-23.04\" width=\"13.68\" height=\"265.68\"/>\n   <g id=\"LineCollection_1\"/>\n   <g id=\"patch_4\">\n    <path d=\"M 323.397313 289.61925 \nL 330.050113 289.61925 \nL 336.702913 289.61925 \nL 336.702913 23.50725 \nL 330.050113 23.50725 \nL 323.397313 23.50725 \nL 323.397313 289.61925 \nz\n\" style=\"fill: none\"/>\n   </g>\n  </g>\n </g>\n <defs>\n  <clipPath id=\"pd800609d63\">\n   <rect x=\"19.845313\" y=\"23.50725\" width=\"285.696\" height=\"266.112\"/>\n  </clipPath>\n </defs>\n</svg>\n"
     },
     "metadata": {},
     "output_type": "display_data"
    }
   ],
   "source": [
    "# Plot confusion matrix\n",
    "\n",
    "ax = plt.axes()\n",
    "df_cm = cm\n",
    "sns.heatmap(df_cm, annot=True, annot_kws={\"size\": 30}, fmt='d',cmap=\"Blues\", ax = ax )\n",
    "ax.set_title('Confusion Matrix Test')\n",
    "plt.show()"
   ],
   "metadata": {
    "collapsed": false,
    "ExecuteTime": {
     "end_time": "2024-04-24T11:03:38.066196474Z",
     "start_time": "2024-04-24T11:03:37.175788624Z"
    }
   },
   "id": "e5fa42dab9eac4c4"
  },
  {
   "cell_type": "code",
   "execution_count": 95,
   "outputs": [
    {
     "name": "stdout",
     "output_type": "stream",
     "text": [
      "u [-3.         -2.89795918 -2.79591837 -2.69387755 -2.59183673 -2.48979592\n",
      " -2.3877551  -2.28571429 -2.18367347 -2.08163265 -1.97959184 -1.87755102\n",
      " -1.7755102  -1.67346939 -1.57142857 -1.46938776 -1.36734694 -1.26530612\n",
      " -1.16326531 -1.06122449 -0.95918367 -0.85714286 -0.75510204 -0.65306122\n",
      " -0.55102041 -0.44897959 -0.34693878 -0.24489796 -0.14285714 -0.04081633\n",
      "  0.06122449  0.16326531  0.26530612  0.36734694  0.46938776  0.57142857\n",
      "  0.67346939  0.7755102   0.87755102  0.97959184  1.08163265  1.18367347\n",
      "  1.28571429  1.3877551   1.48979592  1.59183673  1.69387755  1.79591837\n",
      "  1.89795918  2.        ] \n",
      "\n",
      "U= [[-3.         -2.89795918 -2.79591837 ...  1.79591837  1.89795918\n",
      "   2.        ]\n",
      " [-3.         -2.89795918 -2.79591837 ...  1.79591837  1.89795918\n",
      "   2.        ]\n",
      " [-3.         -2.89795918 -2.79591837 ...  1.79591837  1.89795918\n",
      "   2.        ]\n",
      " ...\n",
      " [-3.         -2.89795918 -2.79591837 ...  1.79591837  1.89795918\n",
      "   2.        ]\n",
      " [-3.         -2.89795918 -2.79591837 ...  1.79591837  1.89795918\n",
      "   2.        ]\n",
      " [-3.         -2.89795918 -2.79591837 ...  1.79591837  1.89795918\n",
      "   2.        ]] \n",
      "\n",
      "V= [[-3.         -3.         -3.         ... -3.         -3.\n",
      "  -3.        ]\n",
      " [-2.89795918 -2.89795918 -2.89795918 ... -2.89795918 -2.89795918\n",
      "  -2.89795918]\n",
      " [-2.79591837 -2.79591837 -2.79591837 ... -2.79591837 -2.79591837\n",
      "  -2.79591837]\n",
      " ...\n",
      " [ 1.79591837  1.79591837  1.79591837 ...  1.79591837  1.79591837\n",
      "   1.79591837]\n",
      " [ 1.89795918  1.89795918  1.89795918 ...  1.89795918  1.89795918\n",
      "   1.89795918]\n",
      " [ 2.          2.          2.         ...  2.          2.\n",
      "   2.        ]] \n",
      "\n",
      "U applati= [-3.         -2.89795918 -2.79591837 ...  1.79591837  1.89795918\n",
      "  2.        ] \n",
      "\n",
      "V applati= [-3. -3. -3. ...  2.  2.  2.] \n",
      "\n",
      "Z= [[-983.37856592]\n",
      " [-919.84475174]\n",
      " [-858.48659896]\n",
      " ...\n",
      " [ -22.88192805]\n",
      " [ -32.48374205]\n",
      " [ -44.82477158]] \n",
      "\n",
      "U.shape (50, 50)\n",
      "V.shape (50, 50)\n",
      "Z.shape (50, 50)\n"
     ]
    },
    {
     "data": {
      "text/plain": "<matplotlib.contour.QuadContourSet at 0x76a9692a2a40>"
     },
     "execution_count": 95,
     "metadata": {},
     "output_type": "execute_result"
    },
    {
     "data": {
      "text/plain": "<Figure size 800x600 with 1 Axes>",
      "image/svg+xml": "<?xml version=\"1.0\" encoding=\"utf-8\" standalone=\"no\"?>\n<!DOCTYPE svg PUBLIC \"-//W3C//DTD SVG 1.1//EN\"\n  \"http://www.w3.org/Graphics/SVG/1.1/DTD/svg11.dtd\">\n<svg xmlns:xlink=\"http://www.w3.org/1999/xlink\" width=\"475.701562pt\" height=\"359.685313pt\" viewBox=\"0 0 475.701562 359.685313\" xmlns=\"http://www.w3.org/2000/svg\" version=\"1.1\">\n <metadata>\n  <rdf:RDF xmlns:dc=\"http://purl.org/dc/elements/1.1/\" xmlns:cc=\"http://creativecommons.org/ns#\" xmlns:rdf=\"http://www.w3.org/1999/02/22-rdf-syntax-ns#\">\n   <cc:Work>\n    <dc:type rdf:resource=\"http://purl.org/dc/dcmitype/StillImage\"/>\n    <dc:date>2024-04-24T12:03:39.042442</dc:date>\n    <dc:format>image/svg+xml</dc:format>\n    <dc:creator>\n     <cc:Agent>\n      <dc:title>Matplotlib v3.8.3, https://matplotlib.org/</dc:title>\n     </cc:Agent>\n    </dc:creator>\n   </cc:Work>\n  </rdf:RDF>\n </metadata>\n <defs>\n  <style type=\"text/css\">*{stroke-linejoin: round; stroke-linecap: butt}</style>\n </defs>\n <g id=\"figure_1\">\n  <g id=\"patch_1\">\n   <path d=\"M 0 359.685313 \nL 475.701562 359.685313 \nL 475.701562 0 \nL 0 0 \nz\n\" style=\"fill: #ffffff\"/>\n  </g>\n  <g id=\"axes_1\">\n   <g id=\"patch_2\">\n    <path d=\"M 22.101562 339.84 \nL 468.501562 339.84 \nL 468.501562 7.2 \nL 22.101562 7.2 \nz\n\" style=\"fill: #eeeeee\"/>\n   </g>\n   <g id=\"matplotlib.axis_1\">\n    <g id=\"xtick_1\">\n     <g id=\"line2d_1\">\n      <path d=\"M 60.318214 339.84 \nL 60.318214 7.2 \n\" clip-path=\"url(#pa92c041bc8)\" style=\"fill: none; stroke-dasharray: 1.85,0.8; stroke-dashoffset: 0; stroke: #b2b2b2; stroke-width: 0.5\"/>\n     </g>\n     <g id=\"text_1\">\n      <!-- −3 -->\n      <g style=\"fill: #262626\" transform=\"translate(54.617433 350.497813) scale(0.1 -0.1)\">\n       <defs>\n        <path id=\"ArialMT-2212\" d=\"M 3381 1997 \nL 356 1997 \nL 356 2522 \nL 3381 2522 \nL 3381 1997 \nz\n\" transform=\"scale(0.015625)\"/>\n        <path id=\"ArialMT-33\" d=\"M 269 1209 \nL 831 1284 \nQ 928 806 1161 595 \nQ 1394 384 1728 384 \nQ 2125 384 2398 659 \nQ 2672 934 2672 1341 \nQ 2672 1728 2419 1979 \nQ 2166 2231 1775 2231 \nQ 1616 2231 1378 2169 \nL 1441 2663 \nQ 1497 2656 1531 2656 \nQ 1891 2656 2178 2843 \nQ 2466 3031 2466 3422 \nQ 2466 3731 2256 3934 \nQ 2047 4138 1716 4138 \nQ 1388 4138 1169 3931 \nQ 950 3725 888 3313 \nL 325 3413 \nQ 428 3978 793 4289 \nQ 1159 4600 1703 4600 \nQ 2078 4600 2393 4439 \nQ 2709 4278 2876 4000 \nQ 3044 3722 3044 3409 \nQ 3044 3113 2884 2869 \nQ 2725 2625 2413 2481 \nQ 2819 2388 3044 2092 \nQ 3269 1797 3269 1353 \nQ 3269 753 2831 336 \nQ 2394 -81 1725 -81 \nQ 1122 -81 723 278 \nQ 325 638 269 1209 \nz\n\" transform=\"scale(0.015625)\"/>\n       </defs>\n       <use xlink:href=\"#ArialMT-2212\"/>\n       <use xlink:href=\"#ArialMT-33\" x=\"58.398438\"/>\n      </g>\n     </g>\n    </g>\n    <g id=\"xtick_2\">\n     <g id=\"line2d_2\">\n      <path d=\"M 130.362688 339.84 \nL 130.362688 7.2 \n\" clip-path=\"url(#pa92c041bc8)\" style=\"fill: none; stroke-dasharray: 1.85,0.8; stroke-dashoffset: 0; stroke: #b2b2b2; stroke-width: 0.5\"/>\n     </g>\n     <g id=\"text_2\">\n      <!-- −2 -->\n      <g style=\"fill: #262626\" transform=\"translate(124.661906 350.497813) scale(0.1 -0.1)\">\n       <defs>\n        <path id=\"ArialMT-32\" d=\"M 3222 541 \nL 3222 0 \nL 194 0 \nQ 188 203 259 391 \nQ 375 700 629 1000 \nQ 884 1300 1366 1694 \nQ 2113 2306 2375 2664 \nQ 2638 3022 2638 3341 \nQ 2638 3675 2398 3904 \nQ 2159 4134 1775 4134 \nQ 1369 4134 1125 3890 \nQ 881 3647 878 3216 \nL 300 3275 \nQ 359 3922 746 4261 \nQ 1134 4600 1788 4600 \nQ 2447 4600 2831 4234 \nQ 3216 3869 3216 3328 \nQ 3216 3053 3103 2787 \nQ 2991 2522 2730 2228 \nQ 2469 1934 1863 1422 \nQ 1356 997 1212 845 \nQ 1069 694 975 541 \nL 3222 541 \nz\n\" transform=\"scale(0.015625)\"/>\n       </defs>\n       <use xlink:href=\"#ArialMT-2212\"/>\n       <use xlink:href=\"#ArialMT-32\" x=\"58.398438\"/>\n      </g>\n     </g>\n    </g>\n    <g id=\"xtick_3\">\n     <g id=\"line2d_3\">\n      <path d=\"M 200.407161 339.84 \nL 200.407161 7.2 \n\" clip-path=\"url(#pa92c041bc8)\" style=\"fill: none; stroke-dasharray: 1.85,0.8; stroke-dashoffset: 0; stroke: #b2b2b2; stroke-width: 0.5\"/>\n     </g>\n     <g id=\"text_3\">\n      <!-- −1 -->\n      <g style=\"fill: #262626\" transform=\"translate(194.70638 350.497813) scale(0.1 -0.1)\">\n       <defs>\n        <path id=\"ArialMT-31\" d=\"M 2384 0 \nL 1822 0 \nL 1822 3584 \nQ 1619 3391 1289 3197 \nQ 959 3003 697 2906 \nL 697 3450 \nQ 1169 3672 1522 3987 \nQ 1875 4303 2022 4600 \nL 2384 4600 \nL 2384 0 \nz\n\" transform=\"scale(0.015625)\"/>\n       </defs>\n       <use xlink:href=\"#ArialMT-2212\"/>\n       <use xlink:href=\"#ArialMT-31\" x=\"58.398438\"/>\n      </g>\n     </g>\n    </g>\n    <g id=\"xtick_4\">\n     <g id=\"line2d_4\">\n      <path d=\"M 270.451634 339.84 \nL 270.451634 7.2 \n\" clip-path=\"url(#pa92c041bc8)\" style=\"fill: none; stroke-dasharray: 1.85,0.8; stroke-dashoffset: 0; stroke: #b2b2b2; stroke-width: 0.5\"/>\n     </g>\n     <g id=\"text_4\">\n      <!-- 0 -->\n      <g style=\"fill: #262626\" transform=\"translate(267.671165 350.497813) scale(0.1 -0.1)\">\n       <defs>\n        <path id=\"ArialMT-30\" d=\"M 266 2259 \nQ 266 3072 433 3567 \nQ 600 4063 929 4331 \nQ 1259 4600 1759 4600 \nQ 2128 4600 2406 4451 \nQ 2684 4303 2865 4023 \nQ 3047 3744 3150 3342 \nQ 3253 2941 3253 2259 \nQ 3253 1453 3087 958 \nQ 2922 463 2592 192 \nQ 2263 -78 1759 -78 \nQ 1097 -78 719 397 \nQ 266 969 266 2259 \nz\nM 844 2259 \nQ 844 1131 1108 757 \nQ 1372 384 1759 384 \nQ 2147 384 2411 759 \nQ 2675 1134 2675 2259 \nQ 2675 3391 2411 3762 \nQ 2147 4134 1753 4134 \nQ 1366 4134 1134 3806 \nQ 844 3388 844 2259 \nz\n\" transform=\"scale(0.015625)\"/>\n       </defs>\n       <use xlink:href=\"#ArialMT-30\"/>\n      </g>\n     </g>\n    </g>\n    <g id=\"xtick_5\">\n     <g id=\"line2d_5\">\n      <path d=\"M 340.496107 339.84 \nL 340.496107 7.2 \n\" clip-path=\"url(#pa92c041bc8)\" style=\"fill: none; stroke-dasharray: 1.85,0.8; stroke-dashoffset: 0; stroke: #b2b2b2; stroke-width: 0.5\"/>\n     </g>\n     <g id=\"text_5\">\n      <!-- 1 -->\n      <g style=\"fill: #262626\" transform=\"translate(337.715638 350.497813) scale(0.1 -0.1)\">\n       <use xlink:href=\"#ArialMT-31\"/>\n      </g>\n     </g>\n    </g>\n    <g id=\"xtick_6\">\n     <g id=\"line2d_6\">\n      <path d=\"M 410.54058 339.84 \nL 410.54058 7.2 \n\" clip-path=\"url(#pa92c041bc8)\" style=\"fill: none; stroke-dasharray: 1.85,0.8; stroke-dashoffset: 0; stroke: #b2b2b2; stroke-width: 0.5\"/>\n     </g>\n     <g id=\"text_6\">\n      <!-- 2 -->\n      <g style=\"fill: #262626\" transform=\"translate(407.760112 350.497813) scale(0.1 -0.1)\">\n       <use xlink:href=\"#ArialMT-32\"/>\n      </g>\n     </g>\n    </g>\n   </g>\n   <g id=\"matplotlib.axis_2\">\n    <g id=\"ytick_1\">\n     <g id=\"line2d_7\">\n      <path d=\"M 22.101562 339.84 \nL 468.501562 339.84 \n\" clip-path=\"url(#pa92c041bc8)\" style=\"fill: none; stroke-dasharray: 1.85,0.8; stroke-dashoffset: 0; stroke: #b2b2b2; stroke-width: 0.5\"/>\n     </g>\n     <g id=\"text_7\">\n      <!-- −3 -->\n      <g style=\"fill: #262626\" transform=\"translate(7.2 343.418906) scale(0.1 -0.1)\">\n       <use xlink:href=\"#ArialMT-2212\"/>\n       <use xlink:href=\"#ArialMT-33\" x=\"58.398438\"/>\n      </g>\n     </g>\n    </g>\n    <g id=\"ytick_2\">\n     <g id=\"line2d_8\">\n      <path d=\"M 22.101562 286.319565 \nL 468.501562 286.319565 \n\" clip-path=\"url(#pa92c041bc8)\" style=\"fill: none; stroke-dasharray: 1.85,0.8; stroke-dashoffset: 0; stroke: #b2b2b2; stroke-width: 0.5\"/>\n     </g>\n     <g id=\"text_8\">\n      <!-- −2 -->\n      <g style=\"fill: #262626\" transform=\"translate(7.2 289.898472) scale(0.1 -0.1)\">\n       <use xlink:href=\"#ArialMT-2212\"/>\n       <use xlink:href=\"#ArialMT-32\" x=\"58.398438\"/>\n      </g>\n     </g>\n    </g>\n    <g id=\"ytick_3\">\n     <g id=\"line2d_9\">\n      <path d=\"M 22.101562 232.799131 \nL 468.501562 232.799131 \n\" clip-path=\"url(#pa92c041bc8)\" style=\"fill: none; stroke-dasharray: 1.85,0.8; stroke-dashoffset: 0; stroke: #b2b2b2; stroke-width: 0.5\"/>\n     </g>\n     <g id=\"text_9\">\n      <!-- −1 -->\n      <g style=\"fill: #262626\" transform=\"translate(7.2 236.378037) scale(0.1 -0.1)\">\n       <use xlink:href=\"#ArialMT-2212\"/>\n       <use xlink:href=\"#ArialMT-31\" x=\"58.398438\"/>\n      </g>\n     </g>\n    </g>\n    <g id=\"ytick_4\">\n     <g id=\"line2d_10\">\n      <path d=\"M 22.101562 179.278696 \nL 468.501562 179.278696 \n\" clip-path=\"url(#pa92c041bc8)\" style=\"fill: none; stroke-dasharray: 1.85,0.8; stroke-dashoffset: 0; stroke: #b2b2b2; stroke-width: 0.5\"/>\n     </g>\n     <g id=\"text_10\">\n      <!-- 0 -->\n      <g style=\"fill: #262626\" transform=\"translate(13.040625 182.857602) scale(0.1 -0.1)\">\n       <use xlink:href=\"#ArialMT-30\"/>\n      </g>\n     </g>\n    </g>\n    <g id=\"ytick_5\">\n     <g id=\"line2d_11\">\n      <path d=\"M 22.101562 125.758262 \nL 468.501562 125.758262 \n\" clip-path=\"url(#pa92c041bc8)\" style=\"fill: none; stroke-dasharray: 1.85,0.8; stroke-dashoffset: 0; stroke: #b2b2b2; stroke-width: 0.5\"/>\n     </g>\n     <g id=\"text_11\">\n      <!-- 1 -->\n      <g style=\"fill: #262626\" transform=\"translate(13.040625 129.337168) scale(0.1 -0.1)\">\n       <use xlink:href=\"#ArialMT-31\"/>\n      </g>\n     </g>\n    </g>\n    <g id=\"ytick_6\">\n     <g id=\"line2d_12\">\n      <path d=\"M 22.101562 72.237827 \nL 468.501562 72.237827 \n\" clip-path=\"url(#pa92c041bc8)\" style=\"fill: none; stroke-dasharray: 1.85,0.8; stroke-dashoffset: 0; stroke: #b2b2b2; stroke-width: 0.5\"/>\n     </g>\n     <g id=\"text_12\">\n      <!-- 2 -->\n      <g style=\"fill: #262626\" transform=\"translate(13.040625 75.816733) scale(0.1 -0.1)\">\n       <use xlink:href=\"#ArialMT-32\"/>\n      </g>\n     </g>\n    </g>\n    <g id=\"ytick_7\">\n     <g id=\"line2d_13\">\n      <path d=\"M 22.101562 18.717392 \nL 468.501562 18.717392 \n\" clip-path=\"url(#pa92c041bc8)\" style=\"fill: none; stroke-dasharray: 1.85,0.8; stroke-dashoffset: 0; stroke: #b2b2b2; stroke-width: 0.5\"/>\n     </g>\n     <g id=\"text_13\">\n      <!-- 3 -->\n      <g style=\"fill: #262626\" transform=\"translate(13.040625 22.296299) scale(0.1 -0.1)\">\n       <use xlink:href=\"#ArialMT-33\"/>\n      </g>\n     </g>\n    </g>\n   </g>\n   <g id=\"PathCollection_1\">\n    <defs>\n     <path id=\"C0_0_f5d24f3286\" d=\"M 0 3.535534 \nC 0.937635 3.535534 1.836992 3.163008 2.5 2.5 \nC 3.163008 1.836992 3.535534 0.937635 3.535534 -0 \nC 3.535534 -0.937635 3.163008 -1.836992 2.5 -2.5 \nC 1.836992 -3.163008 0.937635 -3.535534 0 -3.535534 \nC -0.937635 -3.535534 -1.836992 -3.163008 -2.5 -2.5 \nC -3.163008 -1.836992 -3.535534 -0.937635 -3.535534 0 \nC -3.535534 0.937635 -3.163008 1.836992 -2.5 2.5 \nC -1.836992 3.163008 -0.937635 3.535534 0 3.535534 \nz\n\"/>\n    </defs>\n    <g clip-path=\"url(#pa92c041bc8)\">\n     <use xlink:href=\"#C0_0_f5d24f3286\" x=\"288.789886\" y=\"190.214408\" style=\"fill: #00ff80; stroke: #000000; stroke-width: 0.5\"/>\n    </g>\n    <g clip-path=\"url(#pa92c041bc8)\">\n     <use xlink:href=\"#C0_0_f5d24f3286\" x=\"448.210653\" y=\"197.846145\" style=\"fill: #0000ff; stroke: #000000; stroke-width: 0.5\"/>\n    </g>\n    <g clip-path=\"url(#pa92c041bc8)\">\n     <use xlink:href=\"#C0_0_f5d24f3286\" x=\"287.725093\" y=\"98.449873\" style=\"fill: #0000ff; stroke: #000000; stroke-width: 0.5\"/>\n    </g>\n    <g clip-path=\"url(#pa92c041bc8)\">\n     <use xlink:href=\"#C0_0_f5d24f3286\" x=\"198.675774\" y=\"224.159999\" style=\"fill: #0000ff; stroke: #000000; stroke-width: 0.5\"/>\n    </g>\n    <g clip-path=\"url(#pa92c041bc8)\">\n     <use xlink:href=\"#C0_0_f5d24f3286\" x=\"288.99235\" y=\"201.527567\" style=\"fill: #00ff80; stroke: #000000; stroke-width: 0.5\"/>\n    </g>\n    <g clip-path=\"url(#pa92c041bc8)\">\n     <use xlink:href=\"#C0_0_f5d24f3286\" x=\"179.075126\" y=\"202.542772\" style=\"fill: #0000ff; stroke: #000000; stroke-width: 0.5\"/>\n    </g>\n    <g clip-path=\"url(#pa92c041bc8)\">\n     <use xlink:href=\"#C0_0_f5d24f3286\" x=\"226.193326\" y=\"155.428717\" style=\"fill: #0000ff; stroke: #000000; stroke-width: 0.5\"/>\n    </g>\n    <g clip-path=\"url(#pa92c041bc8)\">\n     <use xlink:href=\"#C0_0_f5d24f3286\" x=\"164.068329\" y=\"225.464445\" style=\"fill: #0000ff; stroke: #000000; stroke-width: 0.5\"/>\n    </g>\n    <g clip-path=\"url(#pa92c041bc8)\">\n     <use xlink:href=\"#C0_0_f5d24f3286\" x=\"371.341095\" y=\"75.503489\" style=\"fill: #0000ff; stroke: #000000; stroke-width: 0.5\"/>\n    </g>\n    <g clip-path=\"url(#pa92c041bc8)\">\n     <use xlink:href=\"#C0_0_f5d24f3286\" x=\"166.816176\" y=\"157.64577\" style=\"fill: #0000ff; stroke: #000000; stroke-width: 0.5\"/>\n    </g>\n    <g clip-path=\"url(#pa92c041bc8)\">\n     <use xlink:href=\"#C0_0_f5d24f3286\" x=\"229.133089\" y=\"240.558516\" style=\"fill: #0000ff; stroke: #000000; stroke-width: 0.5\"/>\n    </g>\n    <g clip-path=\"url(#pa92c041bc8)\">\n     <use xlink:href=\"#C0_0_f5d24f3286\" x=\"216.863118\" y=\"183.755266\" style=\"fill: #0000ff; stroke: #000000; stroke-width: 0.5\"/>\n    </g>\n    <g clip-path=\"url(#pa92c041bc8)\">\n     <use xlink:href=\"#C0_0_f5d24f3286\" x=\"337.459706\" y=\"148.466118\" style=\"fill: #00ff80; stroke: #000000; stroke-width: 0.5\"/>\n    </g>\n    <g clip-path=\"url(#pa92c041bc8)\">\n     <use xlink:href=\"#C0_0_f5d24f3286\" x=\"274.328219\" y=\"188.92192\" style=\"fill: #00ff80; stroke: #000000; stroke-width: 0.5\"/>\n    </g>\n    <g clip-path=\"url(#pa92c041bc8)\">\n     <use xlink:href=\"#C0_0_f5d24f3286\" x=\"289.715986\" y=\"178.478186\" style=\"fill: #00ff80; stroke: #000000; stroke-width: 0.5\"/>\n    </g>\n    <g clip-path=\"url(#pa92c041bc8)\">\n     <use xlink:href=\"#C0_0_f5d24f3286\" x=\"311.019305\" y=\"220.29727\" style=\"fill: #00ff80; stroke: #000000; stroke-width: 0.5\"/>\n    </g>\n    <g clip-path=\"url(#pa92c041bc8)\">\n     <use xlink:href=\"#C0_0_f5d24f3286\" x=\"272.867237\" y=\"198.348061\" style=\"fill: #00ff80; stroke: #000000; stroke-width: 0.5\"/>\n    </g>\n    <g clip-path=\"url(#pa92c041bc8)\">\n     <use xlink:href=\"#C0_0_f5d24f3286\" x=\"263.421353\" y=\"141.953097\" style=\"fill: #00ff80; stroke: #000000; stroke-width: 0.5\"/>\n    </g>\n    <g clip-path=\"url(#pa92c041bc8)\">\n     <use xlink:href=\"#C0_0_f5d24f3286\" x=\"269.482758\" y=\"95.414296\" style=\"fill: #0000ff; stroke: #000000; stroke-width: 0.5\"/>\n    </g>\n    <g clip-path=\"url(#pa92c041bc8)\">\n     <use xlink:href=\"#C0_0_f5d24f3286\" x=\"251.296397\" y=\"99.351947\" style=\"fill: #0000ff; stroke: #000000; stroke-width: 0.5\"/>\n    </g>\n    <g clip-path=\"url(#pa92c041bc8)\">\n     <use xlink:href=\"#C0_0_f5d24f3286\" x=\"248.045861\" y=\"220.96234\" style=\"fill: #00ff80; stroke: #000000; stroke-width: 0.5\"/>\n    </g>\n    <g clip-path=\"url(#pa92c041bc8)\">\n     <use xlink:href=\"#C0_0_f5d24f3286\" x=\"276.035735\" y=\"146.374192\" style=\"fill: #00ff80; stroke: #000000; stroke-width: 0.5\"/>\n    </g>\n    <g clip-path=\"url(#pa92c041bc8)\">\n     <use xlink:href=\"#C0_0_f5d24f3286\" x=\"299.383567\" y=\"102.663252\" style=\"fill: #0000ff; stroke: #000000; stroke-width: 0.5\"/>\n    </g>\n    <g clip-path=\"url(#pa92c041bc8)\">\n     <use xlink:href=\"#C0_0_f5d24f3286\" x=\"338.986187\" y=\"154.368678\" style=\"fill: #00ff80; stroke: #000000; stroke-width: 0.5\"/>\n    </g>\n    <g clip-path=\"url(#pa92c041bc8)\">\n     <use xlink:href=\"#C0_0_f5d24f3286\" x=\"249.727458\" y=\"177.398761\" style=\"fill: #0000ff; stroke: #000000; stroke-width: 0.5\"/>\n    </g>\n    <g clip-path=\"url(#pa92c041bc8)\">\n     <use xlink:href=\"#C0_0_f5d24f3286\" x=\"388.259461\" y=\"178.134002\" style=\"fill: #0000ff; stroke: #000000; stroke-width: 0.5\"/>\n    </g>\n    <g clip-path=\"url(#pa92c041bc8)\">\n     <use xlink:href=\"#C0_0_f5d24f3286\" x=\"202.448011\" y=\"219.24821\" style=\"fill: #0000ff; stroke: #000000; stroke-width: 0.5\"/>\n    </g>\n    <g clip-path=\"url(#pa92c041bc8)\">\n     <use xlink:href=\"#C0_0_f5d24f3286\" x=\"226.474868\" y=\"130.547516\" style=\"fill: #0000ff; stroke: #000000; stroke-width: 0.5\"/>\n    </g>\n    <g clip-path=\"url(#pa92c041bc8)\">\n     <use xlink:href=\"#C0_0_f5d24f3286\" x=\"261.995655\" y=\"60.759322\" style=\"fill: #0000ff; stroke: #000000; stroke-width: 0.5\"/>\n    </g>\n    <g clip-path=\"url(#pa92c041bc8)\">\n     <use xlink:href=\"#C0_0_f5d24f3286\" x=\"299.150158\" y=\"175.717977\" style=\"fill: #00ff80; stroke: #000000; stroke-width: 0.5\"/>\n    </g>\n    <g clip-path=\"url(#pa92c041bc8)\">\n     <use xlink:href=\"#C0_0_f5d24f3286\" x=\"241.633063\" y=\"131.651261\" style=\"fill: #0000ff; stroke: #000000; stroke-width: 0.5\"/>\n    </g>\n    <g clip-path=\"url(#pa92c041bc8)\">\n     <use xlink:href=\"#C0_0_f5d24f3286\" x=\"264.507725\" y=\"234.354454\" style=\"fill: #00ff80; stroke: #000000; stroke-width: 0.5\"/>\n    </g>\n    <g clip-path=\"url(#pa92c041bc8)\">\n     <use xlink:href=\"#C0_0_f5d24f3286\" x=\"322.712456\" y=\"180.586638\" style=\"fill: #00ff80; stroke: #000000; stroke-width: 0.5\"/>\n    </g>\n    <g clip-path=\"url(#pa92c041bc8)\">\n     <use xlink:href=\"#C0_0_f5d24f3286\" x=\"358.953854\" y=\"202.968465\" style=\"fill: #0000ff; stroke: #000000; stroke-width: 0.5\"/>\n    </g>\n    <g clip-path=\"url(#pa92c041bc8)\">\n     <use xlink:href=\"#C0_0_f5d24f3286\" x=\"71.955488\" y=\"137.694049\" style=\"fill: #0000ff; stroke: #000000; stroke-width: 0.5\"/>\n    </g>\n    <g clip-path=\"url(#pa92c041bc8)\">\n     <use xlink:href=\"#C0_0_f5d24f3286\" x=\"152.034496\" y=\"109.553585\" style=\"fill: #0000ff; stroke: #000000; stroke-width: 0.5\"/>\n    </g>\n    <g clip-path=\"url(#pa92c041bc8)\">\n     <use xlink:href=\"#C0_0_f5d24f3286\" x=\"417.136881\" y=\"213.72218\" style=\"fill: #0000ff; stroke: #000000; stroke-width: 0.5\"/>\n    </g>\n    <g clip-path=\"url(#pa92c041bc8)\">\n     <use xlink:href=\"#C0_0_f5d24f3286\" x=\"207.316132\" y=\"247.861649\" style=\"fill: #0000ff; stroke: #000000; stroke-width: 0.5\"/>\n    </g>\n    <g clip-path=\"url(#pa92c041bc8)\">\n     <use xlink:href=\"#C0_0_f5d24f3286\" x=\"321.007097\" y=\"166.870832\" style=\"fill: #00ff80; stroke: #000000; stroke-width: 0.5\"/>\n    </g>\n    <g clip-path=\"url(#pa92c041bc8)\">\n     <use xlink:href=\"#C0_0_f5d24f3286\" x=\"211.790452\" y=\"194.147451\" style=\"fill: #0000ff; stroke: #000000; stroke-width: 0.5\"/>\n    </g>\n    <g clip-path=\"url(#pa92c041bc8)\">\n     <use xlink:href=\"#C0_0_f5d24f3286\" x=\"419.641326\" y=\"155.126204\" style=\"fill: #0000ff; stroke: #000000; stroke-width: 0.5\"/>\n    </g>\n    <g clip-path=\"url(#pa92c041bc8)\">\n     <use xlink:href=\"#C0_0_f5d24f3286\" x=\"325.857149\" y=\"129.144304\" style=\"fill: #00ff80; stroke: #000000; stroke-width: 0.5\"/>\n    </g>\n    <g clip-path=\"url(#pa92c041bc8)\">\n     <use xlink:href=\"#C0_0_f5d24f3286\" x=\"348.219932\" y=\"122.124686\" style=\"fill: #00ff80; stroke: #000000; stroke-width: 0.5\"/>\n    </g>\n    <g clip-path=\"url(#pa92c041bc8)\">\n     <use xlink:href=\"#C0_0_f5d24f3286\" x=\"207.665237\" y=\"194.488947\" style=\"fill: #0000ff; stroke: #000000; stroke-width: 0.5\"/>\n    </g>\n    <g clip-path=\"url(#pa92c041bc8)\">\n     <use xlink:href=\"#C0_0_f5d24f3286\" x=\"229.80732\" y=\"229.826771\" style=\"fill: #0000ff; stroke: #000000; stroke-width: 0.5\"/>\n    </g>\n    <g clip-path=\"url(#pa92c041bc8)\">\n     <use xlink:href=\"#C0_0_f5d24f3286\" x=\"351.962815\" y=\"228.059086\" style=\"fill: #0000ff; stroke: #000000; stroke-width: 0.5\"/>\n    </g>\n    <g clip-path=\"url(#pa92c041bc8)\">\n     <use xlink:href=\"#C0_0_f5d24f3286\" x=\"255.162778\" y=\"233.733515\" style=\"fill: #00ff80; stroke: #000000; stroke-width: 0.5\"/>\n    </g>\n    <g clip-path=\"url(#pa92c041bc8)\">\n     <use xlink:href=\"#C0_0_f5d24f3286\" x=\"246.32169\" y=\"156.602725\" style=\"fill: #0000ff; stroke: #000000; stroke-width: 0.5\"/>\n    </g>\n    <g clip-path=\"url(#pa92c041bc8)\">\n     <use xlink:href=\"#C0_0_f5d24f3286\" x=\"235.895104\" y=\"197.28466\" style=\"fill: #0000ff; stroke: #000000; stroke-width: 0.5\"/>\n    </g>\n    <g clip-path=\"url(#pa92c041bc8)\">\n     <use xlink:href=\"#C0_0_f5d24f3286\" x=\"313.552416\" y=\"144.21616\" style=\"fill: #00ff80; stroke: #000000; stroke-width: 0.5\"/>\n    </g>\n    <g clip-path=\"url(#pa92c041bc8)\">\n     <use xlink:href=\"#C0_0_f5d24f3286\" x=\"340.838862\" y=\"165.070869\" style=\"fill: #00ff80; stroke: #000000; stroke-width: 0.5\"/>\n    </g>\n    <g clip-path=\"url(#pa92c041bc8)\">\n     <use xlink:href=\"#C0_0_f5d24f3286\" x=\"159.303573\" y=\"146.124488\" style=\"fill: #0000ff; stroke: #000000; stroke-width: 0.5\"/>\n    </g>\n    <g clip-path=\"url(#pa92c041bc8)\">\n     <use xlink:href=\"#C0_0_f5d24f3286\" x=\"304.997658\" y=\"143.63101\" style=\"fill: #00ff80; stroke: #000000; stroke-width: 0.5\"/>\n    </g>\n    <g clip-path=\"url(#pa92c041bc8)\">\n     <use xlink:href=\"#C0_0_f5d24f3286\" x=\"213.524559\" y=\"30.798935\" style=\"fill: #0000ff; stroke: #000000; stroke-width: 0.5\"/>\n    </g>\n    <g clip-path=\"url(#pa92c041bc8)\">\n     <use xlink:href=\"#C0_0_f5d24f3286\" x=\"173.651866\" y=\"152.892917\" style=\"fill: #0000ff; stroke: #000000; stroke-width: 0.5\"/>\n    </g>\n    <g clip-path=\"url(#pa92c041bc8)\">\n     <use xlink:href=\"#C0_0_f5d24f3286\" x=\"274.948638\" y=\"193.207328\" style=\"fill: #00ff80; stroke: #000000; stroke-width: 0.5\"/>\n    </g>\n    <g clip-path=\"url(#pa92c041bc8)\">\n     <use xlink:href=\"#C0_0_f5d24f3286\" x=\"344.519968\" y=\"210.402069\" style=\"fill: #00ff80; stroke: #000000; stroke-width: 0.5\"/>\n    </g>\n    <g clip-path=\"url(#pa92c041bc8)\">\n     <use xlink:href=\"#C0_0_f5d24f3286\" x=\"113.158527\" y=\"248.776496\" style=\"fill: #0000ff; stroke: #000000; stroke-width: 0.5\"/>\n    </g>\n    <g clip-path=\"url(#pa92c041bc8)\">\n     <use xlink:href=\"#C0_0_f5d24f3286\" x=\"306.395114\" y=\"83.668452\" style=\"fill: #0000ff; stroke: #000000; stroke-width: 0.5\"/>\n    </g>\n    <g clip-path=\"url(#pa92c041bc8)\">\n     <use xlink:href=\"#C0_0_f5d24f3286\" x=\"179.610841\" y=\"184.420064\" style=\"fill: #0000ff; stroke: #000000; stroke-width: 0.5\"/>\n    </g>\n    <g clip-path=\"url(#pa92c041bc8)\">\n     <use xlink:href=\"#C0_0_f5d24f3286\" x=\"374.93946\" y=\"148.721733\" style=\"fill: #0000ff; stroke: #000000; stroke-width: 0.5\"/>\n    </g>\n    <g clip-path=\"url(#pa92c041bc8)\">\n     <use xlink:href=\"#C0_0_f5d24f3286\" x=\"229.65675\" y=\"249.755316\" style=\"fill: #0000ff; stroke: #000000; stroke-width: 0.5\"/>\n    </g>\n    <g clip-path=\"url(#pa92c041bc8)\">\n     <use xlink:href=\"#C0_0_f5d24f3286\" x=\"138.944158\" y=\"226.675805\" style=\"fill: #0000ff; stroke: #000000; stroke-width: 0.5\"/>\n    </g>\n    <g clip-path=\"url(#pa92c041bc8)\">\n     <use xlink:href=\"#C0_0_f5d24f3286\" x=\"253.881149\" y=\"300.547355\" style=\"fill: #0000ff; stroke: #000000; stroke-width: 0.5\"/>\n    </g>\n    <g clip-path=\"url(#pa92c041bc8)\">\n     <use xlink:href=\"#C0_0_f5d24f3286\" x=\"142.01965\" y=\"152.973076\" style=\"fill: #0000ff; stroke: #000000; stroke-width: 0.5\"/>\n    </g>\n    <g clip-path=\"url(#pa92c041bc8)\">\n     <use xlink:href=\"#C0_0_f5d24f3286\" x=\"233.532887\" y=\"220.013141\" style=\"fill: #0000ff; stroke: #000000; stroke-width: 0.5\"/>\n    </g>\n    <g clip-path=\"url(#pa92c041bc8)\">\n     <use xlink:href=\"#C0_0_f5d24f3286\" x=\"252.192817\" y=\"212.669176\" style=\"fill: #0000ff; stroke: #000000; stroke-width: 0.5\"/>\n    </g>\n    <g clip-path=\"url(#pa92c041bc8)\">\n     <use xlink:href=\"#C0_0_f5d24f3286\" x=\"352.231937\" y=\"73.773711\" style=\"fill: #0000ff; stroke: #000000; stroke-width: 0.5\"/>\n    </g>\n    <g clip-path=\"url(#pa92c041bc8)\">\n     <use xlink:href=\"#C0_0_f5d24f3286\" x=\"416.327106\" y=\"149.833755\" style=\"fill: #0000ff; stroke: #000000; stroke-width: 0.5\"/>\n    </g>\n    <g clip-path=\"url(#pa92c041bc8)\">\n     <use xlink:href=\"#C0_0_f5d24f3286\" x=\"345.872679\" y=\"86.077301\" style=\"fill: #0000ff; stroke: #000000; stroke-width: 0.5\"/>\n    </g>\n    <g clip-path=\"url(#pa92c041bc8)\">\n     <use xlink:href=\"#C0_0_f5d24f3286\" x=\"388.026645\" y=\"93.354536\" style=\"fill: #0000ff; stroke: #000000; stroke-width: 0.5\"/>\n    </g>\n    <g clip-path=\"url(#pa92c041bc8)\">\n     <use xlink:href=\"#C0_0_f5d24f3286\" x=\"350.075606\" y=\"229.91506\" style=\"fill: #0000ff; stroke: #000000; stroke-width: 0.5\"/>\n    </g>\n    <g clip-path=\"url(#pa92c041bc8)\">\n     <use xlink:href=\"#C0_0_f5d24f3286\" x=\"172.945288\" y=\"128.628927\" style=\"fill: #0000ff; stroke: #000000; stroke-width: 0.5\"/>\n    </g>\n    <g clip-path=\"url(#pa92c041bc8)\">\n     <use xlink:href=\"#C0_0_f5d24f3286\" x=\"265.593623\" y=\"164.168263\" style=\"fill: #00ff80; stroke: #000000; stroke-width: 0.5\"/>\n    </g>\n    <g clip-path=\"url(#pa92c041bc8)\">\n     <use xlink:href=\"#C0_0_f5d24f3286\" x=\"228.223341\" y=\"255.774178\" style=\"fill: #0000ff; stroke: #000000; stroke-width: 0.5\"/>\n    </g>\n    <g clip-path=\"url(#pa92c041bc8)\">\n     <use xlink:href=\"#C0_0_f5d24f3286\" x=\"353.136432\" y=\"174.667357\" style=\"fill: #0000ff; stroke: #000000; stroke-width: 0.5\"/>\n    </g>\n    <g clip-path=\"url(#pa92c041bc8)\">\n     <use xlink:href=\"#C0_0_f5d24f3286\" x=\"195.939153\" y=\"162.516328\" style=\"fill: #0000ff; stroke: #000000; stroke-width: 0.5\"/>\n    </g>\n    <g clip-path=\"url(#pa92c041bc8)\">\n     <use xlink:href=\"#C0_0_f5d24f3286\" x=\"296.945228\" y=\"151.21155\" style=\"fill: #00ff80; stroke: #000000; stroke-width: 0.5\"/>\n    </g>\n    <g clip-path=\"url(#pa92c041bc8)\">\n     <use xlink:href=\"#C0_0_f5d24f3286\" x=\"417.685421\" y=\"185.464162\" style=\"fill: #0000ff; stroke: #000000; stroke-width: 0.5\"/>\n    </g>\n    <g clip-path=\"url(#pa92c041bc8)\">\n     <use xlink:href=\"#C0_0_f5d24f3286\" x=\"158.995156\" y=\"164.174231\" style=\"fill: #0000ff; stroke: #000000; stroke-width: 0.5\"/>\n    </g>\n    <g clip-path=\"url(#pa92c041bc8)\">\n     <use xlink:href=\"#C0_0_f5d24f3286\" x=\"217.717461\" y=\"143.364395\" style=\"fill: #0000ff; stroke: #000000; stroke-width: 0.5\"/>\n    </g>\n    <g clip-path=\"url(#pa92c041bc8)\">\n     <use xlink:href=\"#C0_0_f5d24f3286\" x=\"275.984643\" y=\"159.975363\" style=\"fill: #00ff80; stroke: #000000; stroke-width: 0.5\"/>\n    </g>\n    <g clip-path=\"url(#pa92c041bc8)\">\n     <use xlink:href=\"#C0_0_f5d24f3286\" x=\"239.559373\" y=\"160.069224\" style=\"fill: #0000ff; stroke: #000000; stroke-width: 0.5\"/>\n    </g>\n    <g clip-path=\"url(#pa92c041bc8)\">\n     <use xlink:href=\"#C0_0_f5d24f3286\" x=\"223.290684\" y=\"126.705497\" style=\"fill: #0000ff; stroke: #000000; stroke-width: 0.5\"/>\n    </g>\n    <g clip-path=\"url(#pa92c041bc8)\">\n     <use xlink:href=\"#C0_0_f5d24f3286\" x=\"246.587335\" y=\"233.05345\" style=\"fill: #00ff80; stroke: #000000; stroke-width: 0.5\"/>\n    </g>\n    <g clip-path=\"url(#pa92c041bc8)\">\n     <use xlink:href=\"#C0_0_f5d24f3286\" x=\"304.236573\" y=\"225.345848\" style=\"fill: #00ff80; stroke: #000000; stroke-width: 0.5\"/>\n    </g>\n    <g clip-path=\"url(#pa92c041bc8)\">\n     <use xlink:href=\"#C0_0_f5d24f3286\" x=\"389.998845\" y=\"151.384449\" style=\"fill: #0000ff; stroke: #000000; stroke-width: 0.5\"/>\n    </g>\n    <g clip-path=\"url(#pa92c041bc8)\">\n     <use xlink:href=\"#C0_0_f5d24f3286\" x=\"307.987602\" y=\"198.213481\" style=\"fill: #00ff80; stroke: #000000; stroke-width: 0.5\"/>\n    </g>\n    <g clip-path=\"url(#pa92c041bc8)\">\n     <use xlink:href=\"#C0_0_f5d24f3286\" x=\"270.317048\" y=\"298.029054\" style=\"fill: #0000ff; stroke: #000000; stroke-width: 0.5\"/>\n    </g>\n    <g clip-path=\"url(#pa92c041bc8)\">\n     <use xlink:href=\"#C0_0_f5d24f3286\" x=\"360.022358\" y=\"224.42847\" style=\"fill: #0000ff; stroke: #000000; stroke-width: 0.5\"/>\n    </g>\n    <g clip-path=\"url(#pa92c041bc8)\">\n     <use xlink:href=\"#C0_0_f5d24f3286\" x=\"354.142982\" y=\"210.817698\" style=\"fill: #0000ff; stroke: #000000; stroke-width: 0.5\"/>\n    </g>\n    <g clip-path=\"url(#pa92c041bc8)\">\n     <use xlink:href=\"#C0_0_f5d24f3286\" x=\"268.560017\" y=\"180.180845\" style=\"fill: #00ff80; stroke: #000000; stroke-width: 0.5\"/>\n    </g>\n    <g clip-path=\"url(#pa92c041bc8)\">\n     <use xlink:href=\"#C0_0_f5d24f3286\" x=\"211.732142\" y=\"202.536373\" style=\"fill: #0000ff; stroke: #000000; stroke-width: 0.5\"/>\n    </g>\n    <g clip-path=\"url(#pa92c041bc8)\">\n     <use xlink:href=\"#C0_0_f5d24f3286\" x=\"308.528211\" y=\"209.598165\" style=\"fill: #00ff80; stroke: #000000; stroke-width: 0.5\"/>\n    </g>\n    <g clip-path=\"url(#pa92c041bc8)\">\n     <use xlink:href=\"#C0_0_f5d24f3286\" x=\"153.782747\" y=\"206.902231\" style=\"fill: #0000ff; stroke: #000000; stroke-width: 0.5\"/>\n    </g>\n    <g clip-path=\"url(#pa92c041bc8)\">\n     <use xlink:href=\"#C0_0_f5d24f3286\" x=\"263.603603\" y=\"122.873197\" style=\"fill: #0000ff; stroke: #000000; stroke-width: 0.5\"/>\n    </g>\n    <g clip-path=\"url(#pa92c041bc8)\">\n     <use xlink:href=\"#C0_0_f5d24f3286\" x=\"293.853282\" y=\"174.82584\" style=\"fill: #00ff80; stroke: #000000; stroke-width: 0.5\"/>\n    </g>\n    <g clip-path=\"url(#pa92c041bc8)\">\n     <use xlink:href=\"#C0_0_f5d24f3286\" x=\"194.134116\" y=\"130.824625\" style=\"fill: #0000ff; stroke: #000000; stroke-width: 0.5\"/>\n    </g>\n    <g clip-path=\"url(#pa92c041bc8)\">\n     <use xlink:href=\"#C0_0_f5d24f3286\" x=\"264.584616\" y=\"202.017882\" style=\"fill: #00ff80; stroke: #000000; stroke-width: 0.5\"/>\n    </g>\n    <g clip-path=\"url(#pa92c041bc8)\">\n     <use xlink:href=\"#C0_0_f5d24f3286\" x=\"321.577448\" y=\"129.810436\" style=\"fill: #00ff80; stroke: #000000; stroke-width: 0.5\"/>\n    </g>\n    <g clip-path=\"url(#pa92c041bc8)\">\n     <use xlink:href=\"#C0_0_f5d24f3286\" x=\"298.853865\" y=\"241.95778\" style=\"fill: #00ff80; stroke: #000000; stroke-width: 0.5\"/>\n    </g>\n    <g clip-path=\"url(#pa92c041bc8)\">\n     <use xlink:href=\"#C0_0_f5d24f3286\" x=\"254.083463\" y=\"289.124671\" style=\"fill: #0000ff; stroke: #000000; stroke-width: 0.5\"/>\n    </g>\n    <g clip-path=\"url(#pa92c041bc8)\">\n     <use xlink:href=\"#C0_0_f5d24f3286\" x=\"255.087968\" y=\"188.708959\" style=\"fill: #00ff80; stroke: #000000; stroke-width: 0.5\"/>\n    </g>\n    <g clip-path=\"url(#pa92c041bc8)\">\n     <use xlink:href=\"#C0_0_f5d24f3286\" x=\"330.228662\" y=\"180.212926\" style=\"fill: #00ff80; stroke: #000000; stroke-width: 0.5\"/>\n    </g>\n    <g clip-path=\"url(#pa92c041bc8)\">\n     <use xlink:href=\"#C0_0_f5d24f3286\" x=\"244.075296\" y=\"67.226769\" style=\"fill: #0000ff; stroke: #000000; stroke-width: 0.5\"/>\n    </g>\n    <g clip-path=\"url(#pa92c041bc8)\">\n     <use xlink:href=\"#C0_0_f5d24f3286\" x=\"176.60201\" y=\"249.076081\" style=\"fill: #0000ff; stroke: #000000; stroke-width: 0.5\"/>\n    </g>\n    <g clip-path=\"url(#pa92c041bc8)\">\n     <use xlink:href=\"#C0_0_f5d24f3286\" x=\"207.555386\" y=\"143.724762\" style=\"fill: #0000ff; stroke: #000000; stroke-width: 0.5\"/>\n    </g>\n    <g clip-path=\"url(#pa92c041bc8)\">\n     <use xlink:href=\"#C0_0_f5d24f3286\" x=\"249.056572\" y=\"179.459961\" style=\"fill: #0000ff; stroke: #000000; stroke-width: 0.5\"/>\n    </g>\n    <g clip-path=\"url(#pa92c041bc8)\">\n     <use xlink:href=\"#C0_0_f5d24f3286\" x=\"203.412136\" y=\"102.707605\" style=\"fill: #0000ff; stroke: #000000; stroke-width: 0.5\"/>\n    </g>\n    <g clip-path=\"url(#pa92c041bc8)\">\n     <use xlink:href=\"#C0_0_f5d24f3286\" x=\"231.515057\" y=\"235.622409\" style=\"fill: #0000ff; stroke: #000000; stroke-width: 0.5\"/>\n    </g>\n    <g clip-path=\"url(#pa92c041bc8)\">\n     <use xlink:href=\"#C0_0_f5d24f3286\" x=\"251.400765\" y=\"238.143713\" style=\"fill: #00ff80; stroke: #000000; stroke-width: 0.5\"/>\n    </g>\n    <g clip-path=\"url(#pa92c041bc8)\">\n     <use xlink:href=\"#C0_0_f5d24f3286\" x=\"269.455185\" y=\"91.637682\" style=\"fill: #0000ff; stroke: #000000; stroke-width: 0.5\"/>\n    </g>\n    <g clip-path=\"url(#pa92c041bc8)\">\n     <use xlink:href=\"#C0_0_f5d24f3286\" x=\"232.584623\" y=\"184.783054\" style=\"fill: #0000ff; stroke: #000000; stroke-width: 0.5\"/>\n    </g>\n    <g clip-path=\"url(#pa92c041bc8)\">\n     <use xlink:href=\"#C0_0_f5d24f3286\" x=\"237.749175\" y=\"178.793391\" style=\"fill: #0000ff; stroke: #000000; stroke-width: 0.5\"/>\n    </g>\n    <g clip-path=\"url(#pa92c041bc8)\">\n     <use xlink:href=\"#C0_0_f5d24f3286\" x=\"344.728627\" y=\"160.227806\" style=\"fill: #00ff80; stroke: #000000; stroke-width: 0.5\"/>\n    </g>\n    <g clip-path=\"url(#pa92c041bc8)\">\n     <use xlink:href=\"#C0_0_f5d24f3286\" x=\"241.668145\" y=\"234.906646\" style=\"fill: #00ff80; stroke: #000000; stroke-width: 0.5\"/>\n    </g>\n    <g clip-path=\"url(#pa92c041bc8)\">\n     <use xlink:href=\"#C0_0_f5d24f3286\" x=\"263.964298\" y=\"126.555682\" style=\"fill: #0000ff; stroke: #000000; stroke-width: 0.5\"/>\n    </g>\n    <g clip-path=\"url(#pa92c041bc8)\">\n     <use xlink:href=\"#C0_0_f5d24f3286\" x=\"284.147019\" y=\"189.128093\" style=\"fill: #00ff80; stroke: #000000; stroke-width: 0.5\"/>\n    </g>\n    <g clip-path=\"url(#pa92c041bc8)\">\n     <use xlink:href=\"#C0_0_f5d24f3286\" x=\"129.950591\" y=\"120.366088\" style=\"fill: #0000ff; stroke: #000000; stroke-width: 0.5\"/>\n    </g>\n    <g clip-path=\"url(#pa92c041bc8)\">\n     <use xlink:href=\"#C0_0_f5d24f3286\" x=\"174.262565\" y=\"251.696786\" style=\"fill: #0000ff; stroke: #000000; stroke-width: 0.5\"/>\n    </g>\n    <g clip-path=\"url(#pa92c041bc8)\">\n     <use xlink:href=\"#C0_0_f5d24f3286\" x=\"246.437751\" y=\"173.62771\" style=\"fill: #0000ff; stroke: #000000; stroke-width: 0.5\"/>\n    </g>\n    <g clip-path=\"url(#pa92c041bc8)\">\n     <use xlink:href=\"#C0_0_f5d24f3286\" x=\"285.89971\" y=\"219.421519\" style=\"fill: #00ff80; stroke: #000000; stroke-width: 0.5\"/>\n    </g>\n    <g clip-path=\"url(#pa92c041bc8)\">\n     <use xlink:href=\"#C0_0_f5d24f3286\" x=\"255.303081\" y=\"209.873683\" style=\"fill: #00ff80; stroke: #000000; stroke-width: 0.5\"/>\n    </g>\n    <g clip-path=\"url(#pa92c041bc8)\">\n     <use xlink:href=\"#C0_0_f5d24f3286\" x=\"130.138033\" y=\"185.43583\" style=\"fill: #0000ff; stroke: #000000; stroke-width: 0.5\"/>\n    </g>\n    <g clip-path=\"url(#pa92c041bc8)\">\n     <use xlink:href=\"#C0_0_f5d24f3286\" x=\"223.230415\" y=\"145.570299\" style=\"fill: #0000ff; stroke: #000000; stroke-width: 0.5\"/>\n    </g>\n    <g clip-path=\"url(#pa92c041bc8)\">\n     <use xlink:href=\"#C0_0_f5d24f3286\" x=\"243.649305\" y=\"135.219308\" style=\"fill: #0000ff; stroke: #000000; stroke-width: 0.5\"/>\n    </g>\n    <g clip-path=\"url(#pa92c041bc8)\">\n     <use xlink:href=\"#C0_0_f5d24f3286\" x=\"323.78144\" y=\"149.516758\" style=\"fill: #00ff80; stroke: #000000; stroke-width: 0.5\"/>\n    </g>\n    <g clip-path=\"url(#pa92c041bc8)\">\n     <use xlink:href=\"#C0_0_f5d24f3286\" x=\"353.215266\" y=\"146.972415\" style=\"fill: #0000ff; stroke: #000000; stroke-width: 0.5\"/>\n    </g>\n    <g clip-path=\"url(#pa92c041bc8)\">\n     <use xlink:href=\"#C0_0_f5d24f3286\" x=\"252.98177\" y=\"109.561278\" style=\"fill: #0000ff; stroke: #000000; stroke-width: 0.5\"/>\n    </g>\n    <g clip-path=\"url(#pa92c041bc8)\">\n     <use xlink:href=\"#C0_0_f5d24f3286\" x=\"174.174189\" y=\"180.732729\" style=\"fill: #0000ff; stroke: #000000; stroke-width: 0.5\"/>\n    </g>\n    <g clip-path=\"url(#pa92c041bc8)\">\n     <use xlink:href=\"#C0_0_f5d24f3286\" x=\"331.703749\" y=\"183.431547\" style=\"fill: #00ff80; stroke: #000000; stroke-width: 0.5\"/>\n    </g>\n    <g clip-path=\"url(#pa92c041bc8)\">\n     <use xlink:href=\"#C0_0_f5d24f3286\" x=\"340.756327\" y=\"218.483029\" style=\"fill: #00ff80; stroke: #000000; stroke-width: 0.5\"/>\n    </g>\n    <g clip-path=\"url(#pa92c041bc8)\">\n     <use xlink:href=\"#C0_0_f5d24f3286\" x=\"245.557126\" y=\"175.671335\" style=\"fill: #0000ff; stroke: #000000; stroke-width: 0.5\"/>\n    </g>\n    <g clip-path=\"url(#pa92c041bc8)\">\n     <use xlink:href=\"#C0_0_f5d24f3286\" x=\"327.979861\" y=\"103.37643\" style=\"fill: #00ff80; stroke: #000000; stroke-width: 0.5\"/>\n    </g>\n    <g clip-path=\"url(#pa92c041bc8)\">\n     <use xlink:href=\"#C0_0_f5d24f3286\" x=\"277.733757\" y=\"160.77809\" style=\"fill: #00ff80; stroke: #000000; stroke-width: 0.5\"/>\n    </g>\n    <g clip-path=\"url(#pa92c041bc8)\">\n     <use xlink:href=\"#C0_0_f5d24f3286\" x=\"309.32837\" y=\"158.165038\" style=\"fill: #00ff80; stroke: #000000; stroke-width: 0.5\"/>\n    </g>\n    <g clip-path=\"url(#pa92c041bc8)\">\n     <use xlink:href=\"#C0_0_f5d24f3286\" x=\"179.535775\" y=\"205.19898\" style=\"fill: #0000ff; stroke: #000000; stroke-width: 0.5\"/>\n    </g>\n    <g clip-path=\"url(#pa92c041bc8)\">\n     <use xlink:href=\"#C0_0_f5d24f3286\" x=\"379.530354\" y=\"246.869877\" style=\"fill: #0000ff; stroke: #000000; stroke-width: 0.5\"/>\n    </g>\n    <g clip-path=\"url(#pa92c041bc8)\">\n     <use xlink:href=\"#C0_0_f5d24f3286\" x=\"296.899508\" y=\"182.541272\" style=\"fill: #00ff80; stroke: #000000; stroke-width: 0.5\"/>\n    </g>\n    <g clip-path=\"url(#pa92c041bc8)\">\n     <use xlink:href=\"#C0_0_f5d24f3286\" x=\"328.597867\" y=\"249.597524\" style=\"fill: #0000ff; stroke: #000000; stroke-width: 0.5\"/>\n    </g>\n    <g clip-path=\"url(#pa92c041bc8)\">\n     <use xlink:href=\"#C0_0_f5d24f3286\" x=\"293.856948\" y=\"276.88822\" style=\"fill: #0000ff; stroke: #000000; stroke-width: 0.5\"/>\n    </g>\n    <g clip-path=\"url(#pa92c041bc8)\">\n     <use xlink:href=\"#C0_0_f5d24f3286\" x=\"270.156242\" y=\"111.354422\" style=\"fill: #0000ff; stroke: #000000; stroke-width: 0.5\"/>\n    </g>\n    <g clip-path=\"url(#pa92c041bc8)\">\n     <use xlink:href=\"#C0_0_f5d24f3286\" x=\"171.556359\" y=\"124.730289\" style=\"fill: #0000ff; stroke: #000000; stroke-width: 0.5\"/>\n    </g>\n    <g clip-path=\"url(#pa92c041bc8)\">\n     <use xlink:href=\"#C0_0_f5d24f3286\" x=\"221.993095\" y=\"195.249466\" style=\"fill: #0000ff; stroke: #000000; stroke-width: 0.5\"/>\n    </g>\n    <g clip-path=\"url(#pa92c041bc8)\">\n     <use xlink:href=\"#C0_0_f5d24f3286\" x=\"67.003871\" y=\"130.827685\" style=\"fill: #0000ff; stroke: #000000; stroke-width: 0.5\"/>\n    </g>\n    <g clip-path=\"url(#pa92c041bc8)\">\n     <use xlink:href=\"#C0_0_f5d24f3286\" x=\"211.302999\" y=\"196.696553\" style=\"fill: #0000ff; stroke: #000000; stroke-width: 0.5\"/>\n    </g>\n    <g clip-path=\"url(#pa92c041bc8)\">\n     <use xlink:href=\"#C0_0_f5d24f3286\" x=\"171.877537\" y=\"227.485133\" style=\"fill: #0000ff; stroke: #000000; stroke-width: 0.5\"/>\n    </g>\n    <g clip-path=\"url(#pa92c041bc8)\">\n     <use xlink:href=\"#C0_0_f5d24f3286\" x=\"320.674275\" y=\"218.000082\" style=\"fill: #0000ff; stroke: #000000; stroke-width: 0.5\"/>\n    </g>\n    <g clip-path=\"url(#pa92c041bc8)\">\n     <use xlink:href=\"#C0_0_f5d24f3286\" x=\"340.641021\" y=\"178.456603\" style=\"fill: #00ff80; stroke: #000000; stroke-width: 0.5\"/>\n    </g>\n    <g clip-path=\"url(#pa92c041bc8)\">\n     <use xlink:href=\"#C0_0_f5d24f3286\" x=\"307.90703\" y=\"194.929506\" style=\"fill: #00ff80; stroke: #000000; stroke-width: 0.5\"/>\n    </g>\n    <g clip-path=\"url(#pa92c041bc8)\">\n     <use xlink:href=\"#C0_0_f5d24f3286\" x=\"277.415028\" y=\"46.310255\" style=\"fill: #0000ff; stroke: #000000; stroke-width: 0.5\"/>\n    </g>\n    <g clip-path=\"url(#pa92c041bc8)\">\n     <use xlink:href=\"#C0_0_f5d24f3286\" x=\"280.042068\" y=\"153.874502\" style=\"fill: #00ff80; stroke: #000000; stroke-width: 0.5\"/>\n    </g>\n    <g clip-path=\"url(#pa92c041bc8)\">\n     <use xlink:href=\"#C0_0_f5d24f3286\" x=\"240.404381\" y=\"128.809017\" style=\"fill: #0000ff; stroke: #000000; stroke-width: 0.5\"/>\n    </g>\n    <g clip-path=\"url(#pa92c041bc8)\">\n     <use xlink:href=\"#C0_0_f5d24f3286\" x=\"352.670934\" y=\"265.778054\" style=\"fill: #0000ff; stroke: #000000; stroke-width: 0.5\"/>\n    </g>\n    <g clip-path=\"url(#pa92c041bc8)\">\n     <use xlink:href=\"#C0_0_f5d24f3286\" x=\"181.214949\" y=\"65.36068\" style=\"fill: #0000ff; stroke: #000000; stroke-width: 0.5\"/>\n    </g>\n    <g clip-path=\"url(#pa92c041bc8)\">\n     <use xlink:href=\"#C0_0_f5d24f3286\" x=\"291.831517\" y=\"171.903016\" style=\"fill: #00ff80; stroke: #000000; stroke-width: 0.5\"/>\n    </g>\n    <g clip-path=\"url(#pa92c041bc8)\">\n     <use xlink:href=\"#C0_0_f5d24f3286\" x=\"311.078976\" y=\"117.718202\" style=\"fill: #00ff80; stroke: #000000; stroke-width: 0.5\"/>\n    </g>\n    <g clip-path=\"url(#pa92c041bc8)\">\n     <use xlink:href=\"#C0_0_f5d24f3286\" x=\"335.260681\" y=\"191.506252\" style=\"fill: #00ff80; stroke: #000000; stroke-width: 0.5\"/>\n    </g>\n    <g clip-path=\"url(#pa92c041bc8)\">\n     <use xlink:href=\"#C0_0_f5d24f3286\" x=\"394.753273\" y=\"181.535832\" style=\"fill: #0000ff; stroke: #000000; stroke-width: 0.5\"/>\n    </g>\n    <g clip-path=\"url(#pa92c041bc8)\">\n     <use xlink:href=\"#C0_0_f5d24f3286\" x=\"214.378374\" y=\"213.799293\" style=\"fill: #0000ff; stroke: #000000; stroke-width: 0.5\"/>\n    </g>\n    <g clip-path=\"url(#pa92c041bc8)\">\n     <use xlink:href=\"#C0_0_f5d24f3286\" x=\"264.240933\" y=\"206.905087\" style=\"fill: #00ff80; stroke: #000000; stroke-width: 0.5\"/>\n    </g>\n    <g clip-path=\"url(#pa92c041bc8)\">\n     <use xlink:href=\"#C0_0_f5d24f3286\" x=\"276.112517\" y=\"158.071229\" style=\"fill: #0000ff; stroke: #000000; stroke-width: 0.5\"/>\n    </g>\n    <g clip-path=\"url(#pa92c041bc8)\">\n     <use xlink:href=\"#C0_0_f5d24f3286\" x=\"42.392472\" y=\"212.851729\" style=\"fill: #0000ff; stroke: #000000; stroke-width: 0.5\"/>\n    </g>\n    <g clip-path=\"url(#pa92c041bc8)\">\n     <use xlink:href=\"#C0_0_f5d24f3286\" x=\"347.713907\" y=\"148.181075\" style=\"fill: #00ff80; stroke: #000000; stroke-width: 0.5\"/>\n    </g>\n    <g clip-path=\"url(#pa92c041bc8)\">\n     <use xlink:href=\"#C0_0_f5d24f3286\" x=\"236.799336\" y=\"205.68697\" style=\"fill: #0000ff; stroke: #000000; stroke-width: 0.5\"/>\n    </g>\n    <g clip-path=\"url(#pa92c041bc8)\">\n     <use xlink:href=\"#C0_0_f5d24f3286\" x=\"353.340575\" y=\"192.50742\" style=\"fill: #0000ff; stroke: #000000; stroke-width: 0.5\"/>\n    </g>\n    <g clip-path=\"url(#pa92c041bc8)\">\n     <use xlink:href=\"#C0_0_f5d24f3286\" x=\"217.788346\" y=\"77.892579\" style=\"fill: #0000ff; stroke: #000000; stroke-width: 0.5\"/>\n    </g>\n    <g clip-path=\"url(#pa92c041bc8)\">\n     <use xlink:href=\"#C0_0_f5d24f3286\" x=\"247.029221\" y=\"151.579609\" style=\"fill: #0000ff; stroke: #000000; stroke-width: 0.5\"/>\n    </g>\n    <g clip-path=\"url(#pa92c041bc8)\">\n     <use xlink:href=\"#C0_0_f5d24f3286\" x=\"286.324714\" y=\"176.606251\" style=\"fill: #00ff80; stroke: #000000; stroke-width: 0.5\"/>\n    </g>\n    <g clip-path=\"url(#pa92c041bc8)\">\n     <use xlink:href=\"#C0_0_f5d24f3286\" x=\"189.083171\" y=\"228.012463\" style=\"fill: #0000ff; stroke: #000000; stroke-width: 0.5\"/>\n    </g>\n    <g clip-path=\"url(#pa92c041bc8)\">\n     <use xlink:href=\"#C0_0_f5d24f3286\" x=\"357.981176\" y=\"240.612393\" style=\"fill: #0000ff; stroke: #000000; stroke-width: 0.5\"/>\n    </g>\n    <g clip-path=\"url(#pa92c041bc8)\">\n     <use xlink:href=\"#C0_0_f5d24f3286\" x=\"278.947879\" y=\"242.829851\" style=\"fill: #00ff80; stroke: #000000; stroke-width: 0.5\"/>\n    </g>\n    <g clip-path=\"url(#pa92c041bc8)\">\n     <use xlink:href=\"#C0_0_f5d24f3286\" x=\"233.196332\" y=\"185.869546\" style=\"fill: #0000ff; stroke: #000000; stroke-width: 0.5\"/>\n    </g>\n    <g clip-path=\"url(#pa92c041bc8)\">\n     <use xlink:href=\"#C0_0_f5d24f3286\" x=\"162.390958\" y=\"125.74962\" style=\"fill: #0000ff; stroke: #000000; stroke-width: 0.5\"/>\n    </g>\n    <g clip-path=\"url(#pa92c041bc8)\">\n     <use xlink:href=\"#C0_0_f5d24f3286\" x=\"266.634338\" y=\"105.693581\" style=\"fill: #0000ff; stroke: #000000; stroke-width: 0.5\"/>\n    </g>\n    <g clip-path=\"url(#pa92c041bc8)\">\n     <use xlink:href=\"#C0_0_f5d24f3286\" x=\"196.673334\" y=\"156.157903\" style=\"fill: #0000ff; stroke: #000000; stroke-width: 0.5\"/>\n    </g>\n    <g clip-path=\"url(#pa92c041bc8)\">\n     <use xlink:href=\"#C0_0_f5d24f3286\" x=\"446.287785\" y=\"153.267271\" style=\"fill: #0000ff; stroke: #000000; stroke-width: 0.5\"/>\n    </g>\n    <g clip-path=\"url(#pa92c041bc8)\">\n     <use xlink:href=\"#C0_0_f5d24f3286\" x=\"202.842127\" y=\"151.410894\" style=\"fill: #0000ff; stroke: #000000; stroke-width: 0.5\"/>\n    </g>\n    <g clip-path=\"url(#pa92c041bc8)\">\n     <use xlink:href=\"#C0_0_f5d24f3286\" x=\"284.889089\" y=\"207.804733\" style=\"fill: #00ff80; stroke: #000000; stroke-width: 0.5\"/>\n    </g>\n    <g clip-path=\"url(#pa92c041bc8)\">\n     <use xlink:href=\"#C0_0_f5d24f3286\" x=\"254.512798\" y=\"196.802329\" style=\"fill: #00ff80; stroke: #000000; stroke-width: 0.5\"/>\n    </g>\n    <g clip-path=\"url(#pa92c041bc8)\">\n     <use xlink:href=\"#C0_0_f5d24f3286\" x=\"303.377234\" y=\"199.691227\" style=\"fill: #00ff80; stroke: #000000; stroke-width: 0.5\"/>\n    </g>\n    <g clip-path=\"url(#pa92c041bc8)\">\n     <use xlink:href=\"#C0_0_f5d24f3286\" x=\"226.841816\" y=\"141.785033\" style=\"fill: #0000ff; stroke: #000000; stroke-width: 0.5\"/>\n    </g>\n    <g clip-path=\"url(#pa92c041bc8)\">\n     <use xlink:href=\"#C0_0_f5d24f3286\" x=\"233.835249\" y=\"23.04\" style=\"fill: #0000ff; stroke: #000000; stroke-width: 0.5\"/>\n    </g>\n    <g clip-path=\"url(#pa92c041bc8)\">\n     <use xlink:href=\"#C0_0_f5d24f3286\" x=\"242.305724\" y=\"217.480692\" style=\"fill: #00ff80; stroke: #000000; stroke-width: 0.5\"/>\n    </g>\n    <g clip-path=\"url(#pa92c041bc8)\">\n     <use xlink:href=\"#C0_0_f5d24f3286\" x=\"248.585791\" y=\"156.135406\" style=\"fill: #0000ff; stroke: #000000; stroke-width: 0.5\"/>\n    </g>\n    <g clip-path=\"url(#pa92c041bc8)\">\n     <use xlink:href=\"#C0_0_f5d24f3286\" x=\"224.357745\" y=\"253.060262\" style=\"fill: #0000ff; stroke: #000000; stroke-width: 0.5\"/>\n    </g>\n    <g clip-path=\"url(#pa92c041bc8)\">\n     <use xlink:href=\"#C0_0_f5d24f3286\" x=\"393.853034\" y=\"221.760556\" style=\"fill: #0000ff; stroke: #000000; stroke-width: 0.5\"/>\n    </g>\n    <g clip-path=\"url(#pa92c041bc8)\">\n     <use xlink:href=\"#C0_0_f5d24f3286\" x=\"368.894699\" y=\"183.271994\" style=\"fill: #0000ff; stroke: #000000; stroke-width: 0.5\"/>\n    </g>\n    <g clip-path=\"url(#pa92c041bc8)\">\n     <use xlink:href=\"#C0_0_f5d24f3286\" x=\"200.845537\" y=\"97.489775\" style=\"fill: #0000ff; stroke: #000000; stroke-width: 0.5\"/>\n    </g>\n    <g clip-path=\"url(#pa92c041bc8)\">\n     <use xlink:href=\"#C0_0_f5d24f3286\" x=\"258.530932\" y=\"232.508474\" style=\"fill: #00ff80; stroke: #000000; stroke-width: 0.5\"/>\n    </g>\n    <g clip-path=\"url(#pa92c041bc8)\">\n     <use xlink:href=\"#C0_0_f5d24f3286\" x=\"282.570872\" y=\"107.833019\" style=\"fill: #0000ff; stroke: #000000; stroke-width: 0.5\"/>\n    </g>\n    <g clip-path=\"url(#pa92c041bc8)\">\n     <use xlink:href=\"#C0_0_f5d24f3286\" x=\"323.365739\" y=\"120.956141\" style=\"fill: #00ff80; stroke: #000000; stroke-width: 0.5\"/>\n    </g>\n    <g clip-path=\"url(#pa92c041bc8)\">\n     <use xlink:href=\"#C0_0_f5d24f3286\" x=\"380.409592\" y=\"166.773445\" style=\"fill: #0000ff; stroke: #000000; stroke-width: 0.5\"/>\n    </g>\n    <g clip-path=\"url(#pa92c041bc8)\">\n     <use xlink:href=\"#C0_0_f5d24f3286\" x=\"301.954987\" y=\"203.882663\" style=\"fill: #00ff80; stroke: #000000; stroke-width: 0.5\"/>\n    </g>\n    <g clip-path=\"url(#pa92c041bc8)\">\n     <use xlink:href=\"#C0_0_f5d24f3286\" x=\"155.989416\" y=\"190.052235\" style=\"fill: #0000ff; stroke: #000000; stroke-width: 0.5\"/>\n    </g>\n    <g clip-path=\"url(#pa92c041bc8)\">\n     <use xlink:href=\"#C0_0_f5d24f3286\" x=\"376.896219\" y=\"259.420371\" style=\"fill: #0000ff; stroke: #000000; stroke-width: 0.5\"/>\n    </g>\n    <g clip-path=\"url(#pa92c041bc8)\">\n     <use xlink:href=\"#C0_0_f5d24f3286\" x=\"367.135181\" y=\"133.36777\" style=\"fill: #0000ff; stroke: #000000; stroke-width: 0.5\"/>\n    </g>\n    <g clip-path=\"url(#pa92c041bc8)\">\n     <use xlink:href=\"#C0_0_f5d24f3286\" x=\"202.124854\" y=\"178.567311\" style=\"fill: #0000ff; stroke: #000000; stroke-width: 0.5\"/>\n    </g>\n    <g clip-path=\"url(#pa92c041bc8)\">\n     <use xlink:href=\"#C0_0_f5d24f3286\" x=\"427.189658\" y=\"215.39335\" style=\"fill: #0000ff; stroke: #000000; stroke-width: 0.5\"/>\n    </g>\n    <g clip-path=\"url(#pa92c041bc8)\">\n     <use xlink:href=\"#C0_0_f5d24f3286\" x=\"357.317692\" y=\"151.493223\" style=\"fill: #00ff80; stroke: #000000; stroke-width: 0.5\"/>\n    </g>\n   </g>\n   <g id=\"QuadContourSet_1\">\n    <path d=\"M 267.592676 265.951055 \nL 274.740071 266.932866 \nL 281.887466 266.226341 \nL 289.034862 264.115662 \nL 290.617344 263.382236 \nL 296.182257 260.579914 \nL 300.512228 257.920967 \nL 303.329652 256.101563 \nL 308.285054 252.459699 \nL 310.477047 250.809932 \nL 315.055064 246.99843 \nL 317.624443 244.84693 \nL 321.211004 241.537161 \nL 324.771838 238.262446 \nL 326.902138 236.075892 \nL 331.919233 230.949875 \nL 332.206752 230.614623 \nL 336.580791 225.153354 \nL 339.066628 222.012858 \nL 340.594723 219.692086 \nL 343.916963 214.230817 \nL 346.214023 210.183085 \nL 346.849293 208.769548 \nL 348.931387 203.308279 \nL 350.732519 197.84701 \nL 352.241295 192.385741 \nL 353.361419 187.39186 \nL 353.43885 186.924473 \nL 354.135091 181.463204 \nL 354.683678 176.001935 \nL 355.129721 170.540666 \nL 355.516616 165.079397 \nL 355.88229 159.618128 \nL 356.256822 154.156859 \nL 356.661288 148.695591 \nL 357.107446 143.234322 \nL 357.597765 137.773053 \nL 358.125279 132.311784 \nL 358.67264 126.850515 \nL 359.209542 121.389246 \nL 359.686912 115.927978 \nL 360.024481 110.466709 \nL 360.083177 105.00544 \nL 359.597843 99.544171 \nL 357.985928 94.082902 \nL 353.651535 88.621633 \nL 353.361419 88.431407 \nL 346.214023 87.817378 \nL 342.660686 88.621633 \nL 339.066628 89.476675 \nL 331.919233 92.269287 \nL 327.842291 94.082902 \nL 324.771838 95.589505 \nL 317.624443 99.26256 \nL 317.087175 99.544171 \nL 310.477047 103.492972 \nL 307.823308 105.00544 \nL 303.329652 107.977928 \nL 299.345868 110.466709 \nL 296.182257 112.801057 \nL 291.673637 115.927978 \nL 289.034862 118.124816 \nL 284.87078 121.389246 \nL 281.887466 124.234983 \nL 279.004693 126.850515 \nL 274.740071 131.598907 \nL 274.079933 132.311784 \nL 270.093631 137.773053 \nL 267.592676 141.957571 \nL 266.835911 143.234322 \nL 264.236119 148.695591 \nL 261.98545 154.156859 \nL 260.445281 158.254043 \nL 259.961085 159.618128 \nL 258.107576 165.079397 \nL 256.158525 170.540666 \nL 254.011771 176.001935 \nL 253.297885 177.654059 \nL 251.833356 181.463204 \nL 249.528517 186.924473 \nL 247.031808 192.385741 \nL 246.15049 194.245869 \nL 244.721769 197.84701 \nL 242.604917 203.308279 \nL 240.675796 208.769548 \nL 239.096614 214.230817 \nL 239.003095 214.698795 \nL 238.223765 219.692086 \nL 237.902514 225.153354 \nL 238.191678 230.614623 \nL 239.003095 235.314568 \nL 239.159117 236.075892 \nL 241.145629 241.537161 \nL 243.881877 246.99843 \nL 246.15049 250.56035 \nL 247.610534 252.459699 \nL 252.743628 257.920967 \nL 253.297885 258.413746 \nL 260.445281 263.325097 \nL 260.572114 263.382236 \nL 267.592676 265.951055 \nz\n\" clip-path=\"url(#pa92c041bc8)\" style=\"fill: none; stroke: #000000; stroke-width: 2\"/>\n   </g>\n   <g id=\"patch_3\">\n    <path d=\"M 22.101562 339.84 \nL 22.101562 7.2 \n\" style=\"fill: none; stroke: #bcbcbc; stroke-width: 0.8; stroke-linejoin: miter; stroke-linecap: square\"/>\n   </g>\n   <g id=\"patch_4\">\n    <path d=\"M 468.501562 339.84 \nL 468.501562 7.2 \n\" style=\"fill: none; stroke: #bcbcbc; stroke-width: 0.8; stroke-linejoin: miter; stroke-linecap: square\"/>\n   </g>\n   <g id=\"patch_5\">\n    <path d=\"M 22.101562 339.84 \nL 468.501562 339.84 \n\" style=\"fill: none; stroke: #bcbcbc; stroke-width: 0.8; stroke-linejoin: miter; stroke-linecap: square\"/>\n   </g>\n   <g id=\"patch_6\">\n    <path d=\"M 22.101562 7.2 \nL 468.501562 7.2 \n\" style=\"fill: none; stroke: #bcbcbc; stroke-width: 0.8; stroke-linejoin: miter; stroke-linecap: square\"/>\n   </g>\n  </g>\n </g>\n <defs>\n  <clipPath id=\"pa92c041bc8\">\n   <rect x=\"22.101562\" y=\"7.2\" width=\"446.4\" height=\"332.64\"/>\n  </clipPath>\n </defs>\n</svg>\n"
     },
     "metadata": {},
     "output_type": "display_data"
    }
   ],
   "source": [
    "plt.figure(figsize=(8, 6))\n",
    "plt.scatter(X[:, 0], X[:, 1], c=y, cmap=plt.cm.winter, s=50, edgecolors='k')\n",
    "u = np.linspace(-3, 2, 50)\n",
    "v = np.linspace(-3, 2, 50)\n",
    "print('u',u,'\\n')\n",
    "U,V = np.meshgrid(u,v)\n",
    "    # convert U, V to vectors for calculating additional features\n",
    "    # using vectorized implementation\n",
    "print('U=',U,'\\n')\n",
    "print('V=',V,'\\n')\n",
    "\n",
    "U = np.ravel(U)\n",
    "V = np.ravel(V)\n",
    "\n",
    "print('U applati=',U,'\\n')\n",
    "print('V applati=',V,'\\n')\n",
    "Z = np.zeros((len(u) * len(v)))\n",
    "\n",
    "    \n",
    "# Feature mapping\n",
    "X_poly = mapFeature(U, V, degree)\n",
    "Z = X_poly.dot(W)+b\n",
    "\n",
    "print('Z=', Z,'\\n')\n",
    "\n",
    "# reshape U, V, Z back to matrix\n",
    "U = U.reshape((len(u), len(v)))\n",
    "print('U.shape',U.shape)\n",
    "\n",
    "V = V.reshape((len(u), len(v)))\n",
    "print('V.shape',V.shape)\n",
    "\n",
    "Z = Z.reshape((len(u), len(v)))\n",
    "print('Z.shape',Z.shape)\n",
    "\n",
    "plt.grid(True)\n",
    "plt.contour(U,V,Z,levels=[0],cmap= \"Greys_r\")"
   ],
   "metadata": {
    "collapsed": false,
    "ExecuteTime": {
     "end_time": "2024-04-24T11:03:39.279265261Z",
     "start_time": "2024-04-24T11:03:38.255718728Z"
    }
   },
   "id": "f134b90b54b8be2b"
  },
  {
   "cell_type": "code",
   "execution_count": null,
   "outputs": [],
   "source": [],
   "metadata": {
    "collapsed": false
   },
   "id": "99d56ee0172ae166"
  }
 ],
 "metadata": {
  "kernelspec": {
   "display_name": "Python 3 (ipykernel)",
   "language": "python",
   "name": "python3"
  },
  "language_info": {
   "codemirror_mode": {
    "name": "ipython",
    "version": 3
   },
   "file_extension": ".py",
   "mimetype": "text/x-python",
   "name": "python",
   "nbconvert_exporter": "python",
   "pygments_lexer": "ipython3",
   "version": "3.11.5"
  }
 },
 "nbformat": 4,
 "nbformat_minor": 5
}

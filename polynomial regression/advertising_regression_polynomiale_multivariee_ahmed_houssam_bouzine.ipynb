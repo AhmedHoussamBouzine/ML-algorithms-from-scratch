{
 "cells": [
  {
   "cell_type": "code",
   "execution_count": 1,
   "id": "initial_id",
   "metadata": {
    "collapsed": true,
    "ExecuteTime": {
     "end_time": "2024-03-26T23:13:18.202822588Z",
     "start_time": "2024-03-26T23:13:18.051667696Z"
    }
   },
   "outputs": [],
   "source": [
    "import pandas as pd\n",
    "import numpy as np\n",
    "import seaborn as sns\n",
    "from sklearn.model_selection import train_test_split\n",
    "import matplotlib.pyplot as plt\n",
    "%matplotlib inline"
   ]
  },
  {
   "cell_type": "markdown",
   "source": [
    "###  Régression linéaire multiple\n"
   ],
   "metadata": {
    "collapsed": false
   },
   "id": "535e4db8e618d54a"
  },
  {
   "cell_type": "code",
   "execution_count": 2,
   "outputs": [],
   "source": [
    "dataset = pd.read_csv('Advertising.csv')"
   ],
   "metadata": {
    "collapsed": false,
    "ExecuteTime": {
     "end_time": "2024-03-26T23:13:26.764501632Z",
     "start_time": "2024-03-26T23:13:26.664495110Z"
    }
   },
   "id": "afdb125eece3efed"
  },
  {
   "cell_type": "code",
   "execution_count": 102,
   "outputs": [],
   "source": [
    "x = dataset[['TV', 'Radio', 'Newspaper']].values\n",
    "y = dataset[['Sales']].values"
   ],
   "metadata": {
    "collapsed": false,
    "ExecuteTime": {
     "end_time": "2024-03-26T23:53:08.821748553Z",
     "start_time": "2024-03-26T23:53:08.789764078Z"
    }
   },
   "id": "d4adcaae52973603"
  },
  {
   "cell_type": "code",
   "execution_count": 103,
   "outputs": [
    {
     "data": {
      "text/plain": "array([[230.1,  37.8,  69.2],\n       [ 44.5,  39.3,  45.1],\n       [ 17.2,  45.9,  69.3],\n       [151.5,  41.3,  58.5],\n       [180.8,  10.8,  58.4],\n       [  8.7,  48.9,  75. ],\n       [ 57.5,  32.8,  23.5],\n       [120.2,  19.6,  11.6],\n       [  8.6,   2.1,   1. ],\n       [199.8,   2.6,  21.2],\n       [ 66.1,   5.8,  24.2],\n       [214.7,  24. ,   4. ],\n       [ 23.8,  35.1,  65.9],\n       [ 97.5,   7.6,   7.2],\n       [204.1,  32.9,  46. ],\n       [195.4,  47.7,  52.9],\n       [ 67.8,  36.6, 114. ],\n       [281.4,  39.6,  55.8],\n       [ 69.2,  20.5,  18.3],\n       [147.3,  23.9,  19.1],\n       [218.4,  27.7,  53.4],\n       [237.4,   5.1,  23.5],\n       [ 13.2,  15.9,  49.6],\n       [228.3,  16.9,  26.2],\n       [ 62.3,  12.6,  18.3],\n       [262.9,   3.5,  19.5],\n       [142.9,  29.3,  12.6],\n       [240.1,  16.7,  22.9],\n       [248.8,  27.1,  22.9],\n       [ 70.6,  16. ,  40.8],\n       [292.9,  28.3,  43.2],\n       [112.9,  17.4,  38.6],\n       [ 97.2,   1.5,  30. ],\n       [265.6,  20. ,   0.3],\n       [ 95.7,   1.4,   7.4],\n       [290.7,   4.1,   8.5],\n       [266.9,  43.8,   5. ],\n       [ 74.7,  49.4,  45.7],\n       [ 43.1,  26.7,  35.1],\n       [228. ,  37.7,  32. ],\n       [202.5,  22.3,  31.6],\n       [177. ,  33.4,  38.7],\n       [293.6,  27.7,   1.8],\n       [206.9,   8.4,  26.4],\n       [ 25.1,  25.7,  43.3],\n       [175.1,  22.5,  31.5],\n       [ 89.7,   9.9,  35.7],\n       [239.9,  41.5,  18.5],\n       [227.2,  15.8,  49.9],\n       [ 66.9,  11.7,  36.8],\n       [199.8,   3.1,  34.6],\n       [100.4,   9.6,   3.6],\n       [216.4,  41.7,  39.6],\n       [182.6,  46.2,  58.7],\n       [262.7,  28.8,  15.9],\n       [198.9,  49.4,  60. ],\n       [  7.3,  28.1,  41.4],\n       [136.2,  19.2,  16.6],\n       [210.8,  49.6,  37.7],\n       [210.7,  29.5,   9.3],\n       [ 53.5,   2. ,  21.4],\n       [261.3,  42.7,  54.7],\n       [239.3,  15.5,  27.3],\n       [102.7,  29.6,   8.4],\n       [131.1,  42.8,  28.9],\n       [ 69. ,   9.3,   0.9],\n       [ 31.5,  24.6,   2.2],\n       [139.3,  14.5,  10.2],\n       [237.4,  27.5,  11. ],\n       [216.8,  43.9,  27.2],\n       [199.1,  30.6,  38.7],\n       [109.8,  14.3,  31.7],\n       [ 26.8,  33. ,  19.3],\n       [129.4,   5.7,  31.3],\n       [213.4,  24.6,  13.1],\n       [ 16.9,  43.7,  89.4],\n       [ 27.5,   1.6,  20.7],\n       [120.5,  28.5,  14.2],\n       [  5.4,  29.9,   9.4],\n       [116. ,   7.7,  23.1],\n       [ 76.4,  26.7,  22.3],\n       [239.8,   4.1,  36.9],\n       [ 75.3,  20.3,  32.5],\n       [ 68.4,  44.5,  35.6],\n       [213.5,  43. ,  33.8],\n       [193.2,  18.4,  65.7],\n       [ 76.3,  27.5,  16. ],\n       [110.7,  40.6,  63.2],\n       [ 88.3,  25.5,  73.4],\n       [109.8,  47.8,  51.4],\n       [134.3,   4.9,   9.3],\n       [ 28.6,   1.5,  33. ],\n       [217.7,  33.5,  59. ],\n       [250.9,  36.5,  72.3],\n       [107.4,  14. ,  10.9],\n       [163.3,  31.6,  52.9],\n       [197.6,   3.5,   5.9],\n       [184.9,  21. ,  22. ],\n       [289.7,  42.3,  51.2],\n       [135.2,  41.7,  45.9],\n       [222.4,   4.3,  49.8],\n       [296.4,  36.3, 100.9],\n       [280.2,  10.1,  21.4],\n       [187.9,  17.2,  17.9],\n       [238.2,  34.3,   5.3],\n       [137.9,  46.4,  59. ],\n       [ 25. ,  11. ,  29.7],\n       [ 90.4,   0.3,  23.2],\n       [ 13.1,   0.4,  25.6],\n       [255.4,  26.9,   5.5],\n       [225.8,   8.2,  56.5],\n       [241.7,  38. ,  23.2],\n       [175.7,  15.4,   2.4],\n       [209.6,  20.6,  10.7],\n       [ 78.2,  46.8,  34.5],\n       [ 75.1,  35. ,  52.7],\n       [139.2,  14.3,  25.6],\n       [ 76.4,   0.8,  14.8],\n       [125.7,  36.9,  79.2],\n       [ 19.4,  16. ,  22.3],\n       [141.3,  26.8,  46.2],\n       [ 18.8,  21.7,  50.4],\n       [224. ,   2.4,  15.6],\n       [123.1,  34.6,  12.4],\n       [229.5,  32.3,  74.2],\n       [ 87.2,  11.8,  25.9],\n       [  7.8,  38.9,  50.6],\n       [ 80.2,   0. ,   9.2],\n       [220.3,  49. ,   3.2],\n       [ 59.6,  12. ,  43.1],\n       [  0.7,  39.6,   8.7],\n       [265.2,   2.9,  43. ],\n       [  8.4,  27.2,   2.1],\n       [219.8,  33.5,  45.1],\n       [ 36.9,  38.6,  65.6],\n       [ 48.3,  47. ,   8.5],\n       [ 25.6,  39. ,   9.3],\n       [273.7,  28.9,  59.7],\n       [ 43. ,  25.9,  20.5],\n       [184.9,  43.9,   1.7],\n       [ 73.4,  17. ,  12.9],\n       [193.7,  35.4,  75.6],\n       [220.5,  33.2,  37.9],\n       [104.6,   5.7,  34.4],\n       [ 96.2,  14.8,  38.9],\n       [140.3,   1.9,   9. ],\n       [240.1,   7.3,   8.7],\n       [243.2,  49. ,  44.3],\n       [ 38. ,  40.3,  11.9],\n       [ 44.7,  25.8,  20.6],\n       [280.7,  13.9,  37. ],\n       [121. ,   8.4,  48.7],\n       [197.6,  23.3,  14.2],\n       [171.3,  39.7,  37.7],\n       [187.8,  21.1,   9.5],\n       [  4.1,  11.6,   5.7],\n       [ 93.9,  43.5,  50.5],\n       [149.8,   1.3,  24.3],\n       [ 11.7,  36.9,  45.2],\n       [131.7,  18.4,  34.6],\n       [172.5,  18.1,  30.7],\n       [ 85.7,  35.8,  49.3],\n       [188.4,  18.1,  25.6],\n       [163.5,  36.8,   7.4],\n       [117.2,  14.7,   5.4],\n       [234.5,   3.4,  84.8],\n       [ 17.9,  37.6,  21.6],\n       [206.8,   5.2,  19.4],\n       [215.4,  23.6,  57.6],\n       [284.3,  10.6,   6.4],\n       [ 50. ,  11.6,  18.4],\n       [164.5,  20.9,  47.4],\n       [ 19.6,  20.1,  17. ],\n       [168.4,   7.1,  12.8],\n       [222.4,   3.4,  13.1],\n       [276.9,  48.9,  41.8],\n       [248.4,  30.2,  20.3],\n       [170.2,   7.8,  35.2],\n       [276.7,   2.3,  23.7],\n       [165.6,  10. ,  17.6],\n       [156.6,   2.6,   8.3],\n       [218.5,   5.4,  27.4],\n       [ 56.2,   5.7,  29.7],\n       [287.6,  43. ,  71.8],\n       [253.8,  21.3,  30. ],\n       [205. ,  45.1,  19.6],\n       [139.5,   2.1,  26.6],\n       [191.1,  28.7,  18.2],\n       [286. ,  13.9,   3.7],\n       [ 18.7,  12.1,  23.4],\n       [ 39.5,  41.1,   5.8],\n       [ 75.5,  10.8,   6. ],\n       [ 17.2,   4.1,  31.6],\n       [166.8,  42. ,   3.6],\n       [149.7,  35.6,   6. ],\n       [ 38.2,   3.7,  13.8],\n       [ 94.2,   4.9,   8.1],\n       [177. ,   9.3,   6.4],\n       [283.6,  42. ,  66.2],\n       [232.1,   8.6,   8.7]])"
     },
     "execution_count": 103,
     "metadata": {},
     "output_type": "execute_result"
    }
   ],
   "source": [
    "x"
   ],
   "metadata": {
    "collapsed": false,
    "ExecuteTime": {
     "end_time": "2024-03-26T23:53:09.644867465Z",
     "start_time": "2024-03-26T23:53:09.528383973Z"
    }
   },
   "id": "c71603148aa4fcd1"
  },
  {
   "cell_type": "code",
   "execution_count": 104,
   "outputs": [
    {
     "data": {
      "text/plain": "array([[22.1],\n       [10.4],\n       [12. ],\n       [16.5],\n       [17.9],\n       [ 7.2],\n       [11.8],\n       [13.2],\n       [ 4.8],\n       [15.6],\n       [12.6],\n       [17.4],\n       [ 9.2],\n       [13.7],\n       [19. ],\n       [22.4],\n       [12.5],\n       [24.4],\n       [11.3],\n       [14.6],\n       [18. ],\n       [17.5],\n       [ 5.6],\n       [20.5],\n       [ 9.7],\n       [17. ],\n       [15. ],\n       [20.9],\n       [18.9],\n       [10.5],\n       [21.4],\n       [11.9],\n       [13.2],\n       [17.4],\n       [11.9],\n       [17.8],\n       [25.4],\n       [14.7],\n       [10.1],\n       [21.5],\n       [16.6],\n       [17.1],\n       [20.7],\n       [17.9],\n       [ 8.5],\n       [16.1],\n       [10.6],\n       [23.2],\n       [19.8],\n       [ 9.7],\n       [16.4],\n       [10.7],\n       [22.6],\n       [21.2],\n       [20.2],\n       [23.7],\n       [ 5.5],\n       [13.2],\n       [23.8],\n       [18.4],\n       [ 8.1],\n       [24.2],\n       [20.7],\n       [14. ],\n       [16. ],\n       [11.3],\n       [11. ],\n       [13.4],\n       [18.9],\n       [22.3],\n       [18.3],\n       [12.4],\n       [ 8.8],\n       [11. ],\n       [17. ],\n       [ 8.7],\n       [ 6.9],\n       [14.2],\n       [ 5.3],\n       [11. ],\n       [11.8],\n       [17.3],\n       [11.3],\n       [13.6],\n       [21.7],\n       [20.2],\n       [12. ],\n       [16. ],\n       [12.9],\n       [16.7],\n       [14. ],\n       [ 7.3],\n       [19.4],\n       [22.2],\n       [11.5],\n       [16.9],\n       [16.7],\n       [20.5],\n       [25.4],\n       [17.2],\n       [16.7],\n       [23.8],\n       [19.8],\n       [19.7],\n       [20.7],\n       [15. ],\n       [ 7.2],\n       [12. ],\n       [ 5.3],\n       [19.8],\n       [18.4],\n       [21.8],\n       [17.1],\n       [20.9],\n       [14.6],\n       [12.6],\n       [12.2],\n       [ 9.4],\n       [15.9],\n       [ 6.6],\n       [15.5],\n       [ 7. ],\n       [16.6],\n       [15.2],\n       [19.7],\n       [10.6],\n       [ 6.6],\n       [11.9],\n       [24.7],\n       [ 9.7],\n       [ 1.6],\n       [17.7],\n       [ 5.7],\n       [19.6],\n       [10.8],\n       [11.6],\n       [ 9.5],\n       [20.8],\n       [ 9.6],\n       [20.7],\n       [10.9],\n       [19.2],\n       [20.1],\n       [10.4],\n       [12.3],\n       [10.3],\n       [18.2],\n       [25.4],\n       [10.9],\n       [10.1],\n       [16.1],\n       [11.6],\n       [16.6],\n       [16. ],\n       [20.6],\n       [ 3.2],\n       [15.3],\n       [10.1],\n       [ 7.3],\n       [12.9],\n       [16.4],\n       [13.3],\n       [19.9],\n       [18. ],\n       [11.9],\n       [16.9],\n       [ 8. ],\n       [17.2],\n       [17.1],\n       [20. ],\n       [ 8.4],\n       [17.5],\n       [ 7.6],\n       [16.7],\n       [16.5],\n       [27. ],\n       [20.2],\n       [16.7],\n       [16.8],\n       [17.6],\n       [15.5],\n       [17.2],\n       [ 8.7],\n       [26.2],\n       [17.6],\n       [22.6],\n       [10.3],\n       [17.3],\n       [20.9],\n       [ 6.7],\n       [10.8],\n       [11.9],\n       [ 5.9],\n       [19.6],\n       [17.3],\n       [ 7.6],\n       [14. ],\n       [14.8],\n       [25.5],\n       [18.4]])"
     },
     "execution_count": 104,
     "metadata": {},
     "output_type": "execute_result"
    }
   ],
   "source": [
    "y"
   ],
   "metadata": {
    "collapsed": false,
    "ExecuteTime": {
     "end_time": "2024-03-26T23:53:10.109734178Z",
     "start_time": "2024-03-26T23:53:10.054721026Z"
    }
   },
   "id": "432648aed7704f58"
  },
  {
   "cell_type": "code",
   "execution_count": 105,
   "outputs": [
    {
     "name": "stdout",
     "output_type": "stream",
     "text": [
      "(200, 3)\n",
      "(200, 1)\n"
     ]
    }
   ],
   "source": [
    "# Verification des dimensions\n",
    "print(x.shape)\n",
    "print(y.shape)"
   ],
   "metadata": {
    "collapsed": false,
    "ExecuteTime": {
     "end_time": "2024-03-26T23:53:10.758185106Z",
     "start_time": "2024-03-26T23:53:10.714708359Z"
    }
   },
   "id": "251e891564ded828"
  },
  {
   "cell_type": "code",
   "execution_count": 106,
   "outputs": [],
   "source": [
    "from sklearn.model_selection import train_test_split\n",
    "X_train, X_test, y_train, y_test = train_test_split(x, y, test_size=0.2, random_state=42)"
   ],
   "metadata": {
    "collapsed": false,
    "ExecuteTime": {
     "end_time": "2024-03-26T23:53:11.508647917Z",
     "start_time": "2024-03-26T23:53:11.440249611Z"
    }
   },
   "id": "e9584341d3c0e6e3"
  },
  {
   "cell_type": "code",
   "execution_count": 107,
   "outputs": [],
   "source": [
    "X_train=(X_train-X_train.mean())/X_train.std()\n",
    "X_test=(X_test-X_test.mean())/X_test.std()\n",
    "\n",
    "X_train = np.hstack((X_train, np.ones((X_train.shape[0], 1))))\n",
    "X_test = np.hstack((X_test, np.ones((X_test.shape[0], 1))))"
   ],
   "metadata": {
    "collapsed": false,
    "ExecuteTime": {
     "end_time": "2024-03-26T23:53:12.221277546Z",
     "start_time": "2024-03-26T23:53:12.136288627Z"
    }
   },
   "id": "cbcc7bf941c890de"
  },
  {
   "cell_type": "code",
   "execution_count": 108,
   "outputs": [
    {
     "name": "stdout",
     "output_type": "stream",
     "text": [
      "(160, 4)\n",
      "(40, 4)\n",
      "(160, 1)\n",
      "(40, 1)\n"
     ]
    }
   ],
   "source": [
    "print(X_train.shape)\n",
    "print(X_test.shape)\n",
    "print(y_train.shape)\n",
    "print(y_test.shape)"
   ],
   "metadata": {
    "collapsed": false,
    "ExecuteTime": {
     "end_time": "2024-03-26T23:53:12.809175192Z",
     "start_time": "2024-03-26T23:53:12.740999562Z"
    }
   },
   "id": "61a792b0ac41f8a3"
  },
  {
   "cell_type": "code",
   "execution_count": 108,
   "outputs": [],
   "source": [],
   "metadata": {
    "collapsed": false,
    "ExecuteTime": {
     "end_time": "2024-03-26T23:53:13.330856536Z",
     "start_time": "2024-03-26T23:53:13.291499864Z"
    }
   },
   "id": "aa2cd47b54e4d6b5"
  },
  {
   "cell_type": "code",
   "execution_count": 109,
   "outputs": [
    {
     "data": {
      "text/plain": "array([[0.14404357],\n       [1.45427351],\n       [0.76103773],\n       [0.12167502]])"
     },
     "execution_count": 109,
     "metadata": {},
     "output_type": "execute_result"
    }
   ],
   "source": [
    "# Initialisation du vecteur theta aléatoire, avec 4 éléments (car X a quatre colonnes)\n",
    "theta = np.random.randn(4, 1)\n",
    "theta"
   ],
   "metadata": {
    "collapsed": false,
    "ExecuteTime": {
     "end_time": "2024-03-26T23:53:14.444805919Z",
     "start_time": "2024-03-26T23:53:14.372985862Z"
    }
   },
   "id": "e5c741f38996bfd"
  },
  {
   "cell_type": "code",
   "execution_count": 110,
   "outputs": [],
   "source": [
    "def model(X, theta):\n",
    "    return X.dot(theta)"
   ],
   "metadata": {
    "collapsed": false,
    "ExecuteTime": {
     "end_time": "2024-03-26T23:53:14.994432213Z",
     "start_time": "2024-03-26T23:53:14.951296297Z"
    }
   },
   "id": "b8f52e463793f78a"
  },
  {
   "cell_type": "code",
   "execution_count": 111,
   "outputs": [],
   "source": [
    "def cost_function(X, y, theta):\n",
    "    m = len(y)\n",
    "    return 1/(2*m) * np.sum((model(X, theta) - y)**2)"
   ],
   "metadata": {
    "collapsed": false,
    "ExecuteTime": {
     "end_time": "2024-03-26T23:53:15.860450226Z",
     "start_time": "2024-03-26T23:53:15.738896509Z"
    }
   },
   "id": "db32fffa71b08981"
  },
  {
   "cell_type": "code",
   "execution_count": 112,
   "outputs": [
    {
     "data": {
      "text/plain": "144.44479513496213"
     },
     "execution_count": 112,
     "metadata": {},
     "output_type": "execute_result"
    }
   ],
   "source": [
    "cost_function(X_train, y_train, theta)"
   ],
   "metadata": {
    "collapsed": false,
    "ExecuteTime": {
     "end_time": "2024-03-26T23:53:16.547683576Z",
     "start_time": "2024-03-26T23:53:16.470737911Z"
    }
   },
   "id": "eea9184c32f2bcea"
  },
  {
   "cell_type": "code",
   "execution_count": 113,
   "outputs": [],
   "source": [
    "def grad(X, y, theta):\n",
    "    m = len(y)\n",
    "    return 1/m * X.T.dot(model(X, theta) - y)"
   ],
   "metadata": {
    "collapsed": false,
    "ExecuteTime": {
     "end_time": "2024-03-26T23:53:17.482728603Z",
     "start_time": "2024-03-26T23:53:17.408492012Z"
    }
   },
   "id": "9757df56b01b1589"
  },
  {
   "cell_type": "code",
   "execution_count": 114,
   "outputs": [],
   "source": [
    "def gradient_descent(X, y, theta, learning_rate, n_iterations):\n",
    "    \n",
    "    cost_history = np.zeros(n_iterations) # création d'un tableau de stockage pour enregistrer l'évolution du Cout du modele\n",
    "    \n",
    "    for i in range(0, n_iterations):\n",
    "        theta = theta - learning_rate * grad(X, y, theta) # mise a jour du parametre theta (formule du gradient descent)\n",
    "        cost_history[i] = cost_function(X, y, theta) # on enregistre la valeur du Cout au tour i dans cost_history[i]\n",
    "        \n",
    "    return theta, cost_history"
   ],
   "metadata": {
    "collapsed": false,
    "ExecuteTime": {
     "end_time": "2024-03-26T23:53:18.137661444Z",
     "start_time": "2024-03-26T23:53:18.090622293Z"
    }
   },
   "id": "51e4247af8c4675c"
  },
  {
   "cell_type": "code",
   "execution_count": 115,
   "outputs": [],
   "source": [
    "n_iterations = 10000\n",
    "learning_rate = 0.02\n",
    "\n",
    "theta_final, cost_history = gradient_descent(X_train, y_train, theta, learning_rate, n_iterations)\n"
   ],
   "metadata": {
    "collapsed": false,
    "ExecuteTime": {
     "end_time": "2024-03-26T23:53:18.958738388Z",
     "start_time": "2024-03-26T23:53:18.766499186Z"
    }
   },
   "id": "2e3b2200153f3847"
  },
  {
   "cell_type": "code",
   "execution_count": 116,
   "outputs": [
    {
     "data": {
      "text/plain": "<Figure size 640x480 with 1 Axes>",
      "image/png": "[encoded data removed]"
     },
     "metadata": {},
     "output_type": "display_data"
    }
   ],
   "source": [
    "plt.plot(range(n_iterations), cost_history)\n",
    "plt.show()"
   ],
   "metadata": {
    "collapsed": false,
    "ExecuteTime": {
     "end_time": "2024-03-26T23:53:20.004688753Z",
     "start_time": "2024-03-26T23:53:19.750647182Z"
    }
   },
   "id": "82fc229fffbfbfe8"
  },
  {
   "cell_type": "code",
   "execution_count": 117,
   "outputs": [],
   "source": [
    "def coef_determination(y, pred):\n",
    "    u = ((y - pred)**2).sum()\n",
    "    v = ((y - y.mean())**2).sum()\n",
    "    return 1 - u/v"
   ],
   "metadata": {
    "collapsed": false,
    "ExecuteTime": {
     "end_time": "2024-03-26T23:53:20.871298377Z",
     "start_time": "2024-03-26T23:53:20.829118045Z"
    }
   },
   "id": "c75ad274ef856289"
  },
  {
   "cell_type": "code",
   "execution_count": 120,
   "outputs": [
    {
     "data": {
      "text/plain": "0.9001328507244148"
     },
     "execution_count": 120,
     "metadata": {},
     "output_type": "execute_result"
    }
   ],
   "source": [
    "predictions_train = model(X_train, theta_final)\n",
    "coef_determination_regression_multiple_train = coef_determination(y_train, predictions_train)\n",
    "coef_determination_regression_multiple_train"
   ],
   "metadata": {
    "collapsed": false,
    "ExecuteTime": {
     "end_time": "2024-03-26T23:53:27.471956495Z",
     "start_time": "2024-03-26T23:53:27.423497557Z"
    }
   },
   "id": "567dc9393c36a4a6"
  },
  {
   "cell_type": "code",
   "execution_count": 121,
   "outputs": [
    {
     "data": {
      "text/plain": "0.8825672111439224"
     },
     "execution_count": 121,
     "metadata": {},
     "output_type": "execute_result"
    }
   ],
   "source": [
    "predictions_test = model(X_test, theta_final)\n",
    "coef_determination_regression_multiple_test= coef_determination(y_test, predictions_test)\n",
    "coef_determination_regression_multiple_test"
   ],
   "metadata": {
    "collapsed": false,
    "ExecuteTime": {
     "end_time": "2024-03-26T23:53:28.060425994Z",
     "start_time": "2024-03-26T23:53:27.996498195Z"
    }
   },
   "id": "33c8caa1f6db8198"
  },
  {
   "cell_type": "code",
   "execution_count": 122,
   "outputs": [
    {
     "data": {
      "text/plain": "<Figure size 640x480 with 2 Axes>",
      "image/png": "[encoded data removed]"
     },
     "metadata": {},
     "output_type": "display_data"
    }
   ],
   "source": [
    "from mpl_toolkits.mplot3d import Axes3D\n",
    "\n",
    "# Generate sample 4D data\n",
    "x = dataset[\"TV\"]\n",
    "y = dataset[\"Radio\"]\n",
    "z = dataset[\"Newspaper\"]\n",
    "w = dataset[\"Sales\"]  # Fourth dimension\n",
    "\n",
    "# Plotting\n",
    "fig = plt.figure()\n",
    "ax = fig.add_subplot(111, projection='3d')\n",
    "\n",
    "# Represent the fourth dimension using color\n",
    "sc = ax.scatter(x, y, w, c=w, cmap='viridis')\n",
    "plt.colorbar(sc, label='Fourth Dimension')\n",
    "\n",
    "ax.set_xlabel('X')\n",
    "ax.set_ylabel('Y')\n",
    "ax.set_zlabel('Z')\n",
    "\n",
    "plt.show()"
   ],
   "metadata": {
    "collapsed": false,
    "ExecuteTime": {
     "end_time": "2024-03-26T23:53:28.998379818Z",
     "start_time": "2024-03-26T23:53:28.663272116Z"
    }
   },
   "id": "d34a7ab1c6af20ca"
  },
  {
   "cell_type": "markdown",
   "source": [
    "###  Régression polynômiale multivariée\n"
   ],
   "metadata": {
    "collapsed": false
   },
   "id": "cde4229edf832737"
  },
  {
   "cell_type": "code",
   "execution_count": 142,
   "outputs": [],
   "source": [
    "dataset = pd.read_csv('Advertising.csv')"
   ],
   "metadata": {
    "collapsed": false,
    "ExecuteTime": {
     "end_time": "2024-03-26T23:54:28.230829628Z",
     "start_time": "2024-03-26T23:54:28.163786981Z"
    }
   },
   "id": "d27dbda753c26180"
  },
  {
   "cell_type": "code",
   "execution_count": 143,
   "outputs": [],
   "source": [
    "x = dataset[['TV', 'Radio', 'Newspaper']].values\n",
    "y = dataset[['Sales']].values"
   ],
   "metadata": {
    "collapsed": false,
    "ExecuteTime": {
     "end_time": "2024-03-26T23:54:28.789836358Z",
     "start_time": "2024-03-26T23:54:28.757821868Z"
    }
   },
   "id": "97e81e196fa00ed9"
  },
  {
   "cell_type": "code",
   "execution_count": 144,
   "outputs": [
    {
     "name": "stdout",
     "output_type": "stream",
     "text": [
      "(200, 3)\n",
      "(200, 1)\n"
     ]
    }
   ],
   "source": [
    "print(x.shape)\n",
    "print(y.shape)"
   ],
   "metadata": {
    "collapsed": false,
    "ExecuteTime": {
     "end_time": "2024-03-26T23:54:29.340298055Z",
     "start_time": "2024-03-26T23:54:29.293897563Z"
    }
   },
   "id": "4d474631c4a4fb12"
  },
  {
   "cell_type": "code",
   "execution_count": 145,
   "outputs": [
    {
     "name": "stdout",
     "output_type": "stream",
     "text": [
      "(200, 9)\n"
     ]
    }
   ],
   "source": [
    "X = np.hstack((x, x[:, 0:1]**2, x[:, 1:2]**2, x[:, 2:3]**2, x[:, 0:1]*x[:, 1:2], x[:, 0:1]*x[:, 2:3], x[:, 1:2]*x[:, 2:3]))\n",
    "\n",
    "print(X.shape)\n"
   ],
   "metadata": {
    "collapsed": false,
    "ExecuteTime": {
     "end_time": "2024-03-26T23:54:30.176296796Z",
     "start_time": "2024-03-26T23:54:30.111835809Z"
    }
   },
   "id": "3fb36cab7b50175b"
  },
  {
   "cell_type": "code",
   "execution_count": 146,
   "outputs": [
    {
     "name": "stdout",
     "output_type": "stream",
     "text": [
      "[[2.301000e+02 3.780000e+01 6.920000e+01 5.294601e+04 1.428840e+03\n",
      "  4.788640e+03 8.697780e+03 1.592292e+04 2.615760e+03]\n",
      " [4.450000e+01 3.930000e+01 4.510000e+01 1.980250e+03 1.544490e+03\n",
      "  2.034010e+03 1.748850e+03 2.006950e+03 1.772430e+03]\n",
      " [1.720000e+01 4.590000e+01 6.930000e+01 2.958400e+02 2.106810e+03\n",
      "  4.802490e+03 7.894800e+02 1.191960e+03 3.180870e+03]\n",
      " [1.515000e+02 4.130000e+01 5.850000e+01 2.295225e+04 1.705690e+03\n",
      "  3.422250e+03 6.256950e+03 8.862750e+03 2.416050e+03]\n",
      " [1.808000e+02 1.080000e+01 5.840000e+01 3.268864e+04 1.166400e+02\n",
      "  3.410560e+03 1.952640e+03 1.055872e+04 6.307200e+02]\n",
      " [8.700000e+00 4.890000e+01 7.500000e+01 7.569000e+01 2.391210e+03\n",
      "  5.625000e+03 4.254300e+02 6.525000e+02 3.667500e+03]\n",
      " [5.750000e+01 3.280000e+01 2.350000e+01 3.306250e+03 1.075840e+03\n",
      "  5.522500e+02 1.886000e+03 1.351250e+03 7.708000e+02]\n",
      " [1.202000e+02 1.960000e+01 1.160000e+01 1.444804e+04 3.841600e+02\n",
      "  1.345600e+02 2.355920e+03 1.394320e+03 2.273600e+02]\n",
      " [8.600000e+00 2.100000e+00 1.000000e+00 7.396000e+01 4.410000e+00\n",
      "  1.000000e+00 1.806000e+01 8.600000e+00 2.100000e+00]\n",
      " [1.998000e+02 2.600000e+00 2.120000e+01 3.992004e+04 6.760000e+00\n",
      "  4.494400e+02 5.194800e+02 4.235760e+03 5.512000e+01]]\n"
     ]
    }
   ],
   "source": [
    "print(X[:10])"
   ],
   "metadata": {
    "collapsed": false,
    "ExecuteTime": {
     "end_time": "2024-03-26T23:54:30.820652805Z",
     "start_time": "2024-03-26T23:54:30.777679696Z"
    }
   },
   "id": "57b7fef9b116c3c7"
  },
  {
   "cell_type": "code",
   "execution_count": 147,
   "outputs": [
    {
     "data": {
      "text/plain": "array([[22.1],\n       [10.4],\n       [12. ],\n       [16.5],\n       [17.9],\n       [ 7.2],\n       [11.8],\n       [13.2],\n       [ 4.8],\n       [15.6],\n       [12.6],\n       [17.4],\n       [ 9.2],\n       [13.7],\n       [19. ],\n       [22.4],\n       [12.5],\n       [24.4],\n       [11.3],\n       [14.6],\n       [18. ],\n       [17.5],\n       [ 5.6],\n       [20.5],\n       [ 9.7],\n       [17. ],\n       [15. ],\n       [20.9],\n       [18.9],\n       [10.5],\n       [21.4],\n       [11.9],\n       [13.2],\n       [17.4],\n       [11.9],\n       [17.8],\n       [25.4],\n       [14.7],\n       [10.1],\n       [21.5],\n       [16.6],\n       [17.1],\n       [20.7],\n       [17.9],\n       [ 8.5],\n       [16.1],\n       [10.6],\n       [23.2],\n       [19.8],\n       [ 9.7],\n       [16.4],\n       [10.7],\n       [22.6],\n       [21.2],\n       [20.2],\n       [23.7],\n       [ 5.5],\n       [13.2],\n       [23.8],\n       [18.4],\n       [ 8.1],\n       [24.2],\n       [20.7],\n       [14. ],\n       [16. ],\n       [11.3],\n       [11. ],\n       [13.4],\n       [18.9],\n       [22.3],\n       [18.3],\n       [12.4],\n       [ 8.8],\n       [11. ],\n       [17. ],\n       [ 8.7],\n       [ 6.9],\n       [14.2],\n       [ 5.3],\n       [11. ],\n       [11.8],\n       [17.3],\n       [11.3],\n       [13.6],\n       [21.7],\n       [20.2],\n       [12. ],\n       [16. ],\n       [12.9],\n       [16.7],\n       [14. ],\n       [ 7.3],\n       [19.4],\n       [22.2],\n       [11.5],\n       [16.9],\n       [16.7],\n       [20.5],\n       [25.4],\n       [17.2],\n       [16.7],\n       [23.8],\n       [19.8],\n       [19.7],\n       [20.7],\n       [15. ],\n       [ 7.2],\n       [12. ],\n       [ 5.3],\n       [19.8],\n       [18.4],\n       [21.8],\n       [17.1],\n       [20.9],\n       [14.6],\n       [12.6],\n       [12.2],\n       [ 9.4],\n       [15.9],\n       [ 6.6],\n       [15.5],\n       [ 7. ],\n       [16.6],\n       [15.2],\n       [19.7],\n       [10.6],\n       [ 6.6],\n       [11.9],\n       [24.7],\n       [ 9.7],\n       [ 1.6],\n       [17.7],\n       [ 5.7],\n       [19.6],\n       [10.8],\n       [11.6],\n       [ 9.5],\n       [20.8],\n       [ 9.6],\n       [20.7],\n       [10.9],\n       [19.2],\n       [20.1],\n       [10.4],\n       [12.3],\n       [10.3],\n       [18.2],\n       [25.4],\n       [10.9],\n       [10.1],\n       [16.1],\n       [11.6],\n       [16.6],\n       [16. ],\n       [20.6],\n       [ 3.2],\n       [15.3],\n       [10.1],\n       [ 7.3],\n       [12.9],\n       [16.4],\n       [13.3],\n       [19.9],\n       [18. ],\n       [11.9],\n       [16.9],\n       [ 8. ],\n       [17.2],\n       [17.1],\n       [20. ],\n       [ 8.4],\n       [17.5],\n       [ 7.6],\n       [16.7],\n       [16.5],\n       [27. ],\n       [20.2],\n       [16.7],\n       [16.8],\n       [17.6],\n       [15.5],\n       [17.2],\n       [ 8.7],\n       [26.2],\n       [17.6],\n       [22.6],\n       [10.3],\n       [17.3],\n       [20.9],\n       [ 6.7],\n       [10.8],\n       [11.9],\n       [ 5.9],\n       [19.6],\n       [17.3],\n       [ 7.6],\n       [14. ],\n       [14.8],\n       [25.5],\n       [18.4]])"
     },
     "execution_count": 147,
     "metadata": {},
     "output_type": "execute_result"
    }
   ],
   "source": [
    "y"
   ],
   "metadata": {
    "collapsed": false,
    "ExecuteTime": {
     "end_time": "2024-03-26T23:54:31.592971472Z",
     "start_time": "2024-03-26T23:54:31.451375569Z"
    }
   },
   "id": "b5869afec29e5e3b"
  },
  {
   "cell_type": "code",
   "execution_count": 148,
   "outputs": [
    {
     "data": {
      "text/plain": "(200, 1)"
     },
     "execution_count": 148,
     "metadata": {},
     "output_type": "execute_result"
    }
   ],
   "source": [
    "y.shape"
   ],
   "metadata": {
    "collapsed": false,
    "ExecuteTime": {
     "end_time": "2024-03-26T23:54:32.094633068Z",
     "start_time": "2024-03-26T23:54:32.032157036Z"
    }
   },
   "id": "163badedd4b8d79e"
  },
  {
   "cell_type": "code",
   "execution_count": 149,
   "outputs": [
    {
     "data": {
      "text/plain": "(200, 1)"
     },
     "execution_count": 149,
     "metadata": {},
     "output_type": "execute_result"
    }
   ],
   "source": [
    "y = y.reshape(-1,1)\n",
    "y.shape"
   ],
   "metadata": {
    "collapsed": false,
    "ExecuteTime": {
     "end_time": "2024-03-26T23:54:32.824658451Z",
     "start_time": "2024-03-26T23:54:32.766169416Z"
    }
   },
   "id": "ae2062bd146a4626"
  },
  {
   "cell_type": "code",
   "execution_count": 150,
   "outputs": [],
   "source": [
    "from sklearn.model_selection import train_test_split\n",
    "X_train, X_test, y_train, y_test = train_test_split(X, y, test_size=0.2, random_state=42)\n",
    "\n",
    "X_train=(X_train-X_train.mean())/X_train.std()\n",
    "X_test=(X_test-X_test.mean())/X_test.std()\n",
    "\n",
    "\n",
    "X_train = np.hstack((X_train, np.ones((X_train.shape[0], 1))))\n",
    "X_test = np.hstack((X_test, np.ones((X_test.shape[0], 1))))"
   ],
   "metadata": {
    "collapsed": false,
    "ExecuteTime": {
     "end_time": "2024-03-26T23:54:34.018700192Z",
     "start_time": "2024-03-26T23:54:33.943396596Z"
    }
   },
   "id": "fe5d5f17e0fa71e7"
  },
  {
   "cell_type": "code",
   "execution_count": 151,
   "outputs": [
    {
     "name": "stdout",
     "output_type": "stream",
     "text": [
      "(160, 10)\n",
      "(40, 10)\n",
      "(160, 1)\n",
      "(40, 1)\n"
     ]
    }
   ],
   "source": [
    "print(X_train.shape)\n",
    "print(X_test.shape)\n",
    "print(y_train.shape)\n",
    "print(y_test.shape)"
   ],
   "metadata": {
    "collapsed": false,
    "ExecuteTime": {
     "end_time": "2024-03-26T23:54:35.307027017Z",
     "start_time": "2024-03-26T23:54:35.242455141Z"
    }
   },
   "id": "959f4f15256c35d3"
  },
  {
   "cell_type": "code",
   "execution_count": 152,
   "outputs": [
    {
     "name": "stdout",
     "output_type": "stream",
     "text": [
      "Theta: [[ 1.76405235]\n",
      " [ 0.40015721]\n",
      " [ 0.97873798]\n",
      " [ 2.2408932 ]\n",
      " [ 1.86755799]\n",
      " [-0.97727788]\n",
      " [ 0.95008842]\n",
      " [-0.15135721]\n",
      " [-0.10321885]\n",
      " [ 0.4105985 ]]\n"
     ]
    }
   ],
   "source": [
    "np.random.seed(0) # pour produire toujours le meme vecteur theta aléatoire\n",
    "theta=np.random.randn(10,1)\n",
    "print('Theta:',theta)"
   ],
   "metadata": {
    "collapsed": false,
    "ExecuteTime": {
     "end_time": "2024-03-26T23:54:36.558870305Z",
     "start_time": "2024-03-26T23:54:36.474832251Z"
    }
   },
   "id": "a450869cc3794f48"
  },
  {
   "cell_type": "code",
   "execution_count": 153,
   "outputs": [],
   "source": [
    "def model(X, theta):\n",
    "    return np.dot(X, theta)\n",
    "def cost_function(X, y, theta):\n",
    "    m = len(y)\n",
    "    return 1/(2*m) * np.sum((model(X, theta) - y)**2)"
   ],
   "metadata": {
    "collapsed": false,
    "ExecuteTime": {
     "end_time": "2024-03-26T23:54:37.463555617Z",
     "start_time": "2024-03-26T23:54:37.341058558Z"
    }
   },
   "id": "3aabf8ced912fdc4"
  },
  {
   "cell_type": "code",
   "execution_count": 153,
   "outputs": [],
   "source": [],
   "metadata": {
    "collapsed": false,
    "ExecuteTime": {
     "end_time": "2024-03-26T23:54:38.189879967Z",
     "start_time": "2024-03-26T23:54:38.099740276Z"
    }
   },
   "id": "b849c949d677d1c6"
  },
  {
   "cell_type": "code",
   "execution_count": 154,
   "outputs": [
    {
     "data": {
      "text/plain": "74.28430598427326"
     },
     "execution_count": 154,
     "metadata": {},
     "output_type": "execute_result"
    }
   ],
   "source": [
    "cost_function(X_train, y_train, theta)"
   ],
   "metadata": {
    "collapsed": false,
    "ExecuteTime": {
     "end_time": "2024-03-26T23:54:39.143013763Z",
     "start_time": "2024-03-26T23:54:39.078519279Z"
    }
   },
   "id": "a8579949e5c43d1c"
  },
  {
   "cell_type": "code",
   "execution_count": 155,
   "outputs": [],
   "source": [
    "def grad(X, y, theta):\n",
    "    m = len(y)\n",
    "    return 1/m * X.T.dot(model(X, theta) - y)"
   ],
   "metadata": {
    "collapsed": false,
    "ExecuteTime": {
     "end_time": "2024-03-26T23:54:39.932448771Z",
     "start_time": "2024-03-26T23:54:39.886986349Z"
    }
   },
   "id": "b7501c875cc02fc2"
  },
  {
   "cell_type": "code",
   "execution_count": 156,
   "outputs": [],
   "source": [
    "def gradient_descent(X, y, theta, learning_rate, n_iterations):\n",
    "    \n",
    "    cost_history = np.zeros(n_iterations) # création d'un tableau de stockage pour enregistrer l'évolution du Cout du modele\n",
    "    \n",
    "    for i in range(0, n_iterations):\n",
    "        theta = theta - learning_rate * grad(X, y, theta) # mise a jour du parametre theta (formule du gradient descent)\n",
    "        cost_history[i] = cost_function(X, y, theta) # on enregistre la valeur du Cout au tour i dans cost_history[i]\n",
    "        \n",
    "    return theta, cost_history"
   ],
   "metadata": {
    "collapsed": false,
    "ExecuteTime": {
     "end_time": "2024-03-26T23:54:40.709913382Z",
     "start_time": "2024-03-26T23:54:40.618587281Z"
    }
   },
   "id": "c083ff4e73584189"
  },
  {
   "cell_type": "code",
   "execution_count": 157,
   "outputs": [],
   "source": [
    "# Entrainement du modèle\n",
    "n_iterations = 100000\n",
    "learning_rate = 0.03\n",
    "\n",
    "theta_final, cost_history = gradient_descent(X_train, y_train, theta, learning_rate, n_iterations)"
   ],
   "metadata": {
    "collapsed": false,
    "ExecuteTime": {
     "end_time": "2024-03-26T23:54:43.639811831Z",
     "start_time": "2024-03-26T23:54:41.553460146Z"
    }
   },
   "id": "447ca9b0ad41e329"
  },
  {
   "cell_type": "code",
   "execution_count": 158,
   "outputs": [
    {
     "data": {
      "text/plain": "array([[ 4.4465345 ],\n       [-3.78508781],\n       [-3.1127696 ],\n       [ 1.2591307 ],\n       [ 2.39339719],\n       [-4.7722922 ],\n       [ 8.16249797],\n       [ 2.16939454],\n       [-0.1364194 ],\n       [12.00634555]])"
     },
     "execution_count": 158,
     "metadata": {},
     "output_type": "execute_result"
    }
   ],
   "source": [
    "theta_final"
   ],
   "metadata": {
    "collapsed": false,
    "ExecuteTime": {
     "end_time": "2024-03-26T23:54:44.661773978Z",
     "start_time": "2024-03-26T23:54:44.616020293Z"
    }
   },
   "id": "5539a6f8ef58122b"
  },
  {
   "cell_type": "code",
   "execution_count": 159,
   "outputs": [
    {
     "data": {
      "text/plain": "<Figure size 640x480 with 1 Axes>",
      "image/png": "[encoded data removed]"
     },
     "metadata": {},
     "output_type": "display_data"
    }
   ],
   "source": [
    "plt.plot(range(n_iterations), cost_history)\n",
    "plt.show()"
   ],
   "metadata": {
    "collapsed": false,
    "ExecuteTime": {
     "end_time": "2024-03-26T23:54:45.888397012Z",
     "start_time": "2024-03-26T23:54:45.550409611Z"
    }
   },
   "id": "8eeb9783a12abda1"
  },
  {
   "cell_type": "code",
   "execution_count": 160,
   "outputs": [],
   "source": [
    "def coef_determination(y, pred):\n",
    "    u = ((y - pred)**2).sum()\n",
    "    v = ((y - y.mean())**2).sum()\n",
    "    return 1 - u/v"
   ],
   "metadata": {
    "collapsed": false,
    "ExecuteTime": {
     "end_time": "2024-03-26T23:54:46.854236164Z",
     "start_time": "2024-03-26T23:54:46.805171403Z"
    }
   },
   "id": "4026ae2acc3db9f7"
  },
  {
   "cell_type": "code",
   "execution_count": 161,
   "outputs": [
    {
     "data": {
      "text/plain": "0.8482775908918861"
     },
     "execution_count": 161,
     "metadata": {},
     "output_type": "execute_result"
    }
   ],
   "source": [
    "predictions_train = model(X_train, theta_final)\n",
    "coef_determination_regression_polynomiale_train = coef_determination(y_train, predictions_train)\n",
    "coef_determination_regression_polynomiale_train"
   ],
   "metadata": {
    "collapsed": false,
    "ExecuteTime": {
     "end_time": "2024-03-26T23:55:07.824224561Z",
     "start_time": "2024-03-26T23:55:07.737845220Z"
    }
   },
   "id": "199288ea09591f2c"
  },
  {
   "cell_type": "code",
   "execution_count": 162,
   "outputs": [
    {
     "data": {
      "text/plain": "0.8367438172542914"
     },
     "execution_count": 162,
     "metadata": {},
     "output_type": "execute_result"
    }
   ],
   "source": [
    "predictions_test = model(X_test, theta_final)\n",
    "coef_determination_regression_polynomiale_test = coef_determination(y_test, predictions_test)\n",
    "coef_determination_regression_polynomiale_test"
   ],
   "metadata": {
    "collapsed": false,
    "ExecuteTime": {
     "end_time": "2024-03-26T23:55:24.319539007Z",
     "start_time": "2024-03-26T23:55:24.275947846Z"
    }
   },
   "id": "3c8bb7b2a37e3e09"
  },
  {
   "cell_type": "code",
   "execution_count": 170,
   "outputs": [
    {
     "name": "stdout",
     "output_type": "stream",
     "text": [
      "+------------------------------+--------------------+\n",
      "|            Modele            |         CF         |\n",
      "+------------------------------+--------------------+\n",
      "|  regression_multiple_train   | 0.9001328507244148 |\n",
      "|   regression_multiple_test   | 0.8825672111439224 |\n",
      "| regression_polynomiale_train | 0.8482775908918861 |\n",
      "| regression_polynomiale_test  | 0.8367438172542914 |\n",
      "+------------------------------+--------------------+\n"
     ]
    }
   ],
   "source": [
    "from tabulate import tabulate\n",
    "\n",
    "data = [\n",
    "    [\"regression_multiple_train\", coef_determination_regression_multiple_train],\n",
    "    [\"regression_multiple_test\", coef_determination_regression_multiple_test],\n",
    "    [\"regression_polynomiale_train\", coef_determination_regression_polynomiale_train],\n",
    "    [\"regression_polynomiale_test\", coef_determination_regression_polynomiale_test]\n",
    "]\n",
    "headers = [\"Modele\", \"CF\"]\n",
    "\n",
    "print(tabulate(data, headers=headers, tablefmt=\"pretty\"))"
   ],
   "metadata": {
    "collapsed": false,
    "ExecuteTime": {
     "end_time": "2024-03-27T00:03:33.061725907Z",
     "start_time": "2024-03-27T00:03:32.954289298Z"
    }
   },
   "id": "aec8020ee67c802"
  },
  {
   "cell_type": "code",
   "execution_count": null,
   "outputs": [],
   "source": [],
   "metadata": {
    "collapsed": false
   },
   "id": "6958d9377d980db5"
  }
 ],
 "metadata": {
  "kernelspec": {
   "display_name": "Python 3",
   "language": "python",
   "name": "python3"
  },
  "language_info": {
   "codemirror_mode": {
    "name": "ipython",
    "version": 2
   },
   "file_extension": ".py",
   "mimetype": "text/x-python",
   "name": "python",
   "nbconvert_exporter": "python",
   "pygments_lexer": "ipython2",
   "version": "2.7.6"
  }
 },
 "nbformat": 4,
 "nbformat_minor": 5
}

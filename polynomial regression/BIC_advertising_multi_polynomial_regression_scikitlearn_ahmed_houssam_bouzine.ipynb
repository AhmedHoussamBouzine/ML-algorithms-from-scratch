{
 "cells": [
  {
   "cell_type": "code",
   "execution_count": 1,
   "id": "0c258fce",
   "metadata": {
    "ExecuteTime": {
     "end_time": "2024-03-27T11:54:51.349279766Z",
     "start_time": "2024-03-27T11:54:50.905094517Z"
    }
   },
   "outputs": [],
   "source": [
    "import numpy as np\n",
    "import pandas as pd\n",
    "import matplotlib.pyplot as plt\n",
    "import seaborn as sns\n",
    "from sklearn.model_selection import train_test_split\n",
    "from sklearn.preprocessing import PolynomialFeatures\n",
    "from sklearn.linear_model import LinearRegression\n",
    "from sklearn.metrics import mean_squared_error"
   ]
  },
  {
   "cell_type": "code",
   "execution_count": 2,
   "id": "5bd3f678",
   "metadata": {
    "ExecuteTime": {
     "end_time": "2024-03-27T11:54:52.695734250Z",
     "start_time": "2024-03-27T11:54:52.547298469Z"
    }
   },
   "outputs": [],
   "source": [
    "# chargement du dataset\n",
    "df = pd.read_csv(\"mouse_viral_study.csv\")"
   ]
  },
  {
   "cell_type": "code",
   "execution_count": 3,
   "id": "5c4070e9",
   "metadata": {
    "ExecuteTime": {
     "end_time": "2024-03-27T11:54:54.244615623Z",
     "start_time": "2024-03-27T11:54:54.068684319Z"
    }
   },
   "outputs": [
    {
     "data": {
      "text/plain": "   Med_1_mL  Med_2_mL  Virus Present\n0  6.508231  8.582531              0\n1  4.126116  3.073459              1\n2  6.427870  6.369758              0\n3  3.672953  4.905215              1\n4  1.580321  2.440562              1",
      "text/html": "<div>\n<style scoped>\n    .dataframe tbody tr th:only-of-type {\n        vertical-align: middle;\n    }\n\n    .dataframe tbody tr th {\n        vertical-align: top;\n    }\n\n    .dataframe thead th {\n        text-align: right;\n    }\n</style>\n<table border=\"1\" class=\"dataframe\">\n  <thead>\n    <tr style=\"text-align: right;\">\n      <th></th>\n      <th>Med_1_mL</th>\n      <th>Med_2_mL</th>\n      <th>Virus Present</th>\n    </tr>\n  </thead>\n  <tbody>\n    <tr>\n      <th>0</th>\n      <td>6.508231</td>\n      <td>8.582531</td>\n      <td>0</td>\n    </tr>\n    <tr>\n      <th>1</th>\n      <td>4.126116</td>\n      <td>3.073459</td>\n      <td>1</td>\n    </tr>\n    <tr>\n      <th>2</th>\n      <td>6.427870</td>\n      <td>6.369758</td>\n      <td>0</td>\n    </tr>\n    <tr>\n      <th>3</th>\n      <td>3.672953</td>\n      <td>4.905215</td>\n      <td>1</td>\n    </tr>\n    <tr>\n      <th>4</th>\n      <td>1.580321</td>\n      <td>2.440562</td>\n      <td>1</td>\n    </tr>\n  </tbody>\n</table>\n</div>"
     },
     "execution_count": 3,
     "metadata": {},
     "output_type": "execute_result"
    }
   ],
   "source": [
    "df.head()"
   ]
  },
  {
   "cell_type": "code",
   "execution_count": 13,
   "id": "91268fec",
   "metadata": {
    "ExecuteTime": {
     "end_time": "2024-03-27T11:56:37.224599761Z",
     "start_time": "2024-03-27T11:56:37.048991711Z"
    }
   },
   "outputs": [],
   "source": [
    "# # Extraction des colonnes X\n",
    "# X = df[['TV', 'Radio', 'Newspaper']]\n",
    "# \n",
    "# # Extraction de la colonne y\n",
    "# y = df['Sales']\n",
    "# \n",
    "\n",
    "X = df[['Med_1_mL']]\n",
    "\n",
    "y = df[['Med_2_mL']]\n"
   ]
  },
  {
   "cell_type": "code",
   "execution_count": 14,
   "id": "311a0a57",
   "metadata": {
    "ExecuteTime": {
     "end_time": "2024-03-27T11:56:38.419381320Z",
     "start_time": "2024-03-27T11:56:38.249681451Z"
    }
   },
   "outputs": [
    {
     "data": {
      "text/plain": "(400, 1)"
     },
     "execution_count": 14,
     "metadata": {},
     "output_type": "execute_result"
    }
   ],
   "source": [
    "X\n",
    "X.shape"
   ]
  },
  {
   "cell_type": "code",
   "execution_count": 16,
   "id": "8a3ad3ab",
   "metadata": {
    "ExecuteTime": {
     "end_time": "2024-03-27T11:56:47.258018471Z",
     "start_time": "2024-03-27T11:56:47.062597562Z"
    }
   },
   "outputs": [
    {
     "data": {
      "text/plain": "(400, 1)"
     },
     "execution_count": 16,
     "metadata": {},
     "output_type": "execute_result"
    }
   ],
   "source": [
    "y\n",
    "y.shape"
   ]
  },
  {
   "cell_type": "code",
   "execution_count": 17,
   "id": "6ca10c75",
   "metadata": {
    "ExecuteTime": {
     "end_time": "2024-03-27T11:56:49.429923312Z",
     "start_time": "2024-03-27T11:56:49.211432344Z"
    }
   },
   "outputs": [
    {
     "data": {
      "text/plain": "(320, 1)"
     },
     "execution_count": 17,
     "metadata": {},
     "output_type": "execute_result"
    }
   ],
   "source": [
    "# Split the dataset into training and testing sets\n",
    "X_train, X_test, y_train, y_test = train_test_split(X, y, test_size=0.2, random_state=42)\n",
    "#X_train=np.array(X_train).reshape(-1, 1)\n",
    "X_train.shape"
   ]
  },
  {
   "cell_type": "code",
   "execution_count": 18,
   "id": "9d0d60a8",
   "metadata": {
    "ExecuteTime": {
     "end_time": "2024-03-27T11:56:51.580937237Z",
     "start_time": "2024-03-27T11:56:51.262342875Z"
    }
   },
   "outputs": [
    {
     "name": "stdout",
     "output_type": "stream",
     "text": [
      "Best polynomial degree: 9\n"
     ]
    }
   ],
   "source": [
    "# Define maximum polynomial degree\n",
    "max_degree = 10\n",
    "\n",
    "# Initialize lists to store BIC values and models\n",
    "bic_values = []\n",
    "models = []\n",
    "\n",
    "# Loop over polynomial degrees\n",
    "for degree in range(1, max_degree+1):\n",
    "    # Create polynomial features\n",
    "    poly_features = PolynomialFeatures(degree=degree)\n",
    "    X_train_poly = poly_features.fit_transform(X_train)\n",
    "    \n",
    "    # Fit polynomial regression model\n",
    "    model = LinearRegression()\n",
    "    model.fit(X_train_poly, y_train)\n",
    "    \n",
    "    # Compute number of parameters\n",
    "    num_params = X_train_poly.shape[1]\n",
    "    \n",
    "    # Compute log-likelihood\n",
    "    y_train_pred = model.predict(X_train_poly)\n",
    "    log_likelihood = -0.5 * len(X_train) * np.log(mean_squared_error(y_train, y_train_pred))\n",
    "    \n",
    "    # Compute BIC\n",
    "    bic = -2 * log_likelihood + num_params * np.log(len(X_train))\n",
    "    \n",
    "    # Append BIC value and model\n",
    "    bic_values.append(bic)\n",
    "    models.append(model)\n",
    "\n",
    "# Find index of model with lowest BIC\n",
    "best_model_idx = np.argmin(bic_values)\n",
    "best_model = models[best_model_idx]\n",
    "best_degree = best_model_idx + 1\n",
    "\n",
    "print(f\"Best polynomial degree: {best_degree}\")\n",
    "\n"
   ]
  },
  {
   "cell_type": "code",
   "execution_count": 19,
   "id": "a343b6ac",
   "metadata": {
    "ExecuteTime": {
     "end_time": "2024-03-27T11:56:55.562752283Z",
     "start_time": "2024-03-27T11:56:54.053365711Z"
    }
   },
   "outputs": [
    {
     "data": {
      "text/plain": "<Figure size 640x480 with 1 Axes>",
      "image/png": "[encoded data removed]"
     },
     "metadata": {},
     "output_type": "display_data"
    }
   ],
   "source": [
    "# Plot BIC values vs. polynomial degree\n",
    "plt.plot(range(1, max_degree+1), bic_values, marker='o')\n",
    "plt.xlabel('Polynomial Degree')\n",
    "plt.ylabel('BIC Value')\n",
    "plt.title('BIC Values vs. Polynomial Degree')\n",
    "plt.xticks(range(1, max_degree+1))\n",
    "plt.grid(True)\n",
    "plt.show()"
   ]
  },
  {
   "cell_type": "code",
   "execution_count": null,
   "id": "2901729a",
   "metadata": {},
   "outputs": [],
   "source": []
  },
  {
   "cell_type": "code",
   "execution_count": null,
   "id": "1043dd90",
   "metadata": {},
   "outputs": [],
   "source": []
  },
  {
   "cell_type": "code",
   "execution_count": null,
   "id": "5dede043",
   "metadata": {},
   "outputs": [],
   "source": []
  }
 ],
 "metadata": {
  "kernelspec": {
   "display_name": "Python 3 (ipykernel)",
   "language": "python",
   "name": "python3"
  },
  "language_info": {
   "codemirror_mode": {
    "name": "ipython",
    "version": 3
   },
   "file_extension": ".py",
   "mimetype": "text/x-python",
   "name": "python",
   "nbconvert_exporter": "python",
   "pygments_lexer": "ipython3",
   "version": "3.9.13"
  }
 },
 "nbformat": 4,
 "nbformat_minor": 5
}

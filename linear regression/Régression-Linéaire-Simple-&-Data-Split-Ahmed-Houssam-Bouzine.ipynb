{
 "cells": [
  {
   "cell_type": "code",
   "execution_count": 824,
   "id": "b087ea93",
   "metadata": {},
   "outputs": [],
   "source": [
    "import pandas as pd\n",
    "import numpy as np\n",
    "import matplotlib.pyplot as plt\n",
    "import seaborn as sns\n",
    "from sklearn.model_selection import train_test_split\n",
    "%matplotlib inline"
   ]
  },
  {
   "cell_type": "markdown",
   "id": "23a774c7",
   "metadata": {},
   "source": [
    "## 1. Dataset"
   ]
  },
  {
   "cell_type": "code",
   "execution_count": 825,
   "id": "fc5b84c9",
   "metadata": {},
   "outputs": [],
   "source": [
    "dataset = pd.read_csv('Advertising.csv')"
   ]
  },
  {
   "cell_type": "code",
   "execution_count": 826,
   "id": "01c6c8aa",
   "metadata": {},
   "outputs": [
    {
     "data": {
      "text/html": [
       "<div>\n",
       "<style scoped>\n",
       "    .dataframe tbody tr th:only-of-type {\n",
       "        vertical-align: middle;\n",
       "    }\n",
       "\n",
       "    .dataframe tbody tr th {\n",
       "        vertical-align: top;\n",
       "    }\n",
       "\n",
       "    .dataframe thead th {\n",
       "        text-align: right;\n",
       "    }\n",
       "</style>\n",
       "<table border=\"1\" class=\"dataframe\">\n",
       "  <thead>\n",
       "    <tr style=\"text-align: right;\">\n",
       "      <th></th>\n",
       "      <th>TV</th>\n",
       "      <th>Radio</th>\n",
       "      <th>Newspaper</th>\n",
       "      <th>Sales</th>\n",
       "    </tr>\n",
       "  </thead>\n",
       "  <tbody>\n",
       "    <tr>\n",
       "      <th>0</th>\n",
       "      <td>230.1</td>\n",
       "      <td>37.8</td>\n",
       "      <td>69.2</td>\n",
       "      <td>22.1</td>\n",
       "    </tr>\n",
       "    <tr>\n",
       "      <th>1</th>\n",
       "      <td>44.5</td>\n",
       "      <td>39.3</td>\n",
       "      <td>45.1</td>\n",
       "      <td>10.4</td>\n",
       "    </tr>\n",
       "    <tr>\n",
       "      <th>2</th>\n",
       "      <td>17.2</td>\n",
       "      <td>45.9</td>\n",
       "      <td>69.3</td>\n",
       "      <td>12.0</td>\n",
       "    </tr>\n",
       "    <tr>\n",
       "      <th>3</th>\n",
       "      <td>151.5</td>\n",
       "      <td>41.3</td>\n",
       "      <td>58.5</td>\n",
       "      <td>16.5</td>\n",
       "    </tr>\n",
       "    <tr>\n",
       "      <th>4</th>\n",
       "      <td>180.8</td>\n",
       "      <td>10.8</td>\n",
       "      <td>58.4</td>\n",
       "      <td>17.9</td>\n",
       "    </tr>\n",
       "  </tbody>\n",
       "</table>\n",
       "</div>"
      ],
      "text/plain": [
       "      TV  Radio  Newspaper  Sales\n",
       "0  230.1   37.8       69.2   22.1\n",
       "1   44.5   39.3       45.1   10.4\n",
       "2   17.2   45.9       69.3   12.0\n",
       "3  151.5   41.3       58.5   16.5\n",
       "4  180.8   10.8       58.4   17.9"
      ]
     },
     "execution_count": 826,
     "metadata": {},
     "output_type": "execute_result"
    }
   ],
   "source": [
    "dataset.head()"
   ]
  },
  {
   "cell_type": "code",
   "execution_count": null,
   "id": "4646698a",
   "metadata": {},
   "outputs": [
    {
     "data": {
      "text/html": [
       "<div>\n",
       "<style scoped>\n",
       "    .dataframe tbody tr th:only-of-type {\n",
       "        vertical-align: middle;\n",
       "    }\n",
       "\n",
       "    .dataframe tbody tr th {\n",
       "        vertical-align: top;\n",
       "    }\n",
       "\n",
       "    .dataframe thead th {\n",
       "        text-align: right;\n",
       "    }\n",
       "</style>\n",
       "<table border=\"1\" class=\"dataframe\">\n",
       "  <thead>\n",
       "    <tr style=\"text-align: right;\">\n",
       "      <th></th>\n",
       "      <th>TV</th>\n",
       "      <th>Radio</th>\n",
       "      <th>Newspaper</th>\n",
       "      <th>Sales</th>\n",
       "    </tr>\n",
       "  </thead>\n",
       "  <tbody>\n",
       "    <tr>\n",
       "      <th>0</th>\n",
       "      <td>230.1</td>\n",
       "      <td>37.8</td>\n",
       "      <td>69.2</td>\n",
       "      <td>22.1</td>\n",
       "    </tr>\n",
       "    <tr>\n",
       "      <th>1</th>\n",
       "      <td>44.5</td>\n",
       "      <td>39.3</td>\n",
       "      <td>45.1</td>\n",
       "      <td>10.4</td>\n",
       "    </tr>\n",
       "    <tr>\n",
       "      <th>2</th>\n",
       "      <td>17.2</td>\n",
       "      <td>45.9</td>\n",
       "      <td>69.3</td>\n",
       "      <td>12.0</td>\n",
       "    </tr>\n",
       "    <tr>\n",
       "      <th>3</th>\n",
       "      <td>151.5</td>\n",
       "      <td>41.3</td>\n",
       "      <td>58.5</td>\n",
       "      <td>16.5</td>\n",
       "    </tr>\n",
       "    <tr>\n",
       "      <th>4</th>\n",
       "      <td>180.8</td>\n",
       "      <td>10.8</td>\n",
       "      <td>58.4</td>\n",
       "      <td>17.9</td>\n",
       "    </tr>\n",
       "    <tr>\n",
       "      <th>...</th>\n",
       "      <td>...</td>\n",
       "      <td>...</td>\n",
       "      <td>...</td>\n",
       "      <td>...</td>\n",
       "    </tr>\n",
       "    <tr>\n",
       "      <th>195</th>\n",
       "      <td>38.2</td>\n",
       "      <td>3.7</td>\n",
       "      <td>13.8</td>\n",
       "      <td>7.6</td>\n",
       "    </tr>\n",
       "    <tr>\n",
       "      <th>196</th>\n",
       "      <td>94.2</td>\n",
       "      <td>4.9</td>\n",
       "      <td>8.1</td>\n",
       "      <td>14.0</td>\n",
       "    </tr>\n",
       "    <tr>\n",
       "      <th>197</th>\n",
       "      <td>177.0</td>\n",
       "      <td>9.3</td>\n",
       "      <td>6.4</td>\n",
       "      <td>14.8</td>\n",
       "    </tr>\n",
       "    <tr>\n",
       "      <th>198</th>\n",
       "      <td>283.6</td>\n",
       "      <td>42.0</td>\n",
       "      <td>66.2</td>\n",
       "      <td>25.5</td>\n",
       "    </tr>\n",
       "    <tr>\n",
       "      <th>199</th>\n",
       "      <td>232.1</td>\n",
       "      <td>8.6</td>\n",
       "      <td>8.7</td>\n",
       "      <td>18.4</td>\n",
       "    </tr>\n",
       "  </tbody>\n",
       "</table>\n",
       "<p>200 rows × 4 columns</p>\n",
       "</div>"
      ],
      "text/plain": [
       "        TV  Radio  Newspaper  Sales\n",
       "0    230.1   37.8       69.2   22.1\n",
       "1     44.5   39.3       45.1   10.4\n",
       "2     17.2   45.9       69.3   12.0\n",
       "3    151.5   41.3       58.5   16.5\n",
       "4    180.8   10.8       58.4   17.9\n",
       "..     ...    ...        ...    ...\n",
       "195   38.2    3.7       13.8    7.6\n",
       "196   94.2    4.9        8.1   14.0\n",
       "197  177.0    9.3        6.4   14.8\n",
       "198  283.6   42.0       66.2   25.5\n",
       "199  232.1    8.6        8.7   18.4\n",
       "\n",
       "[200 rows x 4 columns]"
      ]
     },
     "execution_count": 827,
     "metadata": {},
     "output_type": "execute_result"
    },
    {
     "data": {
      "text/html": [
       "<div>\n",
       "<style scoped>\n",
       "    .dataframe tbody tr th:only-of-type {\n",
       "        vertical-align: middle;\n",
       "    }\n",
       "\n",
       "    .dataframe tbody tr th {\n",
       "        vertical-align: top;\n",
       "    }\n",
       "\n",
       "    .dataframe thead th {\n",
       "        text-align: right;\n",
       "    }\n",
       "</style>\n",
       "<table border=\"1\" class=\"dataframe\">\n",
       "  <thead>\n",
       "    <tr style=\"text-align: right;\">\n",
       "      <th></th>\n",
       "      <th>TV</th>\n",
       "      <th>Radio</th>\n",
       "      <th>Newspaper</th>\n",
       "      <th>Sales</th>\n",
       "    </tr>\n",
       "  </thead>\n",
       "  <tbody>\n",
       "    <tr>\n",
       "      <th>0</th>\n",
       "      <td>230.1</td>\n",
       "      <td>37.8</td>\n",
       "      <td>69.2</td>\n",
       "      <td>22.1</td>\n",
       "    </tr>\n",
       "    <tr>\n",
       "      <th>1</th>\n",
       "      <td>44.5</td>\n",
       "      <td>39.3</td>\n",
       "      <td>45.1</td>\n",
       "      <td>10.4</td>\n",
       "    </tr>\n",
       "    <tr>\n",
       "      <th>2</th>\n",
       "      <td>17.2</td>\n",
       "      <td>45.9</td>\n",
       "      <td>69.3</td>\n",
       "      <td>12.0</td>\n",
       "    </tr>\n",
       "    <tr>\n",
       "      <th>3</th>\n",
       "      <td>151.5</td>\n",
       "      <td>41.3</td>\n",
       "      <td>58.5</td>\n",
       "      <td>16.5</td>\n",
       "    </tr>\n",
       "    <tr>\n",
       "      <th>4</th>\n",
       "      <td>180.8</td>\n",
       "      <td>10.8</td>\n",
       "      <td>58.4</td>\n",
       "      <td>17.9</td>\n",
       "    </tr>\n",
       "    <tr>\n",
       "      <th>...</th>\n",
       "      <td>...</td>\n",
       "      <td>...</td>\n",
       "      <td>...</td>\n",
       "      <td>...</td>\n",
       "    </tr>\n",
       "    <tr>\n",
       "      <th>195</th>\n",
       "      <td>38.2</td>\n",
       "      <td>3.7</td>\n",
       "      <td>13.8</td>\n",
       "      <td>7.6</td>\n",
       "    </tr>\n",
       "    <tr>\n",
       "      <th>196</th>\n",
       "      <td>94.2</td>\n",
       "      <td>4.9</td>\n",
       "      <td>8.1</td>\n",
       "      <td>14.0</td>\n",
       "    </tr>\n",
       "    <tr>\n",
       "      <th>197</th>\n",
       "      <td>177.0</td>\n",
       "      <td>9.3</td>\n",
       "      <td>6.4</td>\n",
       "      <td>14.8</td>\n",
       "    </tr>\n",
       "    <tr>\n",
       "      <th>198</th>\n",
       "      <td>283.6</td>\n",
       "      <td>42.0</td>\n",
       "      <td>66.2</td>\n",
       "      <td>25.5</td>\n",
       "    </tr>\n",
       "    <tr>\n",
       "      <th>199</th>\n",
       "      <td>232.1</td>\n",
       "      <td>8.6</td>\n",
       "      <td>8.7</td>\n",
       "      <td>18.4</td>\n",
       "    </tr>\n",
       "  </tbody>\n",
       "</table>\n",
       "<p>200 rows × 4 columns</p>\n",
       "</div>"
      ],
      "text/plain": [
       "        TV  Radio  Newspaper  Sales\n",
       "0    230.1   37.8       69.2   22.1\n",
       "1     44.5   39.3       45.1   10.4\n",
       "2     17.2   45.9       69.3   12.0\n",
       "3    151.5   41.3       58.5   16.5\n",
       "4    180.8   10.8       58.4   17.9\n",
       "..     ...    ...        ...    ...\n",
       "195   38.2    3.7       13.8    7.6\n",
       "196   94.2    4.9        8.1   14.0\n",
       "197  177.0    9.3        6.4   14.8\n",
       "198  283.6   42.0       66.2   25.5\n",
       "199  232.1    8.6        8.7   18.4\n",
       "\n",
       "[200 rows x 4 columns]"
      ]
     },
     "execution_count": 827,
     "metadata": {},
     "output_type": "execute_result"
    }
   ],
   "source": [
    "dataset"
   ]
  },
  {
   "cell_type": "code",
   "execution_count": 828,
   "id": "6e0b17c0",
   "metadata": {},
   "outputs": [
    {
     "data": {
      "text/html": [
       "<div>\n",
       "<style scoped>\n",
       "    .dataframe tbody tr th:only-of-type {\n",
       "        vertical-align: middle;\n",
       "    }\n",
       "\n",
       "    .dataframe tbody tr th {\n",
       "        vertical-align: top;\n",
       "    }\n",
       "\n",
       "    .dataframe thead th {\n",
       "        text-align: right;\n",
       "    }\n",
       "</style>\n",
       "<table border=\"1\" class=\"dataframe\">\n",
       "  <thead>\n",
       "    <tr style=\"text-align: right;\">\n",
       "      <th></th>\n",
       "      <th>TV</th>\n",
       "      <th>Radio</th>\n",
       "      <th>Newspaper</th>\n",
       "      <th>Sales</th>\n",
       "    </tr>\n",
       "  </thead>\n",
       "  <tbody>\n",
       "    <tr>\n",
       "      <th>TV</th>\n",
       "      <td>1.000000</td>\n",
       "      <td>0.054809</td>\n",
       "      <td>0.056648</td>\n",
       "      <td>0.901208</td>\n",
       "    </tr>\n",
       "    <tr>\n",
       "      <th>Radio</th>\n",
       "      <td>0.054809</td>\n",
       "      <td>1.000000</td>\n",
       "      <td>0.354104</td>\n",
       "      <td>0.349631</td>\n",
       "    </tr>\n",
       "    <tr>\n",
       "      <th>Newspaper</th>\n",
       "      <td>0.056648</td>\n",
       "      <td>0.354104</td>\n",
       "      <td>1.000000</td>\n",
       "      <td>0.157960</td>\n",
       "    </tr>\n",
       "    <tr>\n",
       "      <th>Sales</th>\n",
       "      <td>0.901208</td>\n",
       "      <td>0.349631</td>\n",
       "      <td>0.157960</td>\n",
       "      <td>1.000000</td>\n",
       "    </tr>\n",
       "  </tbody>\n",
       "</table>\n",
       "</div>"
      ],
      "text/plain": [
       "                 TV     Radio  Newspaper     Sales\n",
       "TV         1.000000  0.054809   0.056648  0.901208\n",
       "Radio      0.054809  1.000000   0.354104  0.349631\n",
       "Newspaper  0.056648  0.354104   1.000000  0.157960\n",
       "Sales      0.901208  0.349631   0.157960  1.000000"
      ]
     },
     "execution_count": 828,
     "metadata": {},
     "output_type": "execute_result"
    }
   ],
   "source": [
    "dataset.corr()"
   ]
  },
  {
   "cell_type": "code",
   "execution_count": 829,
   "id": "e0948f36",
   "metadata": {},
   "outputs": [
    {
     "data": {
      "image/png": "[encoded data removed]",
      "text/plain": [
       "<Figure size 640x480 with 2 Axes>"
      ]
     },
     "metadata": {},
     "output_type": "display_data"
    }
   ],
   "source": [
    "plt.figure()\n",
    "sns.heatmap(dataset.corr(),annot=True)\n",
    "plt.show()"
   ]
  },
  {
   "cell_type": "markdown",
   "id": "62e65e0c",
   "metadata": {},
   "source": [
    "# I. Prédire les ventes en fonction des dépenses publicitaires en TV  ( Sales en fonction TV)"
   ]
  },
  {
   "cell_type": "code",
   "execution_count": 830,
   "id": "d05982f5",
   "metadata": {
    "scrolled": true
   },
   "outputs": [
    {
     "data": {
      "image/png": "[encoded data removed]",
      "text/plain": [
       "<Figure size 640x480 with 1 Axes>"
      ]
     },
     "metadata": {},
     "output_type": "display_data"
    }
   ],
   "source": [
    "plt.plot(dataset[\"Sales\"],dataset[\"TV\"],'o')\n",
    "plt.xlabel('TV')\n",
    "plt.ylabel('Sales')\n",
    "plt.show()"
   ]
  },
  {
   "cell_type": "code",
   "execution_count": 831,
   "id": "9725e12f",
   "metadata": {},
   "outputs": [
    {
     "data": {
      "text/plain": [
       "(200,)"
      ]
     },
     "execution_count": 831,
     "metadata": {},
     "output_type": "execute_result"
    }
   ],
   "source": [
    "x=dataset.TV\n",
    "y=dataset.Sales\n",
    "x.shape"
   ]
  },
  {
   "cell_type": "code",
   "execution_count": 832,
   "id": "4b323e65",
   "metadata": {},
   "outputs": [
    {
     "data": {
      "text/plain": [
       "(200,)"
      ]
     },
     "execution_count": 832,
     "metadata": {},
     "output_type": "execute_result"
    }
   ],
   "source": [
    "y.shape"
   ]
  },
  {
   "cell_type": "code",
   "execution_count": 833,
   "id": "812ae545",
   "metadata": {},
   "outputs": [
    {
     "data": {
      "text/plain": [
       "array([230.1,  44.5,  17.2, 151.5, 180.8,   8.7,  57.5, 120.2,   8.6,\n",
       "       199.8,  66.1, 214.7,  23.8,  97.5, 204.1, 195.4,  67.8, 281.4,\n",
       "        69.2, 147.3, 218.4, 237.4,  13.2, 228.3,  62.3, 262.9, 142.9,\n",
       "       240.1, 248.8,  70.6, 292.9, 112.9,  97.2, 265.6,  95.7, 290.7,\n",
       "       266.9,  74.7,  43.1, 228. , 202.5, 177. , 293.6, 206.9,  25.1,\n",
       "       175.1,  89.7, 239.9, 227.2,  66.9, 199.8, 100.4, 216.4, 182.6,\n",
       "       262.7, 198.9,   7.3, 136.2, 210.8, 210.7,  53.5, 261.3, 239.3,\n",
       "       102.7, 131.1,  69. ,  31.5, 139.3, 237.4, 216.8, 199.1, 109.8,\n",
       "        26.8, 129.4, 213.4,  16.9,  27.5, 120.5,   5.4, 116. ,  76.4,\n",
       "       239.8,  75.3,  68.4, 213.5, 193.2,  76.3, 110.7,  88.3, 109.8,\n",
       "       134.3,  28.6, 217.7, 250.9, 107.4, 163.3, 197.6, 184.9, 289.7,\n",
       "       135.2, 222.4, 296.4, 280.2, 187.9, 238.2, 137.9,  25. ,  90.4,\n",
       "        13.1, 255.4, 225.8, 241.7, 175.7, 209.6,  78.2,  75.1, 139.2,\n",
       "        76.4, 125.7,  19.4, 141.3,  18.8, 224. , 123.1, 229.5,  87.2,\n",
       "         7.8,  80.2, 220.3,  59.6,   0.7, 265.2,   8.4, 219.8,  36.9,\n",
       "        48.3,  25.6, 273.7,  43. , 184.9,  73.4, 193.7, 220.5, 104.6,\n",
       "        96.2, 140.3, 240.1, 243.2,  38. ,  44.7, 280.7, 121. , 197.6,\n",
       "       171.3, 187.8,   4.1,  93.9, 149.8,  11.7, 131.7, 172.5,  85.7,\n",
       "       188.4, 163.5, 117.2, 234.5,  17.9, 206.8, 215.4, 284.3,  50. ,\n",
       "       164.5,  19.6, 168.4, 222.4, 276.9, 248.4, 170.2, 276.7, 165.6,\n",
       "       156.6, 218.5,  56.2, 287.6, 253.8, 205. , 139.5, 191.1, 286. ,\n",
       "        18.7,  39.5,  75.5,  17.2, 166.8, 149.7,  38.2,  94.2, 177. ,\n",
       "       283.6, 232.1])"
      ]
     },
     "execution_count": 833,
     "metadata": {},
     "output_type": "execute_result"
    }
   ],
   "source": [
    "X=dataset.TV.values\n",
    "Y=dataset.Sales.values\n",
    "X"
   ]
  },
  {
   "cell_type": "code",
   "execution_count": 834,
   "id": "56015e3b",
   "metadata": {},
   "outputs": [
    {
     "data": {
      "text/plain": [
       "(200,)"
      ]
     },
     "execution_count": 834,
     "metadata": {},
     "output_type": "execute_result"
    }
   ],
   "source": [
    "X.shape"
   ]
  },
  {
   "cell_type": "code",
   "execution_count": 835,
   "id": "b9251b9e",
   "metadata": {},
   "outputs": [],
   "source": [
    "x=dataset.TV.values.reshape(200,1)\n",
    "y=dataset.Sales.values.reshape(200,1)"
   ]
  },
  {
   "cell_type": "code",
   "execution_count": 836,
   "id": "06f785c3",
   "metadata": {},
   "outputs": [
    {
     "name": "stdout",
     "output_type": "stream",
     "text": [
      "(200, 1)\n",
      "(200, 1)\n"
     ]
    }
   ],
   "source": [
    "print(x.shape)\n",
    "print(y.shape)"
   ]
  },
  {
   "cell_type": "code",
   "execution_count": 837,
   "id": "e90904e3",
   "metadata": {},
   "outputs": [
    {
     "data": {
      "text/plain": [
       "array([[230.1,   1. ],\n",
       "       [ 44.5,   1. ],\n",
       "       [ 17.2,   1. ],\n",
       "       [151.5,   1. ],\n",
       "       [180.8,   1. ],\n",
       "       [  8.7,   1. ],\n",
       "       [ 57.5,   1. ],\n",
       "       [120.2,   1. ],\n",
       "       [  8.6,   1. ],\n",
       "       [199.8,   1. ],\n",
       "       [ 66.1,   1. ],\n",
       "       [214.7,   1. ],\n",
       "       [ 23.8,   1. ],\n",
       "       [ 97.5,   1. ],\n",
       "       [204.1,   1. ],\n",
       "       [195.4,   1. ],\n",
       "       [ 67.8,   1. ],\n",
       "       [281.4,   1. ],\n",
       "       [ 69.2,   1. ],\n",
       "       [147.3,   1. ],\n",
       "       [218.4,   1. ],\n",
       "       [237.4,   1. ],\n",
       "       [ 13.2,   1. ],\n",
       "       [228.3,   1. ],\n",
       "       [ 62.3,   1. ],\n",
       "       [262.9,   1. ],\n",
       "       [142.9,   1. ],\n",
       "       [240.1,   1. ],\n",
       "       [248.8,   1. ],\n",
       "       [ 70.6,   1. ],\n",
       "       [292.9,   1. ],\n",
       "       [112.9,   1. ],\n",
       "       [ 97.2,   1. ],\n",
       "       [265.6,   1. ],\n",
       "       [ 95.7,   1. ],\n",
       "       [290.7,   1. ],\n",
       "       [266.9,   1. ],\n",
       "       [ 74.7,   1. ],\n",
       "       [ 43.1,   1. ],\n",
       "       [228. ,   1. ],\n",
       "       [202.5,   1. ],\n",
       "       [177. ,   1. ],\n",
       "       [293.6,   1. ],\n",
       "       [206.9,   1. ],\n",
       "       [ 25.1,   1. ],\n",
       "       [175.1,   1. ],\n",
       "       [ 89.7,   1. ],\n",
       "       [239.9,   1. ],\n",
       "       [227.2,   1. ],\n",
       "       [ 66.9,   1. ],\n",
       "       [199.8,   1. ],\n",
       "       [100.4,   1. ],\n",
       "       [216.4,   1. ],\n",
       "       [182.6,   1. ],\n",
       "       [262.7,   1. ],\n",
       "       [198.9,   1. ],\n",
       "       [  7.3,   1. ],\n",
       "       [136.2,   1. ],\n",
       "       [210.8,   1. ],\n",
       "       [210.7,   1. ],\n",
       "       [ 53.5,   1. ],\n",
       "       [261.3,   1. ],\n",
       "       [239.3,   1. ],\n",
       "       [102.7,   1. ],\n",
       "       [131.1,   1. ],\n",
       "       [ 69. ,   1. ],\n",
       "       [ 31.5,   1. ],\n",
       "       [139.3,   1. ],\n",
       "       [237.4,   1. ],\n",
       "       [216.8,   1. ],\n",
       "       [199.1,   1. ],\n",
       "       [109.8,   1. ],\n",
       "       [ 26.8,   1. ],\n",
       "       [129.4,   1. ],\n",
       "       [213.4,   1. ],\n",
       "       [ 16.9,   1. ],\n",
       "       [ 27.5,   1. ],\n",
       "       [120.5,   1. ],\n",
       "       [  5.4,   1. ],\n",
       "       [116. ,   1. ],\n",
       "       [ 76.4,   1. ],\n",
       "       [239.8,   1. ],\n",
       "       [ 75.3,   1. ],\n",
       "       [ 68.4,   1. ],\n",
       "       [213.5,   1. ],\n",
       "       [193.2,   1. ],\n",
       "       [ 76.3,   1. ],\n",
       "       [110.7,   1. ],\n",
       "       [ 88.3,   1. ],\n",
       "       [109.8,   1. ],\n",
       "       [134.3,   1. ],\n",
       "       [ 28.6,   1. ],\n",
       "       [217.7,   1. ],\n",
       "       [250.9,   1. ],\n",
       "       [107.4,   1. ],\n",
       "       [163.3,   1. ],\n",
       "       [197.6,   1. ],\n",
       "       [184.9,   1. ],\n",
       "       [289.7,   1. ],\n",
       "       [135.2,   1. ],\n",
       "       [222.4,   1. ],\n",
       "       [296.4,   1. ],\n",
       "       [280.2,   1. ],\n",
       "       [187.9,   1. ],\n",
       "       [238.2,   1. ],\n",
       "       [137.9,   1. ],\n",
       "       [ 25. ,   1. ],\n",
       "       [ 90.4,   1. ],\n",
       "       [ 13.1,   1. ],\n",
       "       [255.4,   1. ],\n",
       "       [225.8,   1. ],\n",
       "       [241.7,   1. ],\n",
       "       [175.7,   1. ],\n",
       "       [209.6,   1. ],\n",
       "       [ 78.2,   1. ],\n",
       "       [ 75.1,   1. ],\n",
       "       [139.2,   1. ],\n",
       "       [ 76.4,   1. ],\n",
       "       [125.7,   1. ],\n",
       "       [ 19.4,   1. ],\n",
       "       [141.3,   1. ],\n",
       "       [ 18.8,   1. ],\n",
       "       [224. ,   1. ],\n",
       "       [123.1,   1. ],\n",
       "       [229.5,   1. ],\n",
       "       [ 87.2,   1. ],\n",
       "       [  7.8,   1. ],\n",
       "       [ 80.2,   1. ],\n",
       "       [220.3,   1. ],\n",
       "       [ 59.6,   1. ],\n",
       "       [  0.7,   1. ],\n",
       "       [265.2,   1. ],\n",
       "       [  8.4,   1. ],\n",
       "       [219.8,   1. ],\n",
       "       [ 36.9,   1. ],\n",
       "       [ 48.3,   1. ],\n",
       "       [ 25.6,   1. ],\n",
       "       [273.7,   1. ],\n",
       "       [ 43. ,   1. ],\n",
       "       [184.9,   1. ],\n",
       "       [ 73.4,   1. ],\n",
       "       [193.7,   1. ],\n",
       "       [220.5,   1. ],\n",
       "       [104.6,   1. ],\n",
       "       [ 96.2,   1. ],\n",
       "       [140.3,   1. ],\n",
       "       [240.1,   1. ],\n",
       "       [243.2,   1. ],\n",
       "       [ 38. ,   1. ],\n",
       "       [ 44.7,   1. ],\n",
       "       [280.7,   1. ],\n",
       "       [121. ,   1. ],\n",
       "       [197.6,   1. ],\n",
       "       [171.3,   1. ],\n",
       "       [187.8,   1. ],\n",
       "       [  4.1,   1. ],\n",
       "       [ 93.9,   1. ],\n",
       "       [149.8,   1. ],\n",
       "       [ 11.7,   1. ],\n",
       "       [131.7,   1. ],\n",
       "       [172.5,   1. ],\n",
       "       [ 85.7,   1. ],\n",
       "       [188.4,   1. ],\n",
       "       [163.5,   1. ],\n",
       "       [117.2,   1. ],\n",
       "       [234.5,   1. ],\n",
       "       [ 17.9,   1. ],\n",
       "       [206.8,   1. ],\n",
       "       [215.4,   1. ],\n",
       "       [284.3,   1. ],\n",
       "       [ 50. ,   1. ],\n",
       "       [164.5,   1. ],\n",
       "       [ 19.6,   1. ],\n",
       "       [168.4,   1. ],\n",
       "       [222.4,   1. ],\n",
       "       [276.9,   1. ],\n",
       "       [248.4,   1. ],\n",
       "       [170.2,   1. ],\n",
       "       [276.7,   1. ],\n",
       "       [165.6,   1. ],\n",
       "       [156.6,   1. ],\n",
       "       [218.5,   1. ],\n",
       "       [ 56.2,   1. ],\n",
       "       [287.6,   1. ],\n",
       "       [253.8,   1. ],\n",
       "       [205. ,   1. ],\n",
       "       [139.5,   1. ],\n",
       "       [191.1,   1. ],\n",
       "       [286. ,   1. ],\n",
       "       [ 18.7,   1. ],\n",
       "       [ 39.5,   1. ],\n",
       "       [ 75.5,   1. ],\n",
       "       [ 17.2,   1. ],\n",
       "       [166.8,   1. ],\n",
       "       [149.7,   1. ],\n",
       "       [ 38.2,   1. ],\n",
       "       [ 94.2,   1. ],\n",
       "       [177. ,   1. ],\n",
       "       [283.6,   1. ],\n",
       "       [232.1,   1. ]])"
      ]
     },
     "execution_count": 837,
     "metadata": {},
     "output_type": "execute_result"
    }
   ],
   "source": [
    "# X=np.hstack((x,(np.ones(x.shape))))\n",
    "# X"
   ]
  },
  {
   "cell_type": "code",
   "execution_count": 838,
   "id": "e37b887f",
   "metadata": {},
   "outputs": [
    {
     "name": "stdout",
     "output_type": "stream",
     "text": [
      "(200, 1)\n",
      "(200, 1)\n"
     ]
    }
   ],
   "source": [
    "print(x.shape)\n",
    "print(y.shape)"
   ]
  },
  {
   "cell_type": "markdown",
   "id": "08c8d13c",
   "metadata": {},
   "source": [
    "### découpage du dataset en dataset d'entrainement et dataset de test"
   ]
  },
  {
   "cell_type": "code",
   "execution_count": 839,
   "id": "9833d3e4",
   "metadata": {},
   "outputs": [
    {
     "name": "stdout",
     "output_type": "stream",
     "text": [
      "(160, 1)\n",
      "(40, 1)\n",
      "(160, 1)\n",
      "(40, 1)\n"
     ]
    }
   ],
   "source": [
    "x_train, x_test, y_train, y_test = train_test_split(x, y, test_size=0.2, random_state=42)\n",
    "print(x_train.shape)\n",
    "print(x_test.shape)\n",
    "print(y_train.shape)\n",
    "print(y_test.shape)"
   ]
  },
  {
   "cell_type": "code",
   "execution_count": 840,
   "id": "850156a8",
   "metadata": {},
   "outputs": [
    {
     "name": "stdout",
     "output_type": "stream",
     "text": [
      "(160, 2)\n",
      "(40, 2)\n",
      "(160, 1)\n",
      "(40, 1)\n"
     ]
    }
   ],
   "source": [
    "X_train=np.hstack((x_train,(np.ones(x_train.shape))))\n",
    "X_test=np.hstack((x_test,(np.ones(x_test.shape))))\n",
    "print(X_train.shape)\n",
    "print(X_test.shape)\n",
    "print(y_train.shape)\n",
    "print(y_test.shape)"
   ]
  },
  {
   "cell_type": "code",
   "execution_count": 841,
   "id": "5bc1ed53",
   "metadata": {},
   "outputs": [
    {
     "name": "stdout",
     "output_type": "stream",
     "text": [
      "Theta: [[1.76405235]\n",
      " [0.40015721]]\n"
     ]
    }
   ],
   "source": [
    "np.random.seed(0) # pour produire toujours le meme vecteur theta aléatoire\n",
    "theta=np.random.randn(2,1)\n",
    "print('Theta:',theta)"
   ]
  },
  {
   "cell_type": "markdown",
   "id": "93c09189",
   "metadata": {},
   "source": [
    "## 2. Modèle Linéaire\n",
    "On implémente un modèle selon l'équation matricielle F=X.θ et puis on teste le modèle initiale défini par la valeur initiale de θ qu'on a initialisé d'une manière aléatoire."
   ]
  },
  {
   "cell_type": "code",
   "execution_count": 842,
   "id": "104b776b",
   "metadata": {},
   "outputs": [],
   "source": [
    "def model(X, theta):\n",
    "    return X.dot(theta)"
   ]
  },
  {
   "cell_type": "code",
   "execution_count": 843,
   "id": "d134a812",
   "metadata": {},
   "outputs": [
    {
     "data": {
      "image/png": "[encoded data removed]",
      "text/plain": [
       "<Figure size 640x480 with 1 Axes>"
      ]
     },
     "metadata": {},
     "output_type": "display_data"
    }
   ],
   "source": [
    "plt.plot(x_train,y_train,'o',label='dataset entraînement')\n",
    "plt.plot(x_train, model(X_train, theta), c='r',label='modèle initial')\n",
    "plt.xlabel('TV')\n",
    "plt.ylabel('Sales')\n",
    "plt.legend()\n",
    "plt.show()"
   ]
  },
  {
   "cell_type": "markdown",
   "id": "d1890cfe",
   "metadata": {},
   "source": [
    "## 3. Fonction coût : Erreur Quadratique Moyenne\n",
    "On mesure les erreurs du modele sur le Dataset X, y en implémenterl'erreur quadratique moyenne, Mean Squared Error (MSE) en anglais."
   ]
  },
  {
   "cell_type": "code",
   "execution_count": 844,
   "id": "758ad5cc",
   "metadata": {},
   "outputs": [],
   "source": [
    "def cost_function(X, y, theta):\n",
    "    m = len(y)\n",
    "    return 1/(2*m) * np.sum((model(X, theta) - y)**2)"
   ]
  },
  {
   "cell_type": "code",
   "execution_count": 845,
   "id": "b742bed5",
   "metadata": {},
   "outputs": [
    {
     "data": {
      "text/plain": [
       "41517.355521861"
      ]
     },
     "execution_count": 845,
     "metadata": {},
     "output_type": "execute_result"
    }
   ],
   "source": [
    "cost_function(X_train, y_train, theta)"
   ]
  },
  {
   "cell_type": "code",
   "execution_count": 846,
   "id": "35ee5f8c",
   "metadata": {},
   "outputs": [],
   "source": [
    "def grad(X, y, theta):\n",
    "    m = len(y)\n",
    "    return 1/m * X.T.dot(model(X, theta) - y)"
   ]
  },
  {
   "cell_type": "code",
   "execution_count": 847,
   "id": "7c46fddd",
   "metadata": {},
   "outputs": [],
   "source": [
    "def gradient_descent(X, y, theta, learning_rate, n_iterations):\n",
    "    \n",
    "    cost_history = np.zeros(n_iterations) # création d'un tableau de stockage pour enregistrer l'évolution du Cout du modele\n",
    "    \n",
    "    for i in range(0, n_iterations):\n",
    "        theta = theta - learning_rate * grad(X, y, theta) # mise a jour du parametre theta (formule du gradient descent)\n",
    "        cost_history[i] = cost_function(X, y, theta) # on enregistre la valeur du Cout au tour i dans cost_history[i]\n",
    "        \n",
    "    return theta, cost_history"
   ]
  },
  {
   "cell_type": "code",
   "execution_count": 848,
   "id": "a8de0aec",
   "metadata": {},
   "outputs": [],
   "source": [
    "n_iterations = 1000000\n",
    "learning_rate = 0.00001\n",
    "\n",
    "theta_final, cost_history = gradient_descent(X_train, y_train, theta, learning_rate, n_iterations)"
   ]
  },
  {
   "cell_type": "markdown",
   "id": "2198ba74",
   "metadata": {},
   "source": [
    "## 4. Phase d'entrainement\n",
    "On définit un nombre d'itérations, ainsi qu'un pas d'apprentissage α. Une fois le modele entrainé, on observe les resultats par rapport a notre Dataset"
   ]
  },
  {
   "cell_type": "code",
   "execution_count": 849,
   "id": "c4126334",
   "metadata": {},
   "outputs": [
    {
     "data": {
      "text/plain": [
       "array([2.05872454e+04, 1.02105810e+04, 5.06607083e+03, ...,\n",
       "       2.54289005e+00, 2.54288984e+00, 2.54288963e+00])"
      ]
     },
     "execution_count": 849,
     "metadata": {},
     "output_type": "execute_result"
    }
   ],
   "source": [
    "cost_history # l'historique de la fonction coût qu'on va afficher par la suite. on remarque que sa valeur déminue et c'est ça l'objectif"
   ]
  },
  {
   "cell_type": "code",
   "execution_count": 850,
   "id": "2ba4bbff",
   "metadata": {},
   "outputs": [
    {
     "data": {
      "text/plain": [
       "array([[0.05854572],\n",
       "       [6.40305225]])"
      ]
     },
     "execution_count": 850,
     "metadata": {},
     "output_type": "execute_result"
    }
   ],
   "source": [
    "theta_final # voici les parametres du modele une fois que la machine a été entrainée"
   ]
  },
  {
   "cell_type": "code",
   "execution_count": 851,
   "id": "d4921d8c",
   "metadata": {},
   "outputs": [
    {
     "data": {
      "text/plain": [
       "array([0.05854572])"
      ]
     },
     "execution_count": 851,
     "metadata": {},
     "output_type": "execute_result"
    }
   ],
   "source": [
    "theta_final[0]"
   ]
  },
  {
   "cell_type": "code",
   "execution_count": 852,
   "id": "912f0827",
   "metadata": {},
   "outputs": [
    {
     "data": {
      "image/png": "[encoded data removed]",
      "text/plain": [
       "<Figure size 640x480 with 1 Axes>"
      ]
     },
     "metadata": {},
     "output_type": "display_data"
    }
   ],
   "source": [
    "plt.plot(x_train,y_train,'o',label='dataset entraînement')\n",
    "plt.plot(x_train, model(X_train, theta_final), c='r',label='modèle final')\n",
    "plt.xlabel('TV')\n",
    "plt.ylabel('Sales')\n",
    "plt.legend()\n",
    "plt.show()"
   ]
  },
  {
   "cell_type": "code",
   "execution_count": 853,
   "id": "bf9ab214",
   "metadata": {},
   "outputs": [
    {
     "data": {
      "image/png": "[encoded data removed]",
      "text/plain": [
       "<Figure size 640x480 with 1 Axes>"
      ]
     },
     "metadata": {},
     "output_type": "display_data"
    }
   ],
   "source": [
    "# création d'un vecteur prédictions qui contient les prédictions de notre modele final\n",
    "predictions = model(X_test, theta_final)\n",
    "\n",
    "# Affichage des résultats de prédictions (en rouge) par rapport a notre Dataset (en bleu)\n",
    "plt.plot(x_test,y_test,'o',label='dataset test')\n",
    "plt.plot(x_test,predictions , c='r',label='prédictions')\n",
    "plt.xlabel('TV')\n",
    "plt.ylabel('Sales')\n",
    "plt.legend()\n",
    "plt.show()"
   ]
  },
  {
   "cell_type": "markdown",
   "id": "36fbfd74",
   "metadata": {},
   "source": [
    "## 5. Courbe d'apprentissage\n",
    "\n",
    "   Pour vérifier si notre algorithme de Descente de gradient a bien fonctionné, on observe l'évolution de la fonction cout a travers les itérations. On est sensé obtenir une courbe qui diminue a chaque itération jusqu'a stagner a un niveau minimal (proche de zéro). Si la courbe ne suit pas ce motif, alors le pas learning_rate est peut-etre trop élevé, il faut prendre un pas plus faible."
   ]
  },
  {
   "cell_type": "code",
   "execution_count": 854,
   "id": "55eee4ca",
   "metadata": {},
   "outputs": [
    {
     "data": {
      "image/png": "[encoded data removed]",
      "text/plain": [
       "<Figure size 640x480 with 1 Axes>"
      ]
     },
     "metadata": {},
     "output_type": "display_data"
    }
   ],
   "source": [
    "plt.plot(range(n_iterations), cost_history)\n",
    "plt.show()"
   ]
  },
  {
   "cell_type": "markdown",
   "id": "76645141",
   "metadata": {},
   "source": [
    "## 6. Evaluation du modèle - Coefficient de détermination\n",
    "\n",
    "   Le coefficient de détermination est un indice de la qualité de la prédiction de la régression linéaire. Le coefficient de détermination se situe entre 0 et 1. Plus il est proche de 1, plus la régression linéaire est en adéquation avec les données collectées"
   ]
  },
  {
   "cell_type": "code",
   "execution_count": 855,
   "id": "fbf75277",
   "metadata": {},
   "outputs": [],
   "source": [
    "def coef_determination(y, pred):\n",
    "    u = ((y - pred)**2).sum()\n",
    "    v = ((y - y.mean())**2).sum()\n",
    "    return 1 - u/v"
   ]
  },
  {
   "cell_type": "code",
   "execution_count": 856,
   "id": "bf3f51a5",
   "metadata": {},
   "outputs": [
    {
     "name": "stdout",
     "output_type": "stream",
     "text": [
      "0.8102276883921964\n"
     ]
    }
   ],
   "source": [
    "predictions = model(X_train, theta_final)\n",
    "tr1 = coef_determination(y_train, predictions) # predictions=model(X_train,theta_final)\n",
    "print(tr1)"
   ]
  },
  {
   "cell_type": "code",
   "execution_count": 857,
   "id": "8bbf17d6",
   "metadata": {},
   "outputs": [
    {
     "name": "stdout",
     "output_type": "stream",
     "text": [
      "0.8005190051199944\n"
     ]
    }
   ],
   "source": [
    "predictions = model(X_test, theta_final)\n",
    "ts1 = coef_determination(y_test, predictions) # predictions=model(X_test,theta_final)\n",
    "print(ts1)"
   ]
  },
  {
   "cell_type": "markdown",
   "id": "dd2cfb1e",
   "metadata": {},
   "source": [
    "# II. Prédire les ventes en fonction des dépenses publicitaires en Radio  ( Sales en fonction Radio)"
   ]
  },
  {
   "cell_type": "code",
   "execution_count": 858,
   "id": "3a936d8c",
   "metadata": {},
   "outputs": [
    {
     "data": {
      "image/png": "[encoded data removed]",
      "text/plain": [
       "<Figure size 640x480 with 1 Axes>"
      ]
     },
     "metadata": {},
     "output_type": "display_data"
    }
   ],
   "source": [
    "plt.plot(dataset[\"Sales\"],dataset[\"Radio\"],'o')\n",
    "plt.xlabel('Radio')\n",
    "plt.ylabel('Sales')\n",
    "plt.show()"
   ]
  },
  {
   "cell_type": "code",
   "execution_count": 859,
   "id": "606f797d",
   "metadata": {},
   "outputs": [
    {
     "data": {
      "text/plain": [
       "(200,)"
      ]
     },
     "execution_count": 859,
     "metadata": {},
     "output_type": "execute_result"
    }
   ],
   "source": [
    "x=dataset.Radio\n",
    "y=dataset.Sales\n",
    "x.shape"
   ]
  },
  {
   "cell_type": "code",
   "execution_count": 860,
   "id": "d3686049",
   "metadata": {},
   "outputs": [
    {
     "data": {
      "text/plain": [
       "array([37.8, 39.3, 45.9, 41.3, 10.8, 48.9, 32.8, 19.6,  2.1,  2.6,  5.8,\n",
       "       24. , 35.1,  7.6, 32.9, 47.7, 36.6, 39.6, 20.5, 23.9, 27.7,  5.1,\n",
       "       15.9, 16.9, 12.6,  3.5, 29.3, 16.7, 27.1, 16. , 28.3, 17.4,  1.5,\n",
       "       20. ,  1.4,  4.1, 43.8, 49.4, 26.7, 37.7, 22.3, 33.4, 27.7,  8.4,\n",
       "       25.7, 22.5,  9.9, 41.5, 15.8, 11.7,  3.1,  9.6, 41.7, 46.2, 28.8,\n",
       "       49.4, 28.1, 19.2, 49.6, 29.5,  2. , 42.7, 15.5, 29.6, 42.8,  9.3,\n",
       "       24.6, 14.5, 27.5, 43.9, 30.6, 14.3, 33. ,  5.7, 24.6, 43.7,  1.6,\n",
       "       28.5, 29.9,  7.7, 26.7,  4.1, 20.3, 44.5, 43. , 18.4, 27.5, 40.6,\n",
       "       25.5, 47.8,  4.9,  1.5, 33.5, 36.5, 14. , 31.6,  3.5, 21. , 42.3,\n",
       "       41.7,  4.3, 36.3, 10.1, 17.2, 34.3, 46.4, 11. ,  0.3,  0.4, 26.9,\n",
       "        8.2, 38. , 15.4, 20.6, 46.8, 35. , 14.3,  0.8, 36.9, 16. , 26.8,\n",
       "       21.7,  2.4, 34.6, 32.3, 11.8, 38.9,  0. , 49. , 12. , 39.6,  2.9,\n",
       "       27.2, 33.5, 38.6, 47. , 39. , 28.9, 25.9, 43.9, 17. , 35.4, 33.2,\n",
       "        5.7, 14.8,  1.9,  7.3, 49. , 40.3, 25.8, 13.9,  8.4, 23.3, 39.7,\n",
       "       21.1, 11.6, 43.5,  1.3, 36.9, 18.4, 18.1, 35.8, 18.1, 36.8, 14.7,\n",
       "        3.4, 37.6,  5.2, 23.6, 10.6, 11.6, 20.9, 20.1,  7.1,  3.4, 48.9,\n",
       "       30.2,  7.8,  2.3, 10. ,  2.6,  5.4,  5.7, 43. , 21.3, 45.1,  2.1,\n",
       "       28.7, 13.9, 12.1, 41.1, 10.8,  4.1, 42. , 35.6,  3.7,  4.9,  9.3,\n",
       "       42. ,  8.6])"
      ]
     },
     "execution_count": 860,
     "metadata": {},
     "output_type": "execute_result"
    }
   ],
   "source": [
    "X=dataset.Radio.values\n",
    "Y=dataset.Sales.values\n",
    "X"
   ]
  },
  {
   "cell_type": "code",
   "execution_count": 861,
   "id": "7c3b250a",
   "metadata": {},
   "outputs": [
    {
     "data": {
      "text/plain": [
       "(200,)"
      ]
     },
     "execution_count": 861,
     "metadata": {},
     "output_type": "execute_result"
    }
   ],
   "source": [
    "X.shape"
   ]
  },
  {
   "cell_type": "code",
   "execution_count": 862,
   "id": "b95f658c",
   "metadata": {},
   "outputs": [],
   "source": [
    "x=dataset.Radio.values.reshape(200,1)\n",
    "y=dataset.Sales.values.reshape(200,1)"
   ]
  },
  {
   "cell_type": "code",
   "execution_count": 863,
   "id": "5c72f23b",
   "metadata": {},
   "outputs": [
    {
     "name": "stdout",
     "output_type": "stream",
     "text": [
      "(200, 1)\n",
      "(200, 1)\n"
     ]
    }
   ],
   "source": [
    "print(x.shape)\n",
    "print(y.shape)"
   ]
  },
  {
   "cell_type": "code",
   "execution_count": 864,
   "id": "02ad8b00",
   "metadata": {},
   "outputs": [
    {
     "data": {
      "text/plain": [
       "array([[37.8,  1. ],\n",
       "       [39.3,  1. ],\n",
       "       [45.9,  1. ],\n",
       "       [41.3,  1. ],\n",
       "       [10.8,  1. ],\n",
       "       [48.9,  1. ],\n",
       "       [32.8,  1. ],\n",
       "       [19.6,  1. ],\n",
       "       [ 2.1,  1. ],\n",
       "       [ 2.6,  1. ],\n",
       "       [ 5.8,  1. ],\n",
       "       [24. ,  1. ],\n",
       "       [35.1,  1. ],\n",
       "       [ 7.6,  1. ],\n",
       "       [32.9,  1. ],\n",
       "       [47.7,  1. ],\n",
       "       [36.6,  1. ],\n",
       "       [39.6,  1. ],\n",
       "       [20.5,  1. ],\n",
       "       [23.9,  1. ],\n",
       "       [27.7,  1. ],\n",
       "       [ 5.1,  1. ],\n",
       "       [15.9,  1. ],\n",
       "       [16.9,  1. ],\n",
       "       [12.6,  1. ],\n",
       "       [ 3.5,  1. ],\n",
       "       [29.3,  1. ],\n",
       "       [16.7,  1. ],\n",
       "       [27.1,  1. ],\n",
       "       [16. ,  1. ],\n",
       "       [28.3,  1. ],\n",
       "       [17.4,  1. ],\n",
       "       [ 1.5,  1. ],\n",
       "       [20. ,  1. ],\n",
       "       [ 1.4,  1. ],\n",
       "       [ 4.1,  1. ],\n",
       "       [43.8,  1. ],\n",
       "       [49.4,  1. ],\n",
       "       [26.7,  1. ],\n",
       "       [37.7,  1. ],\n",
       "       [22.3,  1. ],\n",
       "       [33.4,  1. ],\n",
       "       [27.7,  1. ],\n",
       "       [ 8.4,  1. ],\n",
       "       [25.7,  1. ],\n",
       "       [22.5,  1. ],\n",
       "       [ 9.9,  1. ],\n",
       "       [41.5,  1. ],\n",
       "       [15.8,  1. ],\n",
       "       [11.7,  1. ],\n",
       "       [ 3.1,  1. ],\n",
       "       [ 9.6,  1. ],\n",
       "       [41.7,  1. ],\n",
       "       [46.2,  1. ],\n",
       "       [28.8,  1. ],\n",
       "       [49.4,  1. ],\n",
       "       [28.1,  1. ],\n",
       "       [19.2,  1. ],\n",
       "       [49.6,  1. ],\n",
       "       [29.5,  1. ],\n",
       "       [ 2. ,  1. ],\n",
       "       [42.7,  1. ],\n",
       "       [15.5,  1. ],\n",
       "       [29.6,  1. ],\n",
       "       [42.8,  1. ],\n",
       "       [ 9.3,  1. ],\n",
       "       [24.6,  1. ],\n",
       "       [14.5,  1. ],\n",
       "       [27.5,  1. ],\n",
       "       [43.9,  1. ],\n",
       "       [30.6,  1. ],\n",
       "       [14.3,  1. ],\n",
       "       [33. ,  1. ],\n",
       "       [ 5.7,  1. ],\n",
       "       [24.6,  1. ],\n",
       "       [43.7,  1. ],\n",
       "       [ 1.6,  1. ],\n",
       "       [28.5,  1. ],\n",
       "       [29.9,  1. ],\n",
       "       [ 7.7,  1. ],\n",
       "       [26.7,  1. ],\n",
       "       [ 4.1,  1. ],\n",
       "       [20.3,  1. ],\n",
       "       [44.5,  1. ],\n",
       "       [43. ,  1. ],\n",
       "       [18.4,  1. ],\n",
       "       [27.5,  1. ],\n",
       "       [40.6,  1. ],\n",
       "       [25.5,  1. ],\n",
       "       [47.8,  1. ],\n",
       "       [ 4.9,  1. ],\n",
       "       [ 1.5,  1. ],\n",
       "       [33.5,  1. ],\n",
       "       [36.5,  1. ],\n",
       "       [14. ,  1. ],\n",
       "       [31.6,  1. ],\n",
       "       [ 3.5,  1. ],\n",
       "       [21. ,  1. ],\n",
       "       [42.3,  1. ],\n",
       "       [41.7,  1. ],\n",
       "       [ 4.3,  1. ],\n",
       "       [36.3,  1. ],\n",
       "       [10.1,  1. ],\n",
       "       [17.2,  1. ],\n",
       "       [34.3,  1. ],\n",
       "       [46.4,  1. ],\n",
       "       [11. ,  1. ],\n",
       "       [ 0.3,  1. ],\n",
       "       [ 0.4,  1. ],\n",
       "       [26.9,  1. ],\n",
       "       [ 8.2,  1. ],\n",
       "       [38. ,  1. ],\n",
       "       [15.4,  1. ],\n",
       "       [20.6,  1. ],\n",
       "       [46.8,  1. ],\n",
       "       [35. ,  1. ],\n",
       "       [14.3,  1. ],\n",
       "       [ 0.8,  1. ],\n",
       "       [36.9,  1. ],\n",
       "       [16. ,  1. ],\n",
       "       [26.8,  1. ],\n",
       "       [21.7,  1. ],\n",
       "       [ 2.4,  1. ],\n",
       "       [34.6,  1. ],\n",
       "       [32.3,  1. ],\n",
       "       [11.8,  1. ],\n",
       "       [38.9,  1. ],\n",
       "       [ 0. ,  1. ],\n",
       "       [49. ,  1. ],\n",
       "       [12. ,  1. ],\n",
       "       [39.6,  1. ],\n",
       "       [ 2.9,  1. ],\n",
       "       [27.2,  1. ],\n",
       "       [33.5,  1. ],\n",
       "       [38.6,  1. ],\n",
       "       [47. ,  1. ],\n",
       "       [39. ,  1. ],\n",
       "       [28.9,  1. ],\n",
       "       [25.9,  1. ],\n",
       "       [43.9,  1. ],\n",
       "       [17. ,  1. ],\n",
       "       [35.4,  1. ],\n",
       "       [33.2,  1. ],\n",
       "       [ 5.7,  1. ],\n",
       "       [14.8,  1. ],\n",
       "       [ 1.9,  1. ],\n",
       "       [ 7.3,  1. ],\n",
       "       [49. ,  1. ],\n",
       "       [40.3,  1. ],\n",
       "       [25.8,  1. ],\n",
       "       [13.9,  1. ],\n",
       "       [ 8.4,  1. ],\n",
       "       [23.3,  1. ],\n",
       "       [39.7,  1. ],\n",
       "       [21.1,  1. ],\n",
       "       [11.6,  1. ],\n",
       "       [43.5,  1. ],\n",
       "       [ 1.3,  1. ],\n",
       "       [36.9,  1. ],\n",
       "       [18.4,  1. ],\n",
       "       [18.1,  1. ],\n",
       "       [35.8,  1. ],\n",
       "       [18.1,  1. ],\n",
       "       [36.8,  1. ],\n",
       "       [14.7,  1. ],\n",
       "       [ 3.4,  1. ],\n",
       "       [37.6,  1. ],\n",
       "       [ 5.2,  1. ],\n",
       "       [23.6,  1. ],\n",
       "       [10.6,  1. ],\n",
       "       [11.6,  1. ],\n",
       "       [20.9,  1. ],\n",
       "       [20.1,  1. ],\n",
       "       [ 7.1,  1. ],\n",
       "       [ 3.4,  1. ],\n",
       "       [48.9,  1. ],\n",
       "       [30.2,  1. ],\n",
       "       [ 7.8,  1. ],\n",
       "       [ 2.3,  1. ],\n",
       "       [10. ,  1. ],\n",
       "       [ 2.6,  1. ],\n",
       "       [ 5.4,  1. ],\n",
       "       [ 5.7,  1. ],\n",
       "       [43. ,  1. ],\n",
       "       [21.3,  1. ],\n",
       "       [45.1,  1. ],\n",
       "       [ 2.1,  1. ],\n",
       "       [28.7,  1. ],\n",
       "       [13.9,  1. ],\n",
       "       [12.1,  1. ],\n",
       "       [41.1,  1. ],\n",
       "       [10.8,  1. ],\n",
       "       [ 4.1,  1. ],\n",
       "       [42. ,  1. ],\n",
       "       [35.6,  1. ],\n",
       "       [ 3.7,  1. ],\n",
       "       [ 4.9,  1. ],\n",
       "       [ 9.3,  1. ],\n",
       "       [42. ,  1. ],\n",
       "       [ 8.6,  1. ]])"
      ]
     },
     "execution_count": 864,
     "metadata": {},
     "output_type": "execute_result"
    }
   ],
   "source": [
    "X=np.hstack((x,(np.ones(x.shape))))\n",
    "X"
   ]
  },
  {
   "cell_type": "code",
   "execution_count": 865,
   "id": "c751eaca",
   "metadata": {},
   "outputs": [
    {
     "name": "stdout",
     "output_type": "stream",
     "text": [
      "(200, 1)\n",
      "(200, 1)\n"
     ]
    }
   ],
   "source": [
    "print(x.shape)\n",
    "print(y.shape)"
   ]
  },
  {
   "cell_type": "code",
   "execution_count": 866,
   "id": "9ac54626",
   "metadata": {},
   "outputs": [
    {
     "name": "stdout",
     "output_type": "stream",
     "text": [
      "(160, 1)\n",
      "(40, 1)\n",
      "(160, 1)\n",
      "(40, 1)\n"
     ]
    }
   ],
   "source": [
    "x_train, x_test, y_train, y_test = train_test_split(x, y, test_size=0.2, random_state=42)\n",
    "print(x_train.shape)\n",
    "print(x_test.shape)\n",
    "print(y_train.shape)\n",
    "print(y_test.shape)"
   ]
  },
  {
   "cell_type": "code",
   "execution_count": 867,
   "id": "8593f560",
   "metadata": {},
   "outputs": [
    {
     "name": "stdout",
     "output_type": "stream",
     "text": [
      "(160, 2)\n",
      "(40, 2)\n",
      "(160, 1)\n",
      "(40, 1)\n"
     ]
    }
   ],
   "source": [
    "X_train=np.hstack((x_train,(np.ones(x_train.shape))))\n",
    "X_test=np.hstack((x_test,(np.ones(x_test.shape))))\n",
    "print(X_train.shape)\n",
    "print(X_test.shape)\n",
    "print(y_train.shape)\n",
    "print(y_test.shape)"
   ]
  },
  {
   "cell_type": "markdown",
   "id": "08b9b220",
   "metadata": {},
   "source": [
    "## 2. Modèle Linéaire\n",
    "On implémente un modèle selon l'équation matricielle F=X.θ et puis on teste le modèle initiale défini par la valeur initiale de θ qu'on a initialisé d'une manière aléatoire."
   ]
  },
  {
   "cell_type": "code",
   "execution_count": 868,
   "id": "eafd4d0b",
   "metadata": {},
   "outputs": [],
   "source": [
    "def model(X, theta):\n",
    "    return X.dot(theta)"
   ]
  },
  {
   "cell_type": "code",
   "execution_count": 869,
   "id": "0e563b65",
   "metadata": {},
   "outputs": [
    {
     "data": {
      "image/png": "[encoded data removed]",
      "text/plain": [
       "<Figure size 640x480 with 1 Axes>"
      ]
     },
     "metadata": {},
     "output_type": "display_data"
    }
   ],
   "source": [
    "plt.plot(x_train,y_train,'o',label='dataset entraînement')\n",
    "plt.plot(x_train, model(X_train, theta), c='r',label='modèle initial')\n",
    "plt.xlabel('Radio')\n",
    "plt.ylabel('Sales')\n",
    "plt.legend()\n",
    "plt.show()"
   ]
  },
  {
   "cell_type": "markdown",
   "id": "d5fd06f9",
   "metadata": {},
   "source": [
    "## 3. Fonction coût : Erreur Quadratique Moyenne\n",
    "On mesure les erreurs du modele sur le Dataset X, y en implémenterl'erreur quadratique moyenne, Mean Squared Error (MSE) en anglais."
   ]
  },
  {
   "cell_type": "code",
   "execution_count": 870,
   "id": "38ab605a",
   "metadata": {},
   "outputs": [],
   "source": [
    "def cost_function(X, y, theta):\n",
    "    m = len(y)\n",
    "    return 1/(2*m) * np.sum((model(X, theta) - y)**2)"
   ]
  },
  {
   "cell_type": "code",
   "execution_count": 871,
   "id": "57075672",
   "metadata": {},
   "outputs": [
    {
     "data": {
      "text/plain": [
       "629.3835846941762"
      ]
     },
     "execution_count": 871,
     "metadata": {},
     "output_type": "execute_result"
    }
   ],
   "source": [
    "cost_function(X_train, y_train, theta)"
   ]
  },
  {
   "cell_type": "code",
   "execution_count": 872,
   "id": "694fe089",
   "metadata": {},
   "outputs": [],
   "source": [
    "def grad(X, y, theta):\n",
    "    m = len(y)\n",
    "    return 1/m * X.T.dot(model(X, theta) - y)"
   ]
  },
  {
   "cell_type": "code",
   "execution_count": 873,
   "id": "4e6b025d",
   "metadata": {},
   "outputs": [],
   "source": [
    "def gradient_descent(X, y, theta, learning_rate, n_iterations):\n",
    "    \n",
    "    cost_history = np.zeros(n_iterations) # création d'un tableau de stockage pour enregistrer l'évolution du Cout du modele\n",
    "    \n",
    "    for i in range(0, n_iterations):\n",
    "        theta = theta - learning_rate * grad(X, y, theta) # mise a jour du parametre theta (formule du gradient descent)\n",
    "        cost_history[i] = cost_function(X, y, theta) # on enregistre la valeur du Cout au tour i dans cost_history[i]\n",
    "        \n",
    "    return theta, cost_history"
   ]
  },
  {
   "cell_type": "code",
   "execution_count": 874,
   "id": "d75838ef",
   "metadata": {},
   "outputs": [],
   "source": [
    "n_iterations = 1000000\n",
    "learning_rate = 0.00001\n",
    "\n",
    "theta_final, cost_history = gradient_descent(X_train, y_train, theta, learning_rate, n_iterations)"
   ]
  },
  {
   "cell_type": "markdown",
   "id": "59f63701",
   "metadata": {},
   "source": [
    "## 4. Phase d'entrainement\n",
    "On définit un nombre d'itérations, ainsi qu'un pas d'apprentissage α. Une fois le modele entrainé, on observe les resultats par rapport a notre Dataset"
   ]
  },
  {
   "cell_type": "code",
   "execution_count": 875,
   "id": "36869b99",
   "metadata": {},
   "outputs": [
    {
     "data": {
      "text/plain": [
       "array([620.5797391 , 611.90602538, 603.36052   , ...,  11.89314942,\n",
       "        11.89314906,  11.8931487 ])"
      ]
     },
     "execution_count": 875,
     "metadata": {},
     "output_type": "execute_result"
    }
   ],
   "source": [
    "cost_history # l'historique de la fonction coût qu'on va afficher par la suite. on remarque que sa valeur déminue et c'est ça l'objectif"
   ]
  },
  {
   "cell_type": "code",
   "execution_count": 876,
   "id": "ea6e3891",
   "metadata": {},
   "outputs": [
    {
     "data": {
      "text/plain": [
       "array([[ 0.14002984],\n",
       "       [11.93689611]])"
      ]
     },
     "execution_count": 876,
     "metadata": {},
     "output_type": "execute_result"
    }
   ],
   "source": [
    "theta_final # voici les parametres du modele une fois que la machine a été entrainée"
   ]
  },
  {
   "cell_type": "code",
   "execution_count": 877,
   "id": "9c76a624",
   "metadata": {},
   "outputs": [
    {
     "data": {
      "text/plain": [
       "array([0.14002984])"
      ]
     },
     "execution_count": 877,
     "metadata": {},
     "output_type": "execute_result"
    }
   ],
   "source": [
    "theta_final[0]"
   ]
  },
  {
   "cell_type": "code",
   "execution_count": 878,
   "id": "60c8c8e6",
   "metadata": {},
   "outputs": [
    {
     "data": {
      "image/png": "[encoded data removed]",
      "text/plain": [
       "<Figure size 640x480 with 1 Axes>"
      ]
     },
     "metadata": {},
     "output_type": "display_data"
    }
   ],
   "source": [
    "plt.plot(x_train,y_train,'o',label='dataset entraînement')\n",
    "plt.plot(x_train, model(X_train, theta_final), c='r',label='modèle final')\n",
    "plt.xlabel('Radio')\n",
    "plt.ylabel('Sales')\n",
    "plt.legend()\n",
    "plt.show()"
   ]
  },
  {
   "cell_type": "code",
   "execution_count": 879,
   "id": "29429e77",
   "metadata": {},
   "outputs": [
    {
     "data": {
      "image/png": "[encoded data removed]",
      "text/plain": [
       "<Figure size 640x480 with 1 Axes>"
      ]
     },
     "metadata": {},
     "output_type": "display_data"
    }
   ],
   "source": [
    "# création d'un vecteur prédictions qui contient les prédictions de notre modele final\n",
    "predictions = model(X_test, theta_final)\n",
    "\n",
    "# Affichage des résultats de prédictions (en rouge) par rapport a notre Dataset (en bleu)\n",
    "plt.plot(x_test,y_test,'o',label='dataset test')\n",
    "plt.plot(x_test,predictions , c='r',label='prédictions')\n",
    "plt.xlabel('Radio')\n",
    "plt.ylabel('Sales')\n",
    "plt.legend()\n",
    "plt.show()"
   ]
  },
  {
   "cell_type": "markdown",
   "id": "2f4cad85",
   "metadata": {},
   "source": [
    "## 5. Courbe d'apprentissage\n",
    "\n",
    "   Pour vérifier si notre algorithme de Descente de gradient a bien fonctionné, on observe l'évolution de la fonction cout a travers les itérations. On est sensé obtenir une courbe qui diminue a chaque itération jusqu'a stagner a un niveau minimal (proche de zéro). Si la courbe ne suit pas ce motif, alors le pas learning_rate est peut-etre trop élevé, il faut prendre un pas plus faible."
   ]
  },
  {
   "cell_type": "code",
   "execution_count": 880,
   "id": "9e48c724",
   "metadata": {},
   "outputs": [
    {
     "data": {
      "image/png": "[encoded data removed]",
      "text/plain": [
       "<Figure size 640x480 with 1 Axes>"
      ]
     },
     "metadata": {},
     "output_type": "display_data"
    }
   ],
   "source": [
    "plt.plot(range(n_iterations), cost_history)\n",
    "plt.show()"
   ]
  },
  {
   "cell_type": "markdown",
   "id": "318787cc",
   "metadata": {},
   "source": [
    "## 6. Evaluation du modèle - Coefficient de détermination\n",
    "\n",
    "   Le coefficient de détermination est un indice de la qualité de la prédiction de la régression linéaire. Le coefficient de détermination se situe entre 0 et 1. Plus il est proche de 1, plus la régression linéaire est en adéquation avec les données collectées"
   ]
  },
  {
   "cell_type": "code",
   "execution_count": 881,
   "id": "410fbe1e",
   "metadata": {},
   "outputs": [],
   "source": [
    "def coef_determination(y, pred):\n",
    "    u = ((y - pred)**2).sum()\n",
    "    v = ((y - y.mean())**2).sum()\n",
    "    return 1 - u/v"
   ]
  },
  {
   "cell_type": "code",
   "execution_count": 882,
   "id": "842a7e62",
   "metadata": {},
   "outputs": [
    {
     "name": "stdout",
     "output_type": "stream",
     "text": [
      "0.11243087789278261\n"
     ]
    }
   ],
   "source": [
    "predictions = model(X_train, theta_final)\n",
    "tr2 = coef_determination(y_train, predictions) # predictions=model(X_train,theta_final)\n",
    "print(tr2)"
   ]
  },
  {
   "cell_type": "code",
   "execution_count": 883,
   "id": "6bb36fdf",
   "metadata": {},
   "outputs": [
    {
     "name": "stdout",
     "output_type": "stream",
     "text": [
      "0.12422588638376608\n"
     ]
    }
   ],
   "source": [
    "predictions = model(X_test, theta_final)\n",
    "ts2 = coef_determination(y_test, predictions) # predictions=model(X_test,theta_final)\n",
    "print(ts2)"
   ]
  },
  {
   "cell_type": "markdown",
   "id": "3b8347aa",
   "metadata": {},
   "source": [
    "# III. Prédire les ventes en fonction des dépenses publicitaires en Newspaper  ( Sales en fonction Newspaper)"
   ]
  },
  {
   "cell_type": "code",
   "execution_count": 884,
   "id": "28de8c9e",
   "metadata": {},
   "outputs": [
    {
     "data": {
      "image/png": "[encoded data removed]",
      "text/plain": [
       "<Figure size 640x480 with 1 Axes>"
      ]
     },
     "metadata": {},
     "output_type": "display_data"
    }
   ],
   "source": [
    "plt.plot(dataset[\"Sales\"],dataset[\"Newspaper\"],'o')\n",
    "plt.xlabel('Newspaper')\n",
    "plt.ylabel('Sales')\n",
    "plt.show()"
   ]
  },
  {
   "cell_type": "code",
   "execution_count": 885,
   "id": "22169427",
   "metadata": {},
   "outputs": [
    {
     "data": {
      "text/plain": [
       "(200,)"
      ]
     },
     "execution_count": 885,
     "metadata": {},
     "output_type": "execute_result"
    }
   ],
   "source": [
    "x=dataset.Newspaper\n",
    "y=dataset.Sales\n",
    "x.shape"
   ]
  },
  {
   "cell_type": "code",
   "execution_count": 886,
   "id": "a0085ac4",
   "metadata": {},
   "outputs": [
    {
     "data": {
      "text/plain": [
       "array([ 69.2,  45.1,  69.3,  58.5,  58.4,  75. ,  23.5,  11.6,   1. ,\n",
       "        21.2,  24.2,   4. ,  65.9,   7.2,  46. ,  52.9, 114. ,  55.8,\n",
       "        18.3,  19.1,  53.4,  23.5,  49.6,  26.2,  18.3,  19.5,  12.6,\n",
       "        22.9,  22.9,  40.8,  43.2,  38.6,  30. ,   0.3,   7.4,   8.5,\n",
       "         5. ,  45.7,  35.1,  32. ,  31.6,  38.7,   1.8,  26.4,  43.3,\n",
       "        31.5,  35.7,  18.5,  49.9,  36.8,  34.6,   3.6,  39.6,  58.7,\n",
       "        15.9,  60. ,  41.4,  16.6,  37.7,   9.3,  21.4,  54.7,  27.3,\n",
       "         8.4,  28.9,   0.9,   2.2,  10.2,  11. ,  27.2,  38.7,  31.7,\n",
       "        19.3,  31.3,  13.1,  89.4,  20.7,  14.2,   9.4,  23.1,  22.3,\n",
       "        36.9,  32.5,  35.6,  33.8,  65.7,  16. ,  63.2,  73.4,  51.4,\n",
       "         9.3,  33. ,  59. ,  72.3,  10.9,  52.9,   5.9,  22. ,  51.2,\n",
       "        45.9,  49.8, 100.9,  21.4,  17.9,   5.3,  59. ,  29.7,  23.2,\n",
       "        25.6,   5.5,  56.5,  23.2,   2.4,  10.7,  34.5,  52.7,  25.6,\n",
       "        14.8,  79.2,  22.3,  46.2,  50.4,  15.6,  12.4,  74.2,  25.9,\n",
       "        50.6,   9.2,   3.2,  43.1,   8.7,  43. ,   2.1,  45.1,  65.6,\n",
       "         8.5,   9.3,  59.7,  20.5,   1.7,  12.9,  75.6,  37.9,  34.4,\n",
       "        38.9,   9. ,   8.7,  44.3,  11.9,  20.6,  37. ,  48.7,  14.2,\n",
       "        37.7,   9.5,   5.7,  50.5,  24.3,  45.2,  34.6,  30.7,  49.3,\n",
       "        25.6,   7.4,   5.4,  84.8,  21.6,  19.4,  57.6,   6.4,  18.4,\n",
       "        47.4,  17. ,  12.8,  13.1,  41.8,  20.3,  35.2,  23.7,  17.6,\n",
       "         8.3,  27.4,  29.7,  71.8,  30. ,  19.6,  26.6,  18.2,   3.7,\n",
       "        23.4,   5.8,   6. ,  31.6,   3.6,   6. ,  13.8,   8.1,   6.4,\n",
       "        66.2,   8.7])"
      ]
     },
     "execution_count": 886,
     "metadata": {},
     "output_type": "execute_result"
    }
   ],
   "source": [
    "X=dataset.Newspaper.values\n",
    "Y=dataset.Sales.values\n",
    "X"
   ]
  },
  {
   "cell_type": "code",
   "execution_count": 887,
   "id": "06987930",
   "metadata": {},
   "outputs": [
    {
     "data": {
      "text/plain": [
       "(200,)"
      ]
     },
     "execution_count": 887,
     "metadata": {},
     "output_type": "execute_result"
    }
   ],
   "source": [
    "X.shape"
   ]
  },
  {
   "cell_type": "code",
   "execution_count": 890,
   "id": "f37dec1a",
   "metadata": {},
   "outputs": [],
   "source": [
    "x=dataset.Newspaper.values.reshape(200,1)\n",
    "y=dataset.Sales.values.reshape(200,1)"
   ]
  },
  {
   "cell_type": "code",
   "execution_count": 891,
   "id": "58bcf530",
   "metadata": {},
   "outputs": [
    {
     "name": "stdout",
     "output_type": "stream",
     "text": [
      "(200, 1)\n",
      "(200, 1)\n"
     ]
    }
   ],
   "source": [
    "print(x.shape)\n",
    "print(y.shape)"
   ]
  },
  {
   "cell_type": "code",
   "execution_count": 892,
   "id": "e0b52004",
   "metadata": {
    "scrolled": true
   },
   "outputs": [
    {
     "data": {
      "text/plain": [
       "array([[ 69.2,   1. ],\n",
       "       [ 45.1,   1. ],\n",
       "       [ 69.3,   1. ],\n",
       "       [ 58.5,   1. ],\n",
       "       [ 58.4,   1. ],\n",
       "       [ 75. ,   1. ],\n",
       "       [ 23.5,   1. ],\n",
       "       [ 11.6,   1. ],\n",
       "       [  1. ,   1. ],\n",
       "       [ 21.2,   1. ],\n",
       "       [ 24.2,   1. ],\n",
       "       [  4. ,   1. ],\n",
       "       [ 65.9,   1. ],\n",
       "       [  7.2,   1. ],\n",
       "       [ 46. ,   1. ],\n",
       "       [ 52.9,   1. ],\n",
       "       [114. ,   1. ],\n",
       "       [ 55.8,   1. ],\n",
       "       [ 18.3,   1. ],\n",
       "       [ 19.1,   1. ],\n",
       "       [ 53.4,   1. ],\n",
       "       [ 23.5,   1. ],\n",
       "       [ 49.6,   1. ],\n",
       "       [ 26.2,   1. ],\n",
       "       [ 18.3,   1. ],\n",
       "       [ 19.5,   1. ],\n",
       "       [ 12.6,   1. ],\n",
       "       [ 22.9,   1. ],\n",
       "       [ 22.9,   1. ],\n",
       "       [ 40.8,   1. ],\n",
       "       [ 43.2,   1. ],\n",
       "       [ 38.6,   1. ],\n",
       "       [ 30. ,   1. ],\n",
       "       [  0.3,   1. ],\n",
       "       [  7.4,   1. ],\n",
       "       [  8.5,   1. ],\n",
       "       [  5. ,   1. ],\n",
       "       [ 45.7,   1. ],\n",
       "       [ 35.1,   1. ],\n",
       "       [ 32. ,   1. ],\n",
       "       [ 31.6,   1. ],\n",
       "       [ 38.7,   1. ],\n",
       "       [  1.8,   1. ],\n",
       "       [ 26.4,   1. ],\n",
       "       [ 43.3,   1. ],\n",
       "       [ 31.5,   1. ],\n",
       "       [ 35.7,   1. ],\n",
       "       [ 18.5,   1. ],\n",
       "       [ 49.9,   1. ],\n",
       "       [ 36.8,   1. ],\n",
       "       [ 34.6,   1. ],\n",
       "       [  3.6,   1. ],\n",
       "       [ 39.6,   1. ],\n",
       "       [ 58.7,   1. ],\n",
       "       [ 15.9,   1. ],\n",
       "       [ 60. ,   1. ],\n",
       "       [ 41.4,   1. ],\n",
       "       [ 16.6,   1. ],\n",
       "       [ 37.7,   1. ],\n",
       "       [  9.3,   1. ],\n",
       "       [ 21.4,   1. ],\n",
       "       [ 54.7,   1. ],\n",
       "       [ 27.3,   1. ],\n",
       "       [  8.4,   1. ],\n",
       "       [ 28.9,   1. ],\n",
       "       [  0.9,   1. ],\n",
       "       [  2.2,   1. ],\n",
       "       [ 10.2,   1. ],\n",
       "       [ 11. ,   1. ],\n",
       "       [ 27.2,   1. ],\n",
       "       [ 38.7,   1. ],\n",
       "       [ 31.7,   1. ],\n",
       "       [ 19.3,   1. ],\n",
       "       [ 31.3,   1. ],\n",
       "       [ 13.1,   1. ],\n",
       "       [ 89.4,   1. ],\n",
       "       [ 20.7,   1. ],\n",
       "       [ 14.2,   1. ],\n",
       "       [  9.4,   1. ],\n",
       "       [ 23.1,   1. ],\n",
       "       [ 22.3,   1. ],\n",
       "       [ 36.9,   1. ],\n",
       "       [ 32.5,   1. ],\n",
       "       [ 35.6,   1. ],\n",
       "       [ 33.8,   1. ],\n",
       "       [ 65.7,   1. ],\n",
       "       [ 16. ,   1. ],\n",
       "       [ 63.2,   1. ],\n",
       "       [ 73.4,   1. ],\n",
       "       [ 51.4,   1. ],\n",
       "       [  9.3,   1. ],\n",
       "       [ 33. ,   1. ],\n",
       "       [ 59. ,   1. ],\n",
       "       [ 72.3,   1. ],\n",
       "       [ 10.9,   1. ],\n",
       "       [ 52.9,   1. ],\n",
       "       [  5.9,   1. ],\n",
       "       [ 22. ,   1. ],\n",
       "       [ 51.2,   1. ],\n",
       "       [ 45.9,   1. ],\n",
       "       [ 49.8,   1. ],\n",
       "       [100.9,   1. ],\n",
       "       [ 21.4,   1. ],\n",
       "       [ 17.9,   1. ],\n",
       "       [  5.3,   1. ],\n",
       "       [ 59. ,   1. ],\n",
       "       [ 29.7,   1. ],\n",
       "       [ 23.2,   1. ],\n",
       "       [ 25.6,   1. ],\n",
       "       [  5.5,   1. ],\n",
       "       [ 56.5,   1. ],\n",
       "       [ 23.2,   1. ],\n",
       "       [  2.4,   1. ],\n",
       "       [ 10.7,   1. ],\n",
       "       [ 34.5,   1. ],\n",
       "       [ 52.7,   1. ],\n",
       "       [ 25.6,   1. ],\n",
       "       [ 14.8,   1. ],\n",
       "       [ 79.2,   1. ],\n",
       "       [ 22.3,   1. ],\n",
       "       [ 46.2,   1. ],\n",
       "       [ 50.4,   1. ],\n",
       "       [ 15.6,   1. ],\n",
       "       [ 12.4,   1. ],\n",
       "       [ 74.2,   1. ],\n",
       "       [ 25.9,   1. ],\n",
       "       [ 50.6,   1. ],\n",
       "       [  9.2,   1. ],\n",
       "       [  3.2,   1. ],\n",
       "       [ 43.1,   1. ],\n",
       "       [  8.7,   1. ],\n",
       "       [ 43. ,   1. ],\n",
       "       [  2.1,   1. ],\n",
       "       [ 45.1,   1. ],\n",
       "       [ 65.6,   1. ],\n",
       "       [  8.5,   1. ],\n",
       "       [  9.3,   1. ],\n",
       "       [ 59.7,   1. ],\n",
       "       [ 20.5,   1. ],\n",
       "       [  1.7,   1. ],\n",
       "       [ 12.9,   1. ],\n",
       "       [ 75.6,   1. ],\n",
       "       [ 37.9,   1. ],\n",
       "       [ 34.4,   1. ],\n",
       "       [ 38.9,   1. ],\n",
       "       [  9. ,   1. ],\n",
       "       [  8.7,   1. ],\n",
       "       [ 44.3,   1. ],\n",
       "       [ 11.9,   1. ],\n",
       "       [ 20.6,   1. ],\n",
       "       [ 37. ,   1. ],\n",
       "       [ 48.7,   1. ],\n",
       "       [ 14.2,   1. ],\n",
       "       [ 37.7,   1. ],\n",
       "       [  9.5,   1. ],\n",
       "       [  5.7,   1. ],\n",
       "       [ 50.5,   1. ],\n",
       "       [ 24.3,   1. ],\n",
       "       [ 45.2,   1. ],\n",
       "       [ 34.6,   1. ],\n",
       "       [ 30.7,   1. ],\n",
       "       [ 49.3,   1. ],\n",
       "       [ 25.6,   1. ],\n",
       "       [  7.4,   1. ],\n",
       "       [  5.4,   1. ],\n",
       "       [ 84.8,   1. ],\n",
       "       [ 21.6,   1. ],\n",
       "       [ 19.4,   1. ],\n",
       "       [ 57.6,   1. ],\n",
       "       [  6.4,   1. ],\n",
       "       [ 18.4,   1. ],\n",
       "       [ 47.4,   1. ],\n",
       "       [ 17. ,   1. ],\n",
       "       [ 12.8,   1. ],\n",
       "       [ 13.1,   1. ],\n",
       "       [ 41.8,   1. ],\n",
       "       [ 20.3,   1. ],\n",
       "       [ 35.2,   1. ],\n",
       "       [ 23.7,   1. ],\n",
       "       [ 17.6,   1. ],\n",
       "       [  8.3,   1. ],\n",
       "       [ 27.4,   1. ],\n",
       "       [ 29.7,   1. ],\n",
       "       [ 71.8,   1. ],\n",
       "       [ 30. ,   1. ],\n",
       "       [ 19.6,   1. ],\n",
       "       [ 26.6,   1. ],\n",
       "       [ 18.2,   1. ],\n",
       "       [  3.7,   1. ],\n",
       "       [ 23.4,   1. ],\n",
       "       [  5.8,   1. ],\n",
       "       [  6. ,   1. ],\n",
       "       [ 31.6,   1. ],\n",
       "       [  3.6,   1. ],\n",
       "       [  6. ,   1. ],\n",
       "       [ 13.8,   1. ],\n",
       "       [  8.1,   1. ],\n",
       "       [  6.4,   1. ],\n",
       "       [ 66.2,   1. ],\n",
       "       [  8.7,   1. ]])"
      ]
     },
     "execution_count": 892,
     "metadata": {},
     "output_type": "execute_result"
    }
   ],
   "source": [
    "X=np.hstack((x,(np.ones(x.shape))))\n",
    "X"
   ]
  },
  {
   "cell_type": "code",
   "execution_count": 893,
   "id": "ad4110c9",
   "metadata": {},
   "outputs": [
    {
     "name": "stdout",
     "output_type": "stream",
     "text": [
      "(200, 1)\n",
      "(200, 1)\n"
     ]
    }
   ],
   "source": [
    "print(x.shape)\n",
    "print(y.shape)"
   ]
  },
  {
   "cell_type": "code",
   "execution_count": 894,
   "id": "d9462327",
   "metadata": {},
   "outputs": [
    {
     "name": "stdout",
     "output_type": "stream",
     "text": [
      "(160, 1)\n",
      "(40, 1)\n",
      "(160, 1)\n",
      "(40, 1)\n"
     ]
    }
   ],
   "source": [
    "x_train, x_test, y_train, y_test = train_test_split(x, y, test_size=0.2, random_state=42)\n",
    "print(x_train.shape)\n",
    "print(x_test.shape)\n",
    "print(y_train.shape)\n",
    "print(y_test.shape)"
   ]
  },
  {
   "cell_type": "code",
   "execution_count": 895,
   "id": "23c7b66a",
   "metadata": {},
   "outputs": [
    {
     "name": "stdout",
     "output_type": "stream",
     "text": [
      "(160, 2)\n",
      "(40, 2)\n",
      "(160, 1)\n",
      "(40, 1)\n"
     ]
    }
   ],
   "source": [
    "X_train=np.hstack((x_train,(np.ones(x_train.shape))))\n",
    "X_test=np.hstack((x_test,(np.ones(x_test.shape))))\n",
    "print(X_train.shape)\n",
    "print(X_test.shape)\n",
    "print(y_train.shape)\n",
    "print(y_test.shape)"
   ]
  },
  {
   "cell_type": "markdown",
   "id": "a068b054",
   "metadata": {},
   "source": [
    "## 2. Modèle Linéaire\n",
    "On implémente un modèle selon l'équation matricielle F=X.θ et puis on teste le modèle initiale défini par la valeur initiale de θ qu'on a initialisé d'une manière aléatoire."
   ]
  },
  {
   "cell_type": "code",
   "execution_count": 896,
   "id": "d622ac0b",
   "metadata": {},
   "outputs": [],
   "source": [
    "def model(X, theta):\n",
    "    return X.dot(theta)"
   ]
  },
  {
   "cell_type": "code",
   "execution_count": 897,
   "id": "af9b4ee2",
   "metadata": {},
   "outputs": [
    {
     "data": {
      "image/png": "[encoded data removed]",
      "text/plain": [
       "<Figure size 640x480 with 1 Axes>"
      ]
     },
     "metadata": {},
     "output_type": "display_data"
    }
   ],
   "source": [
    "plt.plot(x_train,y_train,'o',label='dataset entraînement')\n",
    "plt.plot(x_train, model(X_train, theta), c='r',label='modèle initial')\n",
    "plt.xlabel('Newspaper')\n",
    "plt.ylabel('Sales')\n",
    "plt.legend()\n",
    "plt.show()"
   ]
  },
  {
   "cell_type": "markdown",
   "id": "6eff3ac0",
   "metadata": {},
   "source": [
    "## 3. Fonction coût : Erreur Quadratique Moyenne\n",
    "On mesure les erreurs du modele sur le Dataset X, y en implémenterl'erreur quadratique moyenne, Mean Squared Error (MSE) en anglais."
   ]
  },
  {
   "cell_type": "code",
   "execution_count": 898,
   "id": "804fe87d",
   "metadata": {},
   "outputs": [],
   "source": [
    "def cost_function(X, y, theta):\n",
    "    m = len(y)\n",
    "    return 1/(2*m) * np.sum((model(X, theta) - y)**2)"
   ]
  },
  {
   "cell_type": "code",
   "execution_count": 899,
   "id": "129de16e",
   "metadata": {},
   "outputs": [
    {
     "data": {
      "text/plain": [
       "1343.940872753667"
      ]
     },
     "execution_count": 899,
     "metadata": {},
     "output_type": "execute_result"
    }
   ],
   "source": [
    "cost_function(X_train, y_train, theta)"
   ]
  },
  {
   "cell_type": "code",
   "execution_count": 900,
   "id": "ab3a3358",
   "metadata": {},
   "outputs": [],
   "source": [
    "def grad(X, y, theta):\n",
    "    m = len(y)\n",
    "    return 1/m * X.T.dot(model(X, theta) - y)"
   ]
  },
  {
   "cell_type": "code",
   "execution_count": 901,
   "id": "e825a34e",
   "metadata": {},
   "outputs": [],
   "source": [
    "def gradient_descent(X, y, theta, learning_rate, n_iterations):\n",
    "    \n",
    "    cost_history = np.zeros(n_iterations) # création d'un tableau de stockage pour enregistrer l'évolution du Cout du modele\n",
    "    \n",
    "    for i in range(0, n_iterations):\n",
    "        theta = theta - learning_rate * grad(X, y, theta) # mise a jour du parametre theta (formule du gradient descent)\n",
    "        cost_history[i] = cost_function(X, y, theta) # on enregistre la valeur du Cout au tour i dans cost_history[i]\n",
    "        \n",
    "    return theta, cost_history"
   ]
  },
  {
   "cell_type": "code",
   "execution_count": 902,
   "id": "70b09ce2",
   "metadata": {},
   "outputs": [],
   "source": [
    "n_iterations = 1000000\n",
    "learning_rate = 0.00001\n",
    "\n",
    "theta_final, cost_history = gradient_descent(X_train, y_train, theta, learning_rate, n_iterations)"
   ]
  },
  {
   "cell_type": "markdown",
   "id": "528f67ea",
   "metadata": {},
   "source": [
    "## 4. Phase d'entrainement\n",
    "On définit un nombre d'itérations, ainsi qu'un pas d'apprentissage α. Une fois le modele entrainé, on observe les resultats par rapport a notre Dataset"
   ]
  },
  {
   "cell_type": "code",
   "execution_count": 903,
   "id": "a13a0119",
   "metadata": {},
   "outputs": [
    {
     "data": {
      "text/plain": [
       "array([1310.12670842, 1277.19160801, 1245.11271845, ...,   13.1720498 ,\n",
       "         13.17204945,   13.1720491 ])"
      ]
     },
     "execution_count": 903,
     "metadata": {},
     "output_type": "execute_result"
    }
   ],
   "source": [
    "cost_history # l'historique de la fonction coût qu'on va afficher par la suite. on remarque que sa valeur déminue et c'est ça l'objectif"
   ]
  },
  {
   "cell_type": "code",
   "execution_count": 904,
   "id": "08558f57",
   "metadata": {},
   "outputs": [
    {
     "data": {
      "text/plain": [
       "array([[ 0.05088917],\n",
       "       [13.61863356]])"
      ]
     },
     "execution_count": 904,
     "metadata": {},
     "output_type": "execute_result"
    }
   ],
   "source": [
    "theta_final # voici les parametres du modele une fois que la machine a été entrainée"
   ]
  },
  {
   "cell_type": "code",
   "execution_count": 905,
   "id": "b7a8b2fa",
   "metadata": {},
   "outputs": [
    {
     "data": {
      "text/plain": [
       "array([0.05088917])"
      ]
     },
     "execution_count": 905,
     "metadata": {},
     "output_type": "execute_result"
    }
   ],
   "source": [
    "theta_final[0]"
   ]
  },
  {
   "cell_type": "code",
   "execution_count": 906,
   "id": "5356efeb",
   "metadata": {},
   "outputs": [
    {
     "data": {
      "image/png": "[encoded data removed]",
      "text/plain": [
       "<Figure size 640x480 with 1 Axes>"
      ]
     },
     "metadata": {},
     "output_type": "display_data"
    }
   ],
   "source": [
    "plt.plot(x_train,y_train,'o',label='dataset entraînement')\n",
    "plt.plot(x_train, model(X_train, theta_final), c='r',label='modèle final')\n",
    "plt.xlabel('Newspaper')\n",
    "plt.ylabel('Sales')\n",
    "plt.legend()\n",
    "plt.show()"
   ]
  },
  {
   "cell_type": "code",
   "execution_count": 907,
   "id": "31496ba8",
   "metadata": {},
   "outputs": [
    {
     "data": {
      "image/png": "[encoded data removed]",
      "text/plain": [
       "<Figure size 640x480 with 1 Axes>"
      ]
     },
     "metadata": {},
     "output_type": "display_data"
    }
   ],
   "source": [
    "# création d'un vecteur prédictions qui contient les prédictions de notre modele final\n",
    "predictions = model(X_test, theta_final)\n",
    "\n",
    "# Affichage des résultats de prédictions (en rouge) par rapport a notre Dataset (en bleu)\n",
    "plt.plot(x_test,y_test,'o',label='dataset test')\n",
    "plt.plot(x_test,predictions , c='r',label='prédictions')\n",
    "plt.xlabel('Newspaper')\n",
    "plt.ylabel('Sales')\n",
    "plt.legend()\n",
    "plt.show()"
   ]
  },
  {
   "cell_type": "markdown",
   "id": "fd1d8c13",
   "metadata": {},
   "source": [
    "## 5. Courbe d'apprentissage\n",
    "\n",
    "   Pour vérifier si notre algorithme de Descente de gradient a bien fonctionné, on observe l'évolution de la fonction cout a travers les itérations. On est sensé obtenir une courbe qui diminue a chaque itération jusqu'a stagner a un niveau minimal (proche de zéro). Si la courbe ne suit pas ce motif, alors le pas learning_rate est peut-etre trop élevé, il faut prendre un pas plus faible."
   ]
  },
  {
   "cell_type": "code",
   "execution_count": 908,
   "id": "5a023a39",
   "metadata": {},
   "outputs": [
    {
     "data": {
      "image/png": "[encoded data removed]",
      "text/plain": [
       "<Figure size 640x480 with 1 Axes>"
      ]
     },
     "metadata": {},
     "output_type": "display_data"
    }
   ],
   "source": [
    "plt.plot(range(n_iterations), cost_history)\n",
    "plt.show()"
   ]
  },
  {
   "cell_type": "markdown",
   "id": "663aa4f4",
   "metadata": {},
   "source": [
    "## 6. Evaluation du modèle - Coefficient de détermination\n",
    "\n",
    "   Le coefficient de détermination est un indice de la qualité de la prédiction de la régression linéaire. Le coefficient de détermination se situe entre 0 et 1. Plus il est proche de 1, plus la régression linéaire est en adéquation avec les données collectées"
   ]
  },
  {
   "cell_type": "code",
   "execution_count": 909,
   "id": "84c74d42",
   "metadata": {},
   "outputs": [],
   "source": [
    "def coef_determination(y, pred):\n",
    "    u = ((y - pred)**2).sum()\n",
    "    v = ((y - y.mean())**2).sum()\n",
    "    return 1 - u/v"
   ]
  },
  {
   "cell_type": "code",
   "execution_count": 910,
   "id": "9d2e29f7",
   "metadata": {},
   "outputs": [
    {
     "name": "stdout",
     "output_type": "stream",
     "text": [
      "0.016988322506729103\n"
     ]
    }
   ],
   "source": [
    "predictions = model(X_train, theta_final)\n",
    "tr3 = coef_determination(y_train, predictions) # predictions=model(X_train,theta_final)\n",
    "print(tr3)"
   ]
  },
  {
   "cell_type": "code",
   "execution_count": 911,
   "id": "7e30227c",
   "metadata": {},
   "outputs": [
    {
     "name": "stdout",
     "output_type": "stream",
     "text": [
      "0.014945376940943889\n"
     ]
    }
   ],
   "source": [
    "predictions = model(X_test, theta_final)\n",
    "ts3 = coef_determination(y_test, predictions) # predictions=model(X_test,theta_final)\n",
    "print(ts3)"
   ]
  },
  {
   "cell_type": "markdown",
   "id": "befe32e0",
   "metadata": {},
   "source": [
    "# Conclusion"
   ]
  },
  {
   "cell_type": "markdown",
   "id": "7b89edb3",
   "metadata": {},
   "source": [
    "### Coeff de determination d'entrainement pour Sales en fonction TV"
   ]
  },
  {
   "cell_type": "code",
   "execution_count": 912,
   "id": "797f9bdf",
   "metadata": {},
   "outputs": [
    {
     "name": "stdout",
     "output_type": "stream",
     "text": [
      "0.8102276883921964\n"
     ]
    }
   ],
   "source": [
    "print(tr1)"
   ]
  },
  {
   "cell_type": "markdown",
   "id": "0a407001",
   "metadata": {},
   "source": [
    "### Coeff de determination de test pour Sales en fonction TV"
   ]
  },
  {
   "cell_type": "code",
   "execution_count": 913,
   "id": "c949ef16",
   "metadata": {},
   "outputs": [
    {
     "name": "stdout",
     "output_type": "stream",
     "text": [
      "0.8005190051199944\n"
     ]
    }
   ],
   "source": [
    "print(ts1)"
   ]
  },
  {
   "cell_type": "markdown",
   "id": "f5d51685",
   "metadata": {},
   "source": [
    "### Coeff de determination d'entrainement pour Sales en fonction Radio"
   ]
  },
  {
   "cell_type": "code",
   "execution_count": 914,
   "id": "673dbeb3",
   "metadata": {},
   "outputs": [
    {
     "name": "stdout",
     "output_type": "stream",
     "text": [
      "0.11243087789278261\n"
     ]
    }
   ],
   "source": [
    "print(tr2)"
   ]
  },
  {
   "cell_type": "markdown",
   "id": "f628a02d",
   "metadata": {},
   "source": [
    "### Coeff de determination de test pour Sales en fonction Radio"
   ]
  },
  {
   "cell_type": "code",
   "execution_count": 915,
   "id": "00d2403a",
   "metadata": {},
   "outputs": [
    {
     "name": "stdout",
     "output_type": "stream",
     "text": [
      "0.12422588638376608\n"
     ]
    }
   ],
   "source": [
    "print(ts2)"
   ]
  },
  {
   "cell_type": "markdown",
   "id": "e87f59fa",
   "metadata": {},
   "source": [
    "### Coeff de determination d'entrainement pour Sales en fonction Newspaper"
   ]
  },
  {
   "cell_type": "code",
   "execution_count": 916,
   "id": "e1f4e0f7",
   "metadata": {},
   "outputs": [
    {
     "name": "stdout",
     "output_type": "stream",
     "text": [
      "0.016988322506729103\n"
     ]
    }
   ],
   "source": [
    "print(tr3)"
   ]
  },
  {
   "cell_type": "markdown",
   "id": "343b287b",
   "metadata": {},
   "source": [
    "### Coeff de determination de test pour Sales en fonction Newspaper"
   ]
  },
  {
   "cell_type": "code",
   "execution_count": 917,
   "id": "c8c1c882",
   "metadata": {},
   "outputs": [
    {
     "name": "stdout",
     "output_type": "stream",
     "text": [
      "0.014945376940943889\n"
     ]
    }
   ],
   "source": [
    "print(ts3)"
   ]
  },
  {
   "cell_type": "code",
   "execution_count": 918,
   "id": "4e53ceaa",
   "metadata": {},
   "outputs": [
    {
     "name": "stdout",
     "output_type": "stream",
     "text": [
      "Type         Coeff de deter de test    Coeff de deter d'entrainement    Correlation\n",
      "---------  ------------------------  -------------------------------  -------------\n",
      "TV                        0.800519                         0.810228             0.9\n",
      "Radio                     0.124226                         0.112431             0.3\n",
      "Newspaper                 0.0149454                        0.0169883            0.1\n"
     ]
    }
   ],
   "source": [
    "from tabulate import tabulate\n",
    "\n",
    "tableau = [\n",
    "    [\"Type\", \"Coeff de deter de test\", \"Coeff de deter d'entrainement\",\"Correlation\"],\n",
    "    [\"TV\", ts1, tr1, 0.9],\n",
    "    [\"Radio\", ts2, tr2, 0.3],\n",
    "    [\"Newspaper\", ts3, tr3, 0.1]\n",
    "]\n",
    "\n",
    "print(tabulate(tableau, headers=\"firstrow\"))"
   ]
  }
 ],
 "metadata": {
  "kernelspec": {
   "display_name": "Python 3 (ipykernel)",
   "language": "python",
   "name": "python3"
  },
  "language_info": {
   "codemirror_mode": {
    "name": "ipython",
    "version": 3
   },
   "file_extension": ".py",
   "mimetype": "text/x-python",
   "name": "python",
   "nbconvert_exporter": "python",
   "pygments_lexer": "ipython3",
   "version": "3.11.5"
  }
 },
 "nbformat": 4,
 "nbformat_minor": 5
}

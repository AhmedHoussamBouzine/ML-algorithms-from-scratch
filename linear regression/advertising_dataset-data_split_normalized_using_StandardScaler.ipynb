{
 "cells": [
  {
   "cell_type": "markdown",
   "metadata": {
    "id": "qFUukJ4Pi7cM"
   },
   "source": [
    "# Régression Linéaire Multiple pour prédire le prix en fonction TV , Radio , et Newspaper using StandardScaler\n"
   ]
  },
  {
   "cell_type": "markdown",
   "metadata": {
    "id": "mMbYHSuQi7cS"
   },
   "source": [
    "## 1- Préparation du dataset"
   ]
  },
  {
   "cell_type": "markdown",
   "metadata": {
    "id": "DgWByQiii7cS"
   },
   "source": [
    "###  a. Chargement du dataset"
   ]
  },
  {
   "cell_type": "code",
   "execution_count": 4,
   "metadata": {
    "id": "HGSQveTIi7cT",
    "outputId": "b2c4efc7-5886-42ea-8e47-2790ffc13f3b",
    "ExecuteTime": {
     "end_time": "2024-03-15T00:16:36.408170325Z",
     "start_time": "2024-03-15T00:16:36.303916129Z"
    }
   },
   "outputs": [
    {
     "data": {
      "text/plain": "        TV  Radio  Newspaper  Sales\n0    230.1   37.8       69.2   22.1\n1     44.5   39.3       45.1   10.4\n2     17.2   45.9       69.3   12.0\n3    151.5   41.3       58.5   16.5\n4    180.8   10.8       58.4   17.9\n..     ...    ...        ...    ...\n195   38.2    3.7       13.8    7.6\n196   94.2    4.9        8.1   14.0\n197  177.0    9.3        6.4   14.8\n198  283.6   42.0       66.2   25.5\n199  232.1    8.6        8.7   18.4\n\n[200 rows x 4 columns]",
      "text/html": "<div>\n<style scoped>\n    .dataframe tbody tr th:only-of-type {\n        vertical-align: middle;\n    }\n\n    .dataframe tbody tr th {\n        vertical-align: top;\n    }\n\n    .dataframe thead th {\n        text-align: right;\n    }\n</style>\n<table border=\"1\" class=\"dataframe\">\n  <thead>\n    <tr style=\"text-align: right;\">\n      <th></th>\n      <th>TV</th>\n      <th>Radio</th>\n      <th>Newspaper</th>\n      <th>Sales</th>\n    </tr>\n  </thead>\n  <tbody>\n    <tr>\n      <th>0</th>\n      <td>230.1</td>\n      <td>37.8</td>\n      <td>69.2</td>\n      <td>22.1</td>\n    </tr>\n    <tr>\n      <th>1</th>\n      <td>44.5</td>\n      <td>39.3</td>\n      <td>45.1</td>\n      <td>10.4</td>\n    </tr>\n    <tr>\n      <th>2</th>\n      <td>17.2</td>\n      <td>45.9</td>\n      <td>69.3</td>\n      <td>12.0</td>\n    </tr>\n    <tr>\n      <th>3</th>\n      <td>151.5</td>\n      <td>41.3</td>\n      <td>58.5</td>\n      <td>16.5</td>\n    </tr>\n    <tr>\n      <th>4</th>\n      <td>180.8</td>\n      <td>10.8</td>\n      <td>58.4</td>\n      <td>17.9</td>\n    </tr>\n    <tr>\n      <th>...</th>\n      <td>...</td>\n      <td>...</td>\n      <td>...</td>\n      <td>...</td>\n    </tr>\n    <tr>\n      <th>195</th>\n      <td>38.2</td>\n      <td>3.7</td>\n      <td>13.8</td>\n      <td>7.6</td>\n    </tr>\n    <tr>\n      <th>196</th>\n      <td>94.2</td>\n      <td>4.9</td>\n      <td>8.1</td>\n      <td>14.0</td>\n    </tr>\n    <tr>\n      <th>197</th>\n      <td>177.0</td>\n      <td>9.3</td>\n      <td>6.4</td>\n      <td>14.8</td>\n    </tr>\n    <tr>\n      <th>198</th>\n      <td>283.6</td>\n      <td>42.0</td>\n      <td>66.2</td>\n      <td>25.5</td>\n    </tr>\n    <tr>\n      <th>199</th>\n      <td>232.1</td>\n      <td>8.6</td>\n      <td>8.7</td>\n      <td>18.4</td>\n    </tr>\n  </tbody>\n</table>\n<p>200 rows × 4 columns</p>\n</div>"
     },
     "execution_count": 4,
     "metadata": {},
     "output_type": "execute_result"
    }
   ],
   "source": [
    "import pandas as pd\n",
    "import numpy as np\n",
    "import seaborn as sns\n",
    "from matplotlib import pyplot as plt\n",
    "from sklearn.model_selection import train_test_split\n",
    "\n",
    "\n",
    "#chargement du dataset:\n",
    "dataset = pd.read_csv('Advertising.csv')\n",
    "dataset"
   ]
  },
  {
   "cell_type": "code",
   "execution_count": 5,
   "metadata": {
    "ExecuteTime": {
     "end_time": "2024-03-15T00:16:37.649050210Z",
     "start_time": "2024-03-15T00:16:37.567393785Z"
    }
   },
   "outputs": [
    {
     "data": {
      "text/plain": "               TV       Radio   Newspaper       Sales\ncount  200.000000  200.000000  200.000000  200.000000\nmean   147.042500   23.264000   30.554000   15.130500\nstd     85.854236   14.846809   21.778621    5.283892\nmin      0.700000    0.000000    0.300000    1.600000\n25%     74.375000    9.975000   12.750000   11.000000\n50%    149.750000   22.900000   25.750000   16.000000\n75%    218.825000   36.525000   45.100000   19.050000\nmax    296.400000   49.600000  114.000000   27.000000",
      "text/html": "<div>\n<style scoped>\n    .dataframe tbody tr th:only-of-type {\n        vertical-align: middle;\n    }\n\n    .dataframe tbody tr th {\n        vertical-align: top;\n    }\n\n    .dataframe thead th {\n        text-align: right;\n    }\n</style>\n<table border=\"1\" class=\"dataframe\">\n  <thead>\n    <tr style=\"text-align: right;\">\n      <th></th>\n      <th>TV</th>\n      <th>Radio</th>\n      <th>Newspaper</th>\n      <th>Sales</th>\n    </tr>\n  </thead>\n  <tbody>\n    <tr>\n      <th>count</th>\n      <td>200.000000</td>\n      <td>200.000000</td>\n      <td>200.000000</td>\n      <td>200.000000</td>\n    </tr>\n    <tr>\n      <th>mean</th>\n      <td>147.042500</td>\n      <td>23.264000</td>\n      <td>30.554000</td>\n      <td>15.130500</td>\n    </tr>\n    <tr>\n      <th>std</th>\n      <td>85.854236</td>\n      <td>14.846809</td>\n      <td>21.778621</td>\n      <td>5.283892</td>\n    </tr>\n    <tr>\n      <th>min</th>\n      <td>0.700000</td>\n      <td>0.000000</td>\n      <td>0.300000</td>\n      <td>1.600000</td>\n    </tr>\n    <tr>\n      <th>25%</th>\n      <td>74.375000</td>\n      <td>9.975000</td>\n      <td>12.750000</td>\n      <td>11.000000</td>\n    </tr>\n    <tr>\n      <th>50%</th>\n      <td>149.750000</td>\n      <td>22.900000</td>\n      <td>25.750000</td>\n      <td>16.000000</td>\n    </tr>\n    <tr>\n      <th>75%</th>\n      <td>218.825000</td>\n      <td>36.525000</td>\n      <td>45.100000</td>\n      <td>19.050000</td>\n    </tr>\n    <tr>\n      <th>max</th>\n      <td>296.400000</td>\n      <td>49.600000</td>\n      <td>114.000000</td>\n      <td>27.000000</td>\n    </tr>\n  </tbody>\n</table>\n</div>"
     },
     "execution_count": 5,
     "metadata": {},
     "output_type": "execute_result"
    }
   ],
   "source": [
    "dataset.describe()"
   ]
  },
  {
   "cell_type": "markdown",
   "metadata": {
    "id": "u6PnSOQii7cZ"
   },
   "source": [
    "### b- Séparation des colonnes en target et features"
   ]
  },
  {
   "cell_type": "code",
   "execution_count": 6,
   "metadata": {
    "id": "qSZKiQChi7ca",
    "outputId": "ca4b8b70-9b95-45e0-eca7-379376177760",
    "ExecuteTime": {
     "end_time": "2024-03-15T00:16:40.200880919Z",
     "start_time": "2024-03-15T00:16:40.139861122Z"
    }
   },
   "outputs": [
    {
     "data": {
      "text/plain": "        TV  Radio  Newspaper\n0    230.1   37.8       69.2\n1     44.5   39.3       45.1\n2     17.2   45.9       69.3\n3    151.5   41.3       58.5\n4    180.8   10.8       58.4\n..     ...    ...        ...\n195   38.2    3.7       13.8\n196   94.2    4.9        8.1\n197  177.0    9.3        6.4\n198  283.6   42.0       66.2\n199  232.1    8.6        8.7\n\n[200 rows x 3 columns]",
      "text/html": "<div>\n<style scoped>\n    .dataframe tbody tr th:only-of-type {\n        vertical-align: middle;\n    }\n\n    .dataframe tbody tr th {\n        vertical-align: top;\n    }\n\n    .dataframe thead th {\n        text-align: right;\n    }\n</style>\n<table border=\"1\" class=\"dataframe\">\n  <thead>\n    <tr style=\"text-align: right;\">\n      <th></th>\n      <th>TV</th>\n      <th>Radio</th>\n      <th>Newspaper</th>\n    </tr>\n  </thead>\n  <tbody>\n    <tr>\n      <th>0</th>\n      <td>230.1</td>\n      <td>37.8</td>\n      <td>69.2</td>\n    </tr>\n    <tr>\n      <th>1</th>\n      <td>44.5</td>\n      <td>39.3</td>\n      <td>45.1</td>\n    </tr>\n    <tr>\n      <th>2</th>\n      <td>17.2</td>\n      <td>45.9</td>\n      <td>69.3</td>\n    </tr>\n    <tr>\n      <th>3</th>\n      <td>151.5</td>\n      <td>41.3</td>\n      <td>58.5</td>\n    </tr>\n    <tr>\n      <th>4</th>\n      <td>180.8</td>\n      <td>10.8</td>\n      <td>58.4</td>\n    </tr>\n    <tr>\n      <th>...</th>\n      <td>...</td>\n      <td>...</td>\n      <td>...</td>\n    </tr>\n    <tr>\n      <th>195</th>\n      <td>38.2</td>\n      <td>3.7</td>\n      <td>13.8</td>\n    </tr>\n    <tr>\n      <th>196</th>\n      <td>94.2</td>\n      <td>4.9</td>\n      <td>8.1</td>\n    </tr>\n    <tr>\n      <th>197</th>\n      <td>177.0</td>\n      <td>9.3</td>\n      <td>6.4</td>\n    </tr>\n    <tr>\n      <th>198</th>\n      <td>283.6</td>\n      <td>42.0</td>\n      <td>66.2</td>\n    </tr>\n    <tr>\n      <th>199</th>\n      <td>232.1</td>\n      <td>8.6</td>\n      <td>8.7</td>\n    </tr>\n  </tbody>\n</table>\n<p>200 rows × 3 columns</p>\n</div>"
     },
     "execution_count": 6,
     "metadata": {},
     "output_type": "execute_result"
    }
   ],
   "source": [
    "#séparation des variables \"features\" et \"target\":\n",
    "\n",
    "features = dataset[[\"TV\",\"Radio\",\"Newspaper\"]]\n",
    "features"
   ]
  },
  {
   "cell_type": "code",
   "execution_count": 7,
   "metadata": {
    "ExecuteTime": {
     "end_time": "2024-03-15T00:16:41.585257206Z",
     "start_time": "2024-03-15T00:16:41.527405283Z"
    }
   },
   "outputs": [
    {
     "data": {
      "text/plain": "               TV       Radio   Newspaper\ncount  200.000000  200.000000  200.000000\nmean   147.042500   23.264000   30.554000\nstd     85.854236   14.846809   21.778621\nmin      0.700000    0.000000    0.300000\n25%     74.375000    9.975000   12.750000\n50%    149.750000   22.900000   25.750000\n75%    218.825000   36.525000   45.100000\nmax    296.400000   49.600000  114.000000",
      "text/html": "<div>\n<style scoped>\n    .dataframe tbody tr th:only-of-type {\n        vertical-align: middle;\n    }\n\n    .dataframe tbody tr th {\n        vertical-align: top;\n    }\n\n    .dataframe thead th {\n        text-align: right;\n    }\n</style>\n<table border=\"1\" class=\"dataframe\">\n  <thead>\n    <tr style=\"text-align: right;\">\n      <th></th>\n      <th>TV</th>\n      <th>Radio</th>\n      <th>Newspaper</th>\n    </tr>\n  </thead>\n  <tbody>\n    <tr>\n      <th>count</th>\n      <td>200.000000</td>\n      <td>200.000000</td>\n      <td>200.000000</td>\n    </tr>\n    <tr>\n      <th>mean</th>\n      <td>147.042500</td>\n      <td>23.264000</td>\n      <td>30.554000</td>\n    </tr>\n    <tr>\n      <th>std</th>\n      <td>85.854236</td>\n      <td>14.846809</td>\n      <td>21.778621</td>\n    </tr>\n    <tr>\n      <th>min</th>\n      <td>0.700000</td>\n      <td>0.000000</td>\n      <td>0.300000</td>\n    </tr>\n    <tr>\n      <th>25%</th>\n      <td>74.375000</td>\n      <td>9.975000</td>\n      <td>12.750000</td>\n    </tr>\n    <tr>\n      <th>50%</th>\n      <td>149.750000</td>\n      <td>22.900000</td>\n      <td>25.750000</td>\n    </tr>\n    <tr>\n      <th>75%</th>\n      <td>218.825000</td>\n      <td>36.525000</td>\n      <td>45.100000</td>\n    </tr>\n    <tr>\n      <th>max</th>\n      <td>296.400000</td>\n      <td>49.600000</td>\n      <td>114.000000</td>\n    </tr>\n  </tbody>\n</table>\n</div>"
     },
     "execution_count": 7,
     "metadata": {},
     "output_type": "execute_result"
    }
   ],
   "source": [
    "features.describe()"
   ]
  },
  {
   "cell_type": "code",
   "execution_count": 8,
   "metadata": {
    "id": "PSZXn6k8i7cb",
    "outputId": "7b53da22-590a-4ef6-bf4a-507f433a60f5",
    "ExecuteTime": {
     "end_time": "2024-03-15T00:16:42.836507395Z",
     "start_time": "2024-03-15T00:16:42.778801454Z"
    }
   },
   "outputs": [
    {
     "data": {
      "text/plain": "     Sales\n0     22.1\n1     10.4\n2     12.0\n3     16.5\n4     17.9\n..     ...\n195    7.6\n196   14.0\n197   14.8\n198   25.5\n199   18.4\n\n[200 rows x 1 columns]",
      "text/html": "<div>\n<style scoped>\n    .dataframe tbody tr th:only-of-type {\n        vertical-align: middle;\n    }\n\n    .dataframe tbody tr th {\n        vertical-align: top;\n    }\n\n    .dataframe thead th {\n        text-align: right;\n    }\n</style>\n<table border=\"1\" class=\"dataframe\">\n  <thead>\n    <tr style=\"text-align: right;\">\n      <th></th>\n      <th>Sales</th>\n    </tr>\n  </thead>\n  <tbody>\n    <tr>\n      <th>0</th>\n      <td>22.1</td>\n    </tr>\n    <tr>\n      <th>1</th>\n      <td>10.4</td>\n    </tr>\n    <tr>\n      <th>2</th>\n      <td>12.0</td>\n    </tr>\n    <tr>\n      <th>3</th>\n      <td>16.5</td>\n    </tr>\n    <tr>\n      <th>4</th>\n      <td>17.9</td>\n    </tr>\n    <tr>\n      <th>...</th>\n      <td>...</td>\n    </tr>\n    <tr>\n      <th>195</th>\n      <td>7.6</td>\n    </tr>\n    <tr>\n      <th>196</th>\n      <td>14.0</td>\n    </tr>\n    <tr>\n      <th>197</th>\n      <td>14.8</td>\n    </tr>\n    <tr>\n      <th>198</th>\n      <td>25.5</td>\n    </tr>\n    <tr>\n      <th>199</th>\n      <td>18.4</td>\n    </tr>\n  </tbody>\n</table>\n<p>200 rows × 1 columns</p>\n</div>"
     },
     "execution_count": 8,
     "metadata": {},
     "output_type": "execute_result"
    }
   ],
   "source": [
    "target = dataset[[\"Sales\"]]\n",
    "target"
   ]
  },
  {
   "cell_type": "markdown",
   "metadata": {},
   "source": [
    "### c- Division des features et target en jeu de test et jeu de d'entrainement"
   ]
  },
  {
   "cell_type": "code",
   "execution_count": 9,
   "metadata": {
    "ExecuteTime": {
     "end_time": "2024-03-15T00:16:45.313096891Z",
     "start_time": "2024-03-15T00:16:45.249284825Z"
    }
   },
   "outputs": [
    {
     "name": "stdout",
     "output_type": "stream",
     "text": [
      "x_train shape  :  (160, 3)\n",
      "x_test shape  :  (40, 3)\n",
      "y_train shape  :  (160, 1)\n",
      "y_test shape  :  (40, 1)\n"
     ]
    }
   ],
   "source": [
    "x_train, x_test, y_train, y_test =  train_test_split(features, target, test_size=0.2, random_state=42)\n",
    "\n",
    "print('x_train shape  : ', x_train.shape)\n",
    "print('x_test shape  : ', x_test.shape)\n",
    "print('y_train shape  : ', y_train.shape)\n",
    "print('y_test shape  : ', y_test.shape)"
   ]
  },
  {
   "cell_type": "code",
   "execution_count": 10,
   "metadata": {
    "ExecuteTime": {
     "end_time": "2024-03-15T00:16:46.435192281Z",
     "start_time": "2024-03-15T00:16:46.388375607Z"
    }
   },
   "outputs": [
    {
     "data": {
      "text/plain": "        TV  Radio  Newspaper\n79   116.0    7.7       23.1\n197  177.0    9.3        6.4\n38    43.1   26.7       35.1\n24    62.3   12.6       18.3\n122  224.0    2.4       15.6\n..     ...    ...        ...\n106   25.0   11.0       29.7\n14   204.1   32.9       46.0\n92   217.7   33.5       59.0\n179  165.6   10.0       17.6\n102  280.2   10.1       21.4\n\n[160 rows x 3 columns]",
      "text/html": "<div>\n<style scoped>\n    .dataframe tbody tr th:only-of-type {\n        vertical-align: middle;\n    }\n\n    .dataframe tbody tr th {\n        vertical-align: top;\n    }\n\n    .dataframe thead th {\n        text-align: right;\n    }\n</style>\n<table border=\"1\" class=\"dataframe\">\n  <thead>\n    <tr style=\"text-align: right;\">\n      <th></th>\n      <th>TV</th>\n      <th>Radio</th>\n      <th>Newspaper</th>\n    </tr>\n  </thead>\n  <tbody>\n    <tr>\n      <th>79</th>\n      <td>116.0</td>\n      <td>7.7</td>\n      <td>23.1</td>\n    </tr>\n    <tr>\n      <th>197</th>\n      <td>177.0</td>\n      <td>9.3</td>\n      <td>6.4</td>\n    </tr>\n    <tr>\n      <th>38</th>\n      <td>43.1</td>\n      <td>26.7</td>\n      <td>35.1</td>\n    </tr>\n    <tr>\n      <th>24</th>\n      <td>62.3</td>\n      <td>12.6</td>\n      <td>18.3</td>\n    </tr>\n    <tr>\n      <th>122</th>\n      <td>224.0</td>\n      <td>2.4</td>\n      <td>15.6</td>\n    </tr>\n    <tr>\n      <th>...</th>\n      <td>...</td>\n      <td>...</td>\n      <td>...</td>\n    </tr>\n    <tr>\n      <th>106</th>\n      <td>25.0</td>\n      <td>11.0</td>\n      <td>29.7</td>\n    </tr>\n    <tr>\n      <th>14</th>\n      <td>204.1</td>\n      <td>32.9</td>\n      <td>46.0</td>\n    </tr>\n    <tr>\n      <th>92</th>\n      <td>217.7</td>\n      <td>33.5</td>\n      <td>59.0</td>\n    </tr>\n    <tr>\n      <th>179</th>\n      <td>165.6</td>\n      <td>10.0</td>\n      <td>17.6</td>\n    </tr>\n    <tr>\n      <th>102</th>\n      <td>280.2</td>\n      <td>10.1</td>\n      <td>21.4</td>\n    </tr>\n  </tbody>\n</table>\n<p>160 rows × 3 columns</p>\n</div>"
     },
     "execution_count": 10,
     "metadata": {},
     "output_type": "execute_result"
    }
   ],
   "source": [
    "x_train"
   ]
  },
  {
   "cell_type": "code",
   "execution_count": 11,
   "metadata": {
    "ExecuteTime": {
     "end_time": "2024-03-15T00:16:47.623726715Z",
     "start_time": "2024-03-15T00:16:47.441892189Z"
    }
   },
   "outputs": [
    {
     "data": {
      "text/plain": "               TV       Radio   Newspaper\ncount  160.000000  160.000000  160.000000\nmean   150.019375   22.875625   29.945625\nstd     84.418857   14.805216   20.336449\nmin      0.700000    0.000000    0.300000\n25%     77.750000    9.825000   12.875000\n50%    150.650000   21.200000   25.600000\n75%    218.825000   36.425000   44.500000\nmax    296.400000   49.600000  100.900000",
      "text/html": "<div>\n<style scoped>\n    .dataframe tbody tr th:only-of-type {\n        vertical-align: middle;\n    }\n\n    .dataframe tbody tr th {\n        vertical-align: top;\n    }\n\n    .dataframe thead th {\n        text-align: right;\n    }\n</style>\n<table border=\"1\" class=\"dataframe\">\n  <thead>\n    <tr style=\"text-align: right;\">\n      <th></th>\n      <th>TV</th>\n      <th>Radio</th>\n      <th>Newspaper</th>\n    </tr>\n  </thead>\n  <tbody>\n    <tr>\n      <th>count</th>\n      <td>160.000000</td>\n      <td>160.000000</td>\n      <td>160.000000</td>\n    </tr>\n    <tr>\n      <th>mean</th>\n      <td>150.019375</td>\n      <td>22.875625</td>\n      <td>29.945625</td>\n    </tr>\n    <tr>\n      <th>std</th>\n      <td>84.418857</td>\n      <td>14.805216</td>\n      <td>20.336449</td>\n    </tr>\n    <tr>\n      <th>min</th>\n      <td>0.700000</td>\n      <td>0.000000</td>\n      <td>0.300000</td>\n    </tr>\n    <tr>\n      <th>25%</th>\n      <td>77.750000</td>\n      <td>9.825000</td>\n      <td>12.875000</td>\n    </tr>\n    <tr>\n      <th>50%</th>\n      <td>150.650000</td>\n      <td>21.200000</td>\n      <td>25.600000</td>\n    </tr>\n    <tr>\n      <th>75%</th>\n      <td>218.825000</td>\n      <td>36.425000</td>\n      <td>44.500000</td>\n    </tr>\n    <tr>\n      <th>max</th>\n      <td>296.400000</td>\n      <td>49.600000</td>\n      <td>100.900000</td>\n    </tr>\n  </tbody>\n</table>\n</div>"
     },
     "execution_count": 11,
     "metadata": {},
     "output_type": "execute_result"
    }
   ],
   "source": [
    "x_train.describe()"
   ]
  },
  {
   "cell_type": "code",
   "execution_count": 12,
   "metadata": {
    "ExecuteTime": {
     "end_time": "2024-03-15T00:16:48.750932700Z",
     "start_time": "2024-03-15T00:16:48.664625961Z"
    }
   },
   "outputs": [
    {
     "data": {
      "text/plain": "        TV  Radio  Newspaper\n95   163.3   31.6       52.9\n15   195.4   47.7       52.9\n30   292.9   28.3       43.2\n158   11.7   36.9       45.2\n128  220.3   49.0        3.2\n115   75.1   35.0       52.7\n69   216.8   43.9       27.2\n170   50.0   11.6       18.4\n174  222.4    3.4       13.1\n45   175.1   22.5       31.5\n66    31.5   24.6        2.2\n182   56.2    5.7       29.7\n165  234.5    3.4       84.8\n78     5.4   29.9        9.4\n186  139.5    2.1       26.6\n177  170.2    7.8       35.2\n56     7.3   28.1       41.4\n152  197.6   23.3       14.2\n82    75.3   20.3       32.5\n68   237.4   27.5       11.0\n124  229.5   32.3       74.2\n16    67.8   36.6      114.0\n148   38.0   40.3       11.9\n93   250.9   36.5       72.3\n65    69.0    9.3        0.9\n60    53.5    2.0       21.4\n84   213.5   43.0       33.8\n67   139.3   14.5       10.2\n125   87.2   11.8       25.9\n132    8.4   27.2        2.1\n9    199.8    2.6       21.2\n18    69.2   20.5       18.3\n55   198.9   49.4       60.0\n75    16.9   43.7       89.4\n150  280.7   13.9       37.0\n104  238.2   34.3        5.3\n135   48.3   47.0        8.5\n137  273.7   28.9       59.7\n164  117.2   14.7        5.4\n76    27.5    1.6       20.7",
      "text/html": "<div>\n<style scoped>\n    .dataframe tbody tr th:only-of-type {\n        vertical-align: middle;\n    }\n\n    .dataframe tbody tr th {\n        vertical-align: top;\n    }\n\n    .dataframe thead th {\n        text-align: right;\n    }\n</style>\n<table border=\"1\" class=\"dataframe\">\n  <thead>\n    <tr style=\"text-align: right;\">\n      <th></th>\n      <th>TV</th>\n      <th>Radio</th>\n      <th>Newspaper</th>\n    </tr>\n  </thead>\n  <tbody>\n    <tr>\n      <th>95</th>\n      <td>163.3</td>\n      <td>31.6</td>\n      <td>52.9</td>\n    </tr>\n    <tr>\n      <th>15</th>\n      <td>195.4</td>\n      <td>47.7</td>\n      <td>52.9</td>\n    </tr>\n    <tr>\n      <th>30</th>\n      <td>292.9</td>\n      <td>28.3</td>\n      <td>43.2</td>\n    </tr>\n    <tr>\n      <th>158</th>\n      <td>11.7</td>\n      <td>36.9</td>\n      <td>45.2</td>\n    </tr>\n    <tr>\n      <th>128</th>\n      <td>220.3</td>\n      <td>49.0</td>\n      <td>3.2</td>\n    </tr>\n    <tr>\n      <th>115</th>\n      <td>75.1</td>\n      <td>35.0</td>\n      <td>52.7</td>\n    </tr>\n    <tr>\n      <th>69</th>\n      <td>216.8</td>\n      <td>43.9</td>\n      <td>27.2</td>\n    </tr>\n    <tr>\n      <th>170</th>\n      <td>50.0</td>\n      <td>11.6</td>\n      <td>18.4</td>\n    </tr>\n    <tr>\n      <th>174</th>\n      <td>222.4</td>\n      <td>3.4</td>\n      <td>13.1</td>\n    </tr>\n    <tr>\n      <th>45</th>\n      <td>175.1</td>\n      <td>22.5</td>\n      <td>31.5</td>\n    </tr>\n    <tr>\n      <th>66</th>\n      <td>31.5</td>\n      <td>24.6</td>\n      <td>2.2</td>\n    </tr>\n    <tr>\n      <th>182</th>\n      <td>56.2</td>\n      <td>5.7</td>\n      <td>29.7</td>\n    </tr>\n    <tr>\n      <th>165</th>\n      <td>234.5</td>\n      <td>3.4</td>\n      <td>84.8</td>\n    </tr>\n    <tr>\n      <th>78</th>\n      <td>5.4</td>\n      <td>29.9</td>\n      <td>9.4</td>\n    </tr>\n    <tr>\n      <th>186</th>\n      <td>139.5</td>\n      <td>2.1</td>\n      <td>26.6</td>\n    </tr>\n    <tr>\n      <th>177</th>\n      <td>170.2</td>\n      <td>7.8</td>\n      <td>35.2</td>\n    </tr>\n    <tr>\n      <th>56</th>\n      <td>7.3</td>\n      <td>28.1</td>\n      <td>41.4</td>\n    </tr>\n    <tr>\n      <th>152</th>\n      <td>197.6</td>\n      <td>23.3</td>\n      <td>14.2</td>\n    </tr>\n    <tr>\n      <th>82</th>\n      <td>75.3</td>\n      <td>20.3</td>\n      <td>32.5</td>\n    </tr>\n    <tr>\n      <th>68</th>\n      <td>237.4</td>\n      <td>27.5</td>\n      <td>11.0</td>\n    </tr>\n    <tr>\n      <th>124</th>\n      <td>229.5</td>\n      <td>32.3</td>\n      <td>74.2</td>\n    </tr>\n    <tr>\n      <th>16</th>\n      <td>67.8</td>\n      <td>36.6</td>\n      <td>114.0</td>\n    </tr>\n    <tr>\n      <th>148</th>\n      <td>38.0</td>\n      <td>40.3</td>\n      <td>11.9</td>\n    </tr>\n    <tr>\n      <th>93</th>\n      <td>250.9</td>\n      <td>36.5</td>\n      <td>72.3</td>\n    </tr>\n    <tr>\n      <th>65</th>\n      <td>69.0</td>\n      <td>9.3</td>\n      <td>0.9</td>\n    </tr>\n    <tr>\n      <th>60</th>\n      <td>53.5</td>\n      <td>2.0</td>\n      <td>21.4</td>\n    </tr>\n    <tr>\n      <th>84</th>\n      <td>213.5</td>\n      <td>43.0</td>\n      <td>33.8</td>\n    </tr>\n    <tr>\n      <th>67</th>\n      <td>139.3</td>\n      <td>14.5</td>\n      <td>10.2</td>\n    </tr>\n    <tr>\n      <th>125</th>\n      <td>87.2</td>\n      <td>11.8</td>\n      <td>25.9</td>\n    </tr>\n    <tr>\n      <th>132</th>\n      <td>8.4</td>\n      <td>27.2</td>\n      <td>2.1</td>\n    </tr>\n    <tr>\n      <th>9</th>\n      <td>199.8</td>\n      <td>2.6</td>\n      <td>21.2</td>\n    </tr>\n    <tr>\n      <th>18</th>\n      <td>69.2</td>\n      <td>20.5</td>\n      <td>18.3</td>\n    </tr>\n    <tr>\n      <th>55</th>\n      <td>198.9</td>\n      <td>49.4</td>\n      <td>60.0</td>\n    </tr>\n    <tr>\n      <th>75</th>\n      <td>16.9</td>\n      <td>43.7</td>\n      <td>89.4</td>\n    </tr>\n    <tr>\n      <th>150</th>\n      <td>280.7</td>\n      <td>13.9</td>\n      <td>37.0</td>\n    </tr>\n    <tr>\n      <th>104</th>\n      <td>238.2</td>\n      <td>34.3</td>\n      <td>5.3</td>\n    </tr>\n    <tr>\n      <th>135</th>\n      <td>48.3</td>\n      <td>47.0</td>\n      <td>8.5</td>\n    </tr>\n    <tr>\n      <th>137</th>\n      <td>273.7</td>\n      <td>28.9</td>\n      <td>59.7</td>\n    </tr>\n    <tr>\n      <th>164</th>\n      <td>117.2</td>\n      <td>14.7</td>\n      <td>5.4</td>\n    </tr>\n    <tr>\n      <th>76</th>\n      <td>27.5</td>\n      <td>1.6</td>\n      <td>20.7</td>\n    </tr>\n  </tbody>\n</table>\n</div>"
     },
     "execution_count": 12,
     "metadata": {},
     "output_type": "execute_result"
    }
   ],
   "source": [
    "x_test"
   ]
  },
  {
   "cell_type": "code",
   "execution_count": 13,
   "metadata": {
    "ExecuteTime": {
     "end_time": "2024-03-15T00:16:49.994125355Z",
     "start_time": "2024-03-15T00:16:49.936251889Z"
    }
   },
   "outputs": [
    {
     "data": {
      "text/plain": "TV           150.019375\nRadio         22.875625\nNewspaper     29.945625\ndtype: float64"
     },
     "execution_count": 13,
     "metadata": {},
     "output_type": "execute_result"
    }
   ],
   "source": [
    "x_train.mean()"
   ]
  },
  {
   "cell_type": "code",
   "execution_count": 14,
   "metadata": {
    "ExecuteTime": {
     "end_time": "2024-03-15T00:16:51.042761596Z",
     "start_time": "2024-03-15T00:16:51.000832629Z"
    }
   },
   "outputs": [
    {
     "data": {
      "text/plain": "     Sales\n79    11.0\n197   14.8\n38    10.1\n24     9.7\n122   16.6\n..     ...\n106    7.2\n14    19.0\n92    19.4\n179   17.6\n102   19.8\n\n[160 rows x 1 columns]",
      "text/html": "<div>\n<style scoped>\n    .dataframe tbody tr th:only-of-type {\n        vertical-align: middle;\n    }\n\n    .dataframe tbody tr th {\n        vertical-align: top;\n    }\n\n    .dataframe thead th {\n        text-align: right;\n    }\n</style>\n<table border=\"1\" class=\"dataframe\">\n  <thead>\n    <tr style=\"text-align: right;\">\n      <th></th>\n      <th>Sales</th>\n    </tr>\n  </thead>\n  <tbody>\n    <tr>\n      <th>79</th>\n      <td>11.0</td>\n    </tr>\n    <tr>\n      <th>197</th>\n      <td>14.8</td>\n    </tr>\n    <tr>\n      <th>38</th>\n      <td>10.1</td>\n    </tr>\n    <tr>\n      <th>24</th>\n      <td>9.7</td>\n    </tr>\n    <tr>\n      <th>122</th>\n      <td>16.6</td>\n    </tr>\n    <tr>\n      <th>...</th>\n      <td>...</td>\n    </tr>\n    <tr>\n      <th>106</th>\n      <td>7.2</td>\n    </tr>\n    <tr>\n      <th>14</th>\n      <td>19.0</td>\n    </tr>\n    <tr>\n      <th>92</th>\n      <td>19.4</td>\n    </tr>\n    <tr>\n      <th>179</th>\n      <td>17.6</td>\n    </tr>\n    <tr>\n      <th>102</th>\n      <td>19.8</td>\n    </tr>\n  </tbody>\n</table>\n<p>160 rows × 1 columns</p>\n</div>"
     },
     "execution_count": 14,
     "metadata": {},
     "output_type": "execute_result"
    }
   ],
   "source": [
    "y_train"
   ]
  },
  {
   "cell_type": "code",
   "execution_count": 15,
   "metadata": {
    "ExecuteTime": {
     "end_time": "2024-03-15T00:16:52.318786632Z",
     "start_time": "2024-03-15T00:16:52.205850121Z"
    }
   },
   "outputs": [
    {
     "data": {
      "text/plain": "     Sales\n95    16.9\n15    22.4\n30    21.4\n158    7.3\n128   24.7\n115   12.6\n69    22.3\n170    8.4\n174   16.5\n45    16.1\n66    11.0\n182    8.7\n165   16.9\n78     5.3\n186   10.3\n177   16.7\n56     5.5\n152   16.6\n82    11.3\n68    18.9\n124   19.7\n16    12.5\n148   10.9\n93    22.2\n65    11.3\n60     8.1\n84    21.7\n67    13.4\n125   10.6\n132    5.7\n9     15.6\n18    11.3\n55    23.7\n75     8.7\n150   16.1\n104   20.7\n135   11.6\n137   20.8\n164   11.9\n76     6.9",
      "text/html": "<div>\n<style scoped>\n    .dataframe tbody tr th:only-of-type {\n        vertical-align: middle;\n    }\n\n    .dataframe tbody tr th {\n        vertical-align: top;\n    }\n\n    .dataframe thead th {\n        text-align: right;\n    }\n</style>\n<table border=\"1\" class=\"dataframe\">\n  <thead>\n    <tr style=\"text-align: right;\">\n      <th></th>\n      <th>Sales</th>\n    </tr>\n  </thead>\n  <tbody>\n    <tr>\n      <th>95</th>\n      <td>16.9</td>\n    </tr>\n    <tr>\n      <th>15</th>\n      <td>22.4</td>\n    </tr>\n    <tr>\n      <th>30</th>\n      <td>21.4</td>\n    </tr>\n    <tr>\n      <th>158</th>\n      <td>7.3</td>\n    </tr>\n    <tr>\n      <th>128</th>\n      <td>24.7</td>\n    </tr>\n    <tr>\n      <th>115</th>\n      <td>12.6</td>\n    </tr>\n    <tr>\n      <th>69</th>\n      <td>22.3</td>\n    </tr>\n    <tr>\n      <th>170</th>\n      <td>8.4</td>\n    </tr>\n    <tr>\n      <th>174</th>\n      <td>16.5</td>\n    </tr>\n    <tr>\n      <th>45</th>\n      <td>16.1</td>\n    </tr>\n    <tr>\n      <th>66</th>\n      <td>11.0</td>\n    </tr>\n    <tr>\n      <th>182</th>\n      <td>8.7</td>\n    </tr>\n    <tr>\n      <th>165</th>\n      <td>16.9</td>\n    </tr>\n    <tr>\n      <th>78</th>\n      <td>5.3</td>\n    </tr>\n    <tr>\n      <th>186</th>\n      <td>10.3</td>\n    </tr>\n    <tr>\n      <th>177</th>\n      <td>16.7</td>\n    </tr>\n    <tr>\n      <th>56</th>\n      <td>5.5</td>\n    </tr>\n    <tr>\n      <th>152</th>\n      <td>16.6</td>\n    </tr>\n    <tr>\n      <th>82</th>\n      <td>11.3</td>\n    </tr>\n    <tr>\n      <th>68</th>\n      <td>18.9</td>\n    </tr>\n    <tr>\n      <th>124</th>\n      <td>19.7</td>\n    </tr>\n    <tr>\n      <th>16</th>\n      <td>12.5</td>\n    </tr>\n    <tr>\n      <th>148</th>\n      <td>10.9</td>\n    </tr>\n    <tr>\n      <th>93</th>\n      <td>22.2</td>\n    </tr>\n    <tr>\n      <th>65</th>\n      <td>11.3</td>\n    </tr>\n    <tr>\n      <th>60</th>\n      <td>8.1</td>\n    </tr>\n    <tr>\n      <th>84</th>\n      <td>21.7</td>\n    </tr>\n    <tr>\n      <th>67</th>\n      <td>13.4</td>\n    </tr>\n    <tr>\n      <th>125</th>\n      <td>10.6</td>\n    </tr>\n    <tr>\n      <th>132</th>\n      <td>5.7</td>\n    </tr>\n    <tr>\n      <th>9</th>\n      <td>15.6</td>\n    </tr>\n    <tr>\n      <th>18</th>\n      <td>11.3</td>\n    </tr>\n    <tr>\n      <th>55</th>\n      <td>23.7</td>\n    </tr>\n    <tr>\n      <th>75</th>\n      <td>8.7</td>\n    </tr>\n    <tr>\n      <th>150</th>\n      <td>16.1</td>\n    </tr>\n    <tr>\n      <th>104</th>\n      <td>20.7</td>\n    </tr>\n    <tr>\n      <th>135</th>\n      <td>11.6</td>\n    </tr>\n    <tr>\n      <th>137</th>\n      <td>20.8</td>\n    </tr>\n    <tr>\n      <th>164</th>\n      <td>11.9</td>\n    </tr>\n    <tr>\n      <th>76</th>\n      <td>6.9</td>\n    </tr>\n  </tbody>\n</table>\n</div>"
     },
     "execution_count": 15,
     "metadata": {},
     "output_type": "execute_result"
    }
   ],
   "source": [
    "y_test"
   ]
  },
  {
   "cell_type": "markdown",
   "metadata": {
    "id": "G6U4R9KLi7cb"
   },
   "source": [
    "### d- Normalisation des features\n"
   ]
  },
  {
   "cell_type": "code",
   "execution_count": 16,
   "metadata": {
    "ExecuteTime": {
     "end_time": "2024-03-15T00:16:54.592384496Z",
     "start_time": "2024-03-15T00:16:54.566006633Z"
    }
   },
   "outputs": [],
   "source": [
    "from sklearn.preprocessing import StandardScaler\n"
   ]
  },
  {
   "cell_type": "code",
   "execution_count": 17,
   "outputs": [],
   "source": [
    "def standard_scaler_normalization(data):\n",
    "    # Initialiser le StandardScaler\n",
    "    scaler = StandardScaler()\n",
    "\n",
    "    # Adapter le scaler aux données et les transformer\n",
    "    data_normalized = scaler.fit_transform(data)\n",
    "\n",
    "    return data_normalized, scaler"
   ],
   "metadata": {
    "collapsed": false,
    "ExecuteTime": {
     "end_time": "2024-03-15T00:16:55.483913719Z",
     "start_time": "2024-03-15T00:16:55.456916042Z"
    }
   }
  },
  {
   "cell_type": "code",
   "execution_count": 18,
   "outputs": [
    {
     "data": {
      "text/plain": "array([[-4.04248386e-01, -1.02823707e+00, -3.37675384e-01],\n       [ 3.20607716e-01, -9.19827737e-01, -1.16143931e+00],\n       [-1.27051084e+00,  2.59123702e-01,  2.54250789e-01],\n       [-1.04235941e+00, -6.96233499e-01, -5.74445854e-01],\n       [ 8.79103401e-01, -1.38734296e+00, -7.07629243e-01],\n       [-1.32873699e+00, -1.29926038e+00, -7.96418169e-01],\n       [-9.43731452e-01, -4.65863678e-01,  5.35415722e-01],\n       [-3.23140256e-02,  6.94073782e-02, -5.34984109e-01],\n       [-5.39713297e-01, -1.16374872e+00,  2.19721762e-01],\n       [-8.75998996e-01,  3.13328366e-01, -6.87898371e-01],\n       [-8.53421511e-01,  1.62101588e+00,  2.24654481e-01],\n       [ 2.18414888e-01, -1.06889056e+00, -8.45745350e-01],\n       [-1.67928215e+00,  1.76330312e+00,  2.22240532e+00],\n       [-1.68997675e+00,  1.08574483e+00,  1.01882210e+00],\n       [-8.74810708e-01, -1.49575229e+00, -7.47090988e-01],\n       [-2.45017701e-01, -1.16374872e+00,  6.68075010e-02],\n       [-9.10459368e-01, -3.98107848e-01, -8.40812632e-01],\n       [ 1.65980907e+00,  1.31611465e+00,  1.04841841e+00],\n       [-1.54975868e+00, -1.88064775e-01, -6.38571189e-01],\n       [ 5.65395186e-01, -1.31281155e+00, -1.18610290e+00],\n       [ 1.59564148e+00, -8.31745159e-01, -1.16143931e+00],\n       [ 4.14482522e-01, -1.27084528e-01, -3.91935284e-01],\n       [-4.41085335e-01, -3.71005516e-01,  4.26895923e-01],\n       [-1.49985056e+00,  8.28272672e-01,  1.77352797e+00],\n       [ 1.67169196e+00, -1.27215805e+00, -1.05785223e+00],\n       [-1.55213526e+00, -4.65863678e-01, -3.77137129e-01],\n       [ 1.70615233e+00,  3.26879532e-01, -1.38834434e+00],\n       [-1.56045328e+00, -7.30111414e-01, -3.22877230e-01],\n       [-1.86791555e-01, -1.21795339e+00, -1.01839048e+00],\n       [-1.47846136e+00,  1.09252041e+00, -1.01839048e+00],\n       [-5.89621422e-01, -8.99500988e-01, -1.29955542e+00],\n       [-8.29655737e-01, -1.54995695e+00, -1.02332320e+00],\n       [ 4.56072627e-01, -3.23576435e-01, -2.14357432e-01],\n       [ 3.20607716e-01,  7.13087762e-01,  4.31828641e-01],\n       [-2.88984383e-01,  9.50233166e-01,  2.42957948e+00],\n       [ 7.07989829e-01, -1.54186860e-01, -9.49332431e-01],\n       [-8.45987280e-02,  4.35288859e-01, -8.55610786e-01],\n       [ 4.14482522e-01,  1.42452397e+00, -1.39327706e+00],\n       [ 8.60090782e-01, -1.25860689e+00,  9.79360352e-01],\n       [ 1.08943050e+00,  1.02476458e+00, -3.32742666e-01],\n       [-1.57827761e+00,  1.56003563e+00,  1.94124038e+00],\n       [-3.50775395e-01,  3.81084195e-01, -7.76687297e-01],\n       [-7.16768312e-01, -8.79174239e-01,  2.83847098e-01],\n       [ 4.88156421e-01,  3.94635361e-01, -5.79378572e-01],\n       [-8.85505306e-01, -8.18193993e-01, -1.18117018e+00],\n       [ 5.13110484e-01, -3.03249686e-01,  1.76366253e+00],\n       [-7.64299859e-01,  8.75701753e-01,  9.54696761e-01],\n       [ 1.38887925e+00,  1.41774839e+00, -1.23049736e+00],\n       [-1.31328923e+00,  1.23480765e+00, -1.19103562e+00],\n       [ 1.32233508e+00,  1.34321698e+00,  1.22106354e+00],\n       [-1.62580916e+00, -4.72639260e-01,  9.69494916e-01],\n       [ 5.19051927e-01,  8.48599421e-01,  2.25200163e+00],\n       [ 1.73942441e+00,  9.09579668e-01,  3.49997931e+00],\n       [ 1.37343150e+00, -1.94840358e-01, -1.46233511e+00],\n       [ 7.68592552e-01,  7.61829612e-02, -1.27982454e+00],\n       [-3.79509701e-03,  8.62150587e-01, -1.18117018e+00],\n       [-2.17687061e-01, -3.03249686e-01,  2.29587199e-01],\n       [-1.09939727e+00,  6.72434264e-01, -3.17944512e-01],\n       [ 1.07041788e+00, -4.18434597e-01, -3.47540821e-01],\n       [-1.03611347e-01,  2.65899285e-01,  8.01782500e-01],\n       [ 3.65762686e-01, -8.18193993e-01,  1.40357411e+00],\n       [-6.27646660e-01, -1.44832321e+00,  2.68216547e-03],\n       [ 8.37513296e-01,  6.99536596e-01,  3.92366896e-01],\n       [-1.15494234e-01, -1.42122088e+00, -1.03318864e+00],\n       [ 1.25222605e+00,  2.72674868e-01, -1.20583377e+00],\n       [-6.39529547e-01, -5.47170673e-01,  4.41694078e-01],\n       [-9.97204443e-01, -1.15697314e+00, -2.83415485e-01],\n       [ 1.06091157e+00, -4.99741592e-01, -1.30501224e-01],\n       [ 3.05159963e-01, -5.06517175e-01, -1.35874803e+00],\n       [ 1.07041788e+00, -1.05533940e+00, -1.04798679e+00],\n       [-1.56995959e+00,  9.97662247e-01, -4.11666156e-01],\n       [ 9.51589011e-01,  1.01121341e+00,  1.93630767e+00],\n       [ 1.58732346e+00,  1.29578790e+00,  1.78832612e+00],\n       [ 2.52875260e-01,  1.13994949e+00,  3.82501460e-01],\n       [ 5.83219517e-01,  5.23371438e-01,  4.31828641e-01],\n       [-3.19879889e-01,  7.94394757e-01, -8.65476223e-01],\n       [-2.24816794e-01,  1.34999256e+00, -5.15777338e-02],\n       [-1.48440281e+00,  1.91367872e-01,  6.58733675e-01],\n       [ 1.60188742e-01,  9.43457583e-01, -1.11211213e+00],\n       [ 1.17379900e+00,  2.86226034e-01, -3.47540821e-01],\n       [ 6.23621332e-01, -3.90019495e-02,  8.16056553e-02],\n       [-1.62699745e+00, -1.52285462e+00, -2.14357432e-01],\n       [-1.73394343e+00, -7.63989329e-01, -1.19596834e+00],\n       [-6.66860187e-01,  1.39742164e+00,  1.01388938e+00],\n       [ 1.34134770e+00, -1.31281155e+00, -5.15253237e-01],\n       [ 9.30199814e-01, -4.04883431e-01, -1.84761123e-01],\n       [ 1.23321343e+00, -1.06757779e-01,  2.68216547e-03],\n       [ 1.10725483e+00,  1.77007871e+00,  7.08060856e-01],\n       [ 1.06685301e+00, -1.27215805e+00,  3.43039715e-01],\n       [ 9.26634948e-01,  1.00443783e+00,  1.01336528e-01],\n       [ 7.76910573e-01,  4.90806292e-02,  1.36411236e+00],\n       [ 1.06804130e+00,  1.26190998e+00, -5.64580418e-01],\n       [-5.06441213e-01, -6.01375337e-01, -9.39466994e-01],\n       [ 4.48942894e-01, -1.20308945e-01, -1.00852505e+00],\n       [ 6.75906034e-01, -9.80807984e-01, -1.74895687e-01],\n       [-1.27169913e+00,  2.04919038e-01, -4.65926055e-01],\n       [ 1.75940994e-02,  1.24835882e+00,  1.40850683e+00],\n       [-1.44013163e-01,  1.59391355e+00,  1.43317042e+00],\n       [ 3.87151882e-01,  1.58036238e+00,  1.41837226e+00],\n       [ 8.29195276e-01,  7.19863345e-01,  7.47522601e-01],\n       [ 7.81968227e-02, -1.37379180e+00, -1.06771767e+00],\n       [ 1.50533154e+00, -1.39411855e+00, -3.08079076e-01],\n       [ 6.53328549e-01,  1.50583097e+00, -5.10320518e-01],\n       [-9.87698133e-01, -7.57213746e-01,  3.38106997e-01],\n       [-8.74810708e-01,  2.59123702e-01, -3.77137129e-01],\n       [-6.45470990e-01, -1.45509879e+00, -1.11211213e+00],\n       [-3.54340261e-01, -2.21942690e-01, -9.04937968e-01],\n       [ 9.00492597e-01, -9.94359150e-01,  1.30985247e+00],\n       [-1.44281270e+00, -1.44832321e+00,  1.50663709e-01],\n       [-9.69873803e-01,  1.46517747e+00,  2.78914380e-01],\n       [ 1.16904584e+00,  4.96269106e-01, -4.75791492e-01],\n       [ 8.13747523e-01, -1.18407547e+00, -1.25568505e-01],\n       [-4.77922285e-01,  1.68877171e+00,  1.05828384e+00],\n       [-1.68047044e+00, -1.40766971e+00, -1.42780609e+00],\n       [-6.24081794e-01, -1.03501265e+00, -1.12197756e+00],\n       [ 7.21061005e-01,  4.48840025e-01, -1.01839048e+00],\n       [ 1.72071629e-01, -1.33860111e-01,  8.60975117e-01],\n       [ 1.36867834e+00, -1.35346505e+00,  6.43935520e-01],\n       [ 1.56118111e+00,  1.13317391e+00,  1.27532344e+00],\n       [-1.46420190e+00,  6.85985430e-01, -5.25118673e-01],\n       [ 1.50770812e+00,  1.76330312e+00,  5.84742903e-01],\n       [-1.34418474e+00,  1.06541808e+00,  1.75872981e+00],\n       [ 6.74717746e-01, -1.19762664e+00, -5.20185955e-01],\n       [ 1.63485501e+00,  1.36354373e+00,  2.06455834e+00],\n       [-5.62290782e-01,  4.55615608e-01, -1.06278495e+00],\n       [ 1.33897112e+00,  4.01410944e-01, -6.92831089e-01],\n       [-7.08450291e-01, -1.52963021e+00, -3.32742666e-01],\n       [ 5.91537537e-01, -1.33991388e+00,  2.29587199e-01],\n       [-6.63295321e-01, -1.21795339e+00, -1.07758310e+00],\n       [ 7.22249293e-01,  1.81073220e+00,  3.82501460e-01],\n       [ 9.17128639e-01, -4.79414843e-01,  9.84293070e-01],\n       [-7.33404353e-01,  1.77816706e-01,  2.14348183e+00],\n       [ 1.03833409e+00, -1.20440222e+00, -3.17944512e-01],\n       [-1.64214070e-01, -2.49045022e-01, -6.58302062e-01],\n       [ 2.67134725e-01, -3.23576435e-01,  3.72111923e-02],\n       [-1.57827761e+00, -1.27215805e+00,  8.16056553e-02],\n       [-1.07444321e+00, -7.36886997e-01,  6.48868238e-01],\n       [-8.95011616e-01,  1.79718104e+00,  7.77118909e-01],\n       [-2.60680832e-03, -1.46187438e+00, -2.78482767e-01],\n       [ 1.99402269e-01,  1.29578790e+00, -1.29955542e+00],\n       [-1.25387480e+00,  1.11284716e+00,  7.47522601e-01],\n       [ 7.88793460e-01,  1.27546115e+00,  4.76223104e-01],\n       [-1.25149822e+00,  1.98143455e-01, -4.60993337e-01],\n       [-1.77434525e+00,  1.13317391e+00, -1.04798679e+00],\n       [-3.44833951e-01, -9.80807984e-01,  9.25100453e-01],\n       [ 4.50131183e-01, -3.84556682e-01, -5.94176726e-01],\n       [-1.76096957e-01,  1.27546115e+00,  7.86984346e-01],\n       [-1.28565410e-01, -5.81048588e-01, -2.14357432e-01],\n       [-4.67227687e-01,  1.20092974e+00,  1.64034458e+00],\n       [ 7.53144799e-01,  1.16836459e-01, -8.30947196e-01],\n       [-1.55926499e+00, -7.96554474e-02,  1.00895666e+00],\n       [ 9.75354785e-01, -9.67256818e-01, -1.04798679e+00],\n       [ 8.12559234e-01,  3.26879532e-01,  1.15693820e+00],\n       [ 1.61584239e+00, -6.08150920e-01, -1.29462270e+00],\n       [-4.77922285e-01, -5.81048588e-01,  8.65383734e-02],\n       [-1.48559110e+00, -8.04642827e-01, -1.21159889e-02],\n       [ 6.42633951e-01,  6.79209847e-01,  7.91917064e-01],\n       [ 8.04241213e-01,  7.19863345e-01,  1.43317042e+00],\n       [ 1.85142805e-01, -8.72398657e-01, -6.08974881e-01],\n       [ 1.54692165e+00, -8.65623074e-01, -4.21531592e-01]])"
     },
     "execution_count": 18,
     "metadata": {},
     "output_type": "execute_result"
    }
   ],
   "source": [
    "x_train_norm, scaler = standard_scaler_normalization(x_train)\n",
    "x_train_norm"
   ],
   "metadata": {
    "collapsed": false,
    "ExecuteTime": {
     "end_time": "2024-03-15T00:16:56.942636082Z",
     "start_time": "2024-03-15T00:16:56.899586096Z"
    }
   }
  },
  {
   "cell_type": "code",
   "execution_count": 21,
   "metadata": {
    "ExecuteTime": {
     "end_time": "2024-03-15T00:17:39.309821402Z",
     "start_time": "2024-03-15T00:17:39.261030864Z"
    }
   },
   "outputs": [
    {
     "data": {
      "text/plain": "array([150.019375,  22.875625,  29.945625])"
     },
     "execution_count": 21,
     "metadata": {},
     "output_type": "execute_result"
    }
   ],
   "source": [
    "scaler.mean_"
   ]
  },
  {
   "cell_type": "code",
   "execution_count": 22,
   "outputs": [
    {
     "data": {
      "text/plain": "array([84.15463408, 14.75887761, 20.27279842])"
     },
     "execution_count": 22,
     "metadata": {},
     "output_type": "execute_result"
    }
   ],
   "source": [
    "scaler.scale_"
   ],
   "metadata": {
    "collapsed": false,
    "ExecuteTime": {
     "end_time": "2024-03-15T00:17:54.541880140Z",
     "start_time": "2024-03-15T00:17:54.516930142Z"
    }
   }
  },
  {
   "cell_type": "code",
   "execution_count": 40,
   "outputs": [
    {
     "data": {
      "text/plain": "array([[ 0.15781217,  0.59112727,  1.13227461],\n       [ 0.53925283,  1.68199613,  1.13227461],\n       [ 1.69783431,  0.36753303,  0.65380096],\n       [-1.64363349,  0.95023317,  0.75245532],\n       [ 0.83513672,  1.77007871, -1.31928629],\n       [-0.89025846,  0.82149709,  1.12240918],\n       [ 0.79354661,  1.42452397, -0.13543394],\n       [-1.18851892, -0.76398933, -0.56951314],\n       [ 0.86009078, -1.31958713, -0.8309472 ],\n       [ 0.29803023, -0.02545078,  0.07667294],\n       [-1.40835233,  0.11683646, -1.36861347],\n       [-1.11484502, -1.16374872, -0.01211599],\n       [ 1.00387371, -1.31958713,  2.70581169],\n       [-1.71849568,  0.47594236, -1.01345777],\n       [-0.12500054, -1.40766971, -0.16503025],\n       [ 0.23980408, -1.02146148,  0.25918351],\n       [-1.69591819,  0.35398186,  0.56501203],\n       [ 0.56539519,  0.02875388, -0.7766873 ],\n       [-0.88788188, -0.17451361,  0.12600012],\n       [ 1.03833409,  0.31332837, -0.93453428],\n       [ 0.94445928,  0.63855635,  2.18294357],\n       [-0.97700354,  0.92990642,  4.14616538],\n       [-1.33111357,  1.18060299, -0.89013981],\n       [ 1.19875306,  0.92313083,  2.08922193],\n       [-0.96274407, -0.91982774, -1.43273881],\n       [-1.14692882, -1.4144453 , -0.42153159],\n       [ 0.75433309,  1.36354373,  0.19012545],\n       [-0.12737712, -0.56749742, -0.97399602],\n       [-0.74647553, -0.75043816, -0.19955928],\n       [-1.68284702,  0.29300162, -1.37354619],\n       [ 0.59153754, -1.3737918 , -0.43139703],\n       [-0.96036749, -0.16096244, -0.57444585],\n       [ 0.58084294,  1.79718104,  1.4824976 ],\n       [-1.58184248,  1.41097281,  2.93271673],\n       [ 1.55286309, -0.60815092,  0.34797243],\n       [ 1.04784039,  0.77406801, -1.21569921],\n       [-1.20871983,  1.63456705, -1.05785223],\n       [ 1.46968288,  0.40818653,  1.46769945],\n       [-0.38998892, -0.55394626, -1.21076649],\n       [-1.45588388, -1.44154763, -0.45606062]])"
     },
     "execution_count": 40,
     "metadata": {},
     "output_type": "execute_result"
    }
   ],
   "source": [
    "x_test_norm = scaler.transform(x_test)\n",
    "x_test_norm"
   ],
   "metadata": {
    "collapsed": false,
    "ExecuteTime": {
     "end_time": "2024-03-15T00:24:01.347128739Z",
     "start_time": "2024-03-15T00:24:01.268410165Z"
    }
   }
  },
  {
   "cell_type": "markdown",
   "metadata": {
    "id": "6IPdTWuVi7cf"
   },
   "source": [
    "### 2- Construction de X, Theta et Y"
   ]
  },
  {
   "cell_type": "code",
   "execution_count": 41,
   "metadata": {
    "id": "LPqUTv33i7cf",
    "outputId": "44a2353b-086a-488f-d400-f9c940a03421",
    "ExecuteTime": {
     "end_time": "2024-03-15T00:24:02.763744326Z",
     "start_time": "2024-03-15T00:24:02.670299125Z"
    }
   },
   "outputs": [
    {
     "data": {
      "text/plain": "array([[-4.04248386e-01, -1.02823707e+00, -3.37675384e-01,\n         1.00000000e+00],\n       [ 3.20607716e-01, -9.19827737e-01, -1.16143931e+00,\n         1.00000000e+00],\n       [-1.27051084e+00,  2.59123702e-01,  2.54250789e-01,\n         1.00000000e+00],\n       [-1.04235941e+00, -6.96233499e-01, -5.74445854e-01,\n         1.00000000e+00],\n       [ 8.79103401e-01, -1.38734296e+00, -7.07629243e-01,\n         1.00000000e+00],\n       [-1.32873699e+00, -1.29926038e+00, -7.96418169e-01,\n         1.00000000e+00],\n       [-9.43731452e-01, -4.65863678e-01,  5.35415722e-01,\n         1.00000000e+00],\n       [-3.23140256e-02,  6.94073782e-02, -5.34984109e-01,\n         1.00000000e+00],\n       [-5.39713297e-01, -1.16374872e+00,  2.19721762e-01,\n         1.00000000e+00],\n       [-8.75998996e-01,  3.13328366e-01, -6.87898371e-01,\n         1.00000000e+00],\n       [-8.53421511e-01,  1.62101588e+00,  2.24654481e-01,\n         1.00000000e+00],\n       [ 2.18414888e-01, -1.06889056e+00, -8.45745350e-01,\n         1.00000000e+00],\n       [-1.67928215e+00,  1.76330312e+00,  2.22240532e+00,\n         1.00000000e+00],\n       [-1.68997675e+00,  1.08574483e+00,  1.01882210e+00,\n         1.00000000e+00],\n       [-8.74810708e-01, -1.49575229e+00, -7.47090988e-01,\n         1.00000000e+00],\n       [-2.45017701e-01, -1.16374872e+00,  6.68075010e-02,\n         1.00000000e+00],\n       [-9.10459368e-01, -3.98107848e-01, -8.40812632e-01,\n         1.00000000e+00],\n       [ 1.65980907e+00,  1.31611465e+00,  1.04841841e+00,\n         1.00000000e+00],\n       [-1.54975868e+00, -1.88064775e-01, -6.38571189e-01,\n         1.00000000e+00],\n       [ 5.65395186e-01, -1.31281155e+00, -1.18610290e+00,\n         1.00000000e+00],\n       [ 1.59564148e+00, -8.31745159e-01, -1.16143931e+00,\n         1.00000000e+00],\n       [ 4.14482522e-01, -1.27084528e-01, -3.91935284e-01,\n         1.00000000e+00],\n       [-4.41085335e-01, -3.71005516e-01,  4.26895923e-01,\n         1.00000000e+00],\n       [-1.49985056e+00,  8.28272672e-01,  1.77352797e+00,\n         1.00000000e+00],\n       [ 1.67169196e+00, -1.27215805e+00, -1.05785223e+00,\n         1.00000000e+00],\n       [-1.55213526e+00, -4.65863678e-01, -3.77137129e-01,\n         1.00000000e+00],\n       [ 1.70615233e+00,  3.26879532e-01, -1.38834434e+00,\n         1.00000000e+00],\n       [-1.56045328e+00, -7.30111414e-01, -3.22877230e-01,\n         1.00000000e+00],\n       [-1.86791555e-01, -1.21795339e+00, -1.01839048e+00,\n         1.00000000e+00],\n       [-1.47846136e+00,  1.09252041e+00, -1.01839048e+00,\n         1.00000000e+00],\n       [-5.89621422e-01, -8.99500988e-01, -1.29955542e+00,\n         1.00000000e+00],\n       [-8.29655737e-01, -1.54995695e+00, -1.02332320e+00,\n         1.00000000e+00],\n       [ 4.56072627e-01, -3.23576435e-01, -2.14357432e-01,\n         1.00000000e+00],\n       [ 3.20607716e-01,  7.13087762e-01,  4.31828641e-01,\n         1.00000000e+00],\n       [-2.88984383e-01,  9.50233166e-01,  2.42957948e+00,\n         1.00000000e+00],\n       [ 7.07989829e-01, -1.54186860e-01, -9.49332431e-01,\n         1.00000000e+00],\n       [-8.45987280e-02,  4.35288859e-01, -8.55610786e-01,\n         1.00000000e+00],\n       [ 4.14482522e-01,  1.42452397e+00, -1.39327706e+00,\n         1.00000000e+00],\n       [ 8.60090782e-01, -1.25860689e+00,  9.79360352e-01,\n         1.00000000e+00],\n       [ 1.08943050e+00,  1.02476458e+00, -3.32742666e-01,\n         1.00000000e+00],\n       [-1.57827761e+00,  1.56003563e+00,  1.94124038e+00,\n         1.00000000e+00],\n       [-3.50775395e-01,  3.81084195e-01, -7.76687297e-01,\n         1.00000000e+00],\n       [-7.16768312e-01, -8.79174239e-01,  2.83847098e-01,\n         1.00000000e+00],\n       [ 4.88156421e-01,  3.94635361e-01, -5.79378572e-01,\n         1.00000000e+00],\n       [-8.85505306e-01, -8.18193993e-01, -1.18117018e+00,\n         1.00000000e+00],\n       [ 5.13110484e-01, -3.03249686e-01,  1.76366253e+00,\n         1.00000000e+00],\n       [-7.64299859e-01,  8.75701753e-01,  9.54696761e-01,\n         1.00000000e+00],\n       [ 1.38887925e+00,  1.41774839e+00, -1.23049736e+00,\n         1.00000000e+00],\n       [-1.31328923e+00,  1.23480765e+00, -1.19103562e+00,\n         1.00000000e+00],\n       [ 1.32233508e+00,  1.34321698e+00,  1.22106354e+00,\n         1.00000000e+00],\n       [-1.62580916e+00, -4.72639260e-01,  9.69494916e-01,\n         1.00000000e+00],\n       [ 5.19051927e-01,  8.48599421e-01,  2.25200163e+00,\n         1.00000000e+00],\n       [ 1.73942441e+00,  9.09579668e-01,  3.49997931e+00,\n         1.00000000e+00],\n       [ 1.37343150e+00, -1.94840358e-01, -1.46233511e+00,\n         1.00000000e+00],\n       [ 7.68592552e-01,  7.61829612e-02, -1.27982454e+00,\n         1.00000000e+00],\n       [-3.79509701e-03,  8.62150587e-01, -1.18117018e+00,\n         1.00000000e+00],\n       [-2.17687061e-01, -3.03249686e-01,  2.29587199e-01,\n         1.00000000e+00],\n       [-1.09939727e+00,  6.72434264e-01, -3.17944512e-01,\n         1.00000000e+00],\n       [ 1.07041788e+00, -4.18434597e-01, -3.47540821e-01,\n         1.00000000e+00],\n       [-1.03611347e-01,  2.65899285e-01,  8.01782500e-01,\n         1.00000000e+00],\n       [ 3.65762686e-01, -8.18193993e-01,  1.40357411e+00,\n         1.00000000e+00],\n       [-6.27646660e-01, -1.44832321e+00,  2.68216547e-03,\n         1.00000000e+00],\n       [ 8.37513296e-01,  6.99536596e-01,  3.92366896e-01,\n         1.00000000e+00],\n       [-1.15494234e-01, -1.42122088e+00, -1.03318864e+00,\n         1.00000000e+00],\n       [ 1.25222605e+00,  2.72674868e-01, -1.20583377e+00,\n         1.00000000e+00],\n       [-6.39529547e-01, -5.47170673e-01,  4.41694078e-01,\n         1.00000000e+00],\n       [-9.97204443e-01, -1.15697314e+00, -2.83415485e-01,\n         1.00000000e+00],\n       [ 1.06091157e+00, -4.99741592e-01, -1.30501224e-01,\n         1.00000000e+00],\n       [ 3.05159963e-01, -5.06517175e-01, -1.35874803e+00,\n         1.00000000e+00],\n       [ 1.07041788e+00, -1.05533940e+00, -1.04798679e+00,\n         1.00000000e+00],\n       [-1.56995959e+00,  9.97662247e-01, -4.11666156e-01,\n         1.00000000e+00],\n       [ 9.51589011e-01,  1.01121341e+00,  1.93630767e+00,\n         1.00000000e+00],\n       [ 1.58732346e+00,  1.29578790e+00,  1.78832612e+00,\n         1.00000000e+00],\n       [ 2.52875260e-01,  1.13994949e+00,  3.82501460e-01,\n         1.00000000e+00],\n       [ 5.83219517e-01,  5.23371438e-01,  4.31828641e-01,\n         1.00000000e+00],\n       [-3.19879889e-01,  7.94394757e-01, -8.65476223e-01,\n         1.00000000e+00],\n       [-2.24816794e-01,  1.34999256e+00, -5.15777338e-02,\n         1.00000000e+00],\n       [-1.48440281e+00,  1.91367872e-01,  6.58733675e-01,\n         1.00000000e+00],\n       [ 1.60188742e-01,  9.43457583e-01, -1.11211213e+00,\n         1.00000000e+00],\n       [ 1.17379900e+00,  2.86226034e-01, -3.47540821e-01,\n         1.00000000e+00],\n       [ 6.23621332e-01, -3.90019495e-02,  8.16056553e-02,\n         1.00000000e+00],\n       [-1.62699745e+00, -1.52285462e+00, -2.14357432e-01,\n         1.00000000e+00],\n       [-1.73394343e+00, -7.63989329e-01, -1.19596834e+00,\n         1.00000000e+00],\n       [-6.66860187e-01,  1.39742164e+00,  1.01388938e+00,\n         1.00000000e+00],\n       [ 1.34134770e+00, -1.31281155e+00, -5.15253237e-01,\n         1.00000000e+00],\n       [ 9.30199814e-01, -4.04883431e-01, -1.84761123e-01,\n         1.00000000e+00],\n       [ 1.23321343e+00, -1.06757779e-01,  2.68216547e-03,\n         1.00000000e+00],\n       [ 1.10725483e+00,  1.77007871e+00,  7.08060856e-01,\n         1.00000000e+00],\n       [ 1.06685301e+00, -1.27215805e+00,  3.43039715e-01,\n         1.00000000e+00],\n       [ 9.26634948e-01,  1.00443783e+00,  1.01336528e-01,\n         1.00000000e+00],\n       [ 7.76910573e-01,  4.90806292e-02,  1.36411236e+00,\n         1.00000000e+00],\n       [ 1.06804130e+00,  1.26190998e+00, -5.64580418e-01,\n         1.00000000e+00],\n       [-5.06441213e-01, -6.01375337e-01, -9.39466994e-01,\n         1.00000000e+00],\n       [ 4.48942894e-01, -1.20308945e-01, -1.00852505e+00,\n         1.00000000e+00],\n       [ 6.75906034e-01, -9.80807984e-01, -1.74895687e-01,\n         1.00000000e+00],\n       [-1.27169913e+00,  2.04919038e-01, -4.65926055e-01,\n         1.00000000e+00],\n       [ 1.75940994e-02,  1.24835882e+00,  1.40850683e+00,\n         1.00000000e+00],\n       [-1.44013163e-01,  1.59391355e+00,  1.43317042e+00,\n         1.00000000e+00],\n       [ 3.87151882e-01,  1.58036238e+00,  1.41837226e+00,\n         1.00000000e+00],\n       [ 8.29195276e-01,  7.19863345e-01,  7.47522601e-01,\n         1.00000000e+00],\n       [ 7.81968227e-02, -1.37379180e+00, -1.06771767e+00,\n         1.00000000e+00],\n       [ 1.50533154e+00, -1.39411855e+00, -3.08079076e-01,\n         1.00000000e+00],\n       [ 6.53328549e-01,  1.50583097e+00, -5.10320518e-01,\n         1.00000000e+00],\n       [-9.87698133e-01, -7.57213746e-01,  3.38106997e-01,\n         1.00000000e+00],\n       [-8.74810708e-01,  2.59123702e-01, -3.77137129e-01,\n         1.00000000e+00],\n       [-6.45470990e-01, -1.45509879e+00, -1.11211213e+00,\n         1.00000000e+00],\n       [-3.54340261e-01, -2.21942690e-01, -9.04937968e-01,\n         1.00000000e+00],\n       [ 9.00492597e-01, -9.94359150e-01,  1.30985247e+00,\n         1.00000000e+00],\n       [-1.44281270e+00, -1.44832321e+00,  1.50663709e-01,\n         1.00000000e+00],\n       [-9.69873803e-01,  1.46517747e+00,  2.78914380e-01,\n         1.00000000e+00],\n       [ 1.16904584e+00,  4.96269106e-01, -4.75791492e-01,\n         1.00000000e+00],\n       [ 8.13747523e-01, -1.18407547e+00, -1.25568505e-01,\n         1.00000000e+00],\n       [-4.77922285e-01,  1.68877171e+00,  1.05828384e+00,\n         1.00000000e+00],\n       [-1.68047044e+00, -1.40766971e+00, -1.42780609e+00,\n         1.00000000e+00],\n       [-6.24081794e-01, -1.03501265e+00, -1.12197756e+00,\n         1.00000000e+00],\n       [ 7.21061005e-01,  4.48840025e-01, -1.01839048e+00,\n         1.00000000e+00],\n       [ 1.72071629e-01, -1.33860111e-01,  8.60975117e-01,\n         1.00000000e+00],\n       [ 1.36867834e+00, -1.35346505e+00,  6.43935520e-01,\n         1.00000000e+00],\n       [ 1.56118111e+00,  1.13317391e+00,  1.27532344e+00,\n         1.00000000e+00],\n       [-1.46420190e+00,  6.85985430e-01, -5.25118673e-01,\n         1.00000000e+00],\n       [ 1.50770812e+00,  1.76330312e+00,  5.84742903e-01,\n         1.00000000e+00],\n       [-1.34418474e+00,  1.06541808e+00,  1.75872981e+00,\n         1.00000000e+00],\n       [ 6.74717746e-01, -1.19762664e+00, -5.20185955e-01,\n         1.00000000e+00],\n       [ 1.63485501e+00,  1.36354373e+00,  2.06455834e+00,\n         1.00000000e+00],\n       [-5.62290782e-01,  4.55615608e-01, -1.06278495e+00,\n         1.00000000e+00],\n       [ 1.33897112e+00,  4.01410944e-01, -6.92831089e-01,\n         1.00000000e+00],\n       [-7.08450291e-01, -1.52963021e+00, -3.32742666e-01,\n         1.00000000e+00],\n       [ 5.91537537e-01, -1.33991388e+00,  2.29587199e-01,\n         1.00000000e+00],\n       [-6.63295321e-01, -1.21795339e+00, -1.07758310e+00,\n         1.00000000e+00],\n       [ 7.22249293e-01,  1.81073220e+00,  3.82501460e-01,\n         1.00000000e+00],\n       [ 9.17128639e-01, -4.79414843e-01,  9.84293070e-01,\n         1.00000000e+00],\n       [-7.33404353e-01,  1.77816706e-01,  2.14348183e+00,\n         1.00000000e+00],\n       [ 1.03833409e+00, -1.20440222e+00, -3.17944512e-01,\n         1.00000000e+00],\n       [-1.64214070e-01, -2.49045022e-01, -6.58302062e-01,\n         1.00000000e+00],\n       [ 2.67134725e-01, -3.23576435e-01,  3.72111923e-02,\n         1.00000000e+00],\n       [-1.57827761e+00, -1.27215805e+00,  8.16056553e-02,\n         1.00000000e+00],\n       [-1.07444321e+00, -7.36886997e-01,  6.48868238e-01,\n         1.00000000e+00],\n       [-8.95011616e-01,  1.79718104e+00,  7.77118909e-01,\n         1.00000000e+00],\n       [-2.60680832e-03, -1.46187438e+00, -2.78482767e-01,\n         1.00000000e+00],\n       [ 1.99402269e-01,  1.29578790e+00, -1.29955542e+00,\n         1.00000000e+00],\n       [-1.25387480e+00,  1.11284716e+00,  7.47522601e-01,\n         1.00000000e+00],\n       [ 7.88793460e-01,  1.27546115e+00,  4.76223104e-01,\n         1.00000000e+00],\n       [-1.25149822e+00,  1.98143455e-01, -4.60993337e-01,\n         1.00000000e+00],\n       [-1.77434525e+00,  1.13317391e+00, -1.04798679e+00,\n         1.00000000e+00],\n       [-3.44833951e-01, -9.80807984e-01,  9.25100453e-01,\n         1.00000000e+00],\n       [ 4.50131183e-01, -3.84556682e-01, -5.94176726e-01,\n         1.00000000e+00],\n       [-1.76096957e-01,  1.27546115e+00,  7.86984346e-01,\n         1.00000000e+00],\n       [-1.28565410e-01, -5.81048588e-01, -2.14357432e-01,\n         1.00000000e+00],\n       [-4.67227687e-01,  1.20092974e+00,  1.64034458e+00,\n         1.00000000e+00],\n       [ 7.53144799e-01,  1.16836459e-01, -8.30947196e-01,\n         1.00000000e+00],\n       [-1.55926499e+00, -7.96554474e-02,  1.00895666e+00,\n         1.00000000e+00],\n       [ 9.75354785e-01, -9.67256818e-01, -1.04798679e+00,\n         1.00000000e+00],\n       [ 8.12559234e-01,  3.26879532e-01,  1.15693820e+00,\n         1.00000000e+00],\n       [ 1.61584239e+00, -6.08150920e-01, -1.29462270e+00,\n         1.00000000e+00],\n       [-4.77922285e-01, -5.81048588e-01,  8.65383734e-02,\n         1.00000000e+00],\n       [-1.48559110e+00, -8.04642827e-01, -1.21159889e-02,\n         1.00000000e+00],\n       [ 6.42633951e-01,  6.79209847e-01,  7.91917064e-01,\n         1.00000000e+00],\n       [ 8.04241213e-01,  7.19863345e-01,  1.43317042e+00,\n         1.00000000e+00],\n       [ 1.85142805e-01, -8.72398657e-01, -6.08974881e-01,\n         1.00000000e+00],\n       [ 1.54692165e+00, -8.65623074e-01, -4.21531592e-01,\n         1.00000000e+00]])"
     },
     "execution_count": 41,
     "metadata": {},
     "output_type": "execute_result"
    }
   ],
   "source": [
    "#x train:\n",
    "X_train_norm_1 = np.hstack((x_train_norm, np.ones((x_train.shape[0], 1))))\n",
    "X_train_norm_1"
   ]
  },
  {
   "cell_type": "code",
   "execution_count": 42,
   "metadata": {
    "id": "6sP-vvF4i7cf",
    "outputId": "39411a34-514d-447c-8da1-dc282c66e13d",
    "ExecuteTime": {
     "end_time": "2024-03-15T00:24:03.362879237Z",
     "start_time": "2024-03-15T00:24:03.282249137Z"
    }
   },
   "outputs": [
    {
     "data": {
      "text/plain": "array([[ 0.15781217,  0.59112727,  1.13227461,  1.        ],\n       [ 0.53925283,  1.68199613,  1.13227461,  1.        ],\n       [ 1.69783431,  0.36753303,  0.65380096,  1.        ],\n       [-1.64363349,  0.95023317,  0.75245532,  1.        ],\n       [ 0.83513672,  1.77007871, -1.31928629,  1.        ],\n       [-0.89025846,  0.82149709,  1.12240918,  1.        ],\n       [ 0.79354661,  1.42452397, -0.13543394,  1.        ],\n       [-1.18851892, -0.76398933, -0.56951314,  1.        ],\n       [ 0.86009078, -1.31958713, -0.8309472 ,  1.        ],\n       [ 0.29803023, -0.02545078,  0.07667294,  1.        ],\n       [-1.40835233,  0.11683646, -1.36861347,  1.        ],\n       [-1.11484502, -1.16374872, -0.01211599,  1.        ],\n       [ 1.00387371, -1.31958713,  2.70581169,  1.        ],\n       [-1.71849568,  0.47594236, -1.01345777,  1.        ],\n       [-0.12500054, -1.40766971, -0.16503025,  1.        ],\n       [ 0.23980408, -1.02146148,  0.25918351,  1.        ],\n       [-1.69591819,  0.35398186,  0.56501203,  1.        ],\n       [ 0.56539519,  0.02875388, -0.7766873 ,  1.        ],\n       [-0.88788188, -0.17451361,  0.12600012,  1.        ],\n       [ 1.03833409,  0.31332837, -0.93453428,  1.        ],\n       [ 0.94445928,  0.63855635,  2.18294357,  1.        ],\n       [-0.97700354,  0.92990642,  4.14616538,  1.        ],\n       [-1.33111357,  1.18060299, -0.89013981,  1.        ],\n       [ 1.19875306,  0.92313083,  2.08922193,  1.        ],\n       [-0.96274407, -0.91982774, -1.43273881,  1.        ],\n       [-1.14692882, -1.4144453 , -0.42153159,  1.        ],\n       [ 0.75433309,  1.36354373,  0.19012545,  1.        ],\n       [-0.12737712, -0.56749742, -0.97399602,  1.        ],\n       [-0.74647553, -0.75043816, -0.19955928,  1.        ],\n       [-1.68284702,  0.29300162, -1.37354619,  1.        ],\n       [ 0.59153754, -1.3737918 , -0.43139703,  1.        ],\n       [-0.96036749, -0.16096244, -0.57444585,  1.        ],\n       [ 0.58084294,  1.79718104,  1.4824976 ,  1.        ],\n       [-1.58184248,  1.41097281,  2.93271673,  1.        ],\n       [ 1.55286309, -0.60815092,  0.34797243,  1.        ],\n       [ 1.04784039,  0.77406801, -1.21569921,  1.        ],\n       [-1.20871983,  1.63456705, -1.05785223,  1.        ],\n       [ 1.46968288,  0.40818653,  1.46769945,  1.        ],\n       [-0.38998892, -0.55394626, -1.21076649,  1.        ],\n       [-1.45588388, -1.44154763, -0.45606062,  1.        ]])"
     },
     "execution_count": 42,
     "metadata": {},
     "output_type": "execute_result"
    }
   ],
   "source": [
    "X_test_norm_1 = np.hstack((x_test_norm, np.ones((x_test.shape[0], 1))))\n",
    "X_test_norm_1"
   ]
  },
  {
   "cell_type": "code",
   "execution_count": 43,
   "metadata": {
    "id": "ZRPOvf0ji7cf",
    "outputId": "a2e1ddf7-30ce-4108-e4ea-c4bbdddb7f1f",
    "ExecuteTime": {
     "end_time": "2024-03-15T00:24:04.046639168Z",
     "start_time": "2024-03-15T00:24:03.968468690Z"
    }
   },
   "outputs": [
    {
     "data": {
      "text/plain": "array([[11. ],\n       [14.8],\n       [10.1],\n       [ 9.7],\n       [16.6],\n       [ 7.6],\n       [10.5],\n       [14.6],\n       [10.4],\n       [12. ],\n       [14.6],\n       [16.7],\n       [ 7.2],\n       [ 6.6],\n       [ 9.4],\n       [11. ],\n       [10.9],\n       [25.4],\n       [ 7.6],\n       [16.7],\n       [20. ],\n       [20.5],\n       [11.9],\n       [ 9.2],\n       [17.8],\n       [ 6.6],\n       [20.7],\n       [ 6.7],\n       [14. ],\n       [ 9.5],\n       [10.7],\n       [11.9],\n       [19.9],\n       [17.1],\n       [15.9],\n       [20.9],\n       [15. ],\n       [20.7],\n       [16.7],\n       [21.8],\n       [12. ],\n       [14.2],\n       [10.6],\n       [17.3],\n       [11.9],\n       [20.2],\n       [13.3],\n       [25.4],\n       [10.8],\n       [24.2],\n       [ 5.6],\n       [19.2],\n       [23.8],\n       [17.4],\n       [17.4],\n       [17.3],\n       [12.9],\n       [11.8],\n       [20.9],\n       [15.5],\n       [17.9],\n       [13.2],\n       [20.1],\n       [10.3],\n       [19.8],\n       [12.3],\n       [12.6],\n       [20.7],\n       [17.1],\n       [18.2],\n       [ 8. ],\n       [22.1],\n       [25.5],\n       [16. ],\n       [18.3],\n       [15.2],\n       [16. ],\n       [ 8.5],\n       [18. ],\n       [18.9],\n       [16.6],\n       [ 5.3],\n       [ 3.2],\n       [15.3],\n       [17. ],\n       [20.5],\n       [17.6],\n       [25.4],\n       [17.3],\n       [21.5],\n       [17.1],\n       [23.2],\n       [11.5],\n       [20.6],\n       [17.9],\n       [ 9.6],\n       [16.5],\n       [15. ],\n       [21.2],\n       [19.6],\n       [15.5],\n       [16.8],\n       [22.6],\n       [ 9.7],\n       [11.8],\n       [11.9],\n       [13.2],\n       [18.4],\n       [ 7.3],\n       [13.6],\n       [20.2],\n       [17.2],\n       [16.7],\n       [ 4.8],\n       [13.7],\n       [18.4],\n       [17.5],\n       [17.7],\n       [24.4],\n       [ 8.8],\n       [27. ],\n       [10.8],\n       [17.2],\n       [26.2],\n       [14. ],\n       [20.2],\n       [12. ],\n       [16.4],\n       [14. ],\n       [23.8],\n       [19.8],\n       [12.9],\n       [17.5],\n       [13.2],\n       [16.4],\n       [ 5.9],\n       [ 9.7],\n       [14.7],\n       [10.1],\n       [19.6],\n       [10.4],\n       [22.6],\n       [10.1],\n       [ 1.6],\n       [11.6],\n       [19.7],\n       [17.2],\n       [12.2],\n       [16. ],\n       [17. ],\n       [ 7. ],\n       [18.4],\n       [18. ],\n       [20.9],\n       [12.4],\n       [ 7.2],\n       [19. ],\n       [19.4],\n       [17.6],\n       [19.8]])"
     },
     "execution_count": 43,
     "metadata": {},
     "output_type": "execute_result"
    }
   ],
   "source": [
    "Y_train = y_train.values\n",
    "Y_train"
   ]
  },
  {
   "cell_type": "code",
   "execution_count": 44,
   "metadata": {
    "id": "x8DXNnfGi7cg",
    "outputId": "b51fe0bf-838f-46b5-ce87-f0deb41157a3",
    "ExecuteTime": {
     "end_time": "2024-03-15T00:24:04.647069564Z",
     "start_time": "2024-03-15T00:24:04.543304174Z"
    }
   },
   "outputs": [
    {
     "data": {
      "text/plain": "array([[16.9],\n       [22.4],\n       [21.4],\n       [ 7.3],\n       [24.7],\n       [12.6],\n       [22.3],\n       [ 8.4],\n       [16.5],\n       [16.1],\n       [11. ],\n       [ 8.7],\n       [16.9],\n       [ 5.3],\n       [10.3],\n       [16.7],\n       [ 5.5],\n       [16.6],\n       [11.3],\n       [18.9],\n       [19.7],\n       [12.5],\n       [10.9],\n       [22.2],\n       [11.3],\n       [ 8.1],\n       [21.7],\n       [13.4],\n       [10.6],\n       [ 5.7],\n       [15.6],\n       [11.3],\n       [23.7],\n       [ 8.7],\n       [16.1],\n       [20.7],\n       [11.6],\n       [20.8],\n       [11.9],\n       [ 6.9]])"
     },
     "execution_count": 44,
     "metadata": {},
     "output_type": "execute_result"
    }
   ],
   "source": [
    "Y_test = y_test.values\n",
    "Y_test"
   ]
  },
  {
   "cell_type": "code",
   "execution_count": 45,
   "metadata": {
    "id": "aA0qhvsai7cg",
    "outputId": "0d5ad206-4c3d-4735-e385-fe8b61f7f72c",
    "ExecuteTime": {
     "end_time": "2024-03-15T00:24:05.145494495Z",
     "start_time": "2024-03-15T00:24:05.096156334Z"
    }
   },
   "outputs": [
    {
     "data": {
      "text/plain": "array([[1.76405235],\n       [0.40015721],\n       [0.97873798],\n       [2.2408932 ]])"
     },
     "execution_count": 45,
     "metadata": {},
     "output_type": "execute_result"
    }
   ],
   "source": [
    "#construction aléatoire de Theta initial:\n",
    "np.random.seed(0)\n",
    "\n",
    "theta = np.random.randn(X_train_norm_1.shape[1], 1)\n",
    "theta"
   ]
  },
  {
   "cell_type": "markdown",
   "metadata": {
    "id": "rwo1IkT4i7cg"
   },
   "source": [
    "### 4- Définition et entraînemet du modèle"
   ]
  },
  {
   "cell_type": "code",
   "execution_count": 46,
   "metadata": {
    "id": "lFFQFbVci7cg",
    "outputId": "547152ae-1d02-465e-ad84-37e16d71d040",
    "ExecuteTime": {
     "end_time": "2024-03-15T00:24:06.261630994Z",
     "start_time": "2024-03-15T00:24:06.232174634Z"
    }
   },
   "outputs": [
    {
     "data": {
      "text/plain": "91.72522545503882"
     },
     "execution_count": 46,
     "metadata": {},
     "output_type": "execute_result"
    }
   ],
   "source": [
    "def model(X, theta): # définir le modèle\n",
    "    return X.dot(theta)\n",
    "\n",
    "def cost_function(X, y, theta): #définir la fonction coût\n",
    "    m = len(y)\n",
    "    return 1/(2*m) * np.sum((model(X, theta) - y)**2)\n",
    "\n",
    "cost_function(X_train_norm_1, Y_train ,theta)"
   ]
  },
  {
   "cell_type": "code",
   "execution_count": 47,
   "metadata": {
    "ExecuteTime": {
     "end_time": "2024-03-15T00:24:06.906302026Z",
     "start_time": "2024-03-15T00:24:06.856176514Z"
    }
   },
   "outputs": [],
   "source": [
    "# définir la fonction de gradient\n",
    "def grad(X, y, theta):\n",
    "    m = len(y)\n",
    "    return 1/m * X.T.dot(model(X, theta) - y)\n",
    "# Définir la descente de gradient\n",
    "def gradient_descent(X, y, theta, learning_rate, n_iterations):\n",
    "    \n",
    "    cost_history = np.zeros(n_iterations) # création d'un tableau de stockage pour enregistrer l'évolution du Cout du modele\n",
    "    \n",
    "    for i in range(0, n_iterations):\n",
    "        theta = theta - learning_rate * grad(X, y, theta) # mise a jour du parametre theta (formule du gradient descent)\n",
    "        cost_history[i] = cost_function(X, y, theta) # on enregistre la valeur du Cout au tour i dans cost_history[i]\n",
    "        \n",
    "    return theta, cost_history"
   ]
  },
  {
   "cell_type": "code",
   "execution_count": 48,
   "metadata": {
    "id": "_rZeSinAi7cg",
    "outputId": "056aac57-a612-4cdd-b4e9-1ce76c7d3163",
    "ExecuteTime": {
     "end_time": "2024-03-15T00:24:07.519760756Z",
     "start_time": "2024-03-15T00:24:07.485536140Z"
    }
   },
   "outputs": [
    {
     "data": {
      "text/plain": "array([[ 4.58720774],\n       [ 1.48984025],\n       [ 0.08791597],\n       [15.330625  ]])"
     },
     "execution_count": 48,
     "metadata": {},
     "output_type": "execute_result"
    }
   ],
   "source": [
    "#entrainement:\n",
    "theta_final, cost_h = gradient_descent(X_train_norm_1, Y_train, theta, learning_rate=0.5, n_iterations=100)\n",
    "\n",
    "theta_final"
   ]
  },
  {
   "cell_type": "markdown",
   "metadata": {
    "id": "6xzD0Hb8i7ch"
   },
   "source": [
    "#### courbe d'apprentissage"
   ]
  },
  {
   "cell_type": "code",
   "execution_count": 49,
   "metadata": {
    "id": "kXuBIh_Hi7co",
    "outputId": "b46d13c4-675c-48da-ec5f-fa59e14401a8",
    "ExecuteTime": {
     "end_time": "2024-03-15T00:24:09.136108727Z",
     "start_time": "2024-03-15T00:24:08.731740363Z"
    }
   },
   "outputs": [
    {
     "ename": "ValueError",
     "evalue": "x and y must have same first dimension, but have shapes (1000,) and (100,)",
     "output_type": "error",
     "traceback": [
      "\u001B[0;31m---------------------------------------------------------------------------\u001B[0m",
      "\u001B[0;31mValueError\u001B[0m                                Traceback (most recent call last)",
      "Cell \u001B[0;32mIn[49], line 1\u001B[0m\n\u001B[0;32m----> 1\u001B[0m \u001B[43mplt\u001B[49m\u001B[38;5;241;43m.\u001B[39;49m\u001B[43mplot\u001B[49m\u001B[43m(\u001B[49m\u001B[38;5;28;43mrange\u001B[39;49m\u001B[43m(\u001B[49m\u001B[38;5;241;43m1000\u001B[39;49m\u001B[43m)\u001B[49m\u001B[43m,\u001B[49m\u001B[43m \u001B[49m\u001B[43mcost_h\u001B[49m\u001B[43m)\u001B[49m\n\u001B[1;32m      2\u001B[0m plt\u001B[38;5;241m.\u001B[39mshow()\n",
      "File \u001B[0;32m~/Documents/ENSET/s4/ai/venv/lib/python3.10/site-packages/matplotlib/pyplot.py:3590\u001B[0m, in \u001B[0;36mplot\u001B[0;34m(scalex, scaley, data, *args, **kwargs)\u001B[0m\n\u001B[1;32m   3582\u001B[0m \u001B[38;5;129m@_copy_docstring_and_deprecators\u001B[39m(Axes\u001B[38;5;241m.\u001B[39mplot)\n\u001B[1;32m   3583\u001B[0m \u001B[38;5;28;01mdef\u001B[39;00m \u001B[38;5;21mplot\u001B[39m(\n\u001B[1;32m   3584\u001B[0m     \u001B[38;5;241m*\u001B[39margs: \u001B[38;5;28mfloat\u001B[39m \u001B[38;5;241m|\u001B[39m ArrayLike \u001B[38;5;241m|\u001B[39m \u001B[38;5;28mstr\u001B[39m,\n\u001B[0;32m   (...)\u001B[0m\n\u001B[1;32m   3588\u001B[0m     \u001B[38;5;241m*\u001B[39m\u001B[38;5;241m*\u001B[39mkwargs,\n\u001B[1;32m   3589\u001B[0m ) \u001B[38;5;241m-\u001B[39m\u001B[38;5;241m>\u001B[39m \u001B[38;5;28mlist\u001B[39m[Line2D]:\n\u001B[0;32m-> 3590\u001B[0m     \u001B[38;5;28;01mreturn\u001B[39;00m \u001B[43mgca\u001B[49m\u001B[43m(\u001B[49m\u001B[43m)\u001B[49m\u001B[38;5;241;43m.\u001B[39;49m\u001B[43mplot\u001B[49m\u001B[43m(\u001B[49m\n\u001B[1;32m   3591\u001B[0m \u001B[43m        \u001B[49m\u001B[38;5;241;43m*\u001B[39;49m\u001B[43margs\u001B[49m\u001B[43m,\u001B[49m\n\u001B[1;32m   3592\u001B[0m \u001B[43m        \u001B[49m\u001B[43mscalex\u001B[49m\u001B[38;5;241;43m=\u001B[39;49m\u001B[43mscalex\u001B[49m\u001B[43m,\u001B[49m\n\u001B[1;32m   3593\u001B[0m \u001B[43m        \u001B[49m\u001B[43mscaley\u001B[49m\u001B[38;5;241;43m=\u001B[39;49m\u001B[43mscaley\u001B[49m\u001B[43m,\u001B[49m\n\u001B[1;32m   3594\u001B[0m \u001B[43m        \u001B[49m\u001B[38;5;241;43m*\u001B[39;49m\u001B[38;5;241;43m*\u001B[39;49m\u001B[43m(\u001B[49m\u001B[43m{\u001B[49m\u001B[38;5;124;43m\"\u001B[39;49m\u001B[38;5;124;43mdata\u001B[39;49m\u001B[38;5;124;43m\"\u001B[39;49m\u001B[43m:\u001B[49m\u001B[43m \u001B[49m\u001B[43mdata\u001B[49m\u001B[43m}\u001B[49m\u001B[43m \u001B[49m\u001B[38;5;28;43;01mif\u001B[39;49;00m\u001B[43m \u001B[49m\u001B[43mdata\u001B[49m\u001B[43m \u001B[49m\u001B[38;5;129;43;01mis\u001B[39;49;00m\u001B[43m \u001B[49m\u001B[38;5;129;43;01mnot\u001B[39;49;00m\u001B[43m \u001B[49m\u001B[38;5;28;43;01mNone\u001B[39;49;00m\u001B[43m \u001B[49m\u001B[38;5;28;43;01melse\u001B[39;49;00m\u001B[43m \u001B[49m\u001B[43m{\u001B[49m\u001B[43m}\u001B[49m\u001B[43m)\u001B[49m\u001B[43m,\u001B[49m\n\u001B[1;32m   3595\u001B[0m \u001B[43m        \u001B[49m\u001B[38;5;241;43m*\u001B[39;49m\u001B[38;5;241;43m*\u001B[39;49m\u001B[43mkwargs\u001B[49m\u001B[43m,\u001B[49m\n\u001B[1;32m   3596\u001B[0m \u001B[43m    \u001B[49m\u001B[43m)\u001B[49m\n",
      "File \u001B[0;32m~/Documents/ENSET/s4/ai/venv/lib/python3.10/site-packages/matplotlib/axes/_axes.py:1724\u001B[0m, in \u001B[0;36mAxes.plot\u001B[0;34m(self, scalex, scaley, data, *args, **kwargs)\u001B[0m\n\u001B[1;32m   1481\u001B[0m \u001B[38;5;250m\u001B[39m\u001B[38;5;124;03m\"\"\"\u001B[39;00m\n\u001B[1;32m   1482\u001B[0m \u001B[38;5;124;03mPlot y versus x as lines and/or markers.\u001B[39;00m\n\u001B[1;32m   1483\u001B[0m \n\u001B[0;32m   (...)\u001B[0m\n\u001B[1;32m   1721\u001B[0m \u001B[38;5;124;03m(``'green'``) or hex strings (``'#008000'``).\u001B[39;00m\n\u001B[1;32m   1722\u001B[0m \u001B[38;5;124;03m\"\"\"\u001B[39;00m\n\u001B[1;32m   1723\u001B[0m kwargs \u001B[38;5;241m=\u001B[39m cbook\u001B[38;5;241m.\u001B[39mnormalize_kwargs(kwargs, mlines\u001B[38;5;241m.\u001B[39mLine2D)\n\u001B[0;32m-> 1724\u001B[0m lines \u001B[38;5;241m=\u001B[39m [\u001B[38;5;241m*\u001B[39m\u001B[38;5;28mself\u001B[39m\u001B[38;5;241m.\u001B[39m_get_lines(\u001B[38;5;28mself\u001B[39m, \u001B[38;5;241m*\u001B[39margs, data\u001B[38;5;241m=\u001B[39mdata, \u001B[38;5;241m*\u001B[39m\u001B[38;5;241m*\u001B[39mkwargs)]\n\u001B[1;32m   1725\u001B[0m \u001B[38;5;28;01mfor\u001B[39;00m line \u001B[38;5;129;01min\u001B[39;00m lines:\n\u001B[1;32m   1726\u001B[0m     \u001B[38;5;28mself\u001B[39m\u001B[38;5;241m.\u001B[39madd_line(line)\n",
      "File \u001B[0;32m~/Documents/ENSET/s4/ai/venv/lib/python3.10/site-packages/matplotlib/axes/_base.py:303\u001B[0m, in \u001B[0;36m_process_plot_var_args.__call__\u001B[0;34m(self, axes, data, *args, **kwargs)\u001B[0m\n\u001B[1;32m    301\u001B[0m     this \u001B[38;5;241m+\u001B[39m\u001B[38;5;241m=\u001B[39m args[\u001B[38;5;241m0\u001B[39m],\n\u001B[1;32m    302\u001B[0m     args \u001B[38;5;241m=\u001B[39m args[\u001B[38;5;241m1\u001B[39m:]\n\u001B[0;32m--> 303\u001B[0m \u001B[38;5;28;01myield from\u001B[39;00m \u001B[38;5;28;43mself\u001B[39;49m\u001B[38;5;241;43m.\u001B[39;49m\u001B[43m_plot_args\u001B[49m\u001B[43m(\u001B[49m\n\u001B[1;32m    304\u001B[0m \u001B[43m    \u001B[49m\u001B[43maxes\u001B[49m\u001B[43m,\u001B[49m\u001B[43m \u001B[49m\u001B[43mthis\u001B[49m\u001B[43m,\u001B[49m\u001B[43m \u001B[49m\u001B[43mkwargs\u001B[49m\u001B[43m,\u001B[49m\u001B[43m \u001B[49m\u001B[43mambiguous_fmt_datakey\u001B[49m\u001B[38;5;241;43m=\u001B[39;49m\u001B[43mambiguous_fmt_datakey\u001B[49m\u001B[43m)\u001B[49m\n",
      "File \u001B[0;32m~/Documents/ENSET/s4/ai/venv/lib/python3.10/site-packages/matplotlib/axes/_base.py:499\u001B[0m, in \u001B[0;36m_process_plot_var_args._plot_args\u001B[0;34m(self, axes, tup, kwargs, return_kwargs, ambiguous_fmt_datakey)\u001B[0m\n\u001B[1;32m    496\u001B[0m     axes\u001B[38;5;241m.\u001B[39myaxis\u001B[38;5;241m.\u001B[39mupdate_units(y)\n\u001B[1;32m    498\u001B[0m \u001B[38;5;28;01mif\u001B[39;00m x\u001B[38;5;241m.\u001B[39mshape[\u001B[38;5;241m0\u001B[39m] \u001B[38;5;241m!=\u001B[39m y\u001B[38;5;241m.\u001B[39mshape[\u001B[38;5;241m0\u001B[39m]:\n\u001B[0;32m--> 499\u001B[0m     \u001B[38;5;28;01mraise\u001B[39;00m \u001B[38;5;167;01mValueError\u001B[39;00m(\u001B[38;5;124mf\u001B[39m\u001B[38;5;124m\"\u001B[39m\u001B[38;5;124mx and y must have same first dimension, but \u001B[39m\u001B[38;5;124m\"\u001B[39m\n\u001B[1;32m    500\u001B[0m                      \u001B[38;5;124mf\u001B[39m\u001B[38;5;124m\"\u001B[39m\u001B[38;5;124mhave shapes \u001B[39m\u001B[38;5;132;01m{\u001B[39;00mx\u001B[38;5;241m.\u001B[39mshape\u001B[38;5;132;01m}\u001B[39;00m\u001B[38;5;124m and \u001B[39m\u001B[38;5;132;01m{\u001B[39;00my\u001B[38;5;241m.\u001B[39mshape\u001B[38;5;132;01m}\u001B[39;00m\u001B[38;5;124m\"\u001B[39m)\n\u001B[1;32m    501\u001B[0m \u001B[38;5;28;01mif\u001B[39;00m x\u001B[38;5;241m.\u001B[39mndim \u001B[38;5;241m>\u001B[39m \u001B[38;5;241m2\u001B[39m \u001B[38;5;129;01mor\u001B[39;00m y\u001B[38;5;241m.\u001B[39mndim \u001B[38;5;241m>\u001B[39m \u001B[38;5;241m2\u001B[39m:\n\u001B[1;32m    502\u001B[0m     \u001B[38;5;28;01mraise\u001B[39;00m \u001B[38;5;167;01mValueError\u001B[39;00m(\u001B[38;5;124mf\u001B[39m\u001B[38;5;124m\"\u001B[39m\u001B[38;5;124mx and y can be no greater than 2D, but have \u001B[39m\u001B[38;5;124m\"\u001B[39m\n\u001B[1;32m    503\u001B[0m                      \u001B[38;5;124mf\u001B[39m\u001B[38;5;124m\"\u001B[39m\u001B[38;5;124mshapes \u001B[39m\u001B[38;5;132;01m{\u001B[39;00mx\u001B[38;5;241m.\u001B[39mshape\u001B[38;5;132;01m}\u001B[39;00m\u001B[38;5;124m and \u001B[39m\u001B[38;5;132;01m{\u001B[39;00my\u001B[38;5;241m.\u001B[39mshape\u001B[38;5;132;01m}\u001B[39;00m\u001B[38;5;124m\"\u001B[39m)\n",
      "\u001B[0;31mValueError\u001B[0m: x and y must have same first dimension, but have shapes (1000,) and (100,)"
     ]
    },
    {
     "data": {
      "text/plain": "<Figure size 640x480 with 1 Axes>",
      "image/png": "[encoded data removed]"
     },
     "metadata": {},
     "output_type": "display_data"
    }
   ],
   "source": [
    "plt.plot(range(1000), cost_h)\n",
    "plt.show()"
   ]
  },
  {
   "cell_type": "code",
   "execution_count": 50,
   "metadata": {
    "ExecuteTime": {
     "end_time": "2024-03-15T00:24:09.326393836Z",
     "start_time": "2024-03-15T00:24:09.282843771Z"
    }
   },
   "outputs": [
    {
     "data": {
      "text/plain": "0.9059011844150826"
     },
     "execution_count": 50,
     "metadata": {},
     "output_type": "execute_result"
    }
   ],
   "source": [
    "# Evaluation du modèle\n",
    "def coef_determination(y, pred):\n",
    "    u = ((y - pred)**2).sum()\n",
    "    v = ((y - y.mean())**2).sum()\n",
    "    return 1 - u/v\n",
    "\n",
    "coef_determination(Y_test, model(X_test_norm_1,theta_final))"
   ]
  },
  {
   "cell_type": "markdown",
   "metadata": {
    "id": "qfB5krzQi7co"
   },
   "source": [
    "#### Tester des prédictions"
   ]
  },
  {
   "cell_type": "code",
   "execution_count": 51,
   "metadata": {
    "ExecuteTime": {
     "end_time": "2024-03-15T00:24:10.778468982Z",
     "start_time": "2024-03-15T00:24:10.718056579Z"
    }
   },
   "outputs": [
    {
     "data": {
      "text/plain": "array([[17.0347724 ],\n       [20.40974033],\n       [23.72398873],\n       [ 9.27278518],\n       [21.68271879],\n       [12.56940161],\n       [21.08119452],\n       [ 8.69035045],\n       [17.23701254],\n       [16.66657475],\n       [ 8.92396497],\n       [ 8.4817344 ],\n       [18.2075123 ],\n       [ 8.06750728],\n       [12.64550975],\n       [14.93162809],\n       [ 8.12814594],\n       [17.89876565],\n       [11.00880637],\n       [20.47832788],\n       [20.80631846],\n       [12.59883297],\n       [10.9051829 ],\n       [22.38854775],\n       [ 9.41796094],\n       [ 7.92506736],\n       [20.83908497],\n       [13.81520938],\n       [10.77080925],\n       [ 7.92682509],\n       [15.95947357],\n       [10.63490851],\n       [20.80292008],\n       [10.43434164],\n       [21.5784752 ],\n       [21.18364487],\n       [12.12821771],\n       [22.80953262],\n       [12.60992766],\n       [ 6.46441252]])"
     },
     "execution_count": 51,
     "metadata": {},
     "output_type": "execute_result"
    }
   ],
   "source": [
    "predictions=model(X_test_norm_1, theta_final)\n",
    "predictions"
   ]
  },
  {
   "cell_type": "code",
   "execution_count": 52,
   "metadata": {
    "ExecuteTime": {
     "end_time": "2024-03-15T00:24:11.388574495Z",
     "start_time": "2024-03-15T00:24:11.339919015Z"
    }
   },
   "outputs": [
    {
     "name": "stdout",
     "output_type": "stream",
     "text": [
      "[17.0347724]\n"
     ]
    }
   ],
   "source": [
    "print(predictions[0])"
   ]
  },
  {
   "cell_type": "code",
   "execution_count": 53,
   "metadata": {
    "ExecuteTime": {
     "end_time": "2024-03-15T00:24:11.926262592Z",
     "start_time": "2024-03-15T00:24:11.899648121Z"
    }
   },
   "outputs": [
    {
     "name": "stdout",
     "output_type": "stream",
     "text": [
      "[16.9]\n"
     ]
    }
   ],
   "source": [
    "print(Y_test[0])"
   ]
  },
  {
   "cell_type": "code",
   "execution_count": 39,
   "metadata": {
    "ExecuteTime": {
     "end_time": "2024-03-15T00:23:39.405391106Z",
     "start_time": "2024-03-15T00:23:39.303818175Z"
    }
   },
   "outputs": [
    {
     "name": "stdout",
     "output_type": "stream",
     "text": [
      "La marge d'erreur commise est [0.1347724]\n"
     ]
    }
   ],
   "source": [
    "print(\"La marge d'erreur commise est\",model(X_test_norm_1, theta_final)[0]-Y_test[0])"
   ]
  },
  {
   "cell_type": "code",
   "execution_count": null,
   "outputs": [],
   "source": [],
   "metadata": {
    "collapsed": false
   }
  }
 ],
 "metadata": {
  "colab": {
   "provenance": []
  },
  "kernelspec": {
   "display_name": "Python 3 (ipykernel)",
   "language": "python",
   "name": "python3"
  },
  "language_info": {
   "codemirror_mode": {
    "name": "ipython",
    "version": 3
   },
   "file_extension": ".py",
   "mimetype": "text/x-python",
   "name": "python",
   "nbconvert_exporter": "python",
   "pygments_lexer": "ipython3",
   "version": "3.9.13"
  }
 },
 "nbformat": 4,
 "nbformat_minor": 1
}
